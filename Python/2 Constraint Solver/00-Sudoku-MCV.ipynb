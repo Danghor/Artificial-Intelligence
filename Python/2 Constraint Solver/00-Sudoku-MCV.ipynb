{
 "cells": [
  {
   "cell_type": "code",
   "execution_count": null,
   "id": "0008187c",
   "metadata": {},
   "outputs": [],
   "source": [
    "from IPython.display import HTML\n",
    "HTML(open('../style.css').read())"
   ]
  },
  {
   "cell_type": "markdown",
   "id": "d3dd59de",
   "metadata": {},
   "source": [
    "# A Simple Sudoku Solver"
   ]
  },
  {
   "cell_type": "code",
   "execution_count": null,
   "id": "b2ae9154",
   "metadata": {},
   "outputs": [],
   "source": [
    "%load_ext nb_mypy"
   ]
  },
  {
   "cell_type": "code",
   "execution_count": null,
   "id": "9ba83a93",
   "metadata": {},
   "outputs": [],
   "source": [
    "from typing import List, TypeVar"
   ]
  },
  {
   "cell_type": "code",
   "execution_count": null,
   "id": "40fb4efd",
   "metadata": {},
   "outputs": [],
   "source": [
    "Grid = List[List[int]]"
   ]
  },
  {
   "cell_type": "markdown",
   "id": "d40a89cd",
   "metadata": {},
   "source": [
    "The stubs below are needed to keep the type checker happy."
   ]
  },
  {
   "cell_type": "code",
   "execution_count": null,
   "id": "dfb56841",
   "metadata": {},
   "outputs": [],
   "source": [
    "def find_best_cell(grid: Grid) -> tuple[tuple[int, int], List[int]] | None:\n",
    "    return None # type: ignore\n",
    "\n",
    "def possible_numbers(grid: Grid, row: int, col: int) -> List[int]:\n",
    "    return None # type: ignore\n",
    "\n",
    "def place_number(grid: Grid, row: int, col: int, x: int) -> Grid:\n",
    "    return None # type: ignore"
   ]
  },
  {
   "cell_type": "markdown",
   "id": "c1610c8e",
   "metadata": {},
   "source": [
    "The algorithm employs a backtracking approach enhanced by the *Most\n",
    "Constrained Variable* (MCV) heuristic. It first identifies the empty\n",
    "cell with the fewest possible valid numbers based on Sudoku rules.\n",
    "For that cell, it generates a list of valid candidates by ensuring\n",
    "no conflicts in the corresponding row, column, or 3x3 subgrid. The\n",
    "algorithm then recursively attempts to fill the grid by placing\n",
    "each candidate and exploring further solutions. If a configuration\n",
    "leads to a fully filled, valid grid, it is recorded as a solution;\n",
    "otherwise, the algorithm backtracks to try different numbers. This\n",
    "process ultimately collects all possible solutions, returning an\n",
    "empty list if none exist.\n",
    "\n",
    "The function `solve` returns a list of all solutions of the given Sudoku puzzle. "
   ]
  },
  {
   "cell_type": "code",
   "execution_count": null,
   "id": "d861d5fa",
   "metadata": {},
   "outputs": [],
   "source": [
    "def solve(grid: Grid) -> List[Grid]:\n",
    "    best_cell = find_best_cell(grid)\n",
    "    if not best_cell:\n",
    "        return [grid]\n",
    "    (row, col), candidates = best_cell\n",
    "    solutions = []\n",
    "    for num in candidates:\n",
    "        new_grid = place_number(grid, row, col, num)\n",
    "        solutions += solve(new_grid)\n",
    "    return solutions"
   ]
  },
  {
   "cell_type": "markdown",
   "id": "33ac437a",
   "metadata": {},
   "source": [
    "Given a sudoku puzzle, the function `find_best_cell` finds the most constrained empty cell using the *Most Constrained Value* (MCV) heuristic."
   ]
  },
  {
   "cell_type": "code",
   "execution_count": null,
   "id": "9626534e",
   "metadata": {},
   "outputs": [],
   "source": [
    "def find_best_cell(grid: Grid) -> tuple[tuple[int, int], List[int]] | None:\n",
    "    EmptyCells = [(r, c) for r in range(9) for c in range(9) if grid[r][c] == 0]\n",
    "    if not EmptyCells:\n",
    "        return None\n",
    "    CellsCounts = [((r, c), possible_numbers(grid, r, c)) for (r, c) in EmptyCells]\n",
    "    min_cell = min(CellsCounts, key=lambda x: len(x[1]))\n",
    "    return min_cell"
   ]
  },
  {
   "cell_type": "markdown",
   "id": "0c4d3b4d",
   "metadata": {},
   "source": [
    "Calculates valid numbers for a given cell based on Sudoku rules."
   ]
  },
  {
   "cell_type": "code",
   "execution_count": null,
   "id": "86015023",
   "metadata": {},
   "outputs": [],
   "source": [
    "def possible_numbers(grid: Grid, row: int, col: int) -> List[int]:\n",
    "    start_row, start_col = 3 * (row // 3), 3 * (col // 3)      \n",
    "    used  = set(grid[row])                                          # same row\n",
    "    used |= { grid[r][col] for r in range(9) }                      # same column\n",
    "    used |= { grid[r][c] for r in range(start_row, start_row + 3)\n",
    "                         for c in range(start_col, start_col + 3) } # same box\n",
    "    return [num for num in range(1, 10) if num not in used]"
   ]
  },
  {
   "cell_type": "markdown",
   "id": "095de545",
   "metadata": {},
   "source": [
    "Creates a new grid with the number `x` placed at the position `(row, col)`."
   ]
  },
  {
   "cell_type": "code",
   "execution_count": null,
   "id": "a576d313",
   "metadata": {},
   "outputs": [],
   "source": [
    "import copy"
   ]
  },
  {
   "cell_type": "code",
   "execution_count": null,
   "id": "70cf8c7f",
   "metadata": {},
   "outputs": [],
   "source": [
    "def place_number(grid: Grid, row: int, col: int, x: int) -> Grid:\n",
    "    new_grid = copy.deepcopy(grid)\n",
    "    new_grid[row][col] = x\n",
    "    return new_grid"
   ]
  },
  {
   "cell_type": "markdown",
   "id": "d87bc797",
   "metadata": {},
   "source": [
    "## Functions to print the board"
   ]
  },
  {
   "cell_type": "code",
   "execution_count": null,
   "id": "f6fa4f4b",
   "metadata": {},
   "outputs": [],
   "source": [
    "T = TypeVar('T')"
   ]
  },
  {
   "cell_type": "code",
   "execution_count": null,
   "id": "f75a9068",
   "metadata": {},
   "outputs": [],
   "source": [
    "def chunks(lst: List[T], n: int) -> List[List[T]]:\n",
    "    return [lst[i:i+n] for i in range(0, len(lst), n)]"
   ]
  },
  {
   "cell_type": "code",
   "execution_count": null,
   "id": "42d50b5b",
   "metadata": {},
   "outputs": [],
   "source": [
    "def print_board(grid: Grid) -> None:\n",
    "    groups = chunks(grid, 3)\n",
    "    for group in groups:\n",
    "        print(\"-------------\")\n",
    "        for row in group:\n",
    "            row_chunks = chunks(row, 3)\n",
    "            formatted = [\"\".join(str(num) if num != 0 else \" \" for num in chunk) for chunk in row_chunks]\n",
    "            row_str = \"|\".join(formatted)\n",
    "            print(f\"|{row_str}|\")\n",
    "    print(\"-------------\")"
   ]
  },
  {
   "cell_type": "markdown",
   "id": "3e7d37ca",
   "metadata": {},
   "source": [
    "A Sudoku puzzle with the minimal number of numbers set."
   ]
  },
  {
   "cell_type": "code",
   "execution_count": null,
   "id": "bacf18b9",
   "metadata": {},
   "outputs": [],
   "source": [
    "minimal: Grid = [ [0, 9, 8, 0, 0, 0, 0, 0, 0],\n",
    "                  [0, 0, 0, 0, 7, 0, 0, 0, 0],\n",
    "                  [0, 0, 0, 0, 1, 5, 0, 0, 0],\n",
    "                  [1, 0, 0, 0, 0, 0, 0, 0, 0],\n",
    "                  [0, 0, 0, 2, 0, 0, 0, 0, 9],\n",
    "                  [0, 0, 0, 9, 0, 6, 0, 8, 2],\n",
    "                  [0, 0, 0, 0, 0, 0, 0, 3, 0],\n",
    "                  [5, 0, 1, 0, 0, 0, 0, 0, 0],\n",
    "                  [0, 0, 0, 4, 0, 0, 0, 2, 0]\n",
    "                ]"
   ]
  },
  {
   "cell_type": "code",
   "execution_count": null,
   "id": "49037b8e",
   "metadata": {},
   "outputs": [],
   "source": [
    "print_board(minimal)"
   ]
  },
  {
   "cell_type": "code",
   "execution_count": null,
   "id": "2f436976",
   "metadata": {},
   "outputs": [],
   "source": [
    "import time"
   ]
  },
  {
   "cell_type": "code",
   "execution_count": null,
   "id": "7ee60938",
   "metadata": {},
   "outputs": [],
   "source": [
    "def main(puzzle: Grid) -> None:\n",
    "    print(\"Original board:\")\n",
    "    print_board(puzzle)\n",
    "    start = time.process_time()\n",
    "    solutions = solve(puzzle)\n",
    "    stop = time.process_time()\n",
    "    if not solutions:\n",
    "        print(\"No solution found.\")\n",
    "    else:\n",
    "        print(\"\\nSolutions:\")\n",
    "        for sol in solutions:\n",
    "            print_board(sol)\n",
    "            print()\n",
    "    print(f\"CPU time used to solve the problem: {stop - start:.4f} seconds\")"
   ]
  },
  {
   "cell_type": "code",
   "execution_count": null,
   "id": "b4b06742",
   "metadata": {},
   "outputs": [],
   "source": [
    "main(minimal)"
   ]
  },
  {
   "cell_type": "code",
   "execution_count": null,
   "id": "92396d47",
   "metadata": {},
   "outputs": [],
   "source": []
  }
 ],
 "metadata": {
  "kernelspec": {
   "display_name": "Python 3 (ipykernel)",
   "language": "python",
   "name": "python3"
  },
  "language_info": {
   "codemirror_mode": {
    "name": "ipython",
    "version": 3
   },
   "file_extension": ".py",
   "mimetype": "text/x-python",
   "name": "python",
   "nbconvert_exporter": "python",
   "pygments_lexer": "ipython3",
   "version": "3.12.8"
  }
 },
 "nbformat": 4,
 "nbformat_minor": 5
}
