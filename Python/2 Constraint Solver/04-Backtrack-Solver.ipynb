{
 "cells": [
  {
   "cell_type": "code",
   "execution_count": null,
   "metadata": {},
   "outputs": [],
   "source": [
    "from IPython.core.display import HTML\n",
    "with open('../style.css') as f:\n",
    "    css = f.read()\n",
    "HTML(css)"
   ]
  },
  {
   "cell_type": "markdown",
   "metadata": {},
   "source": [
    "If we want to have **reproducible results**, the environment variable `PYTHONHASHSEED` has to be set to a fixed value, for example to `0`.\n",
    "Below we check that this environment is set so that results are reproducible.\n",
    "In order to set this variable we have to use the following sequence of commands in the anaconda shell.  \n",
    "```\n",
    "conda activate ai\n",
    "conda env config vars set PYTHONHASHSEED=0\n",
    "conda activate ai\n",
    "```\n",
    "It is necessary to reactivate the environment `ai` for the setting to take effect."
   ]
  },
  {
   "cell_type": "code",
   "execution_count": null,
   "metadata": {},
   "outputs": [],
   "source": [
    "import os\n",
    "os.environ['PYTHONHASHSEED']"
   ]
  },
  {
   "cell_type": "code",
   "execution_count": null,
   "metadata": {},
   "outputs": [],
   "source": [
    "%load_ext nb_mypy"
   ]
  },
  {
   "cell_type": "markdown",
   "metadata": {},
   "source": [
    "# A Backtracking Solver for CSPs"
   ]
  },
  {
   "cell_type": "code",
   "execution_count": null,
   "metadata": {},
   "outputs": [],
   "source": [
    "from typing import TypeVar"
   ]
  },
  {
   "cell_type": "code",
   "execution_count": null,
   "metadata": {},
   "outputs": [],
   "source": [
    "Value      = TypeVar('Value')\n",
    "Element    = TypeVar('Element')\n",
    "Variable   = str\n",
    "Formula    = str\n",
    "CSP        = tuple[set[Variable] | list[Variable], set[Value], set[Formula]]\n",
    "ACSP       = tuple[set[Variable] | list[Variable], set[Value], list[tuple[Formula, set[Variable]]]]\n",
    "Assignment = dict[Variable, Value]"
   ]
  },
  {
   "cell_type": "markdown",
   "metadata": {},
   "source": [
    "## Utility Functions"
   ]
  },
  {
   "cell_type": "markdown",
   "metadata": {},
   "source": [
    "The module `ast` provides a parser for Python expressions.  This is needed as we need to compute the set of variables that occur in a given constraint."
   ]
  },
  {
   "cell_type": "code",
   "execution_count": null,
   "metadata": {},
   "outputs": [],
   "source": [
    "import ast"
   ]
  },
  {
   "cell_type": "markdown",
   "metadata": {},
   "source": [
    "The function `collect_variables(expr)` takes a string `expr` that can be interpreted as a Python expression as input and collects all variables occurring in `expr`.  It takes care to remove the function symbols from the names returned by `collect_variables`."
   ]
  },
  {
   "cell_type": "code",
   "execution_count": null,
   "metadata": {},
   "outputs": [],
   "source": [
    "def collect_variables(expression: Formula) -> set[Variable]: \n",
    "    tree = ast.parse(expression)\n",
    "    return { node.id for node in ast.walk(tree) \n",
    "                     if  isinstance(node, ast.Name) \n",
    "                     if  node.id not in dir(__builtins__)\n",
    "           }"
   ]
  },
  {
   "cell_type": "markdown",
   "metadata": {},
   "source": [
    "Below, `dir(__builtins__)` returns a list containing all predefined variables, functions, and classes. "
   ]
  },
  {
   "cell_type": "code",
   "execution_count": null,
   "metadata": {},
   "outputs": [],
   "source": [
    "dir(__builtins__)"
   ]
  },
  {
   "cell_type": "code",
   "execution_count": null,
   "metadata": {},
   "outputs": [],
   "source": [
    "collect_variables('abs(x - y) + abs(z1 - z2)')"
   ]
  },
  {
   "cell_type": "markdown",
   "metadata": {},
   "source": [
    "The function `arb(S)` takes a set `S` as input and returns an arbitrary element from \n",
    "this set."
   ]
  },
  {
   "cell_type": "code",
   "execution_count": null,
   "metadata": {},
   "outputs": [],
   "source": [
    "def arb(S: set[Element]) -> Element:\n",
    "    for x in S:\n",
    "        return x\n",
    "    return None # type: ignore"
   ]
  },
  {
   "cell_type": "markdown",
   "metadata": {},
   "source": [
    "## The Backtracking Solver"
   ]
  },
  {
   "cell_type": "markdown",
   "metadata": {},
   "source": [
    "The following forward declarations are needed by the type checker."
   ]
  },
  {
   "cell_type": "code",
   "execution_count": null,
   "metadata": {},
   "outputs": [],
   "source": [
    "def backtrack_search(Assgnmnt:     Assignment,\n",
    "                     P:            ACSP, \n",
    "                     debug:        bool, \n",
    "                     animate:      bool, \n",
    "                     problem_size: int | None) -> Assignment | None:\n",
    "    return None"
   ]
  },
  {
   "cell_type": "code",
   "execution_count": null,
   "metadata": {},
   "outputs": [],
   "source": [
    "def is_consistent(var:         Variable, \n",
    "                  value:       Value, \n",
    "                  Assgnmnt:    Assignment, \n",
    "                  Constraints: list[tuple[Formula, set[Variable]]]) -> bool:\n",
    "    return None # type: ignore"
   ]
  },
  {
   "cell_type": "markdown",
   "metadata": {},
   "source": [
    "The procedure `solve(P)` takes a *constraint satisfaction problem* \n",
    "`P` as input.  Here `P` is a triple of the form \n",
    "$$ \\mathcal{P} = \\langle \\mathtt{Variables}, \\mathtt{Values}, \\mathtt{Constraints} \\rangle $$\n",
    "where \n",
    "- `Variables` is a set of strings which serve as *variables*,\n",
    "- `Values` is a set of *values* that can be assigned \n",
    "  to the variables in the set `Variables`.\n",
    "- `Constraints` is a set of formulas from first order logic.  \n",
    "  \n",
    "The second argument `debug` controlls the printing of debugging information.  If set to true, every partial assignment that is created during the search, will be printed.\n",
    "  \n",
    "The main purpose of the function `solve` is to convert the CSP `P` into an \n",
    "*augmented CSP* where every constraint $f$ is annotated with\n",
    "the variables ocurring in $f$.  This annotated CSP is then solved using the function\n",
    "`backtrack_search`."
   ]
  },
  {
   "cell_type": "code",
   "execution_count": null,
   "metadata": {},
   "outputs": [],
   "source": [
    "def solve(P:            CSP, \n",
    "          debug:        bool=False, \n",
    "          animate:      bool=False, \n",
    "          problem_size: int|None=None) -> Assignment | None:\n",
    "    Variables, Values, Constraints = P\n",
    "    csp = (Variables, Values, [(f, collect_variables(f)) for f in Constraints])\n",
    "    return backtrack_search({}, csp, debug, animate, problem_size)"
   ]
  },
  {
   "cell_type": "markdown",
   "metadata": {},
   "source": [
    "The function `backtrack_search` takes two arguments:\n",
    "- `Assignment` is a partial variable assignment that is represented as a dictionary.  Initially, this assignment will be the empty dictionary.  Every recursive call of `backtrack_search` adds the assignment of one variable to the given assignment.  The important invariant of recursive calls of `backtrack_search` is that `Assignment` is *consistent*, i.e. all constraints $f$ that contain only variables from the set $\\mathtt{dom}(\\mathtt{Assignment})$ are satisfied.\n",
    "- `P` is an *augmented constraint satisfaction problem*, \n",
    "   i.e. `P` is a triple of the form \n",
    "   $$ \\mathcal{P} = \\langle \\mathtt{Vars}, \\mathtt{Values}, \\mathtt{Constraints} \\rangle $$\n",
    "    where \n",
    "    - $\\mathtt{Vars}$ is a set of strings which serve as *variables*,\n",
    "    - $\\mathtt{Values}$ is a set of *values* that can be assigned \n",
    "      to the variables in $\\mathtt{Vars}$.\n",
    "    - $\\mathtt{Constraints}$ is a set of pairs of the form $(f, V)$ where $f$ is a Boolean Python \n",
    "      expression, while $V$ is the set of variables occuring in $f$.\n",
    "- `debug` is a Boolean flag.  If this flag is true, every partial assignment is printed.      \n",
    "The function `backtrack_search` tries to find a solution of `P` by recursively augmenting `Assignment`.\n",
    "\n",
    "Normally, the `Variables` stored in the CSP are represented as a set.  However, for didactical purposes it is also possible to store the variables as a list.  This way, the order in which variables are chosen can be controlled."
   ]
  },
  {
   "cell_type": "code",
   "execution_count": null,
   "metadata": {},
   "outputs": [],
   "source": [
    "def backtrack_search(Assgnmnt:     Assignment,\n",
    "                     P:            ACSP, \n",
    "                     debug:        bool, \n",
    "                     animate:      bool, \n",
    "                     problem_size: int | None) -> Assignment | None:\n",
    "    if debug and not animate:\n",
    "        print(Assgnmnt)\n",
    "    if animate:\n",
    "        if problem_size == None:\n",
    "            display(show_solution(Assgnmnt, width=\"50%\")) # type: ignore\n",
    "        else: \n",
    "            display(show_solution(Assgnmnt, problem_size, width=\"50%\")) # type: ignore\n",
    "    Variables, Values, Constraints = P\n",
    "    if len(Assgnmnt) == len(Variables):\n",
    "        return Assgnmnt\n",
    "    if isinstance(Variables, set):\n",
    "        var = arb(Variables - Assgnmnt.keys())\n",
    "    else: # if Variables is a list we choose the first unassigned variable\n",
    "        var = [x for x in Variables if x not in Assgnmnt][0]\n",
    "    for value in Values:\n",
    "        if is_consistent(var, value, Assgnmnt, Constraints):\n",
    "            NewAss = Assgnmnt.copy()\n",
    "            NewAss[var] = value\n",
    "            Solution = backtrack_search(NewAss, P, debug, animate, problem_size)\n",
    "            if Solution != None:\n",
    "                return Solution\n",
    "    return None"
   ]
  },
  {
   "cell_type": "markdown",
   "metadata": {},
   "source": [
    "The function $\\texttt{is_consistent}(\\texttt{var}, \\texttt{value}, \\texttt{Assignment}, \\texttt{Constraints})$ takes four arguments:\n",
    "- `var` is a variable that does not occur in $\\texttt{Assignment}$,\n",
    "- `value` is a value that can be substituted for this variable,\n",
    "- `Assignment` is a *consistent* partial variable assignment. \n",
    "- `Constraints` is a set of pairs of the form $\\langle f, V \\rangle$ where $f$ is a formula and $V$ is the set of variables occurring in $f$.\n",
    "\n",
    "This function returns `True` iff the partial variable assignment \n",
    "$$\\texttt{Assignment} \\cup \\bigl\\{\\langle\\texttt{var} \\mapsto\\texttt{value}\\rangle\\bigr\\}$$\n",
    "is consistent with all the constraints $f$ occurring in `Constraints`.\n",
    "\n",
    "**Note** that the function `eval` mutates the given variable assignment.  Therefore it is necessary to copy the given `Assignment`.  "
   ]
  },
  {
   "cell_type": "code",
   "execution_count": null,
   "metadata": {},
   "outputs": [],
   "source": [
    "def is_consistent(var:         Variable, \n",
    "                  value:       Value, \n",
    "                  Assgnmnt:    Assignment, \n",
    "                  Constraints: list[tuple[Formula, set[Variable]]]) -> bool:\n",
    "    NewAssign      = Assgnmnt.copy()\n",
    "    NewAssign[var] = value\n",
    "    return all(eval(f, NewAssign) for (f, Vs) in Constraints\n",
    "                                  if  var in Vs and Vs <= NewAssign.keys()\n",
    "              )"
   ]
  },
  {
   "cell_type": "markdown",
   "metadata": {},
   "source": [
    "# Map Coloring"
   ]
  },
  {
   "cell_type": "code",
   "execution_count": null,
   "metadata": {},
   "outputs": [],
   "source": [
    "%%capture \n",
    "%run MapColoring.ipynb"
   ]
  },
  {
   "cell_type": "code",
   "execution_count": null,
   "metadata": {},
   "outputs": [],
   "source": [
    "%unload_ext nb_mypy"
   ]
  },
  {
   "cell_type": "code",
   "execution_count": null,
   "metadata": {},
   "outputs": [],
   "source": [
    "P = map_coloring_csp()\n",
    "P"
   ]
  },
  {
   "cell_type": "code",
   "execution_count": null,
   "metadata": {
    "scrolled": false
   },
   "outputs": [],
   "source": [
    "%%time\n",
    "Solution = solve(P, animate=True)"
   ]
  },
  {
   "cell_type": "code",
   "execution_count": null,
   "metadata": {},
   "outputs": [],
   "source": [
    "show_solution(Solution)"
   ]
  },
  {
   "cell_type": "markdown",
   "metadata": {},
   "source": [
    "If we reorder the variables appropriately, the solver never needs to backtrack."
   ]
  },
  {
   "cell_type": "code",
   "execution_count": null,
   "metadata": {},
   "outputs": [],
   "source": [
    "P2 = (['SA', 'WA',  'NT', 'Q', 'NSW', 'V', 'T'], P[1], P[2])"
   ]
  },
  {
   "cell_type": "code",
   "execution_count": null,
   "metadata": {
    "scrolled": false
   },
   "outputs": [],
   "source": [
    "%%time\n",
    "Solution = solve(P2, animate=True)"
   ]
  },
  {
   "cell_type": "markdown",
   "metadata": {},
   "source": [
    "## Solving the Eight-Queens-Puzzle"
   ]
  },
  {
   "cell_type": "code",
   "execution_count": null,
   "metadata": {},
   "outputs": [],
   "source": [
    "%%capture\n",
    "%run NQueensProblemCSP.ipynb"
   ]
  },
  {
   "cell_type": "code",
   "execution_count": null,
   "metadata": {},
   "outputs": [],
   "source": [
    "P = create_csp(7)"
   ]
  },
  {
   "cell_type": "markdown",
   "metadata": {},
   "source": [
    "For the 7-queens puzzle we only have to backtrack once, as the animation below shows."
   ]
  },
  {
   "cell_type": "code",
   "execution_count": null,
   "metadata": {
    "scrolled": false
   },
   "outputs": [],
   "source": [
    "%%time\n",
    "Solution = solve(P, animate=True, problem_size=7)\n",
    "print(f'Solution = {Solution}')"
   ]
  },
  {
   "cell_type": "markdown",
   "metadata": {},
   "source": [
    "Backtracking is able to solve the $16$ queens problem in about $13$ seconds."
   ]
  },
  {
   "cell_type": "code",
   "execution_count": null,
   "metadata": {},
   "outputs": [],
   "source": [
    "P = create_csp(16)"
   ]
  },
  {
   "cell_type": "code",
   "execution_count": null,
   "metadata": {},
   "outputs": [],
   "source": [
    "%%time\n",
    "Solution = solve(P)\n",
    "print(f'Solution = {Solution}')"
   ]
  },
  {
   "cell_type": "code",
   "execution_count": null,
   "metadata": {},
   "outputs": [],
   "source": [
    "show_solution(Solution, 16)"
   ]
  },
  {
   "cell_type": "markdown",
   "metadata": {},
   "source": [
    "There are $16^{16} = 18\\,446\\,744\\,073\\,709\\,551\\,616$ possible assignments for the 16 queens problem."
   ]
  },
  {
   "cell_type": "code",
   "execution_count": null,
   "metadata": {},
   "outputs": [],
   "source": [
    "16**16"
   ]
  },
  {
   "cell_type": "markdown",
   "metadata": {},
   "source": [
    "## Solving the *Zebra Puzzle*"
   ]
  },
  {
   "cell_type": "code",
   "execution_count": null,
   "metadata": {},
   "outputs": [],
   "source": [
    "%%capture\n",
    "%run Zebra.ipynb"
   ]
  },
  {
   "cell_type": "code",
   "execution_count": null,
   "metadata": {},
   "outputs": [],
   "source": [
    "zebra = zebra_csp()"
   ]
  },
  {
   "cell_type": "markdown",
   "metadata": {},
   "source": [
    "Backtracking takes less than a minute to solve the [Zebra Puzzle](https://en.wikipedia.org/wiki/Zebra_Puzzle).\n",
    "We develop a better algorithm soon."
   ]
  },
  {
   "cell_type": "code",
   "execution_count": null,
   "metadata": {},
   "outputs": [],
   "source": [
    "%%time\n",
    "Solution = solve(zebra)"
   ]
  },
  {
   "cell_type": "code",
   "execution_count": null,
   "metadata": {},
   "outputs": [],
   "source": [
    "show_solution(Solution)"
   ]
  },
  {
   "cell_type": "markdown",
   "metadata": {},
   "source": [
    "## Solving the Cypto-Arithmetic Puzzle"
   ]
  },
  {
   "cell_type": "code",
   "execution_count": null,
   "metadata": {},
   "outputs": [],
   "source": [
    "%%capture\n",
    "%run CryptoArithmetic.ipynb"
   ]
  },
  {
   "cell_type": "code",
   "execution_count": null,
   "metadata": {},
   "outputs": [],
   "source": [
    "csp = crypto_csp()\n",
    "csp"
   ]
  },
  {
   "cell_type": "markdown",
   "metadata": {},
   "source": [
    "It takes about a minute to solve the crypto-arithmetic puzzle."
   ]
  },
  {
   "cell_type": "code",
   "execution_count": null,
   "metadata": {},
   "outputs": [],
   "source": [
    "%%time\n",
    "Solution = solve(csp)"
   ]
  },
  {
   "cell_type": "code",
   "execution_count": null,
   "metadata": {},
   "outputs": [],
   "source": [
    "show_solution(Solution)"
   ]
  },
  {
   "cell_type": "markdown",
   "metadata": {},
   "source": [
    "Let's try the harder version."
   ]
  },
  {
   "cell_type": "code",
   "execution_count": null,
   "metadata": {},
   "outputs": [],
   "source": [
    "csp = crypto_csp_hard()"
   ]
  },
  {
   "cell_type": "code",
   "execution_count": null,
   "metadata": {},
   "outputs": [],
   "source": [
    "%%time\n",
    "Solution = solve(csp)"
   ]
  },
  {
   "cell_type": "markdown",
   "metadata": {},
   "source": [
    "It takes about 3 minutes and 30 seconds to solve the hard version."
   ]
  }
 ],
 "metadata": {
  "kernelspec": {
   "display_name": "Python 3 (ipykernel)",
   "language": "python",
   "name": "python3"
  },
  "language_info": {
   "codemirror_mode": {
    "name": "ipython",
    "version": 3
   },
   "file_extension": ".py",
   "mimetype": "text/x-python",
   "name": "python",
   "nbconvert_exporter": "python",
   "pygments_lexer": "ipython3",
   "version": "3.11.7"
  },
  "toc": {
   "base_numbering": 1,
   "nav_menu": {},
   "number_sections": true,
   "sideBar": true,
   "skip_h1_title": false,
   "title_cell": "Table of Contents",
   "title_sidebar": "Contents",
   "toc_cell": false,
   "toc_position": {},
   "toc_section_display": true,
   "toc_window_display": false
  },
  "varInspector": {
   "cols": {
    "lenName": 16,
    "lenType": 16,
    "lenVar": 40
   },
   "kernels_config": {
    "python": {
     "delete_cmd_postfix": "",
     "delete_cmd_prefix": "del ",
     "library": "var_list.py",
     "varRefreshCmd": "print(var_dic_list())"
    },
    "r": {
     "delete_cmd_postfix": ") ",
     "delete_cmd_prefix": "rm(",
     "library": "var_list.r",
     "varRefreshCmd": "cat(var_dic_list()) "
    }
   },
   "types_to_exclude": [
    "module",
    "function",
    "builtin_function_or_method",
    "instance",
    "_Feature"
   ],
   "window_display": false
  }
 },
 "nbformat": 4,
 "nbformat_minor": 2
}
