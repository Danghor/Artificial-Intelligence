{
 "cells": [
  {
   "cell_type": "code",
   "execution_count": 1,
   "metadata": {},
   "outputs": [
    {
     "data": {
      "text/html": [
       "<link href='http://fonts.googleapis.com/css?family=Alegreya+Sans:100,300,400,500,700,800,900,100italic,300italic,400italic,500italic,700italic,800italic,900italic' rel='stylesheet' type='text/css'>\n",
       "<link href='http://fonts.googleapis.com/css?family=Arvo:400,700,400italic' rel='stylesheet' type='text/css'>\n",
       "<link href='http://fonts.googleapis.com/css?family=PT+Mono' rel='stylesheet' type='text/css'>\n",
       "<link href='http://fonts.googleapis.com/css?family=Shadows+Into+Light' rel='stylesheet' type='text/css'>\n",
       "<link href='http://fonts.googleapis.com/css?family=Philosopher:400,700,400italic,700italic' rel='stylesheet' type='text/css'>\n",
       "<link href=\"http://fonts.googleapis.com/css?family=Sacramento\" rel=\"stylesheet\" type=\"text/css\">\n",
       "\n",
       "<style>\n",
       "\n",
       "@font-face {\n",
       "    font-family: \"Computer Modern\";\n",
       "    src: url('http://mirrors.ctan.org/fonts/cm-unicode/fonts/otf/cmunss.otf');\n",
       "}\n",
       "\n",
       ".container { width: 100% }\n",
       "\n",
       "/* Formatting for header cells */\n",
       ".text_cell_render h1 {\n",
       "    font-family: 'Philosopher', sans-serif;\n",
       "    font-weight: 400;\n",
       "    font-size: 2.2em;\n",
       "    line-height: 100%;\n",
       "    color: rgb(0, 80, 120);\n",
       "    margin-bottom: 0.1em;\n",
       "    margin-top: 0.1em;\n",
       "    display: block;\n",
       "}\t\n",
       ".text_cell_render h2 {\n",
       "    font-family: 'Philosopher', serif;\n",
       "    font-weight: 400;\n",
       "    font-size: 1.9em;\n",
       "    line-height: 100%;\n",
       "    color: rgb(200,100,0);\n",
       "    margin-bottom: 0.1em;\n",
       "    margin-top: 0.1em;\n",
       "    display: block;\n",
       "}\t\n",
       "\n",
       ".text_cell_render h3 {\n",
       "    font-family: 'Philosopher', serif;\n",
       "    margin-top:12px;\n",
       "    margin-bottom: 3px;\n",
       "    font-style: italic;\n",
       "    color: rgb(94,127,192);\n",
       "}\n",
       "\n",
       ".text_cell_render h4 {\n",
       "    font-family: 'Philosopher', serif;\n",
       "}\n",
       "\n",
       ".text_cell_render h5 {\n",
       "    font-family: 'Alegreya Sans', sans-serif;\n",
       "    font-weight: 300;\n",
       "    font-size: 16pt;\n",
       "    color: grey;\n",
       "    font-style: italic;\n",
       "    margin-bottom: .1em;\n",
       "    margin-top: 0.1em;\n",
       "    display: block;\n",
       "}\n",
       "\n",
       ".text_cell_render h6 {\n",
       "    font-family: 'PT Mono', sans-serif;\n",
       "    font-weight: 300;\n",
       "    font-size: 10pt;\n",
       "    color: grey;\n",
       "    margin-bottom: 1px;\n",
       "    margin-top: 1px;\n",
       "}\n",
       "\n",
       ".text_cell_render em {\n",
       "    font-family: 'Philosopher', sans-serif;\n",
       "    color:        blue;\n",
       "    background-color: rgb(255,220,180);\n",
       "    font-size:    110%;\n",
       "    margin-left:   2px;\n",
       "    margin-right:  2px;\n",
       "    font-weight:   100;\n",
       "}\n",
       "\n",
       ".text_cell_render b {\n",
       "    color:            rgb(255,195,195);\n",
       "    background-color: rgb(0,0,0);\n",
       "    font-size:    110%;\n",
       "    margin-left:   2px;\n",
       "    margin-right:  2px;\n",
       "    font-weight:   650;\n",
       "}\n",
       "\n",
       ".text_cell_render u {\n",
       "    color:            blue;\n",
       "    font-size:    110%;\n",
       "    margin-left:   2px;\n",
       "    margin-right:  2px;\n",
       "    font-weight:   650;\n",
       "}\n",
       "\n",
       ".text_cell_render tt {\n",
       "    font-size:    120%;\n",
       "    margin-left:   2px;\n",
       "    margin-right:  2px;\n",
       "    font-weight:   150;\n",
       "}\n",
       "\n",
       ".Codemirror {\n",
       "    font-family: \"PT Mono\";\n",
       "    font-size: 100%;\n",
       "}\n",
       "\n",
       "#fancy {\n",
       "    font-family:      Georgia;\n",
       "    position:         relative;\n",
       "    float:            left;\n",
       "    border:           2px solid red;\n",
       "    width:            600px;\n",
       "    padding-left:     20px;\n",
       "    padding-right:    20px;\n",
       "    padding-top:      10px;\n",
       "    font-family:      'Sacramento', cursive;\n",
       "    font-size:        26px;\n",
       "    background-color: #F4EBF3;\n",
       "    border-radius:    15px;\n",
       "}\n",
       "\n",
       "</Style>\n",
       "\n"
      ],
      "text/plain": [
       "<IPython.core.display.HTML object>"
      ]
     },
     "execution_count": 1,
     "metadata": {},
     "output_type": "execute_result"
    }
   ],
   "source": [
    "from IPython.core.display import HTML\n",
    "with open('../style.css') as f:\n",
    "    css = f.read()\n",
    "HTML(css)"
   ]
  },
  {
   "cell_type": "code",
   "execution_count": 2,
   "metadata": {},
   "outputs": [
    {
     "name": "stderr",
     "output_type": "stream",
     "text": [
      "Version 1.0.5\n"
     ]
    }
   ],
   "source": [
    "%load_ext nb_mypy"
   ]
  },
  {
   "cell_type": "markdown",
   "metadata": {},
   "source": [
    "# The N-Queens-Problem as a CSP"
   ]
  },
  {
   "cell_type": "code",
   "execution_count": 3,
   "metadata": {},
   "outputs": [],
   "source": [
    "CSP = tuple[list[str], set[int], set[str]] "
   ]
  },
  {
   "cell_type": "markdown",
   "metadata": {},
   "source": [
    "The function `create_csp(n)` takes a natural number `n` as argument and returns\n",
    "a *constraint satisfaction problem* that encodes the \n",
    "[`n`-queens puzzle](https://en.wikipedia.org/wiki/Eight_queens_puzzle).\n",
    "    \n",
    "A constraint satisfaction problem $\\mathcal{P}$ is a triple of the form\n",
    "$$ \\mathcal{P} = \\langle \\mathtt{Vars}, \\mathtt{Values}, \\mathtt{Constraints} \\rangle $$\n",
    "where \n",
    "- `Vars` is a set of strings which serve as *variables*.\n",
    "\n",
    "  The idea is that $V_i$ specifies the column of the queen that is placed in row $i$.\n",
    "    \n",
    "- `Values` is a set of *values* that can be assigned \n",
    "  to the variables in $\\mathtt{Vars}$.\n",
    "  \n",
    "  In the 8-queens-problem we will have $\\texttt{Values} = \\{1,\\cdots,8\\}$.\n",
    "- `Constraints` is a set of formulas from first order logic.  \n",
    "  Each of these formulas is  called a *constraint* of $\\mathcal{P}$.\n",
    "  There are two different types of constraints.\n",
    "  * We have constraints that express that no two queens that are positioned in different rows share the same\n",
    "    column.  To capture these constraints, we define\n",
    "    $$\\texttt{DifferentCol} := \\bigl\\{ \\texttt{V}_i \\not= \\texttt{V}_j \\bigm| i \\in \\{1,\\cdots,8\\} \\wedge j \\in \\{1,\\cdots,8\\} \\wedge j < i \\bigr\\}.$$\n",
    "    Here the condition $j < i$ ensures that, for example,  while we have the constraint\n",
    "    $\\texttt{V}_2 \\not= \\texttt{V}_1$ we do not also have the constraint  $\\texttt{V}_1 \\not= \\texttt{V}_2$, as the latter \n",
    "    constraint would be redundant if the former constraint had already been established.\n",
    "  * We have constraints that express that no two queens positioned in different rows share the same \n",
    "    diagonal.  The queens in row $i$ and row $j$ share the same diagonal iff the equation\n",
    "    $$ |i - j| = |V_i - V_j| $$\n",
    "    holds.  The expression $|i-j|$ is the absolute value of the difference of the rows of the queens in row\n",
    "    $i$ and row $j$,  while the expression $|V_i - V_j|$ is the absolute value of the difference of the\n",
    "    columns of these queens.  To capture these constraints, we define\n",
    "    $$ \\texttt{DifferentDiag} := \\bigl\\{ |i  - j| \\not= |\\texttt{V}_i - \\texttt{V}_j| \\bigm| i \\in \\{1,\\cdots,8\\} \\wedge j \\in \\{1,\\cdots,8\\} \\wedge j < i \\bigr\\}. $$"
   ]
  },
  {
   "cell_type": "code",
   "execution_count": 4,
   "metadata": {},
   "outputs": [],
   "source": [
    "def create_csp(n: int) -> CSP:\n",
    "    S              = range(1, n+1)       \n",
    "    # We use a list to store the variables so that the \n",
    "    # animation of backtracking is easier to follow\n",
    "    Variables      = [ f'V{i}' for i in S ]\n",
    "    Values         = set(S)\n",
    "    DifferentCols  = { f'V{i} != V{j}' for i in S\n",
    "                                       for j in S\n",
    "                                       if  i < j \n",
    "                     }\n",
    "    DifferentDiags = { f'abs(V{j} - V{i}) != {j - i}' for i in S\n",
    "                                                      for j in S \n",
    "                                                      if  i < j \n",
    "                     }\n",
    "    return Variables, Values, DifferentCols | DifferentDiags"
   ]
  },
  {
   "cell_type": "markdown",
   "metadata": {},
   "source": [
    "The function `main()` creates a CSP representing the 4-queens puzzle and prints the CSP.\n",
    "It is included for testing purposes."
   ]
  },
  {
   "cell_type": "code",
   "execution_count": 5,
   "metadata": {},
   "outputs": [],
   "source": [
    "def main() -> None:\n",
    "    Vars, Values, Constraints = create_csp(4)\n",
    "    print('Variables:  ', Vars)\n",
    "    print('Values:     ', Values)\n",
    "    print('Constraints:')\n",
    "    for c in Constraints:\n",
    "        print('            ', c)"
   ]
  },
  {
   "cell_type": "code",
   "execution_count": 7,
   "metadata": {
    "scrolled": false
   },
   "outputs": [
    {
     "name": "stdout",
     "output_type": "stream",
     "text": [
      "Variables:   ['V1', 'V2', 'V3', 'V4']\n",
      "Values:      {1, 2, 3, 4}\n",
      "Constraints:\n",
      "             abs(V2 - V1) != 1\n",
      "             abs(V3 - V1) != 2\n",
      "             V1 != V4\n",
      "             abs(V4 - V3) != 1\n",
      "             V2 != V3\n",
      "             abs(V4 - V1) != 3\n",
      "             V2 != V4\n",
      "             V1 != V3\n",
      "             abs(V3 - V2) != 1\n",
      "             abs(V4 - V2) != 2\n",
      "             V1 != V2\n",
      "             V3 != V4\n"
     ]
    }
   ],
   "source": [
    "main()"
   ]
  },
  {
   "cell_type": "markdown",
   "metadata": {},
   "source": [
    "## Displaying the Solution"
   ]
  },
  {
   "cell_type": "markdown",
   "metadata": {},
   "source": [
    "The following code requires that you install `chess-problem-visuals`, which is a package provided by *Philipp Polland*.  This package can be installed into the environment `ai` with the following command:\n",
    "```\n",
    "pip install git+https://github.com/reclinarka/chess-problem-visuals\n",
    "```\n",
    "The following line performs this installation inside the jupyter notebook.\n",
    "Once you have executed this line once, you can comment it."
   ]
  },
  {
   "cell_type": "code",
   "execution_count": 8,
   "metadata": {},
   "outputs": [
    {
     "name": "stdout",
     "output_type": "stream",
     "text": [
      "Collecting git+https://github.com/reclinarka/chess-problem-visuals\n",
      "  Cloning https://github.com/reclinarka/chess-problem-visuals to /private/var/folders/q9/qftgdjx91wx4s5jcqkfz5bd00000gn/T/pip-req-build-au799kxc\n",
      "  Running command git clone --filter=blob:none --quiet https://github.com/reclinarka/chess-problem-visuals /private/var/folders/q9/qftgdjx91wx4s5jcqkfz5bd00000gn/T/pip-req-build-au799kxc\n",
      "  Resolved https://github.com/reclinarka/chess-problem-visuals to commit 764a29b376fe9dd3cbb2623ce8740f73c6711fa4\n",
      "  Preparing metadata (setup.py) ... \u001b[?25ldone\n",
      "\u001b[?25h"
     ]
    }
   ],
   "source": [
    "!pip install git+https://github.com/reclinarka/chess-problem-visuals"
   ]
  },
  {
   "cell_type": "markdown",
   "metadata": {},
   "source": [
    "Next, we have to import the package `chess_problem_visuals` that was installed in the line above."
   ]
  },
  {
   "cell_type": "code",
   "execution_count": 9,
   "metadata": {},
   "outputs": [],
   "source": [
    "import chess_problem_visuals as cpv"
   ]
  },
  {
   "cell_type": "markdown",
   "metadata": {},
   "source": [
    "The function `show_solution(Solution, width)` takes a dictionary that contains a variable assignment that represents a solution to the 8-queens puzzle.  It displays this Solution on a chess board.\n",
    "* `Solution` is a dictionary mapping the variables $\\texttt{V}_i$ to numbers.\n",
    "  If $\\texttt{Solution[V}_i\\texttt{]} = k$, then the queen in row $i$ is placed in column $k$.\n",
    "* `width` specifies the size of the board as a percentage of the width of notebook.  "
   ]
  },
  {
   "cell_type": "code",
   "execution_count": 10,
   "metadata": {},
   "outputs": [],
   "source": [
    "def show_solution(Solution: dict[str, int], n: int, width: str=\"50%\") -> cpv.Board:\n",
    "    Queens = [None for col in range(n)]\n",
    "    board  = cpv.Board(n, html_width=width)\n",
    "    for row in range(n):\n",
    "        col = Solution.get('V'+str(row+1), None)\n",
    "        if col:\n",
    "            board.add_piece((col-1, row), 'Q')\n",
    "    return board"
   ]
  },
  {
   "cell_type": "code",
   "execution_count": 11,
   "metadata": {},
   "outputs": [],
   "source": [
    "Solution = {'V5': 1, 'V2': 2, 'V4': 6, 'V6': 3, 'V1': 7, 'V7': 5, 'V3': 4}"
   ]
  },
  {
   "cell_type": "code",
   "execution_count": 12,
   "metadata": {},
   "outputs": [
    {
     "data": {
      "text/html": [
       "<div style='width:50%'><svg xmlns=\"http://www.w3.org/2000/svg\" xmlns:xlink=\"http://www.w3.org/1999/xlink\" version=\"1.2\" baseProfile=\"tiny\" viewBox=\"0 0 128 128\"><defs><g id=\"black-bishop\" class=\"black bishop\" fill=\"none\" fill-rule=\"evenodd\" stroke=\"#000\" stroke-width=\"1.5\" stroke-linecap=\"round\" stroke-linejoin=\"round\"><path d=\"M9 36c3.39-.97 10.11.43 13.5-2 3.39 2.43 10.11 1.03 13.5 2 0 0 1.65.54 3 2-.68.97-1.65.99-3 .5-3.39-.97-10.11.46-13.5-1-3.39 1.46-10.11.03-13.5 1-1.354.49-2.323.47-3-.5 1.354-1.94 3-2 3-2zm6-4c2.5 2.5 12.5 2.5 15 0 .5-1.5 0-2 0-2 0-2.5-2.5-4-2.5-4 5.5-1.5 6-11.5-5-15.5-11 4-10.5 14-5 15.5 0 0-2.5 1.5-2.5 4 0 0-.5.5 0 2zM25 8a2.5 2.5 0 1 1-5 0 2.5 2.5 0 1 1 5 0z\" fill=\"#000\" stroke-linecap=\"butt\" /><path d=\"M17.5 26h10M15 30h15m-7.5-14.5v5M20 18h5\" stroke=\"#fff\" stroke-linejoin=\"miter\" /></g><g id=\"black-king\" class=\"black king\" fill=\"none\" fill-rule=\"evenodd\" stroke=\"#000\" stroke-width=\"1.5\" stroke-linecap=\"round\" stroke-linejoin=\"round\"><path d=\"M22.5 11.63V6\" stroke-linejoin=\"miter\" /><path d=\"M22.5 25s4.5-7.5 3-10.5c0 0-1-2.5-3-2.5s-3 2.5-3 2.5c-1.5 3 3 10.5 3 10.5\" fill=\"#000\" stroke-linecap=\"butt\" stroke-linejoin=\"miter\" /><path d=\"M11.5 37c5.5 3.5 15.5 3.5 21 0v-7s9-4.5 6-10.5c-4-6.5-13.5-3.5-16 4V27v-3.5c-3.5-7.5-13-10.5-16-4-3 6 5 10 5 10V37z\" fill=\"#000\" /><path d=\"M20 8h5\" stroke-linejoin=\"miter\" /><path d=\"M32 29.5s8.5-4 6.03-9.65C34.15 14 25 18 22.5 24.5l.01 2.1-.01-2.1C20 18 9.906 14 6.997 19.85c-2.497 5.65 4.853 9 4.853 9M11.5 30c5.5-3 15.5-3 21 0m-21 3.5c5.5-3 15.5-3 21 0m-21 3.5c5.5-3 15.5-3 21 0\" stroke=\"#fff\" /></g><g id=\"black-knight\" class=\"black knight\" fill=\"none\" fill-rule=\"evenodd\" stroke=\"#000\" stroke-width=\"1.5\" stroke-linecap=\"round\" stroke-linejoin=\"round\"><path d=\"M 22,10 C 32.5,11 38.5,18 38,39 L 15,39 C 15,30 25,32.5 23,18\" style=\"fill:#000000; stroke:#000000;\" /><path d=\"M 24,18 C 24.38,20.91 18.45,25.37 16,27 C 13,29 13.18,31.34 11,31 C 9.958,30.06 12.41,27.96 11,28 C 10,28 11.19,29.23 10,30 C 9,30 5.997,31 6,26 C 6,24 12,14 12,14 C 12,14 13.89,12.1 14,10.5 C 13.27,9.506 13.5,8.5 13.5,7.5 C 14.5,6.5 16.5,10 16.5,10 L 18.5,10 C 18.5,10 19.28,8.008 21,7 C 22,7 22,10 22,10\" style=\"fill:#000000; stroke:#000000;\" /><path d=\"M 9.5 25.5 A 0.5 0.5 0 1 1 8.5,25.5 A 0.5 0.5 0 1 1 9.5 25.5 z\" style=\"fill:#ececec; stroke:#ececec;\" /><path d=\"M 15 15.5 A 0.5 1.5 0 1 1 14,15.5 A 0.5 1.5 0 1 1 15 15.5 z\" transform=\"matrix(0.866,0.5,-0.5,0.866,9.693,-5.173)\" style=\"fill:#ececec; stroke:#ececec;\" /><path d=\"M 24.55,10.4 L 24.1,11.85 L 24.6,12 C 27.75,13 30.25,14.49 32.5,18.75 C 34.75,23.01 35.75,29.06 35.25,39 L 35.2,39.5 L 37.45,39.5 L 37.5,39 C 38,28.94 36.62,22.15 34.25,17.66 C 31.88,13.17 28.46,11.02 25.06,10.5 L 24.55,10.4 z \" style=\"fill:#ececec; stroke:none;\" /></g><g id=\"black-pawn\" class=\"black pawn\"><path d=\"M22.5 9c-2.21 0-4 1.79-4 4 0 .89.29 1.71.78 2.38C17.33 16.5 16 18.59 16 21c0 2.03.94 3.84 2.41 5.03-3 1.06-7.41 5.55-7.41 13.47h23c0-7.92-4.41-12.41-7.41-13.47 1.47-1.19 2.41-3 2.41-5.03 0-2.41-1.33-4.5-3.28-5.62.49-.67.78-1.49.78-2.38 0-2.21-1.79-4-4-4z\" fill=\"#000\" stroke=\"#000\" stroke-width=\"1.5\" stroke-linecap=\"round\" /></g><g id=\"black-queen\" class=\"black queen\" fill=\"#000\" fill-rule=\"evenodd\" stroke=\"#000\" stroke-width=\"1.5\" stroke-linecap=\"round\" stroke-linejoin=\"round\"><g fill=\"#000\" stroke=\"none\"><circle cx=\"6\" cy=\"12\" r=\"2.75\" /><circle cx=\"14\" cy=\"9\" r=\"2.75\" /><circle cx=\"22.5\" cy=\"8\" r=\"2.75\" /><circle cx=\"31\" cy=\"9\" r=\"2.75\" /><circle cx=\"39\" cy=\"12\" r=\"2.75\" /></g><path d=\"M9 26c8.5-1.5 21-1.5 27 0l2.5-12.5L31 25l-.3-14.1-5.2 13.6-3-14.5-3 14.5-5.2-13.6L14 25 6.5 13.5 9 26zM9 26c0 2 1.5 2 2.5 4 1 1.5 1 1 .5 3.5-1.5 1-1.5 2.5-1.5 2.5-1.5 1.5.5 2.5.5 2.5 6.5 1 16.5 1 23 0 0 0 1.5-1 0-2.5 0 0 .5-1.5-1-2.5-.5-2.5-.5-2 .5-3.5 1-2 2.5-2 2.5-4-8.5-1.5-18.5-1.5-27 0z\" stroke-linecap=\"butt\" /><path d=\"M11 38.5a35 35 1 0 0 23 0\" fill=\"none\" stroke-linecap=\"butt\" /><path d=\"M11 29a35 35 1 0 1 23 0M12.5 31.5h20M11.5 34.5a35 35 1 0 0 22 0M10.5 37.5a35 35 1 0 0 24 0\" fill=\"none\" stroke=\"#fff\" /></g><g id=\"black-rook\" class=\"black rook\" fill=\"#000\" fill-rule=\"evenodd\" stroke=\"#000\" stroke-width=\"1.5\" stroke-linecap=\"round\" stroke-linejoin=\"round\"><path d=\"M9 39h27v-3H9v3zM12.5 32l1.5-2.5h17l1.5 2.5h-20zM12 36v-4h21v4H12z\" stroke-linecap=\"butt\" /><path d=\"M14 29.5v-13h17v13H14z\" stroke-linecap=\"butt\" stroke-linejoin=\"miter\" /><path d=\"M14 16.5L11 14h23l-3 2.5H14zM11 14V9h4v2h5V9h5v2h5V9h4v5H11z\" stroke-linecap=\"butt\" /><path d=\"M12 35.5h21M13 31.5h19M14 29.5h17M14 16.5h17M11 14h23\" fill=\"none\" stroke=\"#fff\" stroke-width=\"1\" stroke-linejoin=\"miter\" /></g><g id=\"white-bishop\" class=\"white bishop\" fill=\"none\" fill-rule=\"evenodd\" stroke=\"#000\" stroke-width=\"1.5\" stroke-linecap=\"round\" stroke-linejoin=\"round\"><g fill=\"#fff\" stroke-linecap=\"butt\"><path d=\"M9 36c3.39-.97 10.11.43 13.5-2 3.39 2.43 10.11 1.03 13.5 2 0 0 1.65.54 3 2-.68.97-1.65.99-3 .5-3.39-.97-10.11.46-13.5-1-3.39 1.46-10.11.03-13.5 1-1.354.49-2.323.47-3-.5 1.354-1.94 3-2 3-2zM15 32c2.5 2.5 12.5 2.5 15 0 .5-1.5 0-2 0-2 0-2.5-2.5-4-2.5-4 5.5-1.5 6-11.5-5-15.5-11 4-10.5 14-5 15.5 0 0-2.5 1.5-2.5 4 0 0-.5.5 0 2zM25 8a2.5 2.5 0 1 1-5 0 2.5 2.5 0 1 1 5 0z\" /></g><path d=\"M17.5 26h10M15 30h15m-7.5-14.5v5M20 18h5\" stroke-linejoin=\"miter\" /></g><g id=\"white-king\" class=\"white king\" fill=\"none\" fill-rule=\"evenodd\" stroke=\"#000\" stroke-width=\"1.5\" stroke-linecap=\"round\" stroke-linejoin=\"round\"><path d=\"M22.5 11.63V6M20 8h5\" stroke-linejoin=\"miter\" /><path d=\"M22.5 25s4.5-7.5 3-10.5c0 0-1-2.5-3-2.5s-3 2.5-3 2.5c-1.5 3 3 10.5 3 10.5\" fill=\"#fff\" stroke-linecap=\"butt\" stroke-linejoin=\"miter\" /><path d=\"M11.5 37c5.5 3.5 15.5 3.5 21 0v-7s9-4.5 6-10.5c-4-6.5-13.5-3.5-16 4V27v-3.5c-3.5-7.5-13-10.5-16-4-3 6 5 10 5 10V37z\" fill=\"#fff\" /><path d=\"M11.5 30c5.5-3 15.5-3 21 0m-21 3.5c5.5-3 15.5-3 21 0m-21 3.5c5.5-3 15.5-3 21 0\" /></g><g id=\"white-knight\" class=\"white knight\" fill=\"none\" fill-rule=\"evenodd\" stroke=\"#000\" stroke-width=\"1.5\" stroke-linecap=\"round\" stroke-linejoin=\"round\"><path d=\"M 22,10 C 32.5,11 38.5,18 38,39 L 15,39 C 15,30 25,32.5 23,18\" style=\"fill:#ffffff; stroke:#000000;\" /><path d=\"M 24,18 C 24.38,20.91 18.45,25.37 16,27 C 13,29 13.18,31.34 11,31 C 9.958,30.06 12.41,27.96 11,28 C 10,28 11.19,29.23 10,30 C 9,30 5.997,31 6,26 C 6,24 12,14 12,14 C 12,14 13.89,12.1 14,10.5 C 13.27,9.506 13.5,8.5 13.5,7.5 C 14.5,6.5 16.5,10 16.5,10 L 18.5,10 C 18.5,10 19.28,8.008 21,7 C 22,7 22,10 22,10\" style=\"fill:#ffffff; stroke:#000000;\" /><path d=\"M 9.5 25.5 A 0.5 0.5 0 1 1 8.5,25.5 A 0.5 0.5 0 1 1 9.5 25.5 z\" style=\"fill:#000000; stroke:#000000;\" /><path d=\"M 15 15.5 A 0.5 1.5 0 1 1 14,15.5 A 0.5 1.5 0 1 1 15 15.5 z\" transform=\"matrix(0.866,0.5,-0.5,0.866,9.693,-5.173)\" style=\"fill:#000000; stroke:#000000;\" /></g><g id=\"white-pawn\" class=\"white pawn\"><path d=\"M22.5 9c-2.21 0-4 1.79-4 4 0 .89.29 1.71.78 2.38C17.33 16.5 16 18.59 16 21c0 2.03.94 3.84 2.41 5.03-3 1.06-7.41 5.55-7.41 13.47h23c0-7.92-4.41-12.41-7.41-13.47 1.47-1.19 2.41-3 2.41-5.03 0-2.41-1.33-4.5-3.28-5.62.49-.67.78-1.49.78-2.38 0-2.21-1.79-4-4-4z\" fill=\"#fff\" stroke=\"#000\" stroke-width=\"1.5\" stroke-linecap=\"round\" /></g><g id=\"white-queen\" class=\"white queen\" fill=\"#fff\" fill-rule=\"evenodd\" stroke=\"#000\" stroke-width=\"1.5\" stroke-linecap=\"round\" stroke-linejoin=\"round\"><path d=\"M8 12a2 2 0 1 1-4 0 2 2 0 1 1 4 0zM24.5 7.5a2 2 0 1 1-4 0 2 2 0 1 1 4 0zM41 12a2 2 0 1 1-4 0 2 2 0 1 1 4 0zM16 8.5a2 2 0 1 1-4 0 2 2 0 1 1 4 0zM33 9a2 2 0 1 1-4 0 2 2 0 1 1 4 0z\" /><path d=\"M9 26c8.5-1.5 21-1.5 27 0l2-12-7 11V11l-5.5 13.5-3-15-3 15-5.5-14V25L7 14l2 12zM9 26c0 2 1.5 2 2.5 4 1 1.5 1 1 .5 3.5-1.5 1-1.5 2.5-1.5 2.5-1.5 1.5.5 2.5.5 2.5 6.5 1 16.5 1 23 0 0 0 1.5-1 0-2.5 0 0 .5-1.5-1-2.5-.5-2.5-.5-2 .5-3.5 1-2 2.5-2 2.5-4-8.5-1.5-18.5-1.5-27 0z\" stroke-linecap=\"butt\" /><path d=\"M11.5 30c3.5-1 18.5-1 22 0M12 33.5c6-1 15-1 21 0\" fill=\"none\" /></g><g id=\"white-rook\" class=\"white rook\" fill=\"#fff\" fill-rule=\"evenodd\" stroke=\"#000\" stroke-width=\"1.5\" stroke-linecap=\"round\" stroke-linejoin=\"round\"><path d=\"M9 39h27v-3H9v3zM12 36v-4h21v4H12zM11 14V9h4v2h5V9h5v2h5V9h4v5\" stroke-linecap=\"butt\" /><path d=\"M34 14l-3 3H14l-3-3\" /><path d=\"M31 17v12.5H14V17\" stroke-linecap=\"butt\" stroke-linejoin=\"miter\" /><path d=\"M31 29.5l1.5 2.5h-20l1.5-2.5\" /><path d=\"M11 14h23\" fill=\"none\" stroke-linejoin=\"miter\" /></g></defs><rect x=\"0\" y=\"0\" width=\"16\" height=\"16\" class=\"square light\" stroke=\"none\" fill=\"#ffce9e\" opacity=\"1.0\" /><rect x=\"0\" y=\"16\" width=\"16\" height=\"16\" class=\"square dark\" stroke=\"none\" fill=\"#d18b47\" opacity=\"1.0\" /><rect x=\"0\" y=\"32\" width=\"16\" height=\"16\" class=\"square light\" stroke=\"none\" fill=\"#ffce9e\" opacity=\"1.0\" /><rect x=\"0\" y=\"48\" width=\"16\" height=\"16\" class=\"square dark\" stroke=\"none\" fill=\"#d18b47\" opacity=\"1.0\" /><rect x=\"0\" y=\"64\" width=\"16\" height=\"16\" class=\"square light\" stroke=\"none\" fill=\"#ffce9e\" opacity=\"1.0\" /><rect x=\"0\" y=\"80\" width=\"16\" height=\"16\" class=\"square dark\" stroke=\"none\" fill=\"#d18b47\" opacity=\"1.0\" /><rect x=\"0\" y=\"96\" width=\"16\" height=\"16\" class=\"square light\" stroke=\"none\" fill=\"#ffce9e\" opacity=\"1.0\" /><rect x=\"0\" y=\"112\" width=\"16\" height=\"16\" class=\"square dark\" stroke=\"none\" fill=\"#d18b47\" opacity=\"1.0\" /><rect x=\"16\" y=\"0\" width=\"16\" height=\"16\" class=\"square dark\" stroke=\"none\" fill=\"#d18b47\" opacity=\"1.0\" /><rect x=\"16\" y=\"16\" width=\"16\" height=\"16\" class=\"square light\" stroke=\"none\" fill=\"#ffce9e\" opacity=\"1.0\" /><rect x=\"16\" y=\"32\" width=\"16\" height=\"16\" class=\"square dark\" stroke=\"none\" fill=\"#d18b47\" opacity=\"1.0\" /><rect x=\"16\" y=\"48\" width=\"16\" height=\"16\" class=\"square light\" stroke=\"none\" fill=\"#ffce9e\" opacity=\"1.0\" /><rect x=\"16\" y=\"64\" width=\"16\" height=\"16\" class=\"square dark\" stroke=\"none\" fill=\"#d18b47\" opacity=\"1.0\" /><rect x=\"16\" y=\"80\" width=\"16\" height=\"16\" class=\"square light\" stroke=\"none\" fill=\"#ffce9e\" opacity=\"1.0\" /><rect x=\"16\" y=\"96\" width=\"16\" height=\"16\" class=\"square dark\" stroke=\"none\" fill=\"#d18b47\" opacity=\"1.0\" /><rect x=\"16\" y=\"112\" width=\"16\" height=\"16\" class=\"square light\" stroke=\"none\" fill=\"#ffce9e\" opacity=\"1.0\" /><rect x=\"32\" y=\"0\" width=\"16\" height=\"16\" class=\"square light\" stroke=\"none\" fill=\"#ffce9e\" opacity=\"1.0\" /><rect x=\"32\" y=\"16\" width=\"16\" height=\"16\" class=\"square dark\" stroke=\"none\" fill=\"#d18b47\" opacity=\"1.0\" /><rect x=\"32\" y=\"32\" width=\"16\" height=\"16\" class=\"square light\" stroke=\"none\" fill=\"#ffce9e\" opacity=\"1.0\" /><rect x=\"32\" y=\"48\" width=\"16\" height=\"16\" class=\"square dark\" stroke=\"none\" fill=\"#d18b47\" opacity=\"1.0\" /><rect x=\"32\" y=\"64\" width=\"16\" height=\"16\" class=\"square light\" stroke=\"none\" fill=\"#ffce9e\" opacity=\"1.0\" /><rect x=\"32\" y=\"80\" width=\"16\" height=\"16\" class=\"square dark\" stroke=\"none\" fill=\"#d18b47\" opacity=\"1.0\" /><rect x=\"32\" y=\"96\" width=\"16\" height=\"16\" class=\"square light\" stroke=\"none\" fill=\"#ffce9e\" opacity=\"1.0\" /><rect x=\"32\" y=\"112\" width=\"16\" height=\"16\" class=\"square dark\" stroke=\"none\" fill=\"#d18b47\" opacity=\"1.0\" /><rect x=\"48\" y=\"0\" width=\"16\" height=\"16\" class=\"square dark\" stroke=\"none\" fill=\"#d18b47\" opacity=\"1.0\" /><rect x=\"48\" y=\"16\" width=\"16\" height=\"16\" class=\"square light\" stroke=\"none\" fill=\"#ffce9e\" opacity=\"1.0\" /><rect x=\"48\" y=\"32\" width=\"16\" height=\"16\" class=\"square dark\" stroke=\"none\" fill=\"#d18b47\" opacity=\"1.0\" /><rect x=\"48\" y=\"48\" width=\"16\" height=\"16\" class=\"square light\" stroke=\"none\" fill=\"#ffce9e\" opacity=\"1.0\" /><rect x=\"48\" y=\"64\" width=\"16\" height=\"16\" class=\"square dark\" stroke=\"none\" fill=\"#d18b47\" opacity=\"1.0\" /><rect x=\"48\" y=\"80\" width=\"16\" height=\"16\" class=\"square light\" stroke=\"none\" fill=\"#ffce9e\" opacity=\"1.0\" /><rect x=\"48\" y=\"96\" width=\"16\" height=\"16\" class=\"square dark\" stroke=\"none\" fill=\"#d18b47\" opacity=\"1.0\" /><rect x=\"48\" y=\"112\" width=\"16\" height=\"16\" class=\"square light\" stroke=\"none\" fill=\"#ffce9e\" opacity=\"1.0\" /><rect x=\"64\" y=\"0\" width=\"16\" height=\"16\" class=\"square light\" stroke=\"none\" fill=\"#ffce9e\" opacity=\"1.0\" /><rect x=\"64\" y=\"16\" width=\"16\" height=\"16\" class=\"square dark\" stroke=\"none\" fill=\"#d18b47\" opacity=\"1.0\" /><rect x=\"64\" y=\"32\" width=\"16\" height=\"16\" class=\"square light\" stroke=\"none\" fill=\"#ffce9e\" opacity=\"1.0\" /><rect x=\"64\" y=\"48\" width=\"16\" height=\"16\" class=\"square dark\" stroke=\"none\" fill=\"#d18b47\" opacity=\"1.0\" /><rect x=\"64\" y=\"64\" width=\"16\" height=\"16\" class=\"square light\" stroke=\"none\" fill=\"#ffce9e\" opacity=\"1.0\" /><rect x=\"64\" y=\"80\" width=\"16\" height=\"16\" class=\"square dark\" stroke=\"none\" fill=\"#d18b47\" opacity=\"1.0\" /><rect x=\"64\" y=\"96\" width=\"16\" height=\"16\" class=\"square light\" stroke=\"none\" fill=\"#ffce9e\" opacity=\"1.0\" /><rect x=\"64\" y=\"112\" width=\"16\" height=\"16\" class=\"square dark\" stroke=\"none\" fill=\"#d18b47\" opacity=\"1.0\" /><rect x=\"80\" y=\"0\" width=\"16\" height=\"16\" class=\"square dark\" stroke=\"none\" fill=\"#d18b47\" opacity=\"1.0\" /><rect x=\"80\" y=\"16\" width=\"16\" height=\"16\" class=\"square light\" stroke=\"none\" fill=\"#ffce9e\" opacity=\"1.0\" /><rect x=\"80\" y=\"32\" width=\"16\" height=\"16\" class=\"square dark\" stroke=\"none\" fill=\"#d18b47\" opacity=\"1.0\" /><rect x=\"80\" y=\"48\" width=\"16\" height=\"16\" class=\"square light\" stroke=\"none\" fill=\"#ffce9e\" opacity=\"1.0\" /><rect x=\"80\" y=\"64\" width=\"16\" height=\"16\" class=\"square dark\" stroke=\"none\" fill=\"#d18b47\" opacity=\"1.0\" /><rect x=\"80\" y=\"80\" width=\"16\" height=\"16\" class=\"square light\" stroke=\"none\" fill=\"#ffce9e\" opacity=\"1.0\" /><rect x=\"80\" y=\"96\" width=\"16\" height=\"16\" class=\"square dark\" stroke=\"none\" fill=\"#d18b47\" opacity=\"1.0\" /><rect x=\"80\" y=\"112\" width=\"16\" height=\"16\" class=\"square light\" stroke=\"none\" fill=\"#ffce9e\" opacity=\"1.0\" /><rect x=\"96\" y=\"0\" width=\"16\" height=\"16\" class=\"square light\" stroke=\"none\" fill=\"#ffce9e\" opacity=\"1.0\" /><rect x=\"96\" y=\"16\" width=\"16\" height=\"16\" class=\"square dark\" stroke=\"none\" fill=\"#d18b47\" opacity=\"1.0\" /><rect x=\"96\" y=\"32\" width=\"16\" height=\"16\" class=\"square light\" stroke=\"none\" fill=\"#ffce9e\" opacity=\"1.0\" /><rect x=\"96\" y=\"48\" width=\"16\" height=\"16\" class=\"square dark\" stroke=\"none\" fill=\"#d18b47\" opacity=\"1.0\" /><rect x=\"96\" y=\"64\" width=\"16\" height=\"16\" class=\"square light\" stroke=\"none\" fill=\"#ffce9e\" opacity=\"1.0\" /><rect x=\"96\" y=\"80\" width=\"16\" height=\"16\" class=\"square dark\" stroke=\"none\" fill=\"#d18b47\" opacity=\"1.0\" /><rect x=\"96\" y=\"96\" width=\"16\" height=\"16\" class=\"square light\" stroke=\"none\" fill=\"#ffce9e\" opacity=\"1.0\" /><rect x=\"96\" y=\"112\" width=\"16\" height=\"16\" class=\"square dark\" stroke=\"none\" fill=\"#d18b47\" opacity=\"1.0\" /><rect x=\"112\" y=\"0\" width=\"16\" height=\"16\" class=\"square dark\" stroke=\"none\" fill=\"#d18b47\" opacity=\"1.0\" /><rect x=\"112\" y=\"16\" width=\"16\" height=\"16\" class=\"square light\" stroke=\"none\" fill=\"#ffce9e\" opacity=\"1.0\" /><rect x=\"112\" y=\"32\" width=\"16\" height=\"16\" class=\"square dark\" stroke=\"none\" fill=\"#d18b47\" opacity=\"1.0\" /><rect x=\"112\" y=\"48\" width=\"16\" height=\"16\" class=\"square light\" stroke=\"none\" fill=\"#ffce9e\" opacity=\"1.0\" /><rect x=\"112\" y=\"64\" width=\"16\" height=\"16\" class=\"square dark\" stroke=\"none\" fill=\"#d18b47\" opacity=\"1.0\" /><rect x=\"112\" y=\"80\" width=\"16\" height=\"16\" class=\"square light\" stroke=\"none\" fill=\"#ffce9e\" opacity=\"1.0\" /><rect x=\"112\" y=\"96\" width=\"16\" height=\"16\" class=\"square dark\" stroke=\"none\" fill=\"#d18b47\" opacity=\"1.0\" /><rect x=\"112\" y=\"112\" width=\"16\" height=\"16\" class=\"square light\" stroke=\"none\" fill=\"#ffce9e\" opacity=\"1.0\" /><use href=\"#white-queen\" xlink:href=\"#white-queen\" transform=\"translate(96, 0) scale(0.355556)\" /><use href=\"#white-queen\" xlink:href=\"#white-queen\" transform=\"translate(16, 16) scale(0.355556)\" /><use href=\"#white-queen\" xlink:href=\"#white-queen\" transform=\"translate(48, 32) scale(0.355556)\" /><use href=\"#white-queen\" xlink:href=\"#white-queen\" transform=\"translate(80, 48) scale(0.355556)\" /><use href=\"#white-queen\" xlink:href=\"#white-queen\" transform=\"translate(0, 64) scale(0.355556)\" /><use href=\"#white-queen\" xlink:href=\"#white-queen\" transform=\"translate(32, 80) scale(0.355556)\" /><use href=\"#white-queen\" xlink:href=\"#white-queen\" transform=\"translate(64, 96) scale(0.355556)\" /></svg></div>"
      ],
      "text/plain": [
       "<chess_problem_visuals.board.Board at 0x1413ae0d0>"
      ]
     },
     "execution_count": 12,
     "metadata": {},
     "output_type": "execute_result"
    }
   ],
   "source": [
    "show_solution(Solution, 8)"
   ]
  },
  {
   "cell_type": "code",
   "execution_count": 14,
   "metadata": {},
   "outputs": [],
   "source": [
    "Solution2 = {'V5': 1, 'V2': 2, 'V4': 6, 'V6': 3, 'V1': 7, 'V7': 5, 'V3': 4, 'V9':8, 'V8': 9}"
   ]
  },
  {
   "cell_type": "code",
   "execution_count": 15,
   "metadata": {},
   "outputs": [
    {
     "data": {
      "text/html": [
       "<div style='width:40%'><svg xmlns=\"http://www.w3.org/2000/svg\" xmlns:xlink=\"http://www.w3.org/1999/xlink\" version=\"1.2\" baseProfile=\"tiny\" viewBox=\"0 0 144 144\"><defs><g id=\"black-bishop\" class=\"black bishop\" fill=\"none\" fill-rule=\"evenodd\" stroke=\"#000\" stroke-width=\"1.5\" stroke-linecap=\"round\" stroke-linejoin=\"round\"><path d=\"M9 36c3.39-.97 10.11.43 13.5-2 3.39 2.43 10.11 1.03 13.5 2 0 0 1.65.54 3 2-.68.97-1.65.99-3 .5-3.39-.97-10.11.46-13.5-1-3.39 1.46-10.11.03-13.5 1-1.354.49-2.323.47-3-.5 1.354-1.94 3-2 3-2zm6-4c2.5 2.5 12.5 2.5 15 0 .5-1.5 0-2 0-2 0-2.5-2.5-4-2.5-4 5.5-1.5 6-11.5-5-15.5-11 4-10.5 14-5 15.5 0 0-2.5 1.5-2.5 4 0 0-.5.5 0 2zM25 8a2.5 2.5 0 1 1-5 0 2.5 2.5 0 1 1 5 0z\" fill=\"#000\" stroke-linecap=\"butt\" /><path d=\"M17.5 26h10M15 30h15m-7.5-14.5v5M20 18h5\" stroke=\"#fff\" stroke-linejoin=\"miter\" /></g><g id=\"black-king\" class=\"black king\" fill=\"none\" fill-rule=\"evenodd\" stroke=\"#000\" stroke-width=\"1.5\" stroke-linecap=\"round\" stroke-linejoin=\"round\"><path d=\"M22.5 11.63V6\" stroke-linejoin=\"miter\" /><path d=\"M22.5 25s4.5-7.5 3-10.5c0 0-1-2.5-3-2.5s-3 2.5-3 2.5c-1.5 3 3 10.5 3 10.5\" fill=\"#000\" stroke-linecap=\"butt\" stroke-linejoin=\"miter\" /><path d=\"M11.5 37c5.5 3.5 15.5 3.5 21 0v-7s9-4.5 6-10.5c-4-6.5-13.5-3.5-16 4V27v-3.5c-3.5-7.5-13-10.5-16-4-3 6 5 10 5 10V37z\" fill=\"#000\" /><path d=\"M20 8h5\" stroke-linejoin=\"miter\" /><path d=\"M32 29.5s8.5-4 6.03-9.65C34.15 14 25 18 22.5 24.5l.01 2.1-.01-2.1C20 18 9.906 14 6.997 19.85c-2.497 5.65 4.853 9 4.853 9M11.5 30c5.5-3 15.5-3 21 0m-21 3.5c5.5-3 15.5-3 21 0m-21 3.5c5.5-3 15.5-3 21 0\" stroke=\"#fff\" /></g><g id=\"black-knight\" class=\"black knight\" fill=\"none\" fill-rule=\"evenodd\" stroke=\"#000\" stroke-width=\"1.5\" stroke-linecap=\"round\" stroke-linejoin=\"round\"><path d=\"M 22,10 C 32.5,11 38.5,18 38,39 L 15,39 C 15,30 25,32.5 23,18\" style=\"fill:#000000; stroke:#000000;\" /><path d=\"M 24,18 C 24.38,20.91 18.45,25.37 16,27 C 13,29 13.18,31.34 11,31 C 9.958,30.06 12.41,27.96 11,28 C 10,28 11.19,29.23 10,30 C 9,30 5.997,31 6,26 C 6,24 12,14 12,14 C 12,14 13.89,12.1 14,10.5 C 13.27,9.506 13.5,8.5 13.5,7.5 C 14.5,6.5 16.5,10 16.5,10 L 18.5,10 C 18.5,10 19.28,8.008 21,7 C 22,7 22,10 22,10\" style=\"fill:#000000; stroke:#000000;\" /><path d=\"M 9.5 25.5 A 0.5 0.5 0 1 1 8.5,25.5 A 0.5 0.5 0 1 1 9.5 25.5 z\" style=\"fill:#ececec; stroke:#ececec;\" /><path d=\"M 15 15.5 A 0.5 1.5 0 1 1 14,15.5 A 0.5 1.5 0 1 1 15 15.5 z\" transform=\"matrix(0.866,0.5,-0.5,0.866,9.693,-5.173)\" style=\"fill:#ececec; stroke:#ececec;\" /><path d=\"M 24.55,10.4 L 24.1,11.85 L 24.6,12 C 27.75,13 30.25,14.49 32.5,18.75 C 34.75,23.01 35.75,29.06 35.25,39 L 35.2,39.5 L 37.45,39.5 L 37.5,39 C 38,28.94 36.62,22.15 34.25,17.66 C 31.88,13.17 28.46,11.02 25.06,10.5 L 24.55,10.4 z \" style=\"fill:#ececec; stroke:none;\" /></g><g id=\"black-pawn\" class=\"black pawn\"><path d=\"M22.5 9c-2.21 0-4 1.79-4 4 0 .89.29 1.71.78 2.38C17.33 16.5 16 18.59 16 21c0 2.03.94 3.84 2.41 5.03-3 1.06-7.41 5.55-7.41 13.47h23c0-7.92-4.41-12.41-7.41-13.47 1.47-1.19 2.41-3 2.41-5.03 0-2.41-1.33-4.5-3.28-5.62.49-.67.78-1.49.78-2.38 0-2.21-1.79-4-4-4z\" fill=\"#000\" stroke=\"#000\" stroke-width=\"1.5\" stroke-linecap=\"round\" /></g><g id=\"black-queen\" class=\"black queen\" fill=\"#000\" fill-rule=\"evenodd\" stroke=\"#000\" stroke-width=\"1.5\" stroke-linecap=\"round\" stroke-linejoin=\"round\"><g fill=\"#000\" stroke=\"none\"><circle cx=\"6\" cy=\"12\" r=\"2.75\" /><circle cx=\"14\" cy=\"9\" r=\"2.75\" /><circle cx=\"22.5\" cy=\"8\" r=\"2.75\" /><circle cx=\"31\" cy=\"9\" r=\"2.75\" /><circle cx=\"39\" cy=\"12\" r=\"2.75\" /></g><path d=\"M9 26c8.5-1.5 21-1.5 27 0l2.5-12.5L31 25l-.3-14.1-5.2 13.6-3-14.5-3 14.5-5.2-13.6L14 25 6.5 13.5 9 26zM9 26c0 2 1.5 2 2.5 4 1 1.5 1 1 .5 3.5-1.5 1-1.5 2.5-1.5 2.5-1.5 1.5.5 2.5.5 2.5 6.5 1 16.5 1 23 0 0 0 1.5-1 0-2.5 0 0 .5-1.5-1-2.5-.5-2.5-.5-2 .5-3.5 1-2 2.5-2 2.5-4-8.5-1.5-18.5-1.5-27 0z\" stroke-linecap=\"butt\" /><path d=\"M11 38.5a35 35 1 0 0 23 0\" fill=\"none\" stroke-linecap=\"butt\" /><path d=\"M11 29a35 35 1 0 1 23 0M12.5 31.5h20M11.5 34.5a35 35 1 0 0 22 0M10.5 37.5a35 35 1 0 0 24 0\" fill=\"none\" stroke=\"#fff\" /></g><g id=\"black-rook\" class=\"black rook\" fill=\"#000\" fill-rule=\"evenodd\" stroke=\"#000\" stroke-width=\"1.5\" stroke-linecap=\"round\" stroke-linejoin=\"round\"><path d=\"M9 39h27v-3H9v3zM12.5 32l1.5-2.5h17l1.5 2.5h-20zM12 36v-4h21v4H12z\" stroke-linecap=\"butt\" /><path d=\"M14 29.5v-13h17v13H14z\" stroke-linecap=\"butt\" stroke-linejoin=\"miter\" /><path d=\"M14 16.5L11 14h23l-3 2.5H14zM11 14V9h4v2h5V9h5v2h5V9h4v5H11z\" stroke-linecap=\"butt\" /><path d=\"M12 35.5h21M13 31.5h19M14 29.5h17M14 16.5h17M11 14h23\" fill=\"none\" stroke=\"#fff\" stroke-width=\"1\" stroke-linejoin=\"miter\" /></g><g id=\"white-bishop\" class=\"white bishop\" fill=\"none\" fill-rule=\"evenodd\" stroke=\"#000\" stroke-width=\"1.5\" stroke-linecap=\"round\" stroke-linejoin=\"round\"><g fill=\"#fff\" stroke-linecap=\"butt\"><path d=\"M9 36c3.39-.97 10.11.43 13.5-2 3.39 2.43 10.11 1.03 13.5 2 0 0 1.65.54 3 2-.68.97-1.65.99-3 .5-3.39-.97-10.11.46-13.5-1-3.39 1.46-10.11.03-13.5 1-1.354.49-2.323.47-3-.5 1.354-1.94 3-2 3-2zM15 32c2.5 2.5 12.5 2.5 15 0 .5-1.5 0-2 0-2 0-2.5-2.5-4-2.5-4 5.5-1.5 6-11.5-5-15.5-11 4-10.5 14-5 15.5 0 0-2.5 1.5-2.5 4 0 0-.5.5 0 2zM25 8a2.5 2.5 0 1 1-5 0 2.5 2.5 0 1 1 5 0z\" /></g><path d=\"M17.5 26h10M15 30h15m-7.5-14.5v5M20 18h5\" stroke-linejoin=\"miter\" /></g><g id=\"white-king\" class=\"white king\" fill=\"none\" fill-rule=\"evenodd\" stroke=\"#000\" stroke-width=\"1.5\" stroke-linecap=\"round\" stroke-linejoin=\"round\"><path d=\"M22.5 11.63V6M20 8h5\" stroke-linejoin=\"miter\" /><path d=\"M22.5 25s4.5-7.5 3-10.5c0 0-1-2.5-3-2.5s-3 2.5-3 2.5c-1.5 3 3 10.5 3 10.5\" fill=\"#fff\" stroke-linecap=\"butt\" stroke-linejoin=\"miter\" /><path d=\"M11.5 37c5.5 3.5 15.5 3.5 21 0v-7s9-4.5 6-10.5c-4-6.5-13.5-3.5-16 4V27v-3.5c-3.5-7.5-13-10.5-16-4-3 6 5 10 5 10V37z\" fill=\"#fff\" /><path d=\"M11.5 30c5.5-3 15.5-3 21 0m-21 3.5c5.5-3 15.5-3 21 0m-21 3.5c5.5-3 15.5-3 21 0\" /></g><g id=\"white-knight\" class=\"white knight\" fill=\"none\" fill-rule=\"evenodd\" stroke=\"#000\" stroke-width=\"1.5\" stroke-linecap=\"round\" stroke-linejoin=\"round\"><path d=\"M 22,10 C 32.5,11 38.5,18 38,39 L 15,39 C 15,30 25,32.5 23,18\" style=\"fill:#ffffff; stroke:#000000;\" /><path d=\"M 24,18 C 24.38,20.91 18.45,25.37 16,27 C 13,29 13.18,31.34 11,31 C 9.958,30.06 12.41,27.96 11,28 C 10,28 11.19,29.23 10,30 C 9,30 5.997,31 6,26 C 6,24 12,14 12,14 C 12,14 13.89,12.1 14,10.5 C 13.27,9.506 13.5,8.5 13.5,7.5 C 14.5,6.5 16.5,10 16.5,10 L 18.5,10 C 18.5,10 19.28,8.008 21,7 C 22,7 22,10 22,10\" style=\"fill:#ffffff; stroke:#000000;\" /><path d=\"M 9.5 25.5 A 0.5 0.5 0 1 1 8.5,25.5 A 0.5 0.5 0 1 1 9.5 25.5 z\" style=\"fill:#000000; stroke:#000000;\" /><path d=\"M 15 15.5 A 0.5 1.5 0 1 1 14,15.5 A 0.5 1.5 0 1 1 15 15.5 z\" transform=\"matrix(0.866,0.5,-0.5,0.866,9.693,-5.173)\" style=\"fill:#000000; stroke:#000000;\" /></g><g id=\"white-pawn\" class=\"white pawn\"><path d=\"M22.5 9c-2.21 0-4 1.79-4 4 0 .89.29 1.71.78 2.38C17.33 16.5 16 18.59 16 21c0 2.03.94 3.84 2.41 5.03-3 1.06-7.41 5.55-7.41 13.47h23c0-7.92-4.41-12.41-7.41-13.47 1.47-1.19 2.41-3 2.41-5.03 0-2.41-1.33-4.5-3.28-5.62.49-.67.78-1.49.78-2.38 0-2.21-1.79-4-4-4z\" fill=\"#fff\" stroke=\"#000\" stroke-width=\"1.5\" stroke-linecap=\"round\" /></g><g id=\"white-queen\" class=\"white queen\" fill=\"#fff\" fill-rule=\"evenodd\" stroke=\"#000\" stroke-width=\"1.5\" stroke-linecap=\"round\" stroke-linejoin=\"round\"><path d=\"M8 12a2 2 0 1 1-4 0 2 2 0 1 1 4 0zM24.5 7.5a2 2 0 1 1-4 0 2 2 0 1 1 4 0zM41 12a2 2 0 1 1-4 0 2 2 0 1 1 4 0zM16 8.5a2 2 0 1 1-4 0 2 2 0 1 1 4 0zM33 9a2 2 0 1 1-4 0 2 2 0 1 1 4 0z\" /><path d=\"M9 26c8.5-1.5 21-1.5 27 0l2-12-7 11V11l-5.5 13.5-3-15-3 15-5.5-14V25L7 14l2 12zM9 26c0 2 1.5 2 2.5 4 1 1.5 1 1 .5 3.5-1.5 1-1.5 2.5-1.5 2.5-1.5 1.5.5 2.5.5 2.5 6.5 1 16.5 1 23 0 0 0 1.5-1 0-2.5 0 0 .5-1.5-1-2.5-.5-2.5-.5-2 .5-3.5 1-2 2.5-2 2.5-4-8.5-1.5-18.5-1.5-27 0z\" stroke-linecap=\"butt\" /><path d=\"M11.5 30c3.5-1 18.5-1 22 0M12 33.5c6-1 15-1 21 0\" fill=\"none\" /></g><g id=\"white-rook\" class=\"white rook\" fill=\"#fff\" fill-rule=\"evenodd\" stroke=\"#000\" stroke-width=\"1.5\" stroke-linecap=\"round\" stroke-linejoin=\"round\"><path d=\"M9 39h27v-3H9v3zM12 36v-4h21v4H12zM11 14V9h4v2h5V9h5v2h5V9h4v5\" stroke-linecap=\"butt\" /><path d=\"M34 14l-3 3H14l-3-3\" /><path d=\"M31 17v12.5H14V17\" stroke-linecap=\"butt\" stroke-linejoin=\"miter\" /><path d=\"M31 29.5l1.5 2.5h-20l1.5-2.5\" /><path d=\"M11 14h23\" fill=\"none\" stroke-linejoin=\"miter\" /></g></defs><rect x=\"0\" y=\"0\" width=\"16\" height=\"16\" class=\"square light\" stroke=\"none\" fill=\"#ffce9e\" opacity=\"1.0\" /><rect x=\"0\" y=\"16\" width=\"16\" height=\"16\" class=\"square dark\" stroke=\"none\" fill=\"#d18b47\" opacity=\"1.0\" /><rect x=\"0\" y=\"32\" width=\"16\" height=\"16\" class=\"square light\" stroke=\"none\" fill=\"#ffce9e\" opacity=\"1.0\" /><rect x=\"0\" y=\"48\" width=\"16\" height=\"16\" class=\"square dark\" stroke=\"none\" fill=\"#d18b47\" opacity=\"1.0\" /><rect x=\"0\" y=\"64\" width=\"16\" height=\"16\" class=\"square light\" stroke=\"none\" fill=\"#ffce9e\" opacity=\"1.0\" /><rect x=\"0\" y=\"80\" width=\"16\" height=\"16\" class=\"square dark\" stroke=\"none\" fill=\"#d18b47\" opacity=\"1.0\" /><rect x=\"0\" y=\"96\" width=\"16\" height=\"16\" class=\"square light\" stroke=\"none\" fill=\"#ffce9e\" opacity=\"1.0\" /><rect x=\"0\" y=\"112\" width=\"16\" height=\"16\" class=\"square dark\" stroke=\"none\" fill=\"#d18b47\" opacity=\"1.0\" /><rect x=\"0\" y=\"128\" width=\"16\" height=\"16\" class=\"square light\" stroke=\"none\" fill=\"#ffce9e\" opacity=\"1.0\" /><rect x=\"16\" y=\"0\" width=\"16\" height=\"16\" class=\"square dark\" stroke=\"none\" fill=\"#d18b47\" opacity=\"1.0\" /><rect x=\"16\" y=\"16\" width=\"16\" height=\"16\" class=\"square light\" stroke=\"none\" fill=\"#ffce9e\" opacity=\"1.0\" /><rect x=\"16\" y=\"32\" width=\"16\" height=\"16\" class=\"square dark\" stroke=\"none\" fill=\"#d18b47\" opacity=\"1.0\" /><rect x=\"16\" y=\"48\" width=\"16\" height=\"16\" class=\"square light\" stroke=\"none\" fill=\"#ffce9e\" opacity=\"1.0\" /><rect x=\"16\" y=\"64\" width=\"16\" height=\"16\" class=\"square dark\" stroke=\"none\" fill=\"#d18b47\" opacity=\"1.0\" /><rect x=\"16\" y=\"80\" width=\"16\" height=\"16\" class=\"square light\" stroke=\"none\" fill=\"#ffce9e\" opacity=\"1.0\" /><rect x=\"16\" y=\"96\" width=\"16\" height=\"16\" class=\"square dark\" stroke=\"none\" fill=\"#d18b47\" opacity=\"1.0\" /><rect x=\"16\" y=\"112\" width=\"16\" height=\"16\" class=\"square light\" stroke=\"none\" fill=\"#ffce9e\" opacity=\"1.0\" /><rect x=\"16\" y=\"128\" width=\"16\" height=\"16\" class=\"square dark\" stroke=\"none\" fill=\"#d18b47\" opacity=\"1.0\" /><rect x=\"32\" y=\"0\" width=\"16\" height=\"16\" class=\"square light\" stroke=\"none\" fill=\"#ffce9e\" opacity=\"1.0\" /><rect x=\"32\" y=\"16\" width=\"16\" height=\"16\" class=\"square dark\" stroke=\"none\" fill=\"#d18b47\" opacity=\"1.0\" /><rect x=\"32\" y=\"32\" width=\"16\" height=\"16\" class=\"square light\" stroke=\"none\" fill=\"#ffce9e\" opacity=\"1.0\" /><rect x=\"32\" y=\"48\" width=\"16\" height=\"16\" class=\"square dark\" stroke=\"none\" fill=\"#d18b47\" opacity=\"1.0\" /><rect x=\"32\" y=\"64\" width=\"16\" height=\"16\" class=\"square light\" stroke=\"none\" fill=\"#ffce9e\" opacity=\"1.0\" /><rect x=\"32\" y=\"80\" width=\"16\" height=\"16\" class=\"square dark\" stroke=\"none\" fill=\"#d18b47\" opacity=\"1.0\" /><rect x=\"32\" y=\"96\" width=\"16\" height=\"16\" class=\"square light\" stroke=\"none\" fill=\"#ffce9e\" opacity=\"1.0\" /><rect x=\"32\" y=\"112\" width=\"16\" height=\"16\" class=\"square dark\" stroke=\"none\" fill=\"#d18b47\" opacity=\"1.0\" /><rect x=\"32\" y=\"128\" width=\"16\" height=\"16\" class=\"square light\" stroke=\"none\" fill=\"#ffce9e\" opacity=\"1.0\" /><rect x=\"48\" y=\"0\" width=\"16\" height=\"16\" class=\"square dark\" stroke=\"none\" fill=\"#d18b47\" opacity=\"1.0\" /><rect x=\"48\" y=\"16\" width=\"16\" height=\"16\" class=\"square light\" stroke=\"none\" fill=\"#ffce9e\" opacity=\"1.0\" /><rect x=\"48\" y=\"32\" width=\"16\" height=\"16\" class=\"square dark\" stroke=\"none\" fill=\"#d18b47\" opacity=\"1.0\" /><rect x=\"48\" y=\"48\" width=\"16\" height=\"16\" class=\"square light\" stroke=\"none\" fill=\"#ffce9e\" opacity=\"1.0\" /><rect x=\"48\" y=\"64\" width=\"16\" height=\"16\" class=\"square dark\" stroke=\"none\" fill=\"#d18b47\" opacity=\"1.0\" /><rect x=\"48\" y=\"80\" width=\"16\" height=\"16\" class=\"square light\" stroke=\"none\" fill=\"#ffce9e\" opacity=\"1.0\" /><rect x=\"48\" y=\"96\" width=\"16\" height=\"16\" class=\"square dark\" stroke=\"none\" fill=\"#d18b47\" opacity=\"1.0\" /><rect x=\"48\" y=\"112\" width=\"16\" height=\"16\" class=\"square light\" stroke=\"none\" fill=\"#ffce9e\" opacity=\"1.0\" /><rect x=\"48\" y=\"128\" width=\"16\" height=\"16\" class=\"square dark\" stroke=\"none\" fill=\"#d18b47\" opacity=\"1.0\" /><rect x=\"64\" y=\"0\" width=\"16\" height=\"16\" class=\"square light\" stroke=\"none\" fill=\"#ffce9e\" opacity=\"1.0\" /><rect x=\"64\" y=\"16\" width=\"16\" height=\"16\" class=\"square dark\" stroke=\"none\" fill=\"#d18b47\" opacity=\"1.0\" /><rect x=\"64\" y=\"32\" width=\"16\" height=\"16\" class=\"square light\" stroke=\"none\" fill=\"#ffce9e\" opacity=\"1.0\" /><rect x=\"64\" y=\"48\" width=\"16\" height=\"16\" class=\"square dark\" stroke=\"none\" fill=\"#d18b47\" opacity=\"1.0\" /><rect x=\"64\" y=\"64\" width=\"16\" height=\"16\" class=\"square light\" stroke=\"none\" fill=\"#ffce9e\" opacity=\"1.0\" /><rect x=\"64\" y=\"80\" width=\"16\" height=\"16\" class=\"square dark\" stroke=\"none\" fill=\"#d18b47\" opacity=\"1.0\" /><rect x=\"64\" y=\"96\" width=\"16\" height=\"16\" class=\"square light\" stroke=\"none\" fill=\"#ffce9e\" opacity=\"1.0\" /><rect x=\"64\" y=\"112\" width=\"16\" height=\"16\" class=\"square dark\" stroke=\"none\" fill=\"#d18b47\" opacity=\"1.0\" /><rect x=\"64\" y=\"128\" width=\"16\" height=\"16\" class=\"square light\" stroke=\"none\" fill=\"#ffce9e\" opacity=\"1.0\" /><rect x=\"80\" y=\"0\" width=\"16\" height=\"16\" class=\"square dark\" stroke=\"none\" fill=\"#d18b47\" opacity=\"1.0\" /><rect x=\"80\" y=\"16\" width=\"16\" height=\"16\" class=\"square light\" stroke=\"none\" fill=\"#ffce9e\" opacity=\"1.0\" /><rect x=\"80\" y=\"32\" width=\"16\" height=\"16\" class=\"square dark\" stroke=\"none\" fill=\"#d18b47\" opacity=\"1.0\" /><rect x=\"80\" y=\"48\" width=\"16\" height=\"16\" class=\"square light\" stroke=\"none\" fill=\"#ffce9e\" opacity=\"1.0\" /><rect x=\"80\" y=\"64\" width=\"16\" height=\"16\" class=\"square dark\" stroke=\"none\" fill=\"#d18b47\" opacity=\"1.0\" /><rect x=\"80\" y=\"80\" width=\"16\" height=\"16\" class=\"square light\" stroke=\"none\" fill=\"#ffce9e\" opacity=\"1.0\" /><rect x=\"80\" y=\"96\" width=\"16\" height=\"16\" class=\"square dark\" stroke=\"none\" fill=\"#d18b47\" opacity=\"1.0\" /><rect x=\"80\" y=\"112\" width=\"16\" height=\"16\" class=\"square light\" stroke=\"none\" fill=\"#ffce9e\" opacity=\"1.0\" /><rect x=\"80\" y=\"128\" width=\"16\" height=\"16\" class=\"square dark\" stroke=\"none\" fill=\"#d18b47\" opacity=\"1.0\" /><rect x=\"96\" y=\"0\" width=\"16\" height=\"16\" class=\"square light\" stroke=\"none\" fill=\"#ffce9e\" opacity=\"1.0\" /><rect x=\"96\" y=\"16\" width=\"16\" height=\"16\" class=\"square dark\" stroke=\"none\" fill=\"#d18b47\" opacity=\"1.0\" /><rect x=\"96\" y=\"32\" width=\"16\" height=\"16\" class=\"square light\" stroke=\"none\" fill=\"#ffce9e\" opacity=\"1.0\" /><rect x=\"96\" y=\"48\" width=\"16\" height=\"16\" class=\"square dark\" stroke=\"none\" fill=\"#d18b47\" opacity=\"1.0\" /><rect x=\"96\" y=\"64\" width=\"16\" height=\"16\" class=\"square light\" stroke=\"none\" fill=\"#ffce9e\" opacity=\"1.0\" /><rect x=\"96\" y=\"80\" width=\"16\" height=\"16\" class=\"square dark\" stroke=\"none\" fill=\"#d18b47\" opacity=\"1.0\" /><rect x=\"96\" y=\"96\" width=\"16\" height=\"16\" class=\"square light\" stroke=\"none\" fill=\"#ffce9e\" opacity=\"1.0\" /><rect x=\"96\" y=\"112\" width=\"16\" height=\"16\" class=\"square dark\" stroke=\"none\" fill=\"#d18b47\" opacity=\"1.0\" /><rect x=\"96\" y=\"128\" width=\"16\" height=\"16\" class=\"square light\" stroke=\"none\" fill=\"#ffce9e\" opacity=\"1.0\" /><rect x=\"112\" y=\"0\" width=\"16\" height=\"16\" class=\"square dark\" stroke=\"none\" fill=\"#d18b47\" opacity=\"1.0\" /><rect x=\"112\" y=\"16\" width=\"16\" height=\"16\" class=\"square light\" stroke=\"none\" fill=\"#ffce9e\" opacity=\"1.0\" /><rect x=\"112\" y=\"32\" width=\"16\" height=\"16\" class=\"square dark\" stroke=\"none\" fill=\"#d18b47\" opacity=\"1.0\" /><rect x=\"112\" y=\"48\" width=\"16\" height=\"16\" class=\"square light\" stroke=\"none\" fill=\"#ffce9e\" opacity=\"1.0\" /><rect x=\"112\" y=\"64\" width=\"16\" height=\"16\" class=\"square dark\" stroke=\"none\" fill=\"#d18b47\" opacity=\"1.0\" /><rect x=\"112\" y=\"80\" width=\"16\" height=\"16\" class=\"square light\" stroke=\"none\" fill=\"#ffce9e\" opacity=\"1.0\" /><rect x=\"112\" y=\"96\" width=\"16\" height=\"16\" class=\"square dark\" stroke=\"none\" fill=\"#d18b47\" opacity=\"1.0\" /><rect x=\"112\" y=\"112\" width=\"16\" height=\"16\" class=\"square light\" stroke=\"none\" fill=\"#ffce9e\" opacity=\"1.0\" /><rect x=\"112\" y=\"128\" width=\"16\" height=\"16\" class=\"square dark\" stroke=\"none\" fill=\"#d18b47\" opacity=\"1.0\" /><rect x=\"128\" y=\"0\" width=\"16\" height=\"16\" class=\"square light\" stroke=\"none\" fill=\"#ffce9e\" opacity=\"1.0\" /><rect x=\"128\" y=\"16\" width=\"16\" height=\"16\" class=\"square dark\" stroke=\"none\" fill=\"#d18b47\" opacity=\"1.0\" /><rect x=\"128\" y=\"32\" width=\"16\" height=\"16\" class=\"square light\" stroke=\"none\" fill=\"#ffce9e\" opacity=\"1.0\" /><rect x=\"128\" y=\"48\" width=\"16\" height=\"16\" class=\"square dark\" stroke=\"none\" fill=\"#d18b47\" opacity=\"1.0\" /><rect x=\"128\" y=\"64\" width=\"16\" height=\"16\" class=\"square light\" stroke=\"none\" fill=\"#ffce9e\" opacity=\"1.0\" /><rect x=\"128\" y=\"80\" width=\"16\" height=\"16\" class=\"square dark\" stroke=\"none\" fill=\"#d18b47\" opacity=\"1.0\" /><rect x=\"128\" y=\"96\" width=\"16\" height=\"16\" class=\"square light\" stroke=\"none\" fill=\"#ffce9e\" opacity=\"1.0\" /><rect x=\"128\" y=\"112\" width=\"16\" height=\"16\" class=\"square dark\" stroke=\"none\" fill=\"#d18b47\" opacity=\"1.0\" /><rect x=\"128\" y=\"128\" width=\"16\" height=\"16\" class=\"square light\" stroke=\"none\" fill=\"#ffce9e\" opacity=\"1.0\" /><use href=\"#white-queen\" xlink:href=\"#white-queen\" transform=\"translate(96, 0) scale(0.355556)\" /><use href=\"#white-queen\" xlink:href=\"#white-queen\" transform=\"translate(16, 16) scale(0.355556)\" /><use href=\"#white-queen\" xlink:href=\"#white-queen\" transform=\"translate(48, 32) scale(0.355556)\" /><use href=\"#white-queen\" xlink:href=\"#white-queen\" transform=\"translate(80, 48) scale(0.355556)\" /><use href=\"#white-queen\" xlink:href=\"#white-queen\" transform=\"translate(0, 64) scale(0.355556)\" /><use href=\"#white-queen\" xlink:href=\"#white-queen\" transform=\"translate(32, 80) scale(0.355556)\" /><use href=\"#white-queen\" xlink:href=\"#white-queen\" transform=\"translate(64, 96) scale(0.355556)\" /><use href=\"#white-queen\" xlink:href=\"#white-queen\" transform=\"translate(128, 112) scale(0.355556)\" /><use href=\"#white-queen\" xlink:href=\"#white-queen\" transform=\"translate(112, 128) scale(0.355556)\" /></svg></div>"
      ],
      "text/plain": [
       "<chess_problem_visuals.board.Board at 0x1407cec50>"
      ]
     },
     "execution_count": 15,
     "metadata": {},
     "output_type": "execute_result"
    }
   ],
   "source": [
    "show_solution(Solution2, 9, \"40%\")"
   ]
  },
  {
   "cell_type": "code",
   "execution_count": null,
   "metadata": {},
   "outputs": [],
   "source": []
  }
 ],
 "metadata": {
  "kernelspec": {
   "display_name": "Python 3 (ipykernel)",
   "language": "python",
   "name": "python3"
  },
  "language_info": {
   "codemirror_mode": {
    "name": "ipython",
    "version": 3
   },
   "file_extension": ".py",
   "mimetype": "text/x-python",
   "name": "python",
   "nbconvert_exporter": "python",
   "pygments_lexer": "ipython3",
   "version": "3.11.7"
  },
  "toc": {
   "base_numbering": 1,
   "nav_menu": {},
   "number_sections": true,
   "sideBar": false,
   "skip_h1_title": false,
   "title_cell": "Table of Contents",
   "title_sidebar": "Contents",
   "toc_cell": false,
   "toc_position": {
    "height": "calc(100% - 180px)",
    "left": "10px",
    "top": "150px",
    "width": "165px"
   },
   "toc_section_display": false,
   "toc_window_display": false
  },
  "varInspector": {
   "cols": {
    "lenName": 16,
    "lenType": 16,
    "lenVar": 40
   },
   "kernels_config": {
    "python": {
     "delete_cmd_postfix": "",
     "delete_cmd_prefix": "del ",
     "library": "var_list.py",
     "varRefreshCmd": "print(var_dic_list())"
    },
    "r": {
     "delete_cmd_postfix": ") ",
     "delete_cmd_prefix": "rm(",
     "library": "var_list.r",
     "varRefreshCmd": "cat(var_dic_list()) "
    }
   },
   "types_to_exclude": [
    "module",
    "function",
    "builtin_function_or_method",
    "instance",
    "_Feature"
   ],
   "window_display": false
  }
 },
 "nbformat": 4,
 "nbformat_minor": 2
}
