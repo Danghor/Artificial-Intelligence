{
 "cells": [
  {
   "cell_type": "code",
   "execution_count": null,
   "metadata": {},
   "outputs": [],
   "source": [
    "from IPython.display import HTML, SVG\n",
    "HTML(open('../style.css').read())"
   ]
  },
  {
   "cell_type": "code",
   "execution_count": null,
   "metadata": {},
   "outputs": [],
   "source": [
    "%load_ext nb_mypy"
   ]
  },
  {
   "cell_type": "markdown",
   "metadata": {},
   "source": [
    "# Nim"
   ]
  },
  {
   "cell_type": "markdown",
   "metadata": {},
   "source": [
    "This notebook defines a solver for the game [Nim](https://en.wikipedia.org/wiki/Nim).\n",
    "The particular instance of Nim that you are going to implement in this notebook works as shown below:\n",
    "<img src=\"NimGame.svg\"  width=\"200\">\n",
    "\n",
    "The game works as follows:\n",
    " * There are four rows of matches:\n",
    "   - the first  row contains 1 match,\n",
    "   - the second row contains 3 matches,\n",
    "   - the third  row contains 5 matches, and\n",
    "   - the fourth row contains 7 matches.\n",
    " * The player whose turn it is first selects a line.  \n",
    "   Then he takes any number of matches from this line.\n",
    " * The player that takes the last match has won the game. "
   ]
  },
  {
   "cell_type": "markdown",
   "metadata": {},
   "source": [
    "`Board` is a type alias for a list of `int` values. `Row` represents the number of a row of the board."
   ]
  },
  {
   "cell_type": "code",
   "execution_count": null,
   "metadata": {},
   "outputs": [],
   "source": [
    "Board = list[int]\n",
    "Row   = int\n",
    "Move  = tuple[Row, int]"
   ]
  },
  {
   "cell_type": "markdown",
   "metadata": {},
   "source": [
    "`gSize` is a global variable that defines the number of rows."
   ]
  },
  {
   "cell_type": "code",
   "execution_count": null,
   "metadata": {},
   "outputs": [],
   "source": [
    "gSize = 8"
   ]
  },
  {
   "cell_type": "markdown",
   "metadata": {},
   "source": [
    "The function `move(b, r, n)` creates a new board by taking `n` matches from\n",
    "row `r` on the board `b` and returns the resulting board."
   ]
  },
  {
   "cell_type": "markdown",
   "metadata": {},
   "source": [
    "```\n",
    "isWinning :: Int -> Int -> Bool\n",
    "isWinning s n = 0 <= n ⊕ s && n ⊕ s < n\n",
    "\n",
    "-- all wining moves for the board `b`\n",
    "winningMoves :: Board -> [(Int, Int)]\n",
    "winningMoves b = [ (r, n - n ⊕ s) | (r, n) <- zip [1..] b, isWinning s n ]\n",
    "  where s = nimSum b\n",
    "```"
   ]
  },
  {
   "cell_type": "code",
   "execution_count": null,
   "metadata": {},
   "outputs": [],
   "source": [
    "def move(b: Board, r: Row, n: int) -> Board:\n",
    "    assert n <= b[r], \"computer takes more matches than are available\"\n",
    "    return b[:r] + [b[r] - n] + b[r+1:]"
   ]
  },
  {
   "cell_type": "markdown",
   "metadata": {},
   "source": [
    "Check whether there is a winning move for a row containing `n` matches.\n",
    "The parameter `s` is the *xor* sum of the current board."
   ]
  },
  {
   "cell_type": "code",
   "execution_count": null,
   "metadata": {},
   "outputs": [],
   "source": [
    "def is_winning(s: int, n: int) -> bool:\n",
    "    return 0 <= n ^ s < n"
   ]
  },
  {
   "cell_type": "markdown",
   "metadata": {},
   "source": [
    "Compute the Nim sum of the board."
   ]
  },
  {
   "cell_type": "code",
   "execution_count": null,
   "metadata": {},
   "outputs": [],
   "source": [
    "def nim_sum(b: Board) -> int:\n",
    "    if b == []:\n",
    "        return 0\n",
    "    return b[0] ^ nim_sum(b[1:])"
   ]
  },
  {
   "cell_type": "markdown",
   "metadata": {},
   "source": [
    "Return a list of all winning moves for the board `b`.  A *move* is represented as a pair `(r, n)`\n",
    "where `n` matches are taken from row `r`."
   ]
  },
  {
   "cell_type": "code",
   "execution_count": null,
   "metadata": {},
   "outputs": [],
   "source": [
    "def winning_moves(b: Board) -> list[Move]:\n",
    "    s = nim_sum(b)\n",
    "    return [(r, n - (n ^ s)) for r, n in enumerate(b) if is_winning(s, n)]"
   ]
  },
  {
   "cell_type": "code",
   "execution_count": null,
   "metadata": {},
   "outputs": [],
   "source": [
    "winning_moves([1, 2, 3, 4, 5, 6, 7, 8])"
   ]
  },
  {
   "cell_type": "markdown",
   "metadata": {},
   "source": [
    "Given a board `b` with no possible winning moves, this function returns \n",
    "the first legal move."
   ]
  },
  {
   "cell_type": "code",
   "execution_count": null,
   "metadata": {},
   "outputs": [],
   "source": [
    "def any_move(b: Board) -> Move:\n",
    "    for r, n in enumerate(b):\n",
    "        if n > 0:\n",
    "            return (r, 1) \n",
    "    return None # type: ignore"
   ]
  },
  {
   "cell_type": "markdown",
   "metadata": {},
   "source": [
    "Return an optimal move for the given board `b`."
   ]
  },
  {
   "cell_type": "code",
   "execution_count": null,
   "metadata": {},
   "outputs": [],
   "source": [
    "def best_move(b: Board) -> Move:\n",
    "    WM = winning_moves(b)\n",
    "    if WM != []:\n",
    "        return WM[0]\n",
    "    return any_move(b)"
   ]
  },
  {
   "cell_type": "markdown",
   "metadata": {},
   "source": [
    "# Input / Output"
   ]
  },
  {
   "cell_type": "code",
   "execution_count": null,
   "metadata": {},
   "outputs": [],
   "source": [
    "def print_board(b: Board):\n",
    "    for i, r in enumerate(b):\n",
    "        print(f'{i}: {\"* \" * r}')\n",
    "    print(f\"Current Nim sum: {nim_sum(b)} = 0b{nim_sum(b):04b}\")"
   ]
  },
  {
   "cell_type": "code",
   "execution_count": null,
   "metadata": {},
   "outputs": [],
   "source": [
    "print_board([1,2,3,4,5,6,7,8])"
   ]
  },
  {
   "cell_type": "markdown",
   "metadata": {},
   "source": [
    "The following forward declaration is needed by the type checker."
   ]
  },
  {
   "cell_type": "code",
   "execution_count": null,
   "metadata": {},
   "outputs": [],
   "source": [
    "def play_computer(b: Board) -> None:\n",
    "    pass"
   ]
  },
  {
   "cell_type": "markdown",
   "metadata": {},
   "source": [
    "Ask the human player to make a move."
   ]
  },
  {
   "cell_type": "code",
   "execution_count": null,
   "metadata": {},
   "outputs": [],
   "source": [
    "def play_human(b: Board) -> None:\n",
    "    print_board(b)\n",
    "    r = -1 \n",
    "    while r < 0:\n",
    "        pair = input(\"\\nEnter your move in the format (row, number): \")\n",
    "        r, n = map(int, pair.strip(\"()\").split(\",\"))\n",
    "        if b[r] >= n:\n",
    "            break\n",
    "        print(f\"Too few matches in row {r}. Try again.\")        \n",
    "    b = move(b, r, n)\n",
    "    if sum(b) == 0:\n",
    "        print_board(b)\n",
    "        print(\"The human player has won!\\n\")\n",
    "    else:\n",
    "        play_computer(b)"
   ]
  },
  {
   "cell_type": "markdown",
   "metadata": {},
   "source": [
    "Let the computer make a move on the given board."
   ]
  },
  {
   "cell_type": "code",
   "execution_count": null,
   "metadata": {},
   "outputs": [],
   "source": [
    "def play_computer(b: Board) -> None:\n",
    "    print_board(b)\n",
    "    r, n = best_move(b)\n",
    "    print(f\"The computer takes {n} matches from row {r}.\")\n",
    "    b = move(b, r, n)\n",
    "    if sum(b) == 0:\n",
    "        print(\"The computer has won!\\n\")\n",
    "        print_board(b)\n",
    "    else:\n",
    "        play_human(b)"
   ]
  },
  {
   "cell_type": "markdown",
   "metadata": {},
   "source": [
    "Function to start the game."
   ]
  },
  {
   "cell_type": "code",
   "execution_count": null,
   "metadata": {},
   "outputs": [],
   "source": [
    "def main():\n",
    "    play_human(list(range(1, gSize + 1)))    "
   ]
  },
  {
   "cell_type": "code",
   "execution_count": null,
   "metadata": {
    "scrolled": false
   },
   "outputs": [],
   "source": [
    "main()"
   ]
  },
  {
   "cell_type": "code",
   "execution_count": null,
   "metadata": {},
   "outputs": [],
   "source": []
  }
 ],
 "metadata": {
  "kernelspec": {
   "display_name": "Python 3 (ipykernel)",
   "language": "python",
   "name": "python3"
  },
  "language_info": {
   "codemirror_mode": {
    "name": "ipython",
    "version": 3
   },
   "file_extension": ".py",
   "mimetype": "text/x-python",
   "name": "python",
   "nbconvert_exporter": "python",
   "pygments_lexer": "ipython3",
   "version": "3.12.2"
  },
  "toc": {
   "base_numbering": 1,
   "nav_menu": {},
   "number_sections": true,
   "sideBar": true,
   "skip_h1_title": false,
   "title_cell": "Table of Contents",
   "title_sidebar": "Contents",
   "toc_cell": false,
   "toc_position": {},
   "toc_section_display": true,
   "toc_window_display": false
  },
  "varInspector": {
   "cols": {
    "lenName": 16,
    "lenType": 16,
    "lenVar": 40
   },
   "kernels_config": {
    "python": {
     "delete_cmd_postfix": "",
     "delete_cmd_prefix": "del ",
     "library": "var_list.py",
     "varRefreshCmd": "print(var_dic_list())"
    },
    "r": {
     "delete_cmd_postfix": ") ",
     "delete_cmd_prefix": "rm(",
     "library": "var_list.r",
     "varRefreshCmd": "cat(var_dic_list()) "
    }
   },
   "types_to_exclude": [
    "module",
    "function",
    "builtin_function_or_method",
    "instance",
    "_Feature"
   ],
   "window_display": false
  }
 },
 "nbformat": 4,
 "nbformat_minor": 2
}
