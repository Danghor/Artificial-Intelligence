{
 "cells": [
  {
   "cell_type": "code",
   "execution_count": 1,
   "metadata": {},
   "outputs": [
    {
     "data": {
      "text/html": [
       "<link href='http://fonts.googleapis.com/css?family=Alegreya+Sans:100,300,400,500,700,800,900,100italic,300italic,400italic,500italic,700italic,800italic,900italic' rel='stylesheet' type='text/css'>\n",
       "<link href='http://fonts.googleapis.com/css?family=Arvo:400,700,400italic' rel='stylesheet' type='text/css'>\n",
       "<link href='http://fonts.googleapis.com/css?family=PT+Mono' rel='stylesheet' type='text/css'>\n",
       "<link href='http://fonts.googleapis.com/css?family=Shadows+Into+Light' rel='stylesheet' type='text/css'>\n",
       "<link href='http://fonts.googleapis.com/css?family=Philosopher:400,700,400italic,700italic' rel='stylesheet' type='text/css'>\n",
       "<link href=\"http://fonts.googleapis.com/css?family=Sacramento\" rel=\"stylesheet\" type=\"text/css\">\n",
       "\n",
       "<style>\n",
       "\n",
       "@font-face {\n",
       "    font-family: \"Computer Modern\";\n",
       "    src: url('http://mirrors.ctan.org/fonts/cm-unicode/fonts/otf/cmunss.otf');\n",
       "}\n",
       "\n",
       ".container { width: 100% }\n",
       "\n",
       "/* Formatting for header cells */\n",
       ".text_cell_render h1 {\n",
       "    font-family: 'Philosopher', sans-serif;\n",
       "    font-weight: 400;\n",
       "    font-size: 2.2em;\n",
       "    line-height: 100%;\n",
       "    color: rgb(0, 80, 120);\n",
       "    margin-bottom: 0.1em;\n",
       "    margin-top: 0.1em;\n",
       "    display: block;\n",
       "}\t\n",
       ".text_cell_render h2 {\n",
       "    font-family: 'Philosopher', serif;\n",
       "    font-weight: 400;\n",
       "    font-size: 1.9em;\n",
       "    line-height: 100%;\n",
       "    color: rgb(200,100,0);\n",
       "    margin-bottom: 0.1em;\n",
       "    margin-top: 0.1em;\n",
       "    display: block;\n",
       "}\t\n",
       "\n",
       ".text_cell_render h3 {\n",
       "    font-family: 'Philosopher', serif;\n",
       "    margin-top:12px;\n",
       "    margin-bottom: 3px;\n",
       "    font-style: italic;\n",
       "    color: rgb(94,127,192);\n",
       "}\n",
       "\n",
       ".text_cell_render h4 {\n",
       "    font-family: 'Philosopher', serif;\n",
       "}\n",
       "\n",
       ".text_cell_render h5 {\n",
       "    font-family: 'Alegreya Sans', sans-serif;\n",
       "    font-weight: 300;\n",
       "    font-size: 16pt;\n",
       "    color: grey;\n",
       "    font-style: italic;\n",
       "    margin-bottom: .1em;\n",
       "    margin-top: 0.1em;\n",
       "    display: block;\n",
       "}\n",
       "\n",
       ".text_cell_render h6 {\n",
       "    font-family: 'PT Mono', sans-serif;\n",
       "    font-weight: 300;\n",
       "    font-size: 10pt;\n",
       "    color: grey;\n",
       "    margin-bottom: 1px;\n",
       "    margin-top: 1px;\n",
       "}\n",
       "\n",
       ".text_cell_render em {\n",
       "    font-family: 'Philosopher', sans-serif;\n",
       "    color:        blue;\n",
       "    background-color: rgb(255,220,180);\n",
       "    font-size:    110%;\n",
       "    margin-left:   2px;\n",
       "    margin-right:  2px;\n",
       "    font-weight:   100;\n",
       "}\n",
       "\n",
       ".text_cell_render b {\n",
       "    color:            rgb(255,195,195);\n",
       "    background-color: rgb(0,0,0);\n",
       "    font-size:    110%;\n",
       "    margin-left:   2px;\n",
       "    margin-right:  2px;\n",
       "    font-weight:   650;\n",
       "}\n",
       "\n",
       ".text_cell_render u {\n",
       "    color:            blue;\n",
       "    font-size:    110%;\n",
       "    margin-left:   2px;\n",
       "    margin-right:  2px;\n",
       "    font-weight:   650;\n",
       "}\n",
       "\n",
       ".text_cell_render tt {\n",
       "    font-size:    120%;\n",
       "    margin-left:   2px;\n",
       "    margin-right:  2px;\n",
       "    font-weight:   150;\n",
       "}\n",
       "\n",
       ".Codemirror {\n",
       "    font-family: \"PT Mono\";\n",
       "    font-size: 100%;\n",
       "}\n",
       "\n",
       "#fancy {\n",
       "    font-family:      Georgia;\n",
       "    position:         relative;\n",
       "    float:            left;\n",
       "    border:           2px solid red;\n",
       "    width:            600px;\n",
       "    padding-left:     20px;\n",
       "    padding-right:    20px;\n",
       "    padding-top:      10px;\n",
       "    font-family:      'Sacramento', cursive;\n",
       "    font-size:        26px;\n",
       "    background-color: #F4EBF3;\n",
       "    border-radius:    15px;\n",
       "}\n",
       "\n",
       "</Style>\n",
       "\n"
      ],
      "text/plain": [
       "<IPython.core.display.HTML object>"
      ]
     },
     "execution_count": 1,
     "metadata": {},
     "output_type": "execute_result"
    }
   ],
   "source": [
    "from IPython.core.display import HTML\n",
    "with open('../style.css') as f:\n",
    "    css = f.read()\n",
    "HTML(css)"
   ]
  },
  {
   "cell_type": "code",
   "execution_count": 2,
   "metadata": {},
   "outputs": [
    {
     "name": "stderr",
     "output_type": "stream",
     "text": [
      "Version 1.0.5\n"
     ]
    }
   ],
   "source": [
    "%load_ext nb_mypy"
   ]
  },
  {
   "cell_type": "code",
   "execution_count": 3,
   "metadata": {},
   "outputs": [],
   "source": [
    "from typing import Callable"
   ]
  },
  {
   "cell_type": "code",
   "execution_count": 4,
   "metadata": {},
   "outputs": [],
   "source": [
    "Row   = tuple[str, ...]\n",
    "State = tuple[Row, ...]"
   ]
  },
  {
   "cell_type": "markdown",
   "metadata": {},
   "source": [
    "# Connect Four"
   ]
  },
  {
   "cell_type": "markdown",
   "metadata": {},
   "source": [
    "This notebook defines the game [Connect Four](https://en.wikipedia.org/wiki/Connect_Four).\n",
    "Connect Four is played on a board of dimension $6 \\times 7$, i.e. there are $6$ rows and $7$ columns.  Instead of `Red` and `Yellow` we call the players `X` and `O`.  Player `X` starts.  Player `X` and `O` take turns to choose columns that are not yet filled.  When player `X` chooses column `c`,  the first non-empty field in column `c` is filled with an `'X'`.  Likewise, when player `O` chooses column `c`,  the first non-empty field in column `c` is filled with an `'O'`.  Rows are numbered from the bottom up, i.e. the bottom row is row $0$.  The goal of the game for player `X` is to get four consecutive `'X's` into a row, column, or diagonal line, while player `O` needs to get four consecutive `'O's` into a row, column, or diagonal line."
   ]
  },
  {
   "cell_type": "code",
   "execution_count": 5,
   "metadata": {},
   "outputs": [],
   "source": [
    "gPlayers = [ 'X', 'O' ]"
   ]
  },
  {
   "cell_type": "markdown",
   "metadata": {},
   "source": [
    "States are represented as tuples of tuples.  The game starts with an empty board.  An empty field on the board is represented as the string `' '`."
   ]
  },
  {
   "cell_type": "code",
   "execution_count": 6,
   "metadata": {},
   "outputs": [
    {
     "data": {
      "text/plain": [
       "((' ', ' ', ' ', ' ', ' ', ' ', ' '),\n",
       " (' ', ' ', ' ', ' ', ' ', ' ', ' '),\n",
       " (' ', ' ', ' ', ' ', ' ', ' ', ' '),\n",
       " (' ', ' ', ' ', ' ', ' ', ' ', ' '),\n",
       " (' ', ' ', ' ', ' ', ' ', ' ', ' '),\n",
       " (' ', ' ', ' ', ' ', ' ', ' ', ' '))"
      ]
     },
     "execution_count": 6,
     "metadata": {},
     "output_type": "execute_result"
    }
   ],
   "source": [
    "gStart: State = tuple( tuple(' ' for col in range(7)) for row in range(6))\n",
    "gStart"
   ]
  },
  {
   "cell_type": "code",
   "execution_count": 7,
   "metadata": {},
   "outputs": [],
   "source": [
    "def toString(S: State) -> str:\n",
    "    result = ''\n",
    "    for row in S:\n",
    "        line = '|'\n",
    "        for element in row:\n",
    "            if element == ' ':\n",
    "                line += '⬜|'\n",
    "            elif element == 'X':\n",
    "                line += '🔴|'\n",
    "            elif element == 'O':\n",
    "                line += '🔵|'\n",
    "        result = line + '\\n' + result\n",
    "    return result"
   ]
  },
  {
   "cell_type": "code",
   "execution_count": 8,
   "metadata": {},
   "outputs": [
    {
     "name": "stdout",
     "output_type": "stream",
     "text": [
      "|⬜|⬜|⬜|⬜|⬜|⬜|⬜|\n",
      "|⬜|⬜|⬜|⬜|⬜|⬜|⬜|\n",
      "|⬜|⬜|⬜|⬜|⬜|⬜|⬜|\n",
      "|⬜|⬜|⬜|⬜|⬜|⬜|⬜|\n",
      "|⬜|⬜|⬜|⬜|⬜|⬜|⬜|\n",
      "|⬜|⬜|⬜|⬜|⬜|⬜|⬜|\n",
      "\n"
     ]
    }
   ],
   "source": [
    "print(toString(gStart))"
   ]
  },
  {
   "cell_type": "code",
   "execution_count": 9,
   "metadata": {},
   "outputs": [
    {
     "name": "stdout",
     "output_type": "stream",
     "text": [
      "|⬜|⬜|⬜|🔵|⬜|⬜|⬜|\n",
      "|⬜|⬜|🔵|🔵|🔴|⬜|⬜|\n",
      "|⬜|⬜|🔴|🔵|🔵|🔵|⬜|\n",
      "|⬜|⬜|🔵|🔴|🔴|🔴|⬜|\n",
      "|🔴|🔵|🔴|🔵|🔴|🔵|⬜|\n",
      "|🔴|🔴|🔵|🔴|🔴|🔵|⬜|\n",
      "\n"
     ]
    }
   ],
   "source": [
    "R1 = ('X', 'X', 'O', 'X', 'X', 'O', ' ')\n",
    "R2 = ('X', 'O', 'X', 'O', 'X', 'O', ' ')\n",
    "R3 = (' ', ' ', 'O', 'X', 'X', 'X', ' ')\n",
    "R4 = (' ', ' ', 'X', 'O', 'O', 'O', ' ')\n",
    "R5 = (' ', ' ', 'O', 'O', 'X', ' ', ' ')\n",
    "R6 = (' ', ' ', ' ', 'O', ' ', ' ', ' ')\n",
    "gTestState = (R1, R2, R3, R4, R5, R6)\n",
    "print(toString(gTestState))"
   ]
  },
  {
   "cell_type": "markdown",
   "metadata": {},
   "source": [
    "The function `to_list` transforms a tuple of tuples into a list of lists."
   ]
  },
  {
   "cell_type": "code",
   "execution_count": 10,
   "metadata": {},
   "outputs": [],
   "source": [
    "def to_list(S: State) -> list[list[str]]: \n",
    "    return [list(row) for row in S]"
   ]
  },
  {
   "cell_type": "markdown",
   "metadata": {},
   "source": [
    "The function `to_tuple` transforms a list of lists into a tuple of tuples."
   ]
  },
  {
   "cell_type": "code",
   "execution_count": 11,
   "metadata": {},
   "outputs": [],
   "source": [
    "def to_tuple(S: list[list[str]]) -> State: \n",
    "    return tuple(tuple(row) for row in S)"
   ]
  },
  {
   "cell_type": "markdown",
   "metadata": {},
   "source": [
    "The function `find_empty` takes two arguments:\n",
    "- `State` is a description of the board,\n",
    "- `col`   specifies a column, i.e. it is an integer from the set $\\{0, \\cdots, 6\\}$.\n",
    "\n",
    "Given the `State` the function `find_empty(State, col)` returns the smallest $\\texttt{row} \\in \\{0, \\cdots, 5\\}$ such that \n",
    "\n",
    "```\n",
    "    State[row][col] == ' '\n",
    "```\n",
    "holds.  If the specified column is already completely filled, then instead `None` is returned."
   ]
  },
  {
   "cell_type": "code",
   "execution_count": 12,
   "metadata": {},
   "outputs": [],
   "source": [
    "def find_empty(S: State, col: int) -> int | None:\n",
    "    for row in range(5+1):\n",
    "        if S[row][col] == ' ':\n",
    "            return row\n",
    "    return None"
   ]
  },
  {
   "cell_type": "markdown",
   "metadata": {},
   "source": [
    "Given a `State` and the `player` who has the next move, the function `next_states(State, player)` computes the list of states that can be reached from `State`."
   ]
  },
  {
   "cell_type": "code",
   "execution_count": 14,
   "metadata": {},
   "outputs": [],
   "source": [
    "def next_states(S: State, player: str) -> list[State]:\n",
    "    Empty = [(row, col) for col in range(6+1) \n",
    "                        if ((row := find_empty(S, col)) != None)]\n",
    "    Result = []\n",
    "    for (row, col) in Empty: \n",
    "        NextState           = to_list(S)\n",
    "        NextState[row][col] = player # type: ignore\n",
    "        NextState           = to_tuple(NextState)\n",
    "        Result.append(NextState)\n",
    "    return Result"
   ]
  },
  {
   "cell_type": "code",
   "execution_count": 15,
   "metadata": {},
   "outputs": [
    {
     "name": "stdout",
     "output_type": "stream",
     "text": [
      "|⬜|⬜|⬜|🔵|⬜|⬜|⬜|\n",
      "|⬜|⬜|🔵|🔵|🔴|⬜|⬜|\n",
      "|⬜|⬜|🔴|🔵|🔵|🔵|⬜|\n",
      "|🔴|⬜|🔵|🔴|🔴|🔴|⬜|\n",
      "|🔴|🔵|🔴|🔵|🔴|🔵|⬜|\n",
      "|🔴|🔴|🔵|🔴|🔴|🔵|⬜|\n",
      "\n",
      "|⬜|⬜|⬜|🔵|⬜|⬜|⬜|\n",
      "|⬜|⬜|🔵|🔵|🔴|⬜|⬜|\n",
      "|⬜|⬜|🔴|🔵|🔵|🔵|⬜|\n",
      "|⬜|🔴|🔵|🔴|🔴|🔴|⬜|\n",
      "|🔴|🔵|🔴|🔵|🔴|🔵|⬜|\n",
      "|🔴|🔴|🔵|🔴|🔴|🔵|⬜|\n",
      "\n",
      "|⬜|⬜|🔴|🔵|⬜|⬜|⬜|\n",
      "|⬜|⬜|🔵|🔵|🔴|⬜|⬜|\n",
      "|⬜|⬜|🔴|🔵|🔵|🔵|⬜|\n",
      "|⬜|⬜|🔵|🔴|🔴|🔴|⬜|\n",
      "|🔴|🔵|🔴|🔵|🔴|🔵|⬜|\n",
      "|🔴|🔴|🔵|🔴|🔴|🔵|⬜|\n",
      "\n",
      "|⬜|⬜|⬜|🔵|🔴|⬜|⬜|\n",
      "|⬜|⬜|🔵|🔵|🔴|⬜|⬜|\n",
      "|⬜|⬜|🔴|🔵|🔵|🔵|⬜|\n",
      "|⬜|⬜|🔵|🔴|🔴|🔴|⬜|\n",
      "|🔴|🔵|🔴|🔵|🔴|🔵|⬜|\n",
      "|🔴|🔴|🔵|🔴|🔴|🔵|⬜|\n",
      "\n",
      "|⬜|⬜|⬜|🔵|⬜|⬜|⬜|\n",
      "|⬜|⬜|🔵|🔵|🔴|🔴|⬜|\n",
      "|⬜|⬜|🔴|🔵|🔵|🔵|⬜|\n",
      "|⬜|⬜|🔵|🔴|🔴|🔴|⬜|\n",
      "|🔴|🔵|🔴|🔵|🔴|🔵|⬜|\n",
      "|🔴|🔴|🔵|🔴|🔴|🔵|⬜|\n",
      "\n",
      "|⬜|⬜|⬜|🔵|⬜|⬜|⬜|\n",
      "|⬜|⬜|🔵|🔵|🔴|⬜|⬜|\n",
      "|⬜|⬜|🔴|🔵|🔵|🔵|⬜|\n",
      "|⬜|⬜|🔵|🔴|🔴|🔴|⬜|\n",
      "|🔴|🔵|🔴|🔵|🔴|🔵|⬜|\n",
      "|🔴|🔴|🔵|🔴|🔴|🔵|🔴|\n",
      "\n"
     ]
    }
   ],
   "source": [
    "for ns in next_states(gTestState, 'X'):\n",
    "    print(toString(ns))"
   ]
  },
  {
   "cell_type": "markdown",
   "metadata": {},
   "source": [
    "The variable `All_Lines` collects the coordinates of all groups of four fields that are consecutive horizontally, vertically, or diagonally."
   ]
  },
  {
   "cell_type": "code",
   "execution_count": 16,
   "metadata": {},
   "outputs": [],
   "source": [
    "All_Lines: list[list[tuple[int, int]]]\n",
    "# horizontal lines\n",
    "All_Lines  = [ [ (row  , col+x) for x in range(3+1) ] for col in range(3+1)\n",
    "                                                      for row in range(5+1) \n",
    "             ]\n",
    "# vertical lines\n",
    "All_Lines += [ [ (row+x, col  ) for x in range(3+1) ] for col in range(6+1)\n",
    "                                                      for row in range(2+1) \n",
    "             ]\n",
    "# rising diagonals\n",
    "All_Lines += [ [ (row+x, col+x) for x in range(3+1) ] for col in range(3+1)\n",
    "                                                      for row in range(2+1)\n",
    "             ]\n",
    "# falling diagonals\n",
    "All_Lines += [ [ (row+x, col-x) for x in range(3+1) ] for col in range(3, 6+1)\n",
    "                                                      for row in range(2+1)\n",
    "             ]"
   ]
  },
  {
   "cell_type": "code",
   "execution_count": 17,
   "metadata": {},
   "outputs": [
    {
     "data": {
      "text/plain": [
       "[[(0, 0), (0, 1), (0, 2), (0, 3)],\n",
       " [(1, 0), (1, 1), (1, 2), (1, 3)],\n",
       " [(2, 0), (2, 1), (2, 2), (2, 3)],\n",
       " [(3, 0), (3, 1), (3, 2), (3, 3)],\n",
       " [(4, 0), (4, 1), (4, 2), (4, 3)],\n",
       " [(5, 0), (5, 1), (5, 2), (5, 3)],\n",
       " [(0, 1), (0, 2), (0, 3), (0, 4)],\n",
       " [(1, 1), (1, 2), (1, 3), (1, 4)],\n",
       " [(2, 1), (2, 2), (2, 3), (2, 4)],\n",
       " [(3, 1), (3, 2), (3, 3), (3, 4)],\n",
       " [(4, 1), (4, 2), (4, 3), (4, 4)],\n",
       " [(5, 1), (5, 2), (5, 3), (5, 4)],\n",
       " [(0, 2), (0, 3), (0, 4), (0, 5)],\n",
       " [(1, 2), (1, 3), (1, 4), (1, 5)],\n",
       " [(2, 2), (2, 3), (2, 4), (2, 5)],\n",
       " [(3, 2), (3, 3), (3, 4), (3, 5)],\n",
       " [(4, 2), (4, 3), (4, 4), (4, 5)],\n",
       " [(5, 2), (5, 3), (5, 4), (5, 5)],\n",
       " [(0, 3), (0, 4), (0, 5), (0, 6)],\n",
       " [(1, 3), (1, 4), (1, 5), (1, 6)],\n",
       " [(2, 3), (2, 4), (2, 5), (2, 6)],\n",
       " [(3, 3), (3, 4), (3, 5), (3, 6)],\n",
       " [(4, 3), (4, 4), (4, 5), (4, 6)],\n",
       " [(5, 3), (5, 4), (5, 5), (5, 6)],\n",
       " [(0, 0), (1, 0), (2, 0), (3, 0)],\n",
       " [(1, 0), (2, 0), (3, 0), (4, 0)],\n",
       " [(2, 0), (3, 0), (4, 0), (5, 0)],\n",
       " [(0, 1), (1, 1), (2, 1), (3, 1)],\n",
       " [(1, 1), (2, 1), (3, 1), (4, 1)],\n",
       " [(2, 1), (3, 1), (4, 1), (5, 1)],\n",
       " [(0, 2), (1, 2), (2, 2), (3, 2)],\n",
       " [(1, 2), (2, 2), (3, 2), (4, 2)],\n",
       " [(2, 2), (3, 2), (4, 2), (5, 2)],\n",
       " [(0, 3), (1, 3), (2, 3), (3, 3)],\n",
       " [(1, 3), (2, 3), (3, 3), (4, 3)],\n",
       " [(2, 3), (3, 3), (4, 3), (5, 3)],\n",
       " [(0, 4), (1, 4), (2, 4), (3, 4)],\n",
       " [(1, 4), (2, 4), (3, 4), (4, 4)],\n",
       " [(2, 4), (3, 4), (4, 4), (5, 4)],\n",
       " [(0, 5), (1, 5), (2, 5), (3, 5)],\n",
       " [(1, 5), (2, 5), (3, 5), (4, 5)],\n",
       " [(2, 5), (3, 5), (4, 5), (5, 5)],\n",
       " [(0, 6), (1, 6), (2, 6), (3, 6)],\n",
       " [(1, 6), (2, 6), (3, 6), (4, 6)],\n",
       " [(2, 6), (3, 6), (4, 6), (5, 6)],\n",
       " [(0, 0), (1, 1), (2, 2), (3, 3)],\n",
       " [(1, 0), (2, 1), (3, 2), (4, 3)],\n",
       " [(2, 0), (3, 1), (4, 2), (5, 3)],\n",
       " [(0, 1), (1, 2), (2, 3), (3, 4)],\n",
       " [(1, 1), (2, 2), (3, 3), (4, 4)],\n",
       " [(2, 1), (3, 2), (4, 3), (5, 4)],\n",
       " [(0, 2), (1, 3), (2, 4), (3, 5)],\n",
       " [(1, 2), (2, 3), (3, 4), (4, 5)],\n",
       " [(2, 2), (3, 3), (4, 4), (5, 5)],\n",
       " [(0, 3), (1, 4), (2, 5), (3, 6)],\n",
       " [(1, 3), (2, 4), (3, 5), (4, 6)],\n",
       " [(2, 3), (3, 4), (4, 5), (5, 6)],\n",
       " [(0, 3), (1, 2), (2, 1), (3, 0)],\n",
       " [(1, 3), (2, 2), (3, 1), (4, 0)],\n",
       " [(2, 3), (3, 2), (4, 1), (5, 0)],\n",
       " [(0, 4), (1, 3), (2, 2), (3, 1)],\n",
       " [(1, 4), (2, 3), (3, 2), (4, 1)],\n",
       " [(2, 4), (3, 3), (4, 2), (5, 1)],\n",
       " [(0, 5), (1, 4), (2, 3), (3, 2)],\n",
       " [(1, 5), (2, 4), (3, 3), (4, 2)],\n",
       " [(2, 5), (3, 4), (4, 3), (5, 2)],\n",
       " [(0, 6), (1, 5), (2, 4), (3, 3)],\n",
       " [(1, 6), (2, 5), (3, 4), (4, 3)],\n",
       " [(2, 6), (3, 5), (4, 4), (5, 3)]]"
      ]
     },
     "execution_count": 17,
     "metadata": {},
     "output_type": "execute_result"
    }
   ],
   "source": [
    "All_Lines"
   ]
  },
  {
   "cell_type": "code",
   "execution_count": 18,
   "metadata": {},
   "outputs": [
    {
     "data": {
      "text/plain": [
       "69"
      ]
     },
     "execution_count": 18,
     "metadata": {},
     "output_type": "execute_result"
    }
   ],
   "source": [
    "len(All_Lines)"
   ]
  },
  {
   "cell_type": "markdown",
   "metadata": {},
   "source": [
    "Given a `State` the function `top_line_filled(State)` checks whether all marks in the top line of the given board are filled."
   ]
  },
  {
   "cell_type": "code",
   "execution_count": 19,
   "metadata": {},
   "outputs": [],
   "source": [
    "def top_line_filled(S: State) -> bool:\n",
    "    return ' ' not in S[5] "
   ]
  },
  {
   "cell_type": "markdown",
   "metadata": {},
   "source": [
    "The function `utility` takes one argument:\n",
    "- `State` is a tuple of tuples representing the board.\n",
    " \n",
    "The function returns `1` if player `X` has won the game, `-1` if player `O` has won the game, `0` if its a draw, and `None` if the game has not yet been decided."
   ]
  },
  {
   "cell_type": "code",
   "execution_count": 20,
   "metadata": {},
   "outputs": [],
   "source": [
    "def utility(S: State) -> int | None:\n",
    "    # all lines are checked whether they contain 4 identical nonempty marks \n",
    "    for Line in All_Lines:\n",
    "        Chars = { S[r][c] for (r, c) in Line }\n",
    "        if len(Chars) == 1 and Chars != { ' ' }:\n",
    "            if Chars == { 'X' }:\n",
    "                return  1\n",
    "            else:\n",
    "                return -1\n",
    "    # no winner so far, check for a draw\n",
    "    if top_line_filled(S):  # no empty squares\n",
    "        return 0\n",
    "    return None"
   ]
  },
  {
   "cell_type": "markdown",
   "metadata": {},
   "source": [
    "The function heuristic tries to guess the value of a state.  Every three `X`'s in a line that can still be extended to four in a line are counted as `+1/10`, and every two `X`'s in a line that can be extended to four in a line are counted as `+1/100`.  Likewise, three `O`'s in a line count as `-1/10` and two `O`'s count as `-1/100`."
   ]
  },
  {
   "cell_type": "code",
   "execution_count": 22,
   "metadata": {},
   "outputs": [],
   "source": [
    "def heuristic(S: State) -> float:\n",
    "    result = 0.0\n",
    "    # all lines are checked whether they contain 3 identical nonempty marks \n",
    "    for Line in All_Lines:\n",
    "        List = [ S[r][c] for (r,c) in Line if  S[r][c] != ' ' ]\n",
    "        if len(List) == 3:\n",
    "            Chars = set(List)\n",
    "            if len(Chars) == 1:\n",
    "                if Chars == { 'X' }: \n",
    "                    result += 1/10\n",
    "                else:\n",
    "                    result -= 1/10\n",
    "        if len(List) == 2:\n",
    "            Chars = set(List)\n",
    "            if len(Chars) == 1:\n",
    "                if Chars == { 'X' }: \n",
    "                    result += 1/100\n",
    "                else:\n",
    "                    result -= 1/100\n",
    "        # prefer middle row\n",
    "    for row in range(5+1):\n",
    "        if S[row][3] == 'X':\n",
    "            result += 1/20\n",
    "        elif S[row][3] == 'O':\n",
    "            result -= 1/20\n",
    "    return result"
   ]
  },
  {
   "cell_type": "code",
   "execution_count": 25,
   "metadata": {},
   "outputs": [
    {
     "name": "stdout",
     "output_type": "stream",
     "text": [
      "|⬜|⬜|⬜|🔵|⬜|⬜|⬜|\n",
      "|⬜|⬜|🔵|🔵|🔴|⬜|⬜|\n",
      "|⬜|⬜|🔴|🔵|🔵|🔵|⬜|\n",
      "|⬜|⬜|🔵|🔴|🔴|🔴|⬜|\n",
      "|🔴|🔵|🔴|🔵|🔴|🔵|⬜|\n",
      "|🔴|🔴|🔵|🔴|🔴|🔵|⬜|\n",
      "\n"
     ]
    }
   ],
   "source": [
    "print(toString(gTestState))"
   ]
  },
  {
   "cell_type": "code",
   "execution_count": 23,
   "metadata": {},
   "outputs": [
    {
     "data": {
      "text/plain": [
       "0.10000000000000002"
      ]
     },
     "execution_count": 23,
     "metadata": {},
     "output_type": "execute_result"
    }
   ],
   "source": [
    "heuristic(gTestState)"
   ]
  },
  {
   "cell_type": "markdown",
   "metadata": {},
   "source": [
    "`finished(State)` is `True` if the game is over."
   ]
  },
  {
   "cell_type": "code",
   "execution_count": 26,
   "metadata": {},
   "outputs": [],
   "source": [
    "def finished(S: State) -> bool:\n",
    "    return utility(S) != None"
   ]
  },
  {
   "cell_type": "markdown",
   "metadata": {},
   "source": [
    "The function `get_move` asks the user to input a move in the format `r,c` where `r` is the row and the `c` is the column where the next symbol is to be placed."
   ]
  },
  {
   "cell_type": "code",
   "execution_count": 27,
   "metadata": {},
   "outputs": [],
   "source": [
    "def get_move(S: State) -> State:\n",
    "    while True:\n",
    "        col    = input(\"Enter column here: \")\n",
    "        colInt = int(col)\n",
    "        rowInt = find_empty(S, colInt)\n",
    "        if rowInt != None:\n",
    "            L = to_list(S)\n",
    "            L[rowInt][colInt] = 'O' # type: ignore\n",
    "            return to_tuple(L)\n",
    "        else:\n",
    "            print(\"Don't cheat.  Please try again.\")           "
   ]
  },
  {
   "cell_type": "markdown",
   "metadata": {},
   "source": [
    "This function informs the user about the result of the game once the game is finished."
   ]
  },
  {
   "cell_type": "code",
   "execution_count": 28,
   "metadata": {},
   "outputs": [],
   "source": [
    "def final_msg(S: State) -> bool:\n",
    "    if finished(S):\n",
    "        if utility(S) == -1:\n",
    "            print(\"You have won!\")\n",
    "        elif utility(S) == 1:\n",
    "            print(\"You have lost!\")\n",
    "        else:\n",
    "            print(\"It's a draw.\");\n",
    "        return True\n",
    "    return False"
   ]
  },
  {
   "cell_type": "code",
   "execution_count": null,
   "metadata": {},
   "outputs": [],
   "source": []
  }
 ],
 "metadata": {
  "kernelspec": {
   "display_name": "Python 3 (ipykernel)",
   "language": "python",
   "name": "python3"
  },
  "language_info": {
   "codemirror_mode": {
    "name": "ipython",
    "version": 3
   },
   "file_extension": ".py",
   "mimetype": "text/x-python",
   "name": "python",
   "nbconvert_exporter": "python",
   "pygments_lexer": "ipython3",
   "version": "3.11.7"
  },
  "toc": {
   "base_numbering": 1,
   "nav_menu": {},
   "number_sections": true,
   "sideBar": true,
   "skip_h1_title": false,
   "title_cell": "Table of Contents",
   "title_sidebar": "Contents",
   "toc_cell": false,
   "toc_position": {},
   "toc_section_display": true,
   "toc_window_display": false
  },
  "varInspector": {
   "cols": {
    "lenName": 16,
    "lenType": 16,
    "lenVar": 40
   },
   "kernels_config": {
    "python": {
     "delete_cmd_postfix": "",
     "delete_cmd_prefix": "del ",
     "library": "var_list.py",
     "varRefreshCmd": "print(var_dic_list())"
    },
    "r": {
     "delete_cmd_postfix": ") ",
     "delete_cmd_prefix": "rm(",
     "library": "var_list.r",
     "varRefreshCmd": "cat(var_dic_list()) "
    }
   },
   "types_to_exclude": [
    "module",
    "function",
    "builtin_function_or_method",
    "instance",
    "_Feature"
   ],
   "window_display": false
  }
 },
 "nbformat": 4,
 "nbformat_minor": 2
}
