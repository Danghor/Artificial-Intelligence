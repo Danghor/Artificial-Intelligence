{
 "cells": [
  {
   "cell_type": "code",
   "execution_count": null,
   "metadata": {},
   "outputs": [],
   "source": [
    "from IPython.display import HTML\n",
    "HTML(open('../style.css').read())"
   ]
  },
  {
   "cell_type": "code",
   "execution_count": null,
   "metadata": {},
   "outputs": [],
   "source": [
    "%load_ext nb_mypy"
   ]
  },
  {
   "cell_type": "markdown",
   "metadata": {},
   "source": [
    "# Tic-Tac-Toe via Bitboards"
   ]
  },
  {
   "cell_type": "markdown",
   "metadata": {},
   "source": [
    "This notebook defines the game [tic-tac-toe](https://en.wikipedia.org/wiki/Tic-tac-toe).\n",
    "It is played on a $3 \\times 3$ board.  There are two players, which are called `X` and `O`.  Player `X` starts.  Player `X` always puts an `'X'` into an empty field on the board, while player `O` always puts an `'O'` in an empty field of the board.  The goal of the game for player `X` is to get three **Xs** into a row, column, or diagonal line, while player `O` needs to get three **Os** into a row, column, or diagonal line.\n",
    "\n",
    "In this notebook, the board is represented as a *bitboard*, i.e. every state is represented as an integer.  If `s` is a state, the first nine bits of `s` specify the positions of the `X`es, while the second nine bits specify the positions of the `O`s.  Player `X` is encoded as the number `0`,  while player `O` is encoded as the number `1`."
   ]
  },
  {
   "cell_type": "code",
   "execution_count": null,
   "metadata": {},
   "outputs": [],
   "source": [
    "State = int"
   ]
  },
  {
   "cell_type": "markdown",
   "metadata": {},
   "source": [
    "The global variable `gPlayers` stores the list of players."
   ]
  },
  {
   "cell_type": "code",
   "execution_count": null,
   "metadata": {},
   "outputs": [],
   "source": [
    "gPlayers = [0, 1]"
   ]
  },
  {
   "cell_type": "markdown",
   "metadata": {},
   "source": [
    "States are represented as integers.  The first 9 bits encode the marks of the player `X`, the next 9 bits encode the marks of the player `O`.  Initially, the board is empty and hence no bit is set.\n",
    "The variable `gStart` represents the start state."
   ]
  },
  {
   "cell_type": "code",
   "execution_count": null,
   "metadata": {},
   "outputs": [],
   "source": [
    "gStart: State = 0"
   ]
  },
  {
   "cell_type": "markdown",
   "metadata": {},
   "source": [
    "The function `set_bits` takes one parameter:\n",
    "* `Bits` is a list of numbers that specify bit positions in an integer.\n",
    "\n",
    "The function returns an integer such that the bits specified in `Bits` are set. Counting starts with $0$."
   ]
  },
  {
   "cell_type": "code",
   "execution_count": null,
   "metadata": {},
   "outputs": [],
   "source": [
    "def set_bits(Bits: list[int]) -> int:\n",
    "    result = 0\n",
    "    for b in Bits:\n",
    "        result |= 1 << b # bitwise or 2**b\n",
    "    return result"
   ]
  },
  {
   "cell_type": "code",
   "execution_count": null,
   "metadata": {},
   "outputs": [],
   "source": [
    "f'{set_bits([0, 1, 4]):b}'"
   ]
  },
  {
   "cell_type": "code",
   "execution_count": null,
   "metadata": {},
   "outputs": [],
   "source": [
    "assert set_bits([0, 1, 4]) == 2**0 + 2**1 + 2**4"
   ]
  },
  {
   "cell_type": "markdown",
   "metadata": {},
   "source": [
    "The function `set_bit(n)` returns a number that has exactly the $\\texttt{n}^\\textrm{th}$ bit set."
   ]
  },
  {
   "cell_type": "code",
   "execution_count": null,
   "metadata": {},
   "outputs": [],
   "source": [
    "def set_bit(n: int) -> int: \n",
    "    return 1 << n"
   ]
  },
  {
   "cell_type": "code",
   "execution_count": null,
   "metadata": {},
   "outputs": [],
   "source": [
    "assert set_bit(7) == 2 ** 7"
   ]
  },
  {
   "cell_type": "markdown",
   "metadata": {},
   "source": [
    "The function `to_board(state)` takes an integer `s` as its argument that represents a state of the game *Tic-Tac-Toe*.  It converts this state into a string that represents the board corresponding to the state."
   ]
  },
  {
   "cell_type": "code",
   "execution_count": null,
   "metadata": {},
   "outputs": [],
   "source": [
    "def to_board(s: State) -> str:\n",
    "    result = '+-+-+-+\\n'\n",
    "    for cell in range(9):\n",
    "        if s & (2 ** cell) != 0:\n",
    "            result += '|X'\n",
    "        elif s & (2 ** (cell + 9)) != 0:\n",
    "            result += '|O'\n",
    "        else:\n",
    "            result += '| '\n",
    "        if (cell + 1) % 3 == 0:\n",
    "            result += '|\\n+-+-+-+\\n'\n",
    "    return result"
   ]
  },
  {
   "cell_type": "code",
   "execution_count": null,
   "metadata": {},
   "outputs": [],
   "source": [
    "print(to_board(set_bits([0,2,3,5,7,9+1,9+4,9+6])))"
   ]
  },
  {
   "cell_type": "markdown",
   "metadata": {},
   "source": [
    "Given a `state` and the `player` who is next to move, the function `next_states(state, player)` computes the set of states that can be reached from `state`.\n",
    "Note that player `X` is encoded as the number $0$, while player `O` is encoded as the number $1$."
   ]
  },
  {
   "cell_type": "code",
   "execution_count": null,
   "metadata": {},
   "outputs": [],
   "source": [
    "def next_states(S: State, player: int) -> list[int]:\n",
    "    Empty = { n for n in range(9) \n",
    "                if S & ((1 << n) | (1 << (9 + n))) == 0 \n",
    "            }\n",
    "    return [ (S | (1 << (player * 9 + n))) for n in Empty ]"
   ]
  },
  {
   "cell_type": "code",
   "execution_count": null,
   "metadata": {},
   "outputs": [],
   "source": [
    "next_states(gStart, 1)"
   ]
  },
  {
   "cell_type": "code",
   "execution_count": null,
   "metadata": {},
   "outputs": [],
   "source": [
    "state = set_bits([2,3,5,10,13,15])\n",
    "print(f'state:\\n{to_board(state)}')\n",
    "print('next states:')                  \n",
    "for s in next_states(state, 0):\n",
    "    print(to_board(s))"
   ]
  },
  {
   "cell_type": "markdown",
   "metadata": {},
   "source": [
    "The global variable `gAllLines` is a list of eight bit masks.  These masks can be used to test whether there are three identical marks in a row, column, or diagonal."
   ]
  },
  {
   "cell_type": "code",
   "execution_count": null,
   "metadata": {},
   "outputs": [],
   "source": [
    "gAllLines: list[int] = [ set_bits([0,1,2]), # 1st row\n",
    "                         set_bits([3,4,5]), # 2nd row\n",
    "                         set_bits([6,7,8]), # 3rd row\n",
    "                         set_bits([0,3,6]), # 1st column\n",
    "                         set_bits([1,4,7]), # 2nd column\n",
    "                         set_bits([2,5,8]), # 3rd column\n",
    "                         set_bits([0,4,8]), # falling diagonal\n",
    "                         set_bits([2,4,6]), # rising diagonal\n",
    "                       ]"
   ]
  },
  {
   "cell_type": "code",
   "execution_count": null,
   "metadata": {},
   "outputs": [],
   "source": [
    "for state in gAllLines:\n",
    "    print(to_board(state))"
   ]
  },
  {
   "cell_type": "markdown",
   "metadata": {},
   "source": [
    "The function `utility` takes one argument:\n",
    "- `state`  is an integer representing the board.\n",
    " \n",
    "The function returns `1` if the computer has won the game, `-1` if the game is lost for \n",
    "the computer, `0` if it's a draw, and `None` if the game has not yet been decided."
   ]
  },
  {
   "cell_type": "code",
   "execution_count": null,
   "metadata": {},
   "outputs": [],
   "source": [
    "def utility(s: State) -> int | None:\n",
    "    for mask in gAllLines:\n",
    "        if s & mask == mask:\n",
    "            return 1               # the computer has won\n",
    "        if (s >> 9) & mask == mask:\n",
    "            return -1              # the computer has lost\n",
    "    # 511 == 2**9 - 1 = 0b1_1111_1111  \n",
    "    if (s & 511) | (s >> 9) != 511: # the board is not yet filled\n",
    "        return None\n",
    "    # at this point, the board has been filled, but there is no winner hence its a draw\n",
    "    return 0 # it's a draw"
   ]
  },
  {
   "cell_type": "code",
   "execution_count": null,
   "metadata": {},
   "outputs": [],
   "source": [
    "s1 = set_bits([0, 2, 3, 6, 1+9,  4+9, 5+9]) # 'X' has won\n",
    "print(to_board(s1))\n",
    "utility(s1)"
   ]
  },
  {
   "cell_type": "code",
   "execution_count": null,
   "metadata": {},
   "outputs": [],
   "source": [
    "s2 = set_bits([0, 2, 6, 8, 1+9, 4+9, 7+9]) # 'O' has won\n",
    "print(to_board(s2))\n",
    "utility(s2)"
   ]
  },
  {
   "cell_type": "code",
   "execution_count": null,
   "metadata": {},
   "outputs": [],
   "source": [
    "s3 = set_bits([0, 2, 5, 6, 7, 1+9, 3+9, 4+9, 8+9]) # it's a draw\n",
    "print(to_board(s3))\n",
    "print(utility(s3))"
   ]
  },
  {
   "cell_type": "code",
   "execution_count": null,
   "metadata": {},
   "outputs": [],
   "source": [
    "s4 = set_bits([0, 2, 5, 6, 1+9, 3+9, 4+9]) # it ain't over yet\n",
    "print(to_board(s4))\n",
    "print(utility(s4))"
   ]
  },
  {
   "cell_type": "markdown",
   "metadata": {},
   "source": [
    "`finished(state)` is `True` if the game is over."
   ]
  },
  {
   "cell_type": "markdown",
   "metadata": {},
   "source": [
    "The function `get_move` asks the user to input a move in the format `r,c` where `r` is the row and the `c` is the column where the next symbol is to be placed."
   ]
  },
  {
   "cell_type": "code",
   "execution_count": null,
   "metadata": {},
   "outputs": [],
   "source": [
    "def get_move(S: State) -> State:\n",
    "    while True:\n",
    "        try:\n",
    "            rowStr, colStr = input('Enter move here: ').split(',')\n",
    "            row   , col    = int(rowStr), int(colStr)\n",
    "            if row not in {0, 1, 2} or col not in {0, 1, 2}:\n",
    "                print('Illegal input. The move has to be a pair of  the form \"row,col\"')  \n",
    "                print('where row and col are numbers from the set {0,1,2}.')\n",
    "                continue\n",
    "            mask = set_bit(row * 3 + col)\n",
    "            if S & (mask | (mask << 9)) == 0:\n",
    "                return S | (mask << 9)\n",
    "            print(\"Don't cheat! Please try again.\")\n",
    "        except:\n",
    "            print('Illegal input.')  \n",
    "            print('row and col are numbers from the set {0,1,2}.')"
   ]
  },
  {
   "cell_type": "markdown",
   "metadata": {},
   "source": [
    "The function `final_msg(state)` informs the user about the result of the game once the game is finished."
   ]
  },
  {
   "cell_type": "code",
   "execution_count": null,
   "metadata": {},
   "outputs": [],
   "source": [
    "def final_msg(S: State) -> bool:\n",
    "    if finished(S):          # type: ignore\n",
    "        if utility(S) == -1:\n",
    "            print('You have won!')\n",
    "        elif utility(S) == 1:\n",
    "            print('The computer has won!')\n",
    "        else:\n",
    "            print(\"It's a draw.\");\n",
    "        return True\n",
    "    return False"
   ]
  },
  {
   "cell_type": "markdown",
   "metadata": {},
   "source": [
    "# Drawing the Board"
   ]
  },
  {
   "cell_type": "code",
   "execution_count": null,
   "metadata": {},
   "outputs": [],
   "source": [
    "import ipycanvas as cnv"
   ]
  },
  {
   "cell_type": "code",
   "execution_count": null,
   "metadata": {},
   "outputs": [],
   "source": [
    "size = 150"
   ]
  },
  {
   "cell_type": "markdown",
   "metadata": {},
   "source": [
    "This function creates the canvas for the start state.  It draws an empty board which is later used for the game."
   ]
  },
  {
   "cell_type": "code",
   "execution_count": null,
   "metadata": {},
   "outputs": [],
   "source": [
    "def create_canvas() -> cnv.canvas:\n",
    "    canvas = cnv.Canvas(size=(size * 3, size * 3 + 50))\n",
    "    display(canvas) # type: ignore\n",
    "    return canvas"
   ]
  },
  {
   "cell_type": "markdown",
   "metadata": {},
   "source": [
    "The function `get_symbol(state, row, col)` takes three arguments:\n",
    "* `state` is an integer representing a tic-tac-toe board.\n",
    "* `row` is an integer in `range(3)` that specifies a row in the board.\n",
    "* `col` is an integer in `range(3)` that specifies a column in the board.\n",
    "\n",
    "The function returns the mark that is placed in the given `row` and `column`.  If this position is empty, a blank `' '` is returned. "
   ]
  },
  {
   "cell_type": "code",
   "execution_count": null,
   "metadata": {},
   "outputs": [],
   "source": [
    "def get_symbol(S: State, row: int, col: int) -> str:\n",
    "    mask = set_bit(row * 3 + col)\n",
    "    if mask & S == mask:\n",
    "        return 'X'\n",
    "    if mask & (S >> 9) == mask:\n",
    "        return 'O'\n",
    "    return ' '  "
   ]
  },
  {
   "cell_type": "markdown",
   "metadata": {},
   "source": [
    "This function takes three arguments:\n",
    "- `state` is the current state of the game.\n",
    "- `canvas` is a canvas used to draw the state.\n",
    "- `value` is the value of the game for player `X`.\n",
    "\n",
    "The function draws the given `State` onto `canvas`.  Below that, the `value` is printed."
   ]
  },
  {
   "cell_type": "code",
   "execution_count": null,
   "metadata": {},
   "outputs": [],
   "source": [
    "def draw(S: State, canvas: cnv.canvas, value: str) -> None:\n",
    "    canvas.clear()\n",
    "    n = 3\n",
    "    canvas.font          = '90px sans-serif'\n",
    "    canvas.text_align    = 'center'\n",
    "    canvas.text_baseline = 'middle'\n",
    "    for row in range(n):\n",
    "        for col in range(n):\n",
    "            x = col * size\n",
    "            y = row * size\n",
    "            canvas.line_width = 3.0\n",
    "            canvas.stroke_rect(x, y, size, size)\n",
    "            symbol = get_symbol(S, row, col)\n",
    "            if symbol != ' ':\n",
    "                x += size // 2\n",
    "                y += size // 2\n",
    "                if symbol == 'X':\n",
    "                    canvas.fill_style ='red'\n",
    "                else:\n",
    "                    canvas.fill_style ='blue'\n",
    "                canvas.fill_text(symbol, x, y)\n",
    "    canvas.font = '12px sans-serif'\n",
    "    canvas.fill_style = 'green'\n",
    "    for row in range(n):\n",
    "        for col in range(n):\n",
    "            x = col * size + 16\n",
    "            y = row * size + 141\n",
    "            canvas.fill_text(f'({row}, {col})', x, y)\n",
    "    canvas.font = '20px sans-serif'\n",
    "    canvas.fill_style = 'black'\n",
    "    xFloat = 1.5 * size\n",
    "    yFloat = 3.2 * size\n",
    "    canvas.fill_text(value, xFloat, yFloat)"
   ]
  },
  {
   "cell_type": "code",
   "execution_count": null,
   "metadata": {},
   "outputs": [],
   "source": [
    "draw(set_bits([0, 2, 5, 6, 1+9, 3+9, 4+9, 7+9]), create_canvas(), '-1')"
   ]
  },
  {
   "cell_type": "code",
   "execution_count": null,
   "metadata": {},
   "outputs": [],
   "source": []
  }
 ],
 "metadata": {
  "kernelspec": {
   "display_name": "Python 3 (ipykernel)",
   "language": "python",
   "name": "python3"
  },
  "language_info": {
   "codemirror_mode": {
    "name": "ipython",
    "version": 3
   },
   "file_extension": ".py",
   "mimetype": "text/x-python",
   "name": "python",
   "nbconvert_exporter": "python",
   "pygments_lexer": "ipython3",
   "version": "3.12.8"
  },
  "toc": {
   "base_numbering": 1,
   "nav_menu": {},
   "number_sections": true,
   "sideBar": true,
   "skip_h1_title": false,
   "title_cell": "Table of Contents",
   "title_sidebar": "Contents",
   "toc_cell": false,
   "toc_position": {},
   "toc_section_display": true,
   "toc_window_display": false
  },
  "varInspector": {
   "cols": {
    "lenName": 16,
    "lenType": 16,
    "lenVar": 40
   },
   "kernels_config": {
    "python": {
     "delete_cmd_postfix": "",
     "delete_cmd_prefix": "del ",
     "library": "var_list.py",
     "varRefreshCmd": "print(var_dic_list())"
    },
    "r": {
     "delete_cmd_postfix": ") ",
     "delete_cmd_prefix": "rm(",
     "library": "var_list.r",
     "varRefreshCmd": "cat(var_dic_list()) "
    }
   },
   "types_to_exclude": [
    "module",
    "function",
    "builtin_function_or_method",
    "instance",
    "_Feature"
   ],
   "window_display": false
  }
 },
 "nbformat": 4,
 "nbformat_minor": 2
}
