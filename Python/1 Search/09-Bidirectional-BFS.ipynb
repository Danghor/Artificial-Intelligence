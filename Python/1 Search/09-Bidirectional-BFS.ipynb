{
 "cells": [
  {
   "cell_type": "code",
   "execution_count": null,
   "metadata": {},
   "outputs": [],
   "source": [
    "from IPython.core.display import HTML\n",
    "with open('../style.css') as f:\n",
    "    css = f.read()\n",
    "HTML(css)"
   ]
  },
  {
   "cell_type": "code",
   "execution_count": null,
   "metadata": {},
   "outputs": [],
   "source": [
    "%load_ext nb_mypy"
   ]
  },
  {
   "cell_type": "markdown",
   "metadata": {},
   "source": [
    "# Bidirectional Breadth First Search"
   ]
  },
  {
   "cell_type": "code",
   "execution_count": null,
   "metadata": {},
   "outputs": [],
   "source": [
    "from typing import TypeVar, Callable, Generator"
   ]
  },
  {
   "cell_type": "code",
   "execution_count": null,
   "metadata": {},
   "outputs": [],
   "source": [
    "State    = TypeVar('State')\n",
    "NxtStFct = Callable[[State], set[State]]"
   ]
  },
  {
   "cell_type": "markdown",
   "metadata": {},
   "source": [
    "The following forward declarations are needed to typecheck the function `search`."
   ]
  },
  {
   "cell_type": "code",
   "execution_count": null,
   "metadata": {},
   "outputs": [],
   "source": [
    "def combinePaths(state: State, ParentA: dict[State, State], ParentB: dict[State, State]) -> list[State]:\n",
    "    return None # type: ignore"
   ]
  },
  {
   "cell_type": "code",
   "execution_count": null,
   "metadata": {},
   "outputs": [],
   "source": [
    "def bfs_one_step(Frontier: set[State], \n",
    "                 ParentA: dict[State, State], \n",
    "                 ParentB: dict[State, State], \n",
    "                 next_states: NxtStFct) -> list[State] | None:\n",
    "    return None # type: ignore"
   ]
  },
  {
   "cell_type": "markdown",
   "metadata": {},
   "source": [
    "The function `search` takes three arguments to solve a *search problem*:\n",
    "- `start` is the *start state* of the search problem,\n",
    "- `goal` is the *goal state*, and\n",
    "- `next_states` is a function with signature $\\texttt{next_states}:Q \\rightarrow 2^Q$, where $Q$ is the set of states.\n",
    "   For every state $s \\in Q$, $\\texttt{next_states}(s)$ is the set of states that can be reached from $s$ in one step.\n",
    "\n",
    "If successful, `search` returns a path from `start` to `goal` that is a solution of the search problem\n",
    "$$ \\langle Q, \\texttt{next_states}, \\texttt{start}, \\texttt{goal} \\rangle. $$\n",
    "The implementation of `search` uses *bidirectional breadth first search* to find a path from `start` to `goal`."
   ]
  },
  {
   "cell_type": "code",
   "execution_count": null,
   "metadata": {},
   "outputs": [],
   "source": [
    "def search(start: State, goal: State, next_states: NxtStFct) -> list[State] | None:        \n",
    "    FrontierA = { start }\n",
    "    ParentA   = { start: start }\n",
    "    FrontierB = { goal }\n",
    "    ParentB   = { goal: goal } \n",
    "    while FrontierA and FrontierB:\n",
    "        if Path := bfs_one_step(FrontierA, ParentA, ParentB, next_states):\n",
    "            print(f'Number of states visisted: {len(ParentA) + len(ParentB)}')\n",
    "            return Path\n",
    "        if Path := bfs_one_step(FrontierB, ParentB, ParentA, next_states):\n",
    "            print(f'Number of states visisted: {len(ParentA) + len(ParentB)}')\n",
    "            return Path[::-1]\n",
    "    return None"
   ]
  },
  {
   "cell_type": "markdown",
   "metadata": {},
   "source": [
    "The function `bfs_one_step` takes four arguments:\n",
    " * `Frontier` is a set of states.  For every state $s \\in \\texttt{Frontier}$ the\n",
    "   dictionary `ParentA` provides a path from the start node of the search to $s$.\n",
    " * `ParentA` is a dictionary mapping all states $s$ that have been visited in the \n",
    "   search originating from `start` to their *parent states*, i.e. to the states that\n",
    "   precede them in a path from `start`.\n",
    " * `ParentB` is a dictionary mapping all states $s$ that have been visited in the \n",
    "   search originating from `goal` to their *parent states*, i.e. to the states that\n",
    "   precede them in a path from `goal`.\n",
    " * `next_states` is the function computing the states that are reachable in one step\n",
    "   from the given state."
   ]
  },
  {
   "cell_type": "code",
   "execution_count": null,
   "metadata": {},
   "outputs": [],
   "source": [
    "def bfs_one_step(Frontier: set[State], \n",
    "                 ParentA:  dict[State, State], \n",
    "                 ParentB:  dict[State, State], \n",
    "                 next_states: NxtStFct\n",
    "                ) -> list[State] | None:\n",
    "    NewFrontier = set()\n",
    "    for s in Frontier:\n",
    "        for ns in next_states(s):\n",
    "            if ns not in ParentA:\n",
    "                NewFrontier |= { ns }\n",
    "                ParentA[ns]  = s\n",
    "                if ns in ParentB:\n",
    "                    return combinePaths(ns, ParentA, ParentB)\n",
    "    Frontier.clear()\n",
    "    Frontier.update(NewFrontier)\n",
    "    return None"
   ]
  },
  {
   "cell_type": "markdown",
   "metadata": {},
   "source": [
    "Given a `state` and a parent dictionary `Parent`, the function `path_to` returns a path leading to the given `state`."
   ]
  },
  {
   "cell_type": "code",
   "execution_count": null,
   "metadata": {},
   "outputs": [],
   "source": [
    "def path_to(state: State, Parent: dict[State, State]) -> list[State]:\n",
    "    p = Parent[state]\n",
    "    if p == state:\n",
    "        return [state]\n",
    "    return path_to(p, Parent) + [state]"
   ]
  },
  {
   "cell_type": "markdown",
   "metadata": {},
   "source": [
    "The function `combinePath` takes three parameters:\n",
    "- `state` is a state that has been reached in bidirectional BFS from both `start` and `goal`.\n",
    "- `ParentA` is the parent dictionary that has been build when searching from `start`.\n",
    "   If $\\texttt{ParentA}[s_1] = s_2$ holds, then either $s_1 = s_2 = \\texttt{start}$ or \n",
    "   $s_1 \\in \\texttt{next_states}(s_2)$.\n",
    "- `ParentB` is the parent dictionary that has been build when searching from `goal`.\n",
    "   If $\\texttt{ParentB}[s_1] = s_2$ holds, then either $s_1 = s_2 = \\texttt{goal}$ or\n",
    "   $s_1 \\in \\texttt{next_states}(s_2)$.\n",
    "The function returns a path from `start` to `goal`."
   ]
  },
  {
   "cell_type": "code",
   "execution_count": null,
   "metadata": {},
   "outputs": [],
   "source": [
    "def combinePaths(state: State, ParentA: dict[State, State], ParentB: dict[State, State]) -> list[State]:\n",
    "        Path1 = path_to(state, ParentA)\n",
    "        Path2 = path_to(state, ParentB)\n",
    "        return Path1[:-1] + Path2[::-1] # Path2 is reversed"
   ]
  },
  {
   "cell_type": "code",
   "execution_count": null,
   "metadata": {},
   "outputs": [],
   "source": [
    "%run 03-Sliding-Puzzle.ipynb"
   ]
  },
  {
   "cell_type": "code",
   "execution_count": null,
   "metadata": {},
   "outputs": [],
   "source": [
    "%%time\n",
    "Path = search(start, goal, next_states)\n",
    "print(len(Path)-1)"
   ]
  },
  {
   "cell_type": "code",
   "execution_count": null,
   "metadata": {
    "scrolled": false
   },
   "outputs": [],
   "source": [
    "animation(Path) # type: ignore"
   ]
  },
  {
   "cell_type": "markdown",
   "metadata": {},
   "source": [
    "Below we try to solve the 15 puzzle."
   ]
  },
  {
   "cell_type": "code",
   "execution_count": null,
   "metadata": {},
   "outputs": [],
   "source": [
    "%%time\n",
    "Path = search(start2, goal2, next_states)\n",
    "print(len(Path)-1)"
   ]
  },
  {
   "cell_type": "code",
   "execution_count": null,
   "metadata": {},
   "outputs": [],
   "source": [
    "animation(Path) # type: ignore"
   ]
  },
  {
   "cell_type": "code",
   "execution_count": null,
   "metadata": {},
   "outputs": [],
   "source": []
  }
 ],
 "metadata": {
  "hide_input": false,
  "kernelspec": {
   "display_name": "Python 3 (ipykernel)",
   "language": "python",
   "name": "python3"
  },
  "language_info": {
   "codemirror_mode": {
    "name": "ipython",
    "version": 3
   },
   "file_extension": ".py",
   "mimetype": "text/x-python",
   "name": "python",
   "nbconvert_exporter": "python",
   "pygments_lexer": "ipython3",
   "version": "3.12.2"
  },
  "toc": {
   "base_numbering": 1,
   "nav_menu": {},
   "number_sections": true,
   "sideBar": true,
   "skip_h1_title": false,
   "title_cell": "Table of Contents",
   "title_sidebar": "Contents",
   "toc_cell": false,
   "toc_position": {},
   "toc_section_display": true,
   "toc_window_display": false
  },
  "varInspector": {
   "cols": {
    "lenName": 16,
    "lenType": 16,
    "lenVar": 40
   },
   "kernels_config": {
    "python": {
     "delete_cmd_postfix": "",
     "delete_cmd_prefix": "del ",
     "library": "var_list.py",
     "varRefreshCmd": "print(var_dic_list())"
    },
    "r": {
     "delete_cmd_postfix": ") ",
     "delete_cmd_prefix": "rm(",
     "library": "var_list.r",
     "varRefreshCmd": "cat(var_dic_list()) "
    }
   },
   "types_to_exclude": [
    "module",
    "function",
    "builtin_function_or_method",
    "instance",
    "_Feature"
   ],
   "window_display": false
  }
 },
 "nbformat": 4,
 "nbformat_minor": 2
}
