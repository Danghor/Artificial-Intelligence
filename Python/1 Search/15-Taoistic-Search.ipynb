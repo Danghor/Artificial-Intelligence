{
 "cells": [
  {
   "cell_type": "code",
   "execution_count": 1,
   "metadata": {},
   "outputs": [
    {
     "data": {
      "text/html": [
       "<link href='http://fonts.googleapis.com/css?family=Alegreya+Sans:100,300,400,500,700,800,900,100italic,300italic,400italic,500italic,700italic,800italic,900italic' rel='stylesheet' type='text/css'>\n",
       "<link href='http://fonts.googleapis.com/css?family=Arvo:400,700,400italic' rel='stylesheet' type='text/css'>\n",
       "<link href='http://fonts.googleapis.com/css?family=PT+Mono' rel='stylesheet' type='text/css'>\n",
       "<link href='http://fonts.googleapis.com/css?family=Shadows+Into+Light' rel='stylesheet' type='text/css'>\n",
       "<link href='http://fonts.googleapis.com/css?family=Philosopher:400,700,400italic,700italic' rel='stylesheet' type='text/css'>\n",
       "<link href=\"http://fonts.googleapis.com/css?family=Sacramento\" rel=\"stylesheet\" type=\"text/css\">\n",
       "\n",
       "<style>\n",
       "\n",
       "@font-face {\n",
       "    font-family: \"Computer Modern\";\n",
       "    src: url('http://mirrors.ctan.org/fonts/cm-unicode/fonts/otf/cmunss.otf');\n",
       "}\n",
       "\n",
       ".container { width: 100% }\n",
       "\n",
       "/* Formatting for header cells */\n",
       ".text_cell_render h1 {\n",
       "    font-family: 'Philosopher', sans-serif;\n",
       "    font-weight: 400;\n",
       "    font-size: 2.2em;\n",
       "    line-height: 100%;\n",
       "    color: rgb(0, 80, 120);\n",
       "    margin-bottom: 0.1em;\n",
       "    margin-top: 0.1em;\n",
       "    display: block;\n",
       "}\t\n",
       ".text_cell_render h2 {\n",
       "    font-family: 'Philosopher', serif;\n",
       "    font-weight: 400;\n",
       "    font-size: 1.9em;\n",
       "    line-height: 100%;\n",
       "    color: rgb(200,100,0);\n",
       "    margin-bottom: 0.1em;\n",
       "    margin-top: 0.1em;\n",
       "    display: block;\n",
       "}\t\n",
       "\n",
       ".text_cell_render h3 {\n",
       "    font-family: 'Philosopher', serif;\n",
       "    margin-top:12px;\n",
       "    margin-bottom: 3px;\n",
       "    font-style: italic;\n",
       "    color: rgb(94,127,192);\n",
       "}\n",
       "\n",
       ".text_cell_render h4 {\n",
       "    font-family: 'Philosopher', serif;\n",
       "}\n",
       "\n",
       ".text_cell_render h5 {\n",
       "    font-family: 'Alegreya Sans', sans-serif;\n",
       "    font-weight: 300;\n",
       "    font-size: 16pt;\n",
       "    color: grey;\n",
       "    font-style: italic;\n",
       "    margin-bottom: .1em;\n",
       "    margin-top: 0.1em;\n",
       "    display: block;\n",
       "}\n",
       "\n",
       ".text_cell_render h6 {\n",
       "    font-family: 'PT Mono', sans-serif;\n",
       "    font-weight: 300;\n",
       "    font-size: 10pt;\n",
       "    color: grey;\n",
       "    margin-bottom: 1px;\n",
       "    margin-top: 1px;\n",
       "}\n",
       "\n",
       ".text_cell_render em {\n",
       "    font-family: 'Philosopher', sans-serif;\n",
       "    color:        blue;\n",
       "    background-color: rgb(255,220,180);\n",
       "    font-size:    110%;\n",
       "    margin-left:   2px;\n",
       "    margin-right:  2px;\n",
       "    font-weight:   100;\n",
       "}\n",
       "\n",
       ".text_cell_render b {\n",
       "    color:            rgb(255,195,195);\n",
       "    background-color: rgb(0,0,0);\n",
       "    font-size:    110%;\n",
       "    margin-left:   2px;\n",
       "    margin-right:  2px;\n",
       "    font-weight:   650;\n",
       "}\n",
       "\n",
       ".text_cell_render u {\n",
       "    color:            blue;\n",
       "    font-size:    110%;\n",
       "    margin-left:   2px;\n",
       "    margin-right:  2px;\n",
       "    font-weight:   650;\n",
       "}\n",
       "\n",
       ".text_cell_render tt {\n",
       "    font-size:    120%;\n",
       "    margin-left:   2px;\n",
       "    margin-right:  2px;\n",
       "    font-weight:   150;\n",
       "}\n",
       "\n",
       ".Codemirror {\n",
       "    font-family: \"PT Mono\";\n",
       "    font-size: 100%;\n",
       "}\n",
       "\n",
       "#fancy {\n",
       "    font-family:      Georgia;\n",
       "    position:         relative;\n",
       "    float:            left;\n",
       "    border:           2px solid red;\n",
       "    width:            600px;\n",
       "    padding-left:     20px;\n",
       "    padding-right:    20px;\n",
       "    padding-top:      10px;\n",
       "    font-family:      'Sacramento', cursive;\n",
       "    font-size:        26px;\n",
       "    background-color: #F4EBF3;\n",
       "    border-radius:    15px;\n",
       "}\n",
       "\n",
       "</Style>\n",
       "\n"
      ],
      "text/plain": [
       "<IPython.core.display.HTML object>"
      ]
     },
     "execution_count": 1,
     "metadata": {},
     "output_type": "execute_result"
    }
   ],
   "source": [
    "from IPython.display import HTML\n",
    "HTML(open('../../Python/style.css').read())"
   ]
  },
  {
   "cell_type": "code",
   "execution_count": 2,
   "metadata": {},
   "outputs": [
    {
     "name": "stderr",
     "output_type": "stream",
     "text": [
      "Version 1.0.5\n"
     ]
    }
   ],
   "source": [
    "%load_ext nb_mypy"
   ]
  },
  {
   "cell_type": "markdown",
   "metadata": {},
   "source": [
    "# Taoistic Search\n",
    "\n",
    "The holy book of Taoism, the <a href=\"https://en.wikipedia.org/wiki/Tao_Te_Ching\">Tao Te Ching (道德經)</a>, contains the following wisdom:\n",
    "\n",
    "<p>\n",
    "<center style=\"color:blue; background-color:yellow; font-family: Brush Script MT, cursive; font-size:40px; padding: 12px\">\n",
    "    <a href=\"https://en.wikipedia.org/wiki/A_journey_of_a_thousand_miles_begins_with_a_single_step\">\n",
    "        A yourney of a thousand miles begins but with a single step.</a>\n",
    "</center>\n",
    "</p>\n",
    "\n",
    "As written [here](https://www.linkedin.com/pulse/journey-thousand-miles-david-cheung/) this saying has also been used by Chairman\n",
    "[Mao Zedong (毛泽东)](https://en.wikipedia.org/wiki/Mao_Zedong).\n",
    "\n",
    "Taoistic search is based on the following principle: \n",
    "- Split the search problem into subproblems that can be readily solved.  \n",
    "- Solve these problems one by one.\n",
    "- Combine the solutions of the subproblems to a solution of the given *search problem*.\n",
    "\n",
    "Hence, *taoistic search* really is a variation of the [divide-and-conquer](https://en.wikipedia.org/wiki/Divide-and-conquer_algorithm) paradigm.\n",
    "\n",
    "We will use *taoistic search* to solve the search problem for the 15-puzzle where the states `Start` and `Goal` are defined\n",
    "as follows."
   ]
  },
  {
   "cell_type": "code",
   "execution_count": 3,
   "metadata": {},
   "outputs": [],
   "source": [
    "Row   = tuple[str, ...]\n",
    "State = tuple[Row, ...]"
   ]
  },
  {
   "cell_type": "code",
   "execution_count": 4,
   "metadata": {},
   "outputs": [],
   "source": [
    "Start: State = ( (  '0', '14',  '8', '12' ),\n",
    "                 ( '10', '11', '13',  '9' ),\n",
    "                 (  '6',  '2',  '4', '15' ),\n",
    "                 (  '3',  '5',  '7',  '1' )\n",
    "               )"
   ]
  },
  {
   "cell_type": "code",
   "execution_count": 5,
   "metadata": {},
   "outputs": [],
   "source": [
    "Goal: State  = ( (  '0',  '1',  '2',  '3' ),\n",
    "                 (  '4',  '5',  '6',  '7' ),\n",
    "                 (  '8',  '9', '10', '11' ),\n",
    "                 ( '12', '13', '14', '15' )\n",
    "               )"
   ]
  },
  {
   "cell_type": "markdown",
   "metadata": {},
   "source": [
    "Please <span style=\"color:blue; background-color:yellow;\">note</span> that we have defined the entries of these tuples as `str` and not as `int`.\n",
    "\n",
    "In order to view these states more conveniently, we define a number of auxiliary functions in the following subsection. You need not concern yourself with these functions.  However, they must be executed for the animation to work.  "
   ]
  },
  {
   "cell_type": "markdown",
   "metadata": {},
   "source": [
    "## Animation"
   ]
  },
  {
   "cell_type": "code",
   "execution_count": 6,
   "metadata": {},
   "outputs": [],
   "source": [
    "import ipycanvas as cnv"
   ]
  },
  {
   "cell_type": "markdown",
   "metadata": {},
   "source": [
    "The module `time` is part of the standard library so it is preinstalled.  We have imported it because we need the function `time.sleep(secs)` to pause the animation for a specified time."
   ]
  },
  {
   "cell_type": "code",
   "execution_count": 7,
   "metadata": {},
   "outputs": [],
   "source": [
    "import time"
   ]
  },
  {
   "cell_type": "markdown",
   "metadata": {},
   "source": [
    "The global variable Colors specifies the colors of the tiles."
   ]
  },
  {
   "cell_type": "code",
   "execution_count": 8,
   "metadata": {},
   "outputs": [],
   "source": [
    "Colors = ['white', 'lightblue', 'pink', 'magenta', 'orange', 'red', 'yellow', 'lightgreen', 'gold',\n",
    "          'CornFlowerBlue', 'Coral', 'Cyan', 'orchid', 'DarkSalmon', 'DeepPink', 'green'\n",
    "         ] "
   ]
  },
  {
   "cell_type": "markdown",
   "metadata": {},
   "source": [
    "The global variable `gSize` specifies the size of one tile in pixels."
   ]
  },
  {
   "cell_type": "code",
   "execution_count": 9,
   "metadata": {},
   "outputs": [],
   "source": [
    "gSize = 100"
   ]
  },
  {
   "cell_type": "markdown",
   "metadata": {},
   "source": [
    "The function `draw(State, canvas, dx, dy, tile, x)` draws a given `State` of the sliding puzzle, where `tile` has been moved by `offset` pixels into the direction `(dx, dy)`."
   ]
  },
  {
   "cell_type": "code",
   "execution_count": 10,
   "metadata": {},
   "outputs": [],
   "source": [
    "def draw(S: State, canvas: cnv.canvas, dx: int, dy: int, tile: str, offset: int) -> None:\n",
    "    canvas.text_align    = 'center'\n",
    "    canvas.text_baseline = 'middle'\n",
    "    with cnv.hold_canvas(canvas):\n",
    "        canvas.clear()\n",
    "        n = len(S)\n",
    "        for row in range(n):\n",
    "            for col in range(n):\n",
    "                tile_to_draw = S[row][col]\n",
    "                if tile_to_draw != '*':\n",
    "                    color = Colors[int(tile_to_draw)]\n",
    "                else:\n",
    "                    color = 'lightyellow'\n",
    "                canvas.fill_style = color\n",
    "                if tile_to_draw not in ('0', tile):\n",
    "                    x = col * gSize\n",
    "                    y = row * gSize\n",
    "                    canvas.fill_rect(x, y, gSize, gSize)\n",
    "                    canvas.stroke_rect(x, y, gSize, gSize)\n",
    "                    canvas.line_width = 3.0\n",
    "                    x += gSize // 2\n",
    "                    y += gSize // 2\n",
    "                    canvas.stroke_text(str(tile_to_draw), x, y)\n",
    "                elif tile_to_draw == tile:\n",
    "                    x = col * gSize + offset * dx\n",
    "                    y = row * gSize + offset * dy\n",
    "                    canvas.fill_rect(x, y, gSize, gSize)\n",
    "                    canvas.stroke_rect(x, y, gSize, gSize)\n",
    "                    canvas.line_width = 3.0\n",
    "                    x += gSize // 2\n",
    "                    y += gSize // 2\n",
    "                    if tile_to_draw != 0:\n",
    "                        canvas.stroke_text(str(tile_to_draw), x, y)"
   ]
  },
  {
   "cell_type": "code",
   "execution_count": 11,
   "metadata": {},
   "outputs": [],
   "source": [
    "def create_canvas(n: int) -> cnv.canvas: \n",
    "    canvas = cnv.Canvas(size=(gSize * n, gSize * n))\n",
    "    canvas.font = '60px serif'\n",
    "    return canvas"
   ]
  },
  {
   "cell_type": "code",
   "execution_count": 12,
   "metadata": {},
   "outputs": [],
   "source": [
    "def draw_state(S: State) -> None:\n",
    "    n = len(S)\n",
    "    canvas = create_canvas(n)\n",
    "    draw(S, canvas, 0, 0, '+', 0)\n",
    "    display(canvas) # type: ignore"
   ]
  },
  {
   "cell_type": "markdown",
   "metadata": {},
   "source": [
    "The global variable `gDelay` controls the speed of the animation.  \n",
    "<b style=\"color:red; background-color:lightyellow\">If the animation is jerky on your computer, try increasing the value of the variable `gDelay` below.</b>"
   ]
  },
  {
   "cell_type": "code",
   "execution_count": 13,
   "metadata": {},
   "outputs": [],
   "source": [
    "gDelay = 0.003"
   ]
  },
  {
   "cell_type": "markdown",
   "metadata": {},
   "source": [
    "The function call `tile_and_direction(state, next_state)` takes a state and the state that follows this state and returns a triple (tile, dx, dy) where tile is the tile that is moved to transform `state` into `next_state` and `(dx, dy)` is the direction in which this tile is moved."
   ]
  },
  {
   "cell_type": "code",
   "execution_count": 14,
   "metadata": {},
   "outputs": [],
   "source": [
    "def find_tile(tile: str, S: State) -> tuple[int, int]:\n",
    "    return None # type: ignore"
   ]
  },
  {
   "cell_type": "code",
   "execution_count": 15,
   "metadata": {},
   "outputs": [],
   "source": [
    "def tile_and_direction(S: State, NS: State) -> tuple[str, int, int]:\n",
    "    row0, col0 = find_tile('0', S)\n",
    "    row1, col1 = find_tile('0', NS)\n",
    "    return S[row1][col1], col0-col1, row0-row1"
   ]
  },
  {
   "cell_type": "markdown",
   "metadata": {},
   "source": [
    "Given a list of states representing a solution to the sliding puzzle, the function call \n",
    "`animation(Solution)` animates the solution."
   ]
  },
  {
   "cell_type": "code",
   "execution_count": 16,
   "metadata": {},
   "outputs": [],
   "source": [
    "def animation(Solution: list[State]) -> None:\n",
    "    start  = Solution[0]\n",
    "    n      = len(start)\n",
    "    canvas = create_canvas(n)\n",
    "    draw(start, canvas, 0, 0, '0', 0)\n",
    "    m = len(Solution)\n",
    "    display(canvas) # type:ignore\n",
    "    for i in range(m-1):\n",
    "        state = Solution[i]\n",
    "        tile, dx, dy = tile_and_direction(state, Solution[i+1])\n",
    "        for offset in range(gSize+1):\n",
    "            draw(state, canvas, dx, dy, tile, offset)\n",
    "            time.sleep(gDelay)"
   ]
  },
  {
   "cell_type": "markdown",
   "metadata": {},
   "source": [
    "## <a id=\"detailed_explanation\">Taoistic Search: Detailed Explanation</a>"
   ]
  },
  {
   "cell_type": "markdown",
   "metadata": {},
   "source": [
    "Let us begin by our explanation by drawing both the states `Start` and `Goal` of our *search problem*."
   ]
  },
  {
   "cell_type": "code",
   "execution_count": 17,
   "metadata": {},
   "outputs": [
    {
     "data": {
      "application/vnd.jupyter.widget-view+json": {
       "model_id": "e0326a86e3394b498930a9545706e7d3",
       "version_major": 2,
       "version_minor": 0
      },
      "text/plain": [
       "Canvas()"
      ]
     },
     "metadata": {},
     "output_type": "display_data"
    }
   ],
   "source": [
    "draw_state(Start)"
   ]
  },
  {
   "cell_type": "code",
   "execution_count": 18,
   "metadata": {
    "scrolled": false
   },
   "outputs": [
    {
     "data": {
      "application/vnd.jupyter.widget-view+json": {
       "model_id": "7bbbbc5e2fce4cdabfa5ba025c483187",
       "version_major": 2,
       "version_minor": 0
      },
      "text/plain": [
       "Canvas()"
      ]
     },
     "metadata": {},
     "output_type": "display_data"
    }
   ],
   "source": [
    "draw_state(Goal)"
   ]
  },
  {
   "cell_type": "markdown",
   "metadata": {},
   "source": [
    "To solve a specific case of the 15-puzzle, one effective strategy is to initially focus on positioning the tiles labeled `14` and `15` in their designated locations, without concerning ourselves with the placement of the other tiles. To facilitate this approach, we introduce two novel constructs, namely `Start1` and `Goal1`. These are referred to as <em style=\"color:blue\">extended states</em>. In these <em style=\"color:blue\">extended states</em>, all tiles irrelevant to the immediate goal of correctly positioning `14` and `15` are substituted with <em style=\"color:blue\">wildcard tiles</em>, represented by the symbol `'*'`. <em style=\"color:blue\">Extended states</em> are also commonly known as <em style=\"color:blue\">patterns</em> in this context.\n"
   ]
  },
  {
   "cell_type": "code",
   "execution_count": 19,
   "metadata": {},
   "outputs": [
    {
     "data": {
      "application/vnd.jupyter.widget-view+json": {
       "model_id": "542b5d8796d5463c9442db78a98398e5",
       "version_major": 2,
       "version_minor": 0
      },
      "text/plain": [
       "Canvas()"
      ]
     },
     "metadata": {},
     "output_type": "display_data"
    }
   ],
   "source": [
    "Start1 = ( ( '0', '14',  '*',  '*' ),\n",
    "           ( '*',  '*',  '*',  '*' ),\n",
    "           ( '*',  '*',  '*', '15' ),\n",
    "           ( '*',  '*',  '*',  '*' )\n",
    "         )\n",
    "draw_state(Start1)"
   ]
  },
  {
   "cell_type": "code",
   "execution_count": 20,
   "metadata": {},
   "outputs": [
    {
     "data": {
      "application/vnd.jupyter.widget-view+json": {
       "model_id": "8d4ad32099894a57a315a955c8023872",
       "version_major": 2,
       "version_minor": 0
      },
      "text/plain": [
       "Canvas()"
      ]
     },
     "metadata": {},
     "output_type": "display_data"
    }
   ],
   "source": [
    "Goal1 = ( ( '*', '*',  '*',  '*' ),\n",
    "          ( '*', '*',  '*',  '*' ),\n",
    "          ( '*', '*',  '*',  '*' ),\n",
    "          ( '*', '*', '14', '15' )\n",
    "        )\n",
    "draw_state(Goal1)"
   ]
  },
  {
   "cell_type": "markdown",
   "metadata": {},
   "source": [
    "\n",
    "It is important to note that in the creation of the state `Goal1`, the tile labeled `'0'` has been substituted with a wildcard tile `'*'`, whereas this replacement does not occur in the state `Start1`. The reason is that we do \n",
    "not know where this tile will end up when we have reached the state `Goal1`.\n",
    "\n",
    "The search problem, as defined by the states `Start1` and `Goal1`, is relatively straightforward to resolve. We record the sequence of <em style=\"color:blue\">actions</em>—specifically, the movements of the empty tile—required to transform `Start1` into `Goal1`. These recorded actions are then applied to the state `Start`, leading to a potential outcome resembling the state `S1`, as depicted below."
   ]
  },
  {
   "cell_type": "code",
   "execution_count": 21,
   "metadata": {},
   "outputs": [
    {
     "data": {
      "application/vnd.jupyter.widget-view+json": {
       "model_id": "b2e81948baee415e884c3bc7d34d3d31",
       "version_major": 2,
       "version_minor": 0
      },
      "text/plain": [
       "Canvas()"
      ]
     },
     "metadata": {},
     "output_type": "display_data"
    }
   ],
   "source": [
    "S1 = ( ('10',  '8', '13', '12'),\n",
    "       ('11',  '5',  '2',  '9'),\n",
    "       ( '6',  '7',  '0',  '4'),\n",
    "       ( '3',  '1', '14', '15')\n",
    "     )\n",
    "draw_state(S1)"
   ]
  },
  {
   "cell_type": "markdown",
   "metadata": {},
   "source": [
    "Our next goal is to move the tiles numbered with `12` and `13` into their final position.  To this end we define the \n",
    "<em style=\"color:blue\">extended states</em> `Start2` and `Goal2` as shown below."
   ]
  },
  {
   "cell_type": "code",
   "execution_count": 22,
   "metadata": {},
   "outputs": [
    {
     "data": {
      "application/vnd.jupyter.widget-view+json": {
       "model_id": "2c12fe9619e649779647865eaefbb10b",
       "version_major": 2,
       "version_minor": 0
      },
      "text/plain": [
       "Canvas()"
      ]
     },
     "metadata": {},
     "output_type": "display_data"
    }
   ],
   "source": [
    "Start2 = ( ( '*', '*', '13', '12' ),\n",
    "           ( '*', '*',  '*',  '*' ),\n",
    "           ( '*', '*',  '0',  '*' ),\n",
    "           ( '*', '*', '14', '15' )\n",
    "        )\n",
    "draw_state(Start2)"
   ]
  },
  {
   "cell_type": "code",
   "execution_count": 23,
   "metadata": {},
   "outputs": [
    {
     "data": {
      "application/vnd.jupyter.widget-view+json": {
       "model_id": "745935089b5c49e58c486737e5dfe23a",
       "version_major": 2,
       "version_minor": 0
      },
      "text/plain": [
       "Canvas()"
      ]
     },
     "metadata": {},
     "output_type": "display_data"
    }
   ],
   "source": [
    "Goal2 = ( ( '*',  '*',  '*',  '*'),\n",
    "          ( '*',  '*',  '*',  '*'),\n",
    "          ( '*',  '*',  '*',  '*'),\n",
    "          ('12', '13', '14', '15')\n",
    "        )\n",
    "draw_state(Goal2)"
   ]
  },
  {
   "cell_type": "markdown",
   "metadata": {},
   "source": [
    "Again, we solve the resulting search problem and remember the actions that transformed `Start2` into `Goal2`.  We apply these actions to the state `S1` and end up with `S1` being transformed into the state `S2` shown below."
   ]
  },
  {
   "cell_type": "code",
   "execution_count": 24,
   "metadata": {},
   "outputs": [
    {
     "data": {
      "application/vnd.jupyter.widget-view+json": {
       "model_id": "3555bcf7bcc14c04a7f9c4e81c6ab41c",
       "version_major": 2,
       "version_minor": 0
      },
      "text/plain": [
       "Canvas()"
      ]
     },
     "metadata": {},
     "output_type": "display_data"
    }
   ],
   "source": [
    "S2 = ( ('10',  '5',  '8',  '9'),\n",
    "       ( '6', '11',  '7',  '4'),\n",
    "       ( '1',  '3',  '0',  '2'),\n",
    "       ('12', '13', '14', '15')\n",
    "     )\n",
    "draw_state(S2)"
   ]
  },
  {
   "cell_type": "markdown",
   "metadata": {},
   "source": [
    "Proceeding in this way we can solve the given instance of the 15-puzzle.  The solution that we find will not be optimal but it won't be too far from the optimal solution."
   ]
  },
  {
   "cell_type": "markdown",
   "metadata": {},
   "source": [
    "## Auxiliary Functions for the Sliding Puzzle"
   ]
  },
  {
   "cell_type": "markdown",
   "metadata": {},
   "source": [
    "The function call `find_tile(tile, S)` finds the coordinates of the given `tile` in the state `S`.  The `tile` is represented as a string from the set \n",
    "\n",
    "`{'0', '1', ..., '15'}`,\n",
    "\n",
    "where `'0'` represents the empty tile.  \n",
    "\n",
    "<b style=\"color:blue; background-color:yellow\">Nota bene:</b>\n",
    "There are two types of **errors** that are commonly made in this exercise:\n",
    "  - We represent the tiles as strings instead of numbers as we will later replace \n",
    "    some of these tiles by the wildcard character `'*'`.  If you use numbers instead\n",
    "    of strings, your code will not work.\n",
    "  - Do not mix up rows and colums.  Note that the columns correspond\n",
    "    to the $x$-coordinate of a coordinate system, while the rows correspond to the $y$-coordinate."
   ]
  },
  {
   "cell_type": "code",
   "execution_count": 25,
   "metadata": {},
   "outputs": [],
   "source": [
    "def find_tile(tile: str, S: State) -> tuple[int, int]:\n",
    "    n = len(S)\n",
    "    for row in range(n):\n",
    "        for col in range(n):\n",
    "            if S[row][col] == tile:\n",
    "                return row, col\n",
    "    return None # type: ignore"
   ]
  },
  {
   "cell_type": "markdown",
   "metadata": {},
   "source": [
    "Since A$^*$-search stores the set of states that have been visited, we have to represent states by immutable objects and hence we represent the states as tuples of tuples.  In order to be able to change these states, we have to transform these tuples of tuples into lists of lists.  The function `to_list` transforms a tuple of tuples into a list of lists."
   ]
  },
  {
   "cell_type": "code",
   "execution_count": 26,
   "metadata": {},
   "outputs": [],
   "source": [
    "def to_list(S: State) -> list[list[str]]:\n",
    "    return [list(row) for row in S]"
   ]
  },
  {
   "cell_type": "markdown",
   "metadata": {},
   "source": [
    "The function `to_tuple` transforms a list of lists into a tuple of tuples."
   ]
  },
  {
   "cell_type": "code",
   "execution_count": 27,
   "metadata": {},
   "outputs": [],
   "source": [
    "def to_tuple(S: list[list[str]]) -> State:\n",
    "    return tuple(tuple(row) for row in S)"
   ]
  },
  {
   "cell_type": "markdown",
   "metadata": {},
   "source": [
    "Given a `State` that satisfies \n",
    "```\n",
    "    State[row][col] == '0'\n",
    "```\n",
    "and a direction `(dx, dy)` that is an element form the set \n",
    "$\\bigl\\{ (1, 0), (-1, 0), (0, 1), (0, -1) \\bigr\\}$,\n",
    "the function `move_dir` moves the empty tile in the direction `(dx, dy)`."
   ]
  },
  {
   "cell_type": "code",
   "execution_count": 28,
   "metadata": {},
   "outputs": [],
   "source": [
    "def move_dir(S: State, row: int, col: int, dx: int, dy: int) -> State:\n",
    "    S = to_list(S)\n",
    "    S[row     ][col     ] = S[row + dy][col + dx]\n",
    "    S[row + dy][col + dx] = '0'\n",
    "    return to_tuple(S)"
   ]
  },
  {
   "cell_type": "markdown",
   "metadata": {},
   "source": [
    "Given a `State` of the sliding puzzle, the function `next_states(State)` computes all those states that can be reached from `State` in one step."
   ]
  },
  {
   "cell_type": "code",
   "execution_count": 29,
   "metadata": {},
   "outputs": [],
   "source": [
    "def next_states(S: State) -> set[State]:\n",
    "    n          = len(S)\n",
    "    row, col   = find_tile('0', S)\n",
    "    NewStates  = set()\n",
    "    Directions = [ (1, 0), (-1, 0), (0, 1), (0, -1) ]\n",
    "    for dx, dy in Directions:\n",
    "        if row + dy in range(n) and col + dx in range(n):\n",
    "            NewStates.add(move_dir(S, row, col, dx, dy))\n",
    "    return NewStates"
   ]
  },
  {
   "cell_type": "markdown",
   "metadata": {},
   "source": [
    "The function `matches(Pattern, S)` checks, whether the *pattern* `Pattern` matches the state `S`.  A *pattern* is like a state but instead of numbers,  some of the entries of the list of lists have the form `'*'`.  The idea is that the string `'*'` is a wildcard that matches anything.\n",
    "\n",
    "<b style=\"color:blue; background-color:yellow\">Note</b> that `S` can also be an *extended state*, i.e. `S` can contain the wildcard `'*'`. "
   ]
  },
  {
   "cell_type": "code",
   "execution_count": null,
   "metadata": {},
   "outputs": [],
   "source": [
    "def matches(Pattern: State, S: State) -> bool:\n",
    "    \"your code here\""
   ]
  },
  {
   "cell_type": "markdown",
   "metadata": {},
   "source": [
    "The function `manhattan` implemented below takes as argument two *extended states* `S1` and `S2` \n",
    "possibly containing wildcards and computes the *Manhattan distance* between these \n",
    "extended states. Basically, the manhattan distance measure the number of moves that it would take to transform `S1` into `S2` if we were allowed to slide different tiles on top of each other.\n",
    "When computing these distances,  tiles that are numbered with a wildcard are ignored."
   ]
  },
  {
   "cell_type": "code",
   "execution_count": null,
   "metadata": {},
   "outputs": [],
   "source": [
    "def manhattan(S1: State, S2: State) -> int:\n",
    "    \"your code here\""
   ]
  },
  {
   "cell_type": "markdown",
   "metadata": {},
   "source": [
    "The function `find_numbers` takes a <em style=\"color:blue\">pattern</em> `Pattern` as input and returns the\n",
    "list of all tiles in `Pattern` that are labeled with a number."
   ]
  },
  {
   "cell_type": "code",
   "execution_count": null,
   "metadata": {},
   "outputs": [],
   "source": [
    "def find_numbers(Pattern: State) -> list[str]:\n",
    "    Result = []\n",
    "    n = len(Pattern)\n",
    "    for row in range(n):\n",
    "        for col in range(n):\n",
    "            tile = Pattern[row][col]\n",
    "            if tile != '*':\n",
    "                Result.append(tile)\n",
    "    return Result"
   ]
  },
  {
   "cell_type": "markdown",
   "metadata": {},
   "source": [
    "The function `replace_numbers` takes two arguments:\n",
    "- `Pattern` is an *extended state*,\n",
    "- `Tiles` is a list of numbered tiles.\n",
    "\n",
    "The state `Pattern` is transformed by replacing all tiles that are not a member of the list `Tiles`\n",
    "with the wildcard character `*`."
   ]
  },
  {
   "cell_type": "code",
   "execution_count": null,
   "metadata": {},
   "outputs": [],
   "source": [
    "def replace_numbers(Pattern: State, Tiles: list[str]) -> State:\n",
    "    \"your code here\""
   ]
  },
  {
   "cell_type": "markdown",
   "metadata": {},
   "source": [
    "The function `intermediate_goals` is called with two parameters:\n",
    "- `Goal` is a state of the 15-puzzle,\n",
    "- `TilesList` is a list of list of numbers.\n",
    "   For example, `TilesList` could be the list \n",
    "   \n",
    "   `[ [14, 15], [12, 13] ]`.\n",
    "   \n",
    "   This list would specify that we want to create two intermediate \n",
    "   goals.  \n",
    "   - The first goal would only have the tiles numbered `14`and `15`,\n",
    "     while all other tiles would be replaced by wildcards.\n",
    "   - The second goal would only have the tiles numbered `12`, `13`, `14`,\n",
    "     and `15`, while all other tiles would be replaced by wildcards.\n",
    "\n",
    "The function returns the list of intermediate goals. "
   ]
  },
  {
   "cell_type": "code",
   "execution_count": null,
   "metadata": {},
   "outputs": [],
   "source": [
    "def intermediate_goals(Goal: State, TilesList: list[list[str]]) -> list[State]:\n",
    "    \"your code here\""
   ]
  },
  {
   "cell_type": "markdown",
   "metadata": {},
   "source": [
    "Given two extended states $P_1$ and $P_2$ the function `extract_move` returns a pair `(dx, dy)` such that we have:\n",
    "$$ (r, c) = \\texttt{find_tile}(0, P_1) \\rightarrow \\texttt{move_dir}(P_1, r, c, dx, dy) = P_2\n",
    "$$\n",
    "Hence `extract_move`($P_1$, $P_2$) computes the action that is necessary to transform $P_1$ into $P_2$.  This action is encoded as a direction $(dx, dy)$.  This is the direction to move the empty tile in $P_1$ to reach $P_2$."
   ]
  },
  {
   "cell_type": "code",
   "execution_count": null,
   "metadata": {},
   "outputs": [],
   "source": [
    "Move = tuple[int, int]"
   ]
  },
  {
   "cell_type": "code",
   "execution_count": null,
   "metadata": {},
   "outputs": [],
   "source": [
    "def extract_move(P1: State, P2: State) -> Move:\n",
    "    \"your code here\""
   ]
  },
  {
   "cell_type": "markdown",
   "metadata": {},
   "source": [
    "Given a list of extended states `PatternList` of the form\n",
    "$$ \\texttt{PatternList} = [P_1, P_2, \\cdots, P_n] $$\n",
    "the function `extract_move_list` computes a list of actions $[a_1, a_2, \\cdots, a_{n-1}]$ such that\n",
    "applying action $(a_i)$ to state $P_i$ results in state $P_{i+1}$.  \n",
    "The actions are pairs of the form `(dx, dy)` that specify how the empty tile is to be moved."
   ]
  },
  {
   "cell_type": "code",
   "execution_count": null,
   "metadata": {},
   "outputs": [],
   "source": [
    "def extract_move_list(PatternList: list[State]) -> list[Move]:\n",
    "    \"your code here\""
   ]
  },
  {
   "cell_type": "markdown",
   "metadata": {},
   "source": [
    "Given the list of actions `MoveList` of the form $[a_1, a_2, \\cdots, a_{n-1}]$, the function\n",
    "`apply_move_list` takes a state `State` and applies these action to `State`one by one.  The list of all\n",
    "states produced this way is returned.  This list starts with the given state `State`."
   ]
  },
  {
   "cell_type": "code",
   "execution_count": null,
   "metadata": {},
   "outputs": [],
   "source": [
    "def apply_move_list(S: State, MoveList: list[Move]) -> list[State]:\n",
    "    \"your code here\""
   ]
  },
  {
   "cell_type": "markdown",
   "metadata": {},
   "source": [
    "The function `stateToString` is useful for debugging purposes to transform a given state into a string."
   ]
  },
  {
   "cell_type": "code",
   "execution_count": 30,
   "metadata": {},
   "outputs": [],
   "source": [
    "def stateToString(S: State) -> str:\n",
    "    n      = len(S)\n",
    "    indent = \" \" * 4;\n",
    "    line   = indent + \"+---\" * n + \"+\\n\"\n",
    "    result = line\n",
    "    for row in range(n):\n",
    "        result += indent + \"|\"\n",
    "        for col in range(n):\n",
    "            cell = S[row][col]\n",
    "            if isinstance(cell, str) and cell != '*':\n",
    "                number = int(cell)\n",
    "            if cell == \"*\":\n",
    "                result += \" * \"\n",
    "            elif number >= 10:\n",
    "                result += str(cell) + \" \"\n",
    "            elif 0 < number < 10:\n",
    "                result += \" \" + cell + \" \"\n",
    "            else: \n",
    "                result += \"   \"\n",
    "            result += \"|\"\n",
    "        result += \"\\n\"\n",
    "        result += line\n",
    "    return result"
   ]
  },
  {
   "cell_type": "code",
   "execution_count": 31,
   "metadata": {},
   "outputs": [
    {
     "name": "stdout",
     "output_type": "stream",
     "text": [
      "    +---+---+---+---+\n",
      "    |   |14 | 8 |12 |\n",
      "    +---+---+---+---+\n",
      "    |10 |11 |13 | 9 |\n",
      "    +---+---+---+---+\n",
      "    | 6 | 2 | 4 |15 |\n",
      "    +---+---+---+---+\n",
      "    | 3 | 5 | 7 | 1 |\n",
      "    +---+---+---+---+\n",
      "\n"
     ]
    }
   ],
   "source": [
    "print(stateToString(Start))"
   ]
  },
  {
   "cell_type": "markdown",
   "metadata": {},
   "source": [
    "## A$^*$ Search"
   ]
  },
  {
   "cell_type": "code",
   "execution_count": 32,
   "metadata": {},
   "outputs": [],
   "source": [
    "import heapq"
   ]
  },
  {
   "cell_type": "markdown",
   "metadata": {},
   "source": [
    "The function `search` takes three arguments to solve a *search problem*:\n",
    "- `Start` is the start state of the search problem.\n",
    "- `Goal`is the goal state.  This might be an *extended state*.\n",
    "- `next_states` is a function with signature $\\texttt{next_states}:Q \\rightarrow 2^Q$, where $Q$ is the set of states.\n",
    "  For every state $s \\in Q$, $\\texttt{next_states}(s)$ is the set of states that can be reached from $s$ in one step.\n",
    "- `heuristic` is a function that takes two states as arguments.  It returns an estimate of the \n",
    "  length of the shortest path between these states.\n",
    "If successful, `search` returns a path from `start` to `goal` that is a solution of the search problem\n",
    "$$ \\langle Q, \\texttt{next_states}, \\texttt{start}, \\texttt{goal} \\rangle. $$\n",
    "\n",
    "Basically, the function `search` implements A$^*$ search, but instead of checking whether a state is identical to `Goal`, this function only tests whether a state *matches* goal."
   ]
  },
  {
   "cell_type": "markdown",
   "metadata": {},
   "source": [
    "The parameter `Goal` is not a state, but only a *pattern*."
   ]
  },
  {
   "cell_type": "code",
   "execution_count": 33,
   "metadata": {},
   "outputs": [],
   "source": [
    "from typing import Callable\n",
    "NxtStFct  = Callable[[State], set[State]]\n",
    "Heuristic = Callable[[State, State], int]"
   ]
  },
  {
   "cell_type": "code",
   "execution_count": null,
   "metadata": {},
   "outputs": [],
   "source": [
    "def search(start: State, goal: State, next_states: NxtStFct, heuristic: Heuristic) -> list[State] | None:\n",
    "    Visited: set[State] = set()\n",
    "    PrioQueue = [ (heuristic(start, goal), [start]) ]\n",
    "    while len(PrioQueue) > 0:\n",
    "        _, Path = heapq.heappop(PrioQueue)\n",
    "        state   = Path[-1]\n",
    "        if state in Visited:\n",
    "            continue\n",
    "        if matches(goal, state):\n",
    "            print(f'Number of states visited: {len(Visited)}')\n",
    "            return Path\n",
    "        for ns in next_states(state):           \n",
    "            if ns not in Visited:\n",
    "                prio = heuristic(ns, goal) + len(Path)\n",
    "                heapq.heappush(PrioQueue, (prio, Path + [ns]))\n",
    "        Visited.add(state)\n",
    "    return None "
   ]
  },
  {
   "cell_type": "markdown",
   "metadata": {},
   "source": [
    "## Putting It All Together"
   ]
  },
  {
   "cell_type": "markdown",
   "metadata": {},
   "source": [
    "Lets draw the start state and animate the solution that has been found."
   ]
  },
  {
   "cell_type": "code",
   "execution_count": null,
   "metadata": {},
   "outputs": [],
   "source": [
    "def main() -> list[State] | None:\n",
    "    TilesList   = [['14', '15'], \n",
    "                   ['12', '13'], \n",
    "                   ['10', '11'], \n",
    "                   [ '8',  '9'], \n",
    "                   [ '3',  '7'], \n",
    "                   [ '2',  '6'], \n",
    "                   [ '4',  '5'],\n",
    "                   [       '1']\n",
    "                  ]\n",
    "    PatternList = intermediate_goals(Goal, TilesList)\n",
    "    State       = Start\n",
    "    Solution    = []\n",
    "    print('Start state:')\n",
    "    draw_state(Start)\n",
    "    for Pattern in PatternList:\n",
    "        print('Trying to reach the following pattern:')\n",
    "        draw_state(Pattern)\n",
    "        Tiles = find_numbers(Pattern)\n",
    "        ExtendedState = replace_numbers(State, Tiles + ['0'])\n",
    "        Path = search(ExtendedState, Pattern, next_states, manhattan)\n",
    "        if Path:\n",
    "            MoveList = extract_move_list(Path)\n",
    "            Path = apply_move_list(State, MoveList)\n",
    "            print(f'The following state is reached after {len(Path)-1} steps:');\n",
    "            State = Path[-1]\n",
    "            draw_state(State)\n",
    "            Solution += Path[:-1]\n",
    "        else:\n",
    "            return None\n",
    "    Solution += [ Goal ]\n",
    "    return Solution"
   ]
  },
  {
   "cell_type": "code",
   "execution_count": null,
   "metadata": {},
   "outputs": [],
   "source": [
    "Path = main()\n",
    "if Path:\n",
    "    print(len(Path)-1)"
   ]
  },
  {
   "cell_type": "code",
   "execution_count": null,
   "metadata": {},
   "outputs": [],
   "source": [
    "if Path:\n",
    "    animation(Path) "
   ]
  },
  {
   "cell_type": "code",
   "execution_count": null,
   "metadata": {},
   "outputs": [],
   "source": [
    "def shorten(Solution: list[State]) -> list[State]:\n",
    "    shorterSolution = []\n",
    "    k = 0\n",
    "    while k < len(Solution) - 1:\n",
    "        shorterSolution.append(Solution[k])\n",
    "        if k + 2 < len(Solution) and Solution[k] == Solution[k + 2]:\n",
    "            k += 3\n",
    "        else: \n",
    "            k += 1\n",
    "    shorterSolution += [Solution[-1]]\n",
    "    return shorterSolution"
   ]
  },
  {
   "cell_type": "code",
   "execution_count": null,
   "metadata": {},
   "outputs": [],
   "source": [
    "if Path:\n",
    "    animation(shorten(Path)) "
   ]
  },
  {
   "cell_type": "code",
   "execution_count": null,
   "metadata": {},
   "outputs": [],
   "source": [
    "if Path:\n",
    "    print(len(shorten(Path))-1)"
   ]
  },
  {
   "cell_type": "code",
   "execution_count": null,
   "metadata": {},
   "outputs": [],
   "source": []
  }
 ],
 "metadata": {
  "kernelspec": {
   "display_name": "Python 3 (ipykernel)",
   "language": "python",
   "name": "python3"
  },
  "language_info": {
   "codemirror_mode": {
    "name": "ipython",
    "version": 3
   },
   "file_extension": ".py",
   "mimetype": "text/x-python",
   "name": "python",
   "nbconvert_exporter": "python",
   "pygments_lexer": "ipython3",
   "version": "3.12.8"
  },
  "toc": {
   "base_numbering": 1,
   "nav_menu": {},
   "number_sections": true,
   "sideBar": true,
   "skip_h1_title": false,
   "title_cell": "Table of Contents",
   "title_sidebar": "Contents",
   "toc_cell": false,
   "toc_position": {},
   "toc_section_display": true,
   "toc_window_display": false
  },
  "varInspector": {
   "cols": {
    "lenName": 16,
    "lenType": 16,
    "lenVar": 40
   },
   "kernels_config": {
    "python": {
     "delete_cmd_postfix": "",
     "delete_cmd_prefix": "del ",
     "library": "var_list.py",
     "varRefreshCmd": "print(var_dic_list())"
    },
    "r": {
     "delete_cmd_postfix": ") ",
     "delete_cmd_prefix": "rm(",
     "library": "var_list.r",
     "varRefreshCmd": "cat(var_dic_list()) "
    }
   },
   "types_to_exclude": [
    "module",
    "function",
    "builtin_function_or_method",
    "instance",
    "_Feature"
   ],
   "window_display": false
  }
 },
 "nbformat": 4,
 "nbformat_minor": 4
}
