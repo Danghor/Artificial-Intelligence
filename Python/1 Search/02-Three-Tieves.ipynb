{
 "cells": [
  {
   "cell_type": "code",
   "execution_count": 6,
   "metadata": {},
   "outputs": [
    {
     "data": {
      "text/html": [
       "<link href='http://fonts.googleapis.com/css?family=Alegreya+Sans:100,300,400,500,700,800,900,100italic,300italic,400italic,500italic,700italic,800italic,900italic' rel='stylesheet' type='text/css'>\n",
       "<link href='http://fonts.googleapis.com/css?family=Arvo:400,700,400italic' rel='stylesheet' type='text/css'>\n",
       "<link href='http://fonts.googleapis.com/css?family=PT+Mono' rel='stylesheet' type='text/css'>\n",
       "<link href='http://fonts.googleapis.com/css?family=Shadows+Into+Light' rel='stylesheet' type='text/css'>\n",
       "<link href='http://fonts.googleapis.com/css?family=Philosopher:400,700,400italic,700italic' rel='stylesheet' type='text/css'>\n",
       "<link href=\"http://fonts.googleapis.com/css?family=Sacramento\" rel=\"stylesheet\" type=\"text/css\">\n",
       "\n",
       "<style>\n",
       "\n",
       "@font-face {\n",
       "    font-family: \"Computer Modern\";\n",
       "    src: url('http://mirrors.ctan.org/fonts/cm-unicode/fonts/otf/cmunss.otf');\n",
       "}\n",
       "\n",
       ".container { width: 100% }\n",
       "\n",
       "/* Formatting for header cells */\n",
       ".text_cell_render h1 {\n",
       "    font-family: 'Philosopher', sans-serif;\n",
       "    font-weight: 400;\n",
       "    font-size: 2.2em;\n",
       "    line-height: 100%;\n",
       "    color: rgb(0, 80, 120);\n",
       "    margin-bottom: 0.1em;\n",
       "    margin-top: 0.1em;\n",
       "    display: block;\n",
       "}\t\n",
       ".text_cell_render h2 {\n",
       "    font-family: 'Philosopher', serif;\n",
       "    font-weight: 400;\n",
       "    font-size: 1.9em;\n",
       "    line-height: 100%;\n",
       "    color: rgb(200,100,0);\n",
       "    margin-bottom: 0.1em;\n",
       "    margin-top: 0.1em;\n",
       "    display: block;\n",
       "}\t\n",
       "\n",
       ".text_cell_render h3 {\n",
       "    font-family: 'Philosopher', serif;\n",
       "    margin-top:12px;\n",
       "    margin-bottom: 3px;\n",
       "    font-style: italic;\n",
       "    color: rgb(94,127,192);\n",
       "}\n",
       "\n",
       ".text_cell_render h4 {\n",
       "    font-family: 'Philosopher', serif;\n",
       "}\n",
       "\n",
       ".text_cell_render h5 {\n",
       "    font-family: 'Alegreya Sans', sans-serif;\n",
       "    font-weight: 300;\n",
       "    font-size: 16pt;\n",
       "    color: grey;\n",
       "    font-style: italic;\n",
       "    margin-bottom: .1em;\n",
       "    margin-top: 0.1em;\n",
       "    display: block;\n",
       "}\n",
       "\n",
       ".text_cell_render h6 {\n",
       "    font-family: 'PT Mono', sans-serif;\n",
       "    font-weight: 300;\n",
       "    font-size: 10pt;\n",
       "    color: grey;\n",
       "    margin-bottom: 1px;\n",
       "    margin-top: 1px;\n",
       "}\n",
       "\n",
       ".text_cell_render em {\n",
       "    font-family: 'Philosopher', sans-serif;\n",
       "    color:        blue;\n",
       "    background-color: rgb(255,220,180);\n",
       "    font-size:    110%;\n",
       "    margin-left:   2px;\n",
       "    margin-right:  2px;\n",
       "    font-weight:   100;\n",
       "}\n",
       "\n",
       ".text_cell_render b {\n",
       "    color:            rgb(255,195,195);\n",
       "    background-color: rgb(0,0,0);\n",
       "    font-size:    110%;\n",
       "    margin-left:   2px;\n",
       "    margin-right:  2px;\n",
       "    font-weight:   650;\n",
       "}\n",
       "\n",
       ".text_cell_render u {\n",
       "    color:            blue;\n",
       "    font-size:    110%;\n",
       "    margin-left:   2px;\n",
       "    margin-right:  2px;\n",
       "    font-weight:   650;\n",
       "}\n",
       "\n",
       ".text_cell_render tt {\n",
       "    font-size:    120%;\n",
       "    margin-left:   2px;\n",
       "    margin-right:  2px;\n",
       "    font-weight:   150;\n",
       "}\n",
       "\n",
       ".Codemirror {\n",
       "    font-family: \"PT Mono\";\n",
       "    font-size: 100%;\n",
       "}\n",
       "\n",
       "#fancy {\n",
       "    font-family:      Georgia;\n",
       "    position:         relative;\n",
       "    float:            left;\n",
       "    border:           2px solid red;\n",
       "    width:            600px;\n",
       "    padding-left:     20px;\n",
       "    padding-right:    20px;\n",
       "    padding-top:      10px;\n",
       "    font-family:      'Sacramento', cursive;\n",
       "    font-size:        26px;\n",
       "    background-color: #F4EBF3;\n",
       "    border-radius:    15px;\n",
       "}\n",
       "\n",
       "</Style>\n",
       "\n"
      ],
      "text/plain": [
       "<IPython.core.display.HTML object>"
      ]
     },
     "execution_count": 6,
     "metadata": {},
     "output_type": "execute_result"
    }
   ],
   "source": [
    "from IPython.core.display import HTML\n",
    "with open('../style.css') as f:\n",
    "    css = f.read()\n",
    "HTML(css)"
   ]
  },
  {
   "cell_type": "code",
   "execution_count": 7,
   "metadata": {},
   "outputs": [
    {
     "name": "stdout",
     "output_type": "stream",
     "text": [
      "The nb_mypy extension is already loaded. To reload it, use:\n",
      "  %reload_ext nb_mypy\n"
     ]
    }
   ],
   "source": [
    "%load_ext nb_mypy"
   ]
  },
  {
   "cell_type": "markdown",
   "metadata": {},
   "source": [
    "# The Three Greedy Thieves"
   ]
  },
  {
   "cell_type": "markdown",
   "metadata": {},
   "source": [
    "Three greedy thieves must cross a river, each possessing a bag of gold coins:\n",
    "* Aaron has 1,000 gold coins.\n",
    "* Benjamin has 700 gold coins.\n",
    "* Chaim has 300 gold coins.\n",
    "\n",
    "There is a boat available that can carry either two people or one person along with a bag of gold coins. The boat can transport two entities at a time, meaning either two thieves or one thief and a bag can cross together. The challenge arises if a thief, or a pair of thieves, is left with a quantity of gold greater than their own, they will abscond with it.\n",
    "\n",
    "The question is whether there is a strategy that allows all three greedy thieves to cross the river without losing their respective amounts of gold."
   ]
  },
  {
   "cell_type": "markdown",
   "metadata": {},
   "source": [
    "The dictionary `Gold` stores the amount of gold coins that every thief possesses."
   ]
  },
  {
   "cell_type": "code",
   "execution_count": 8,
   "metadata": {},
   "outputs": [],
   "source": [
    "Gold: dict[str, int] = { 'A': 1000, 'B': 700, 'C': 300 }"
   ]
  },
  {
   "cell_type": "markdown",
   "metadata": {},
   "source": [
    "A state is represented as a triple of the form $(\\texttt{Thieves}, \\texttt{Bags}, \\texttt{boat})$.  Here,\n",
    "  - `Thieves` is the set of thieves on the left shore,\n",
    "  - `Bags`    is the set of bags of gold coins on the left shore, and\n",
    "  - `boat`    is the number of boats on the left shore.\n",
    "  \n",
    "The sets have to be stored as frozen sets since states have to be stored in sets in the *breadth first algorithm*."
   ]
  },
  {
   "cell_type": "code",
   "execution_count": 9,
   "metadata": {},
   "outputs": [],
   "source": [
    "State = tuple[frozenset[str], frozenset[int], int]"
   ]
  },
  {
   "cell_type": "markdown",
   "metadata": {},
   "source": [
    "The function `problem(S)` returns `True` if there is a problem on on the left shore in the state `S`."
   ]
  },
  {
   "cell_type": "code",
   "execution_count": 10,
   "metadata": {},
   "outputs": [
    {
     "name": "stderr",
     "output_type": "stream",
     "text": [
      "<cell>1: \u001b[1m\u001b[31merror:\u001b[m Missing return statement  \u001b[m\u001b[33m[empty-body]\u001b[m\n"
     ]
    }
   ],
   "source": [
    "def problem(S: State) -> bool: \n",
    "    \"your code here\""
   ]
  },
  {
   "cell_type": "markdown",
   "metadata": {},
   "source": [
    "The function `right_shore(S)` takes a state `S` and returns the state that results from switching the left and the right side. "
   ]
  },
  {
   "cell_type": "code",
   "execution_count": 11,
   "metadata": {},
   "outputs": [
    {
     "name": "stderr",
     "output_type": "stream",
     "text": [
      "<cell>1: \u001b[1m\u001b[31merror:\u001b[m Missing return statement  \u001b[m\u001b[33m[empty-body]\u001b[m\n"
     ]
    }
   ],
   "source": [
    "def right_shore(S: State) -> State:\n",
    "    \"your code here\""
   ]
  },
  {
   "cell_type": "markdown",
   "metadata": {},
   "source": [
    "The function `no_problem(S)` is true if there is no problem on either side of the river in state `S`."
   ]
  },
  {
   "cell_type": "code",
   "execution_count": 12,
   "metadata": {},
   "outputs": [],
   "source": [
    "def no_problem(S: State) -> bool: \n",
    "    return not problem(S) and not problem(right_shore(S))"
   ]
  },
  {
   "cell_type": "code",
   "execution_count": 13,
   "metadata": {},
   "outputs": [],
   "source": [
    "from typing import TypeVar, Iterable"
   ]
  },
  {
   "cell_type": "code",
   "execution_count": 14,
   "metadata": {},
   "outputs": [],
   "source": [
    "E = TypeVar('E')"
   ]
  },
  {
   "cell_type": "markdown",
   "metadata": {},
   "source": [
    "The function `arb` takes an *iterable* `S` as its first argument and returns an arbitrary element from `S`.\n",
    "If `S` is empty, `None` is returned.  In this program, `arb` will only be called with a non-empty argument `S`."
   ]
  },
  {
   "cell_type": "code",
   "execution_count": 15,
   "metadata": {},
   "outputs": [],
   "source": [
    "def arb(S: Iterable[E]) -> E:\n",
    "    for x in S:\n",
    "        return x\n",
    "    return None # type: ignore"
   ]
  },
  {
   "cell_type": "markdown",
   "metadata": {},
   "source": [
    "The function `power` takes a frozen set `S` of elements.  It returns the *power set* of `S`, \n",
    "i.e. it returns the set of all subsets of `S`. "
   ]
  },
  {
   "cell_type": "code",
   "execution_count": 16,
   "metadata": {},
   "outputs": [],
   "source": [
    "def power(S: frozenset[E]) -> set[frozenset[E]]:\n",
    "    if len(S) == 0:\n",
    "        return { frozenset() }\n",
    "    else:\n",
    "        x = arb(S)\n",
    "        P = power(S - {x})\n",
    "        return P | { M | {x} for M in P }"
   ]
  },
  {
   "cell_type": "code",
   "execution_count": 17,
   "metadata": {},
   "outputs": [
    {
     "data": {
      "text/plain": [
       "{frozenset(),\n",
       " frozenset({'A', 'C'}),\n",
       " frozenset({'A', 'B'}),\n",
       " frozenset({'C'}),\n",
       " frozenset({'B'}),\n",
       " frozenset({'A'}),\n",
       " frozenset({'B', 'C'}),\n",
       " frozenset({'A', 'B', 'C'})}"
      ]
     },
     "execution_count": 17,
     "metadata": {},
     "output_type": "execute_result"
    }
   ],
   "source": [
    "power(frozenset({'A', 'B', 'C'}))"
   ]
  },
  {
   "cell_type": "markdown",
   "metadata": {},
   "source": [
    "The function `boat_ok(Thieves, Bags)` checks two conditions:\n",
    "* There has to be at least one thief on the boat.\n",
    "* There can be at most two items on the boat."
   ]
  },
  {
   "cell_type": "code",
   "execution_count": null,
   "metadata": {},
   "outputs": [],
   "source": [
    "def boat_ok(Thieves: frozenset[str], Bags: frozenset[int]) -> bool:\n",
    "    return 1 <= len(Thieves) and len(Thieves) + len(Bags) <= 2"
   ]
  },
  {
   "cell_type": "markdown",
   "metadata": {},
   "source": [
    "The function `next_states` takes a state `S` and computes the set of states that can be reached from `S` by crossing the river. "
   ]
  },
  {
   "cell_type": "code",
   "execution_count": null,
   "metadata": {},
   "outputs": [],
   "source": [
    "def next_states(S: State) -> set[State]:\n",
    "    \"your code here\""
   ]
  },
  {
   "cell_type": "markdown",
   "metadata": {},
   "source": [
    "Initially, all thieves, their bags, and the boat are on the left shore.\n",
    "The goal is to have all thieves and their bags on the right shore, hence nothing is left on the left shore."
   ]
  },
  {
   "cell_type": "code",
   "execution_count": null,
   "metadata": {},
   "outputs": [],
   "source": [
    "start: State = (frozenset({'A', 'B', 'C'}), frozenset({1000, 700, 300}), 1)\n",
    "goal:  State = (frozenset(), frozenset(), 0)"
   ]
  },
  {
   "cell_type": "code",
   "execution_count": null,
   "metadata": {},
   "outputs": [],
   "source": [
    "next_states(start)"
   ]
  },
  {
   "cell_type": "code",
   "execution_count": null,
   "metadata": {},
   "outputs": [],
   "source": [
    "next_states(goal)"
   ]
  },
  {
   "cell_type": "markdown",
   "metadata": {},
   "source": [
    "# Printing the Solution"
   ]
  },
  {
   "cell_type": "markdown",
   "metadata": {},
   "source": [
    "To begin with, we display the transition relation that is generated by the function `next_states`.  To this end, we need the module `graphviz`."
   ]
  },
  {
   "cell_type": "code",
   "execution_count": null,
   "metadata": {},
   "outputs": [],
   "source": [
    "import graphviz as gv"
   ]
  },
  {
   "cell_type": "markdown",
   "metadata": {},
   "source": [
    "The function `stateToStr` takes a state and converts it into a string that can be used as a label for the node in the search graph. "
   ]
  },
  {
   "cell_type": "code",
   "execution_count": null,
   "metadata": {},
   "outputs": [],
   "source": [
    "def stateToStr(S: State) -> str:\n",
    "    Thieves, Bags, boat = S\n",
    "    Thieves = list(Thieves)\n",
    "    Thieves.sort()\n",
    "    Bags = list(Bags)\n",
    "    Bags.sort()\n",
    "    boat = ' _' if boat == 1 else ''\n",
    "    result = ''\n",
    "    for t in Thieves:\n",
    "        result += t\n",
    "    result += ' '    \n",
    "    for b in Bags:\n",
    "        result += str(b//100) + ','\n",
    "    return result[:-1] + boat"
   ]
  },
  {
   "cell_type": "code",
   "execution_count": null,
   "metadata": {},
   "outputs": [],
   "source": [
    "stateToStr(start)"
   ]
  },
  {
   "cell_type": "markdown",
   "metadata": {},
   "source": [
    "The function `dot_graph(R)` turns a given binary relation `R` into a graph.\n",
    "We define the type alias `Relation` as a set of pairs of `States`.\n",
    "Unfortunately, we are not able to specify the return type, as the module `graphviz` is not yet \n",
    "equipped with type annotations."
   ]
  },
  {
   "cell_type": "code",
   "execution_count": null,
   "metadata": {},
   "outputs": [],
   "source": [
    "Relation = set[tuple[State, State]]"
   ]
  },
  {
   "cell_type": "code",
   "execution_count": null,
   "metadata": {},
   "outputs": [],
   "source": [
    "frozenset({1000, 700, 300})"
   ]
  },
  {
   "cell_type": "code",
   "execution_count": null,
   "metadata": {},
   "outputs": [],
   "source": [
    "def dot_graph(R: Relation) -> gv.Digraph:\n",
    "    \"\"\"This function takes a binary relation R as inputs and shows this relation as\n",
    "       a graph using the module graphviz.\n",
    "    \"\"\"\n",
    "    dot = gv.Digraph()\n",
    "    dot.attr(rankdir='LR')\n",
    "    Nodes = { stateToStr(a) for (a,b) in R } | { stateToStr(b) for (a,b) in R }\n",
    "    for n in Nodes:\n",
    "        dot.node(n)\n",
    "    for (x, y) in R:\n",
    "        dot.edge(stateToStr(x), stateToStr(y))\n",
    "    return dot"
   ]
  },
  {
   "cell_type": "markdown",
   "metadata": {},
   "source": [
    "The function call `createRelation(start)` computes the transition relation.  It assumes that all states are reachable from `start`. "
   ]
  },
  {
   "cell_type": "code",
   "execution_count": null,
   "metadata": {},
   "outputs": [],
   "source": [
    "def createRelation(start: State) -> Relation:\n",
    "    oldM: set[State] = set()\n",
    "    M:    set[State] = { start }\n",
    "    while True:\n",
    "        oldM = M.copy()\n",
    "        M |= { y for x in M\n",
    "                 for y in next_states(x)\n",
    "             }\n",
    "        if M == oldM:\n",
    "            break\n",
    "    R: Relation = set()\n",
    "    for S in M:\n",
    "        for SX in next_states(S):\n",
    "            R.add((S, SX))\n",
    "    return R"
   ]
  },
  {
   "cell_type": "code",
   "execution_count": null,
   "metadata": {},
   "outputs": [],
   "source": [
    "createRelation(start)"
   ]
  },
  {
   "cell_type": "code",
   "execution_count": null,
   "metadata": {},
   "outputs": [],
   "source": [
    "def fillCharsLeft(x: str, n: int) -> str:\n",
    "    s = str(x)\n",
    "    m = n - len(s)\n",
    "    return m * \" \" + s"
   ]
  },
  {
   "cell_type": "code",
   "execution_count": null,
   "metadata": {},
   "outputs": [],
   "source": [
    "def fillCharsRight(x: str, n: int) -> str:\n",
    "    s = str(x)\n",
    "    m = n - len(s)\n",
    "    return s + m * \" \""
   ]
  },
  {
   "cell_type": "code",
   "execution_count": null,
   "metadata": {},
   "outputs": [],
   "source": [
    "def fillCharsBoth(x: str, n: int) -> str:\n",
    "    s  = str(x)\n",
    "    ml = (n     - len(s)) // 2\n",
    "    mr = (n + 1 - len(s)) // 2\n",
    "    return ml * \" \" + s + mr * \" \""
   ]
  },
  {
   "cell_type": "markdown",
   "metadata": {},
   "source": [
    "The function `printState(m, k, b)` displays a state where there are `m` missionaries, \n",
    "`k` cannibals, and `b` boats on the left shore."
   ]
  },
  {
   "cell_type": "code",
   "execution_count": null,
   "metadata": {},
   "outputs": [],
   "source": [
    "def printState(S: State) -> None:\n",
    "    left = stateToStr(S)\n",
    "    right = stateToStr(right_shore(S))\n",
    "    print(fillCharsRight(left, 15) + \"    |~~~~~~~|    \" + fillCharsLeft(right, 15))"
   ]
  },
  {
   "cell_type": "code",
   "execution_count": null,
   "metadata": {},
   "outputs": [],
   "source": [
    "def boatToStr(Thieves: frozenset[str], Bags: frozenset[int]) -> str:\n",
    "    Thieves, Bags\n",
    "    Thieves = list(Thieves)\n",
    "    Thieves.sort()\n",
    "    Bags = list(Bags)\n",
    "    Bags.sort()\n",
    "    result = ''\n",
    "    for t in Thieves:\n",
    "        result += t\n",
    "    result += '|'    \n",
    "    for b in Bags:\n",
    "        result += str(b//100) + ','\n",
    "    return result[:-1]"
   ]
  },
  {
   "cell_type": "markdown",
   "metadata": {},
   "source": [
    "The function `printBoat(m1, k1, b1, m2, k2, b2)` prints the boat when there are\n",
    "`m1` missionaries, `k1` cannibals, and `b1` boats on the left shore before the transition,\n",
    "while there `m2` missionaries, `k2` cannibals, and `b2` boats on the left shore after the transition.\n",
    "The function also checks whether the transition is possible at all."
   ]
  },
  {
   "cell_type": "code",
   "execution_count": null,
   "metadata": {},
   "outputs": [],
   "source": [
    "def printBoat(Before: State, After: State) -> None:\n",
    "    ThievesBefore, BagsBefore, boatsBefore = Before\n",
    "    ThievesAfter,  BagsAfter,  boatsAfter  = After\n",
    "    if boatsBefore == 1:\n",
    "        ThievesBoat = ThievesBefore - ThievesAfter\n",
    "        BagsBoat    = BagsBefore    - BagsAfter\n",
    "        print(20*\" \" + \"> \" + boatToStr(ThievesBoat, BagsBoat) + \" >\")\n",
    "    else:\n",
    "        ThievesBoat =  ThievesAfter - ThievesBefore\n",
    "        BagsBoat    =  BagsAfter    - BagsBefore \n",
    "        print(20*\" \" + \"< \" + boatToStr(ThievesBoat, BagsBoat) + \" <\")"
   ]
  },
  {
   "cell_type": "markdown",
   "metadata": {},
   "source": [
    "The function call `printPath(Path)` prints the solution of the search problem."
   ]
  },
  {
   "cell_type": "code",
   "execution_count": null,
   "metadata": {},
   "outputs": [],
   "source": [
    "def printPath(Path: list[State]) -> None:\n",
    "    print(\"Solution:\\n\")\n",
    "    for i in range(len(Path) - 1):\n",
    "        Before = Path[i]\n",
    "        After  = Path[i+1]\n",
    "        printState(Before)\n",
    "        printBoat(Before, After)\n",
    "    printState(Path[-1])"
   ]
  },
  {
   "cell_type": "code",
   "execution_count": null,
   "metadata": {},
   "outputs": [],
   "source": []
  }
 ],
 "metadata": {
  "hide_input": false,
  "kernelspec": {
   "display_name": "Python 3 (ipykernel)",
   "language": "python",
   "name": "python3"
  },
  "language_info": {
   "codemirror_mode": {
    "name": "ipython",
    "version": 3
   },
   "file_extension": ".py",
   "mimetype": "text/x-python",
   "name": "python",
   "nbconvert_exporter": "python",
   "pygments_lexer": "ipython3",
   "version": "3.12.8"
  },
  "toc": {
   "base_numbering": 1,
   "nav_menu": {},
   "number_sections": true,
   "sideBar": true,
   "skip_h1_title": false,
   "title_cell": "Table of Contents",
   "title_sidebar": "Contents",
   "toc_cell": false,
   "toc_position": {},
   "toc_section_display": true,
   "toc_window_display": false
  },
  "varInspector": {
   "cols": {
    "lenName": 16,
    "lenType": 16,
    "lenVar": 40
   },
   "kernels_config": {
    "python": {
     "delete_cmd_postfix": "",
     "delete_cmd_prefix": "del ",
     "library": "var_list.py",
     "varRefreshCmd": "print(var_dic_list())"
    },
    "r": {
     "delete_cmd_postfix": ") ",
     "delete_cmd_prefix": "rm(",
     "library": "var_list.r",
     "varRefreshCmd": "cat(var_dic_list()) "
    }
   },
   "types_to_exclude": [
    "module",
    "function",
    "builtin_function_or_method",
    "instance",
    "_Feature"
   ],
   "window_display": false
  }
 },
 "nbformat": 4,
 "nbformat_minor": 4
}
