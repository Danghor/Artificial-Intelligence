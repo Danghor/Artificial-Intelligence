{
 "cells": [
  {
   "cell_type": "code",
   "execution_count": 1,
   "metadata": {},
   "outputs": [
    {
     "data": {
      "text/html": [
       "<link href='http://fonts.googleapis.com/css?family=Alegreya+Sans:100,300,400,500,700,800,900,100italic,300italic,400italic,500italic,700italic,800italic,900italic' rel='stylesheet' type='text/css'>\n",
       "<link href='http://fonts.googleapis.com/css?family=Arvo:400,700,400italic' rel='stylesheet' type='text/css'>\n",
       "<link href='http://fonts.googleapis.com/css?family=PT+Mono' rel='stylesheet' type='text/css'>\n",
       "<link href='http://fonts.googleapis.com/css?family=Shadows+Into+Light' rel='stylesheet' type='text/css'>\n",
       "<link href='http://fonts.googleapis.com/css?family=Philosopher:400,700,400italic,700italic' rel='stylesheet' type='text/css'>\n",
       "<link href=\"http://fonts.googleapis.com/css?family=Sacramento\" rel=\"stylesheet\" type=\"text/css\">\n",
       "\n",
       "<style>\n",
       "\n",
       "@font-face {\n",
       "    font-family: \"Computer Modern\";\n",
       "    src: url('http://mirrors.ctan.org/fonts/cm-unicode/fonts/otf/cmunss.otf');\n",
       "}\n",
       "\n",
       ".container { width: 100% }\n",
       "\n",
       "/* Formatting for header cells */\n",
       ".text_cell_render h1 {\n",
       "    font-family: 'Philosopher', sans-serif;\n",
       "    font-weight: 400;\n",
       "    font-size: 2.2em;\n",
       "    line-height: 100%;\n",
       "    color: rgb(0, 80, 120);\n",
       "    margin-bottom: 0.1em;\n",
       "    margin-top: 0.1em;\n",
       "    display: block;\n",
       "}\t\n",
       ".text_cell_render h2 {\n",
       "    font-family: 'Philosopher', serif;\n",
       "    font-weight: 400;\n",
       "    font-size: 1.9em;\n",
       "    line-height: 100%;\n",
       "    color: rgb(200,100,0);\n",
       "    margin-bottom: 0.1em;\n",
       "    margin-top: 0.1em;\n",
       "    display: block;\n",
       "}\t\n",
       "\n",
       ".text_cell_render h3 {\n",
       "    font-family: 'Philosopher', serif;\n",
       "    margin-top:12px;\n",
       "    margin-bottom: 3px;\n",
       "    font-style: italic;\n",
       "    color: rgb(94,127,192);\n",
       "}\n",
       "\n",
       ".text_cell_render h4 {\n",
       "    font-family: 'Philosopher', serif;\n",
       "}\n",
       "\n",
       ".text_cell_render h5 {\n",
       "    font-family: 'Alegreya Sans', sans-serif;\n",
       "    font-weight: 300;\n",
       "    font-size: 16pt;\n",
       "    color: grey;\n",
       "    font-style: italic;\n",
       "    margin-bottom: .1em;\n",
       "    margin-top: 0.1em;\n",
       "    display: block;\n",
       "}\n",
       "\n",
       ".text_cell_render h6 {\n",
       "    font-family: 'PT Mono', sans-serif;\n",
       "    font-weight: 300;\n",
       "    font-size: 10pt;\n",
       "    color: grey;\n",
       "    margin-bottom: 1px;\n",
       "    margin-top: 1px;\n",
       "}\n",
       "\n",
       ".text_cell_render em {\n",
       "    font-family: 'Philosopher', sans-serif;\n",
       "    color:        blue;\n",
       "    background-color: rgb(255,220,180);\n",
       "    font-size:    110%;\n",
       "    margin-left:   2px;\n",
       "    margin-right:  2px;\n",
       "    font-weight:   100;\n",
       "}\n",
       "\n",
       ".text_cell_render b {\n",
       "    color:            rgb(255,195,195);\n",
       "    background-color: rgb(0,0,0);\n",
       "    font-size:    110%;\n",
       "    margin-left:   2px;\n",
       "    margin-right:  2px;\n",
       "    font-weight:   650;\n",
       "}\n",
       "\n",
       ".text_cell_render u {\n",
       "    color:            blue;\n",
       "    font-size:    110%;\n",
       "    margin-left:   2px;\n",
       "    margin-right:  2px;\n",
       "    font-weight:   650;\n",
       "}\n",
       "\n",
       ".text_cell_render tt {\n",
       "    font-size:    120%;\n",
       "    margin-left:   2px;\n",
       "    margin-right:  2px;\n",
       "    font-weight:   150;\n",
       "}\n",
       "\n",
       ".Codemirror {\n",
       "    font-family: \"PT Mono\";\n",
       "    font-size: 100%;\n",
       "}\n",
       "\n",
       "#fancy {\n",
       "    font-family:      Georgia;\n",
       "    position:         relative;\n",
       "    float:            left;\n",
       "    border:           2px solid red;\n",
       "    width:            600px;\n",
       "    padding-left:     20px;\n",
       "    padding-right:    20px;\n",
       "    padding-top:      10px;\n",
       "    font-family:      'Sacramento', cursive;\n",
       "    font-size:        26px;\n",
       "    background-color: #F4EBF3;\n",
       "    border-radius:    15px;\n",
       "}\n",
       "\n",
       "</Style>\n",
       "\n"
      ],
      "text/plain": [
       "<IPython.core.display.HTML object>"
      ]
     },
     "execution_count": 1,
     "metadata": {},
     "output_type": "execute_result"
    }
   ],
   "source": [
    "from IPython.display import display, HTML\n",
    "with open('../style.css') as f:\n",
    "    css = f.read()\n",
    "HTML(css)"
   ]
  },
  {
   "cell_type": "code",
   "execution_count": 2,
   "metadata": {},
   "outputs": [
    {
     "name": "stderr",
     "output_type": "stream",
     "text": [
      "Version 1.0.5\n"
     ]
    }
   ],
   "source": [
    "%load_ext nb_mypy"
   ]
  },
  {
   "cell_type": "markdown",
   "metadata": {},
   "source": [
    "# Missionaries and Infidels"
   ]
  },
  {
   "cell_type": "markdown",
   "metadata": {},
   "source": [
    "We illustrate the notion of a search problem with the following example, which is also known as the\n",
    "<a href=\"https://en.wikipedia.org/wiki/Missionaries_and_cannibals_problem\">missionaries and cannibals problem</a>:\n",
    "Three *missionaries* and three *infidels* have to cross a river that runs from the north to the south.\n",
    "Initially, both the missionaries and the infidels are on the western shore.  There is just one small boat and\n",
    "that boat can carry at most two passengers.  Both the missionaries and the infidels can steer the boat.\n",
    "However, if at any time the missionaries are confronted with a majority of infidels on either shore of the\n",
    "river, then the missionaries have a problem. Below is an artist's rendition of the problem.\n",
    "\n",
    "![Missionaries and Infidels](missionaries-and-infidels.png)"
   ]
  },
  {
   "cell_type": "markdown",
   "metadata": {},
   "source": [
    "$\\texttt{no_problem}(m, i)$ is true if there is no problem on either side.\n",
    "$m$ and $i$ are the number of missionaries and infidels on the left shore.\n",
    "Hence there are $3-m$ missionaries and $3-i$ infidels on the right shore.\n",
    "\n",
    "There is no problem if either all missionaries are on the same side of the river or \n",
    "if the number of missionaries is the same as the number of infidels."
   ]
  },
  {
   "cell_type": "code",
   "execution_count": 7,
   "metadata": {},
   "outputs": [],
   "source": [
    "def no_problem(M: int, I: int) -> bool: \n",
    "    return M == 0 or M == 3 or M == I"
   ]
  },
  {
   "cell_type": "markdown",
   "metadata": {},
   "source": [
    "A state is represented as a triple.  The triple $(m, i, b)$ specifies that there are\n",
    "  - $m$ missionaries,\n",
    "  - $i$ infidels, and\n",
    "  - $b$ boats\n",
    "\n",
    "on the *western* shore of the river.  This implies that there are \n",
    "$3 - m$ missionaries, $3 - i$ infidels, and $1 - b$ boats on the *eastern* shore.\n",
    "\n",
    "The type of a state is defined as a triple of integers."
   ]
  },
  {
   "cell_type": "code",
   "execution_count": 3,
   "metadata": {},
   "outputs": [],
   "source": [
    "State = tuple[int, int, int]"
   ]
  },
  {
   "cell_type": "markdown",
   "metadata": {},
   "source": [
    "The function `next_states` takes a given `state` and computes the set of states that can be reached from `state` by crossing the river. "
   ]
  },
  {
   "cell_type": "code",
   "execution_count": 4,
   "metadata": {},
   "outputs": [],
   "source": [
    "def next_states(state):\n",
    "    m, i, b = state\n",
    "    if b == 1:\n",
    "        return { (m - mb, i - ib, 0) for mb in range(m+1)\n",
    "                                     for ib in range(i+1)\n",
    "                                     if 1 <= mb + ib <= 2 and no_problem(m - mb, i - ib) \n",
    "               }\n",
    "    else:\n",
    "        return { (m + mb, i + ib, 1) for mb in range(3-m+1)\n",
    "                                     for ib in range(3-i+1)\n",
    "                                     if 1 <= mb + ib <= 2 and no_problem(m + mb, i + ib) \n",
    "               }"
   ]
  },
  {
   "cell_type": "markdown",
   "metadata": {},
   "source": [
    "Initially, all missionaries, all infidels and the boat are on the left shore.\n",
    "The goal is to have everybody on the right shore, hence the numbers on the left shore\n",
    "should all be $0$."
   ]
  },
  {
   "cell_type": "code",
   "execution_count": 5,
   "metadata": {},
   "outputs": [],
   "source": [
    "start = (3, 3, 1)\n",
    "goal  = (0, 0, 0)"
   ]
  },
  {
   "cell_type": "code",
   "execution_count": 8,
   "metadata": {},
   "outputs": [
    {
     "data": {
      "text/plain": [
       "{(2, 2, 0), (3, 1, 0), (3, 2, 0)}"
      ]
     },
     "execution_count": 8,
     "metadata": {},
     "output_type": "execute_result"
    }
   ],
   "source": [
    "next_states(start)"
   ]
  },
  {
   "cell_type": "markdown",
   "metadata": {},
   "source": [
    "In order to compute a solution of this search problem, we have to use the notebook `03-Breadth-First-Search.iypnb`, which implements *breadth first search*. "
   ]
  },
  {
   "cell_type": "markdown",
   "metadata": {},
   "source": [
    "# Printing the Transition Relation"
   ]
  },
  {
   "cell_type": "markdown",
   "metadata": {},
   "source": [
    "To begin with, we display the transition relation that is generated by the function `next_states`.  To this end, we need the module `graphviz`."
   ]
  },
  {
   "cell_type": "code",
   "execution_count": 9,
   "metadata": {},
   "outputs": [],
   "source": [
    "import graphviz as gv"
   ]
  },
  {
   "cell_type": "code",
   "execution_count": 10,
   "metadata": {},
   "outputs": [],
   "source": [
    "def tripleToStr(t: State) -> str:\n",
    "    return '(' + str(t[0]) + ',' + str(t[1]) + ',' + str(t[2]) + ')'"
   ]
  },
  {
   "cell_type": "markdown",
   "metadata": {},
   "source": [
    "The function `dot_graph(R)` turns a given binary relation `R` into a graph.\n",
    "We define the type alias `Relation` as a set of pairs of `States`.\n",
    "Unfortunately, we are not able to specify the return type, as the module `graphviz` is not yet \n",
    "equipped with type annotations."
   ]
  },
  {
   "cell_type": "code",
   "execution_count": 11,
   "metadata": {},
   "outputs": [],
   "source": [
    "Relation = set[tuple[State, State]]"
   ]
  },
  {
   "cell_type": "markdown",
   "metadata": {},
   "source": [
    "The function `dot_graph` take a relation `R` and returns a *dot* object that can be displayed."
   ]
  },
  {
   "cell_type": "code",
   "execution_count": 12,
   "metadata": {},
   "outputs": [],
   "source": [
    "def dot_graph(R: Relation):\n",
    "    \"\"\"This function takes binary relation R as inputs and shows this relation as\n",
    "       a graph using the module graphviz.\n",
    "    \"\"\"\n",
    "    dot = gv.Digraph()\n",
    "    dot.attr(rankdir='LR')\n",
    "    dot.attr(size=\"12,13\")\n",
    "    Nodes = { tripleToStr(a) for (a,b) in R } | { tripleToStr(b) for (a,b) in R }\n",
    "    for n in Nodes:\n",
    "        if   n == '(0,0,0)':\n",
    "            dot.node(str(n), color='blue', shape='doubleoctagon')\n",
    "        elif n == '(3,3,1)':\n",
    "            dot.node(str(n), color='red', shape='doubleoctagon')\n",
    "        else:\n",
    "            dot.node(n)\n",
    "    for (x, y) in R:\n",
    "        dot.edge(tripleToStr(x), tripleToStr(y))\n",
    "    return dot"
   ]
  },
  {
   "cell_type": "markdown",
   "metadata": {},
   "source": [
    "The function call `createRelation(start)` computes the transition relation.  It assumes that all states are reachable from `start`. "
   ]
  },
  {
   "cell_type": "code",
   "execution_count": 13,
   "metadata": {},
   "outputs": [],
   "source": [
    "def createRelation(start: State) -> Relation:\n",
    "    oldM: set[State] = set()\n",
    "    M:    set[State] = { start }\n",
    "    R: Relation      = set()\n",
    "    while True:\n",
    "        oldM = M.copy()\n",
    "        M |= { y for x in M\n",
    "                 for y in next_states(x)\n",
    "             }\n",
    "        if M == oldM:\n",
    "            break\n",
    "    return { (x, y) for x in M\n",
    "                    for y in next_states(x)\n",
    "           }"
   ]
  },
  {
   "cell_type": "code",
   "execution_count": 14,
   "metadata": {},
   "outputs": [
    {
     "data": {
      "image/svg+xml": [
       "<?xml version=\"1.0\" encoding=\"UTF-8\" standalone=\"no\"?>\n",
       "<!DOCTYPE svg PUBLIC \"-//W3C//DTD SVG 1.1//EN\"\n",
       " \"http://www.w3.org/Graphics/SVG/1.1/DTD/svg11.dtd\">\n",
       "<!-- Generated by graphviz version 2.50.0 (0)\n",
       " -->\n",
       "<!-- Pages: 1 -->\n",
       "<svg width=\"864pt\" height=\"88pt\"\n",
       " viewBox=\"0.00 0.00 864.00 88.29\" xmlns=\"http://www.w3.org/2000/svg\" xmlns:xlink=\"http://www.w3.org/1999/xlink\">\n",
       "<g id=\"graph0\" class=\"graph\" transform=\"scale(0.59 0.59) rotate(0) translate(4 146)\">\n",
       "<polygon fill=\"white\" stroke=\"transparent\" points=\"-4,4 -4,-146 1463.87,-146 1463.87,4 -4,4\"/>\n",
       "<!-- (2,2,0) -->\n",
       "<g id=\"node1\" class=\"node\">\n",
       "<title>(2,2,0)</title>\n",
       "<ellipse fill=\"none\" stroke=\"black\" cx=\"34.45\" cy=\"-44\" rx=\"34.39\" ry=\"18\"/>\n",
       "<text text-anchor=\"middle\" x=\"34.45\" y=\"-40.3\" font-family=\"Times,serif\" font-size=\"14.00\">(2,2,0)</text>\n",
       "</g>\n",
       "<!-- (3,3,1) -->\n",
       "<g id=\"node13\" class=\"node\">\n",
       "<title>(3,3,1)</title>\n",
       "<polygon fill=\"none\" stroke=\"red\" points=\"183.27,-66.54 183.27,-81.46 161.54,-92 130.81,-92 109.09,-81.46 109.09,-66.54 130.81,-56 161.54,-56 183.27,-66.54\"/>\n",
       "<polygon fill=\"none\" stroke=\"red\" points=\"187.25,-64.03 187.25,-83.97 162.45,-96 129.9,-96 105.11,-83.97 105.11,-64.03 129.9,-52 162.45,-52 187.25,-64.03\"/>\n",
       "<text text-anchor=\"middle\" x=\"146.18\" y=\"-70.3\" font-family=\"Times,serif\" font-size=\"14.00\">(3,3,1)</text>\n",
       "</g>\n",
       "<!-- (2,2,0)&#45;&gt;(3,3,1) -->\n",
       "<g id=\"edge2\" class=\"edge\">\n",
       "<title>(2,2,0)&#45;&gt;(3,3,1)</title>\n",
       "<path fill=\"none\" stroke=\"black\" d=\"M68.67,-46.82C80,-49.38 92.81,-52.79 104.65,-56.38\"/>\n",
       "<polygon fill=\"black\" stroke=\"black\" points=\"103.73,-59.76 114.32,-59.42 105.83,-53.08 103.73,-59.76\"/>\n",
       "</g>\n",
       "<!-- (3,2,1) -->\n",
       "<g id=\"node14\" class=\"node\">\n",
       "<title>(3,2,1)</title>\n",
       "<ellipse fill=\"none\" stroke=\"black\" cx=\"362.8\" cy=\"-42\" rx=\"34.39\" ry=\"18\"/>\n",
       "<text text-anchor=\"middle\" x=\"362.8\" y=\"-38.3\" font-family=\"Times,serif\" font-size=\"14.00\">(3,2,1)</text>\n",
       "</g>\n",
       "<!-- (2,2,0)&#45;&gt;(3,2,1) -->\n",
       "<g id=\"edge10\" class=\"edge\">\n",
       "<title>(2,2,0)&#45;&gt;(3,2,1)</title>\n",
       "<path fill=\"none\" stroke=\"black\" d=\"M64.84,-35.2C77.21,-34.32 91.75,-34.12 104.89,-34 180.47,-33.31 268.55,-33.09 319.48,-35.64\"/>\n",
       "<polygon fill=\"black\" stroke=\"black\" points=\"319.58,-39.15 329.76,-36.22 319.98,-32.16 319.58,-39.15\"/>\n",
       "</g>\n",
       "<!-- (0,1,1) -->\n",
       "<g id=\"node2\" class=\"node\">\n",
       "<title>(0,1,1)</title>\n",
       "<ellipse fill=\"none\" stroke=\"black\" cx=\"1425.42\" cy=\"-74\" rx=\"34.39\" ry=\"18\"/>\n",
       "<text text-anchor=\"middle\" x=\"1425.42\" y=\"-70.3\" font-family=\"Times,serif\" font-size=\"14.00\">(0,1,1)</text>\n",
       "</g>\n",
       "<!-- (0,0,0) -->\n",
       "<g id=\"node11\" class=\"node\">\n",
       "<title>(0,0,0)</title>\n",
       "<polygon fill=\"none\" stroke=\"blue\" points=\"1350.78,-66.54 1350.78,-81.46 1329.05,-92 1298.32,-92 1276.6,-81.46 1276.6,-66.54 1298.32,-56 1329.05,-56 1350.78,-66.54\"/>\n",
       "<polygon fill=\"none\" stroke=\"blue\" points=\"1354.76,-64.03 1354.76,-83.97 1329.96,-96 1297.41,-96 1272.62,-83.97 1272.62,-64.03 1297.41,-52 1329.96,-52 1354.76,-64.03\"/>\n",
       "<text text-anchor=\"middle\" x=\"1313.69\" y=\"-70.3\" font-family=\"Times,serif\" font-size=\"14.00\">(0,0,0)</text>\n",
       "</g>\n",
       "<!-- (0,1,1)&#45;&gt;(0,0,0) -->\n",
       "<g id=\"edge21\" class=\"edge\">\n",
       "<title>(0,1,1)&#45;&gt;(0,0,0)</title>\n",
       "<path fill=\"none\" stroke=\"black\" d=\"M1392.78,-80.18C1384.11,-80.63 1374.49,-80.81 1365.05,-80.73\"/>\n",
       "<polygon fill=\"black\" stroke=\"black\" points=\"1364.99,-77.23 1354.93,-80.53 1364.85,-84.23 1364.99,-77.23\"/>\n",
       "</g>\n",
       "<!-- (3,2,0) -->\n",
       "<g id=\"node3\" class=\"node\">\n",
       "<title>(3,2,0)</title>\n",
       "<ellipse fill=\"none\" stroke=\"black\" cx=\"257.91\" cy=\"-124\" rx=\"34.39\" ry=\"18\"/>\n",
       "<text text-anchor=\"middle\" x=\"257.91\" y=\"-120.3\" font-family=\"Times,serif\" font-size=\"14.00\">(3,2,0)</text>\n",
       "</g>\n",
       "<!-- (3,2,0)&#45;&gt;(3,3,1) -->\n",
       "<g id=\"edge19\" class=\"edge\">\n",
       "<title>(3,2,0)&#45;&gt;(3,3,1)</title>\n",
       "<path fill=\"none\" stroke=\"black\" d=\"M226.38,-116.21C212.42,-110.62 195.82,-103.12 181.44,-95.92\"/>\n",
       "<polygon fill=\"black\" stroke=\"black\" points=\"182.85,-92.71 172.35,-91.25 179.65,-98.93 182.85,-92.71\"/>\n",
       "</g>\n",
       "<!-- (1,1,1) -->\n",
       "<g id=\"node4\" class=\"node\">\n",
       "<title>(1,1,1)</title>\n",
       "<ellipse fill=\"none\" stroke=\"black\" cx=\"1201.96\" cy=\"-72\" rx=\"34.39\" ry=\"18\"/>\n",
       "<text text-anchor=\"middle\" x=\"1201.96\" y=\"-68.3\" font-family=\"Times,serif\" font-size=\"14.00\">(1,1,1)</text>\n",
       "</g>\n",
       "<!-- (1,1,1)&#45;&gt;(0,0,0) -->\n",
       "<g id=\"edge16\" class=\"edge\">\n",
       "<title>(1,1,1)&#45;&gt;(0,0,0)</title>\n",
       "<path fill=\"none\" stroke=\"black\" d=\"M1234.7,-66.39C1243.34,-66.1 1252.92,-66.1 1262.33,-66.35\"/>\n",
       "<polygon fill=\"black\" stroke=\"black\" points=\"1262.29,-69.85 1272.41,-66.73 1262.55,-62.86 1262.29,-69.85\"/>\n",
       "</g>\n",
       "<!-- (0,1,0) -->\n",
       "<g id=\"node16\" class=\"node\">\n",
       "<title>(0,1,0)</title>\n",
       "<ellipse fill=\"none\" stroke=\"black\" cx=\"1097.06\" cy=\"-42\" rx=\"34.39\" ry=\"18\"/>\n",
       "<text text-anchor=\"middle\" x=\"1097.06\" y=\"-38.3\" font-family=\"Times,serif\" font-size=\"14.00\">(0,1,0)</text>\n",
       "</g>\n",
       "<!-- (1,1,1)&#45;&gt;(0,1,0) -->\n",
       "<g id=\"edge3\" class=\"edge\">\n",
       "<title>(1,1,1)&#45;&gt;(0,1,0)</title>\n",
       "<path fill=\"none\" stroke=\"black\" d=\"M1167.71,-68.67C1156.1,-65.8 1143.07,-62 1131.45,-58.1\"/>\n",
       "<polygon fill=\"black\" stroke=\"black\" points=\"1132.26,-54.68 1121.67,-54.66 1129.94,-61.28 1132.26,-54.68\"/>\n",
       "</g>\n",
       "<!-- (3,0,0) -->\n",
       "<g id=\"node5\" class=\"node\">\n",
       "<title>(3,0,0)</title>\n",
       "<ellipse fill=\"none\" stroke=\"black\" cx=\"467.7\" cy=\"-42\" rx=\"34.39\" ry=\"18\"/>\n",
       "<text text-anchor=\"middle\" x=\"467.7\" y=\"-38.3\" font-family=\"Times,serif\" font-size=\"14.00\">(3,0,0)</text>\n",
       "</g>\n",
       "<!-- (3,1,1) -->\n",
       "<g id=\"node10\" class=\"node\">\n",
       "<title>(3,1,1)</title>\n",
       "<ellipse fill=\"none\" stroke=\"black\" cx=\"572.59\" cy=\"-42\" rx=\"34.39\" ry=\"18\"/>\n",
       "<text text-anchor=\"middle\" x=\"572.59\" y=\"-38.3\" font-family=\"Times,serif\" font-size=\"14.00\">(3,1,1)</text>\n",
       "</g>\n",
       "<!-- (3,0,0)&#45;&gt;(3,1,1) -->\n",
       "<g id=\"edge33\" class=\"edge\">\n",
       "<title>(3,0,0)&#45;&gt;(3,1,1)</title>\n",
       "<path fill=\"none\" stroke=\"black\" d=\"M500.13,-35.73C509.52,-35.26 519.96,-35.13 529.89,-35.36\"/>\n",
       "<polygon fill=\"black\" stroke=\"black\" points=\"529.88,-38.86 540,-35.72 530.13,-31.87 529.88,-38.86\"/>\n",
       "</g>\n",
       "<!-- (3,0,0)&#45;&gt;(3,2,1) -->\n",
       "<g id=\"edge30\" class=\"edge\">\n",
       "<title>(3,0,0)&#45;&gt;(3,2,1)</title>\n",
       "<path fill=\"none\" stroke=\"black\" d=\"M435.11,-48.28C425.71,-48.75 415.26,-48.87 405.33,-48.64\"/>\n",
       "<polygon fill=\"black\" stroke=\"black\" points=\"405.36,-45.14 395.24,-48.27 405.1,-52.13 405.36,-45.14\"/>\n",
       "</g>\n",
       "<!-- (1,1,0) -->\n",
       "<g id=\"node6\" class=\"node\">\n",
       "<title>(1,1,0)</title>\n",
       "<ellipse fill=\"none\" stroke=\"black\" cx=\"677.49\" cy=\"-42\" rx=\"34.39\" ry=\"18\"/>\n",
       "<text text-anchor=\"middle\" x=\"677.49\" y=\"-38.3\" font-family=\"Times,serif\" font-size=\"14.00\">(1,1,0)</text>\n",
       "</g>\n",
       "<!-- (1,1,0)&#45;&gt;(3,1,1) -->\n",
       "<g id=\"edge13\" class=\"edge\">\n",
       "<title>(1,1,0)&#45;&gt;(3,1,1)</title>\n",
       "<path fill=\"none\" stroke=\"black\" d=\"M644.89,-48.28C635.5,-48.75 625.05,-48.87 615.12,-48.64\"/>\n",
       "<polygon fill=\"black\" stroke=\"black\" points=\"615.14,-45.14 605.02,-48.27 614.89,-52.13 615.14,-45.14\"/>\n",
       "</g>\n",
       "<!-- (2,2,1) -->\n",
       "<g id=\"node12\" class=\"node\">\n",
       "<title>(2,2,1)</title>\n",
       "<ellipse fill=\"none\" stroke=\"black\" cx=\"782.38\" cy=\"-42\" rx=\"34.39\" ry=\"18\"/>\n",
       "<text text-anchor=\"middle\" x=\"782.38\" y=\"-38.3\" font-family=\"Times,serif\" font-size=\"14.00\">(2,2,1)</text>\n",
       "</g>\n",
       "<!-- (1,1,0)&#45;&gt;(2,2,1) -->\n",
       "<g id=\"edge18\" class=\"edge\">\n",
       "<title>(1,1,0)&#45;&gt;(2,2,1)</title>\n",
       "<path fill=\"none\" stroke=\"black\" d=\"M709.92,-35.73C719.3,-35.26 729.74,-35.13 739.68,-35.36\"/>\n",
       "<polygon fill=\"black\" stroke=\"black\" points=\"739.67,-38.86 749.79,-35.72 739.92,-31.87 739.67,-38.86\"/>\n",
       "</g>\n",
       "<!-- (0,3,1) -->\n",
       "<g id=\"node7\" class=\"node\">\n",
       "<title>(0,3,1)</title>\n",
       "<ellipse fill=\"none\" stroke=\"black\" cx=\"992.17\" cy=\"-42\" rx=\"34.39\" ry=\"18\"/>\n",
       "<text text-anchor=\"middle\" x=\"992.17\" y=\"-38.3\" font-family=\"Times,serif\" font-size=\"14.00\">(0,3,1)</text>\n",
       "</g>\n",
       "<!-- (0,2,0) -->\n",
       "<g id=\"node15\" class=\"node\">\n",
       "<title>(0,2,0)</title>\n",
       "<ellipse fill=\"none\" stroke=\"black\" cx=\"887.27\" cy=\"-42\" rx=\"34.39\" ry=\"18\"/>\n",
       "<text text-anchor=\"middle\" x=\"887.27\" y=\"-38.3\" font-family=\"Times,serif\" font-size=\"14.00\">(0,2,0)</text>\n",
       "</g>\n",
       "<!-- (0,3,1)&#45;&gt;(0,2,0) -->\n",
       "<g id=\"edge31\" class=\"edge\">\n",
       "<title>(0,3,1)&#45;&gt;(0,2,0)</title>\n",
       "<path fill=\"none\" stroke=\"black\" d=\"M959.58,-48.28C950.18,-48.75 939.73,-48.87 929.8,-48.64\"/>\n",
       "<polygon fill=\"black\" stroke=\"black\" points=\"929.82,-45.14 919.71,-48.27 929.57,-52.13 929.82,-45.14\"/>\n",
       "</g>\n",
       "<!-- (0,3,1)&#45;&gt;(0,1,0) -->\n",
       "<g id=\"edge5\" class=\"edge\">\n",
       "<title>(0,3,1)&#45;&gt;(0,1,0)</title>\n",
       "<path fill=\"none\" stroke=\"black\" d=\"M1024.6,-35.73C1033.99,-35.26 1044.43,-35.13 1054.36,-35.36\"/>\n",
       "<polygon fill=\"black\" stroke=\"black\" points=\"1054.35,-38.86 1064.47,-35.72 1054.6,-31.87 1054.35,-38.86\"/>\n",
       "</g>\n",
       "<!-- (3,1,0) -->\n",
       "<g id=\"node8\" class=\"node\">\n",
       "<title>(3,1,0)</title>\n",
       "<ellipse fill=\"none\" stroke=\"black\" cx=\"257.91\" cy=\"-70\" rx=\"34.39\" ry=\"18\"/>\n",
       "<text text-anchor=\"middle\" x=\"257.91\" y=\"-66.3\" font-family=\"Times,serif\" font-size=\"14.00\">(3,1,0)</text>\n",
       "</g>\n",
       "<!-- (3,1,0)&#45;&gt;(3,3,1) -->\n",
       "<g id=\"edge22\" class=\"edge\">\n",
       "<title>(3,1,0)&#45;&gt;(3,3,1)</title>\n",
       "<path fill=\"none\" stroke=\"black\" d=\"M226.31,-77.24C217.37,-78.06 207.35,-78.63 197.53,-78.89\"/>\n",
       "<polygon fill=\"black\" stroke=\"black\" points=\"197.36,-75.4 187.42,-79.07 197.47,-82.4 197.36,-75.4\"/>\n",
       "</g>\n",
       "<!-- (3,1,0)&#45;&gt;(3,2,1) -->\n",
       "<g id=\"edge27\" class=\"edge\">\n",
       "<title>(3,1,0)&#45;&gt;(3,2,1)</title>\n",
       "<path fill=\"none\" stroke=\"black\" d=\"M283.04,-57.61C293.62,-53.94 306.37,-50.18 318.5,-47.11\"/>\n",
       "<polygon fill=\"black\" stroke=\"black\" points=\"319.58,-50.45 328.48,-44.7 317.94,-43.64 319.58,-50.45\"/>\n",
       "</g>\n",
       "<!-- (0,2,1) -->\n",
       "<g id=\"node9\" class=\"node\">\n",
       "<title>(0,2,1)</title>\n",
       "<ellipse fill=\"none\" stroke=\"black\" cx=\"1425.42\" cy=\"-18\" rx=\"34.39\" ry=\"18\"/>\n",
       "<text text-anchor=\"middle\" x=\"1425.42\" y=\"-14.3\" font-family=\"Times,serif\" font-size=\"14.00\">(0,2,1)</text>\n",
       "</g>\n",
       "<!-- (0,2,1)&#45;&gt;(0,0,0) -->\n",
       "<g id=\"edge20\" class=\"edge\">\n",
       "<title>(0,2,1)&#45;&gt;(0,0,0)</title>\n",
       "<path fill=\"none\" stroke=\"black\" d=\"M1405.47,-32.92C1392.95,-40.56 1375.98,-49.68 1360.1,-57.48\"/>\n",
       "<polygon fill=\"black\" stroke=\"black\" points=\"1358.42,-54.41 1350.92,-61.9 1361.45,-60.72 1358.42,-54.41\"/>\n",
       "</g>\n",
       "<!-- (0,2,1)&#45;&gt;(0,1,0) -->\n",
       "<g id=\"edge4\" class=\"edge\">\n",
       "<title>(0,2,1)&#45;&gt;(0,1,0)</title>\n",
       "<path fill=\"none\" stroke=\"black\" d=\"M1393.24,-24.47C1334.76,-31.99 1208.51,-41.47 1141.66,-43.57\"/>\n",
       "<polygon fill=\"black\" stroke=\"black\" points=\"1141.36,-40.07 1131.45,-43.84 1141.54,-47.07 1141.36,-40.07\"/>\n",
       "</g>\n",
       "<!-- (3,1,1)&#45;&gt;(3,0,0) -->\n",
       "<g id=\"edge32\" class=\"edge\">\n",
       "<title>(3,1,1)&#45;&gt;(3,0,0)</title>\n",
       "<path fill=\"none\" stroke=\"black\" d=\"M540,-48.28C530.6,-48.75 520.16,-48.87 510.23,-48.64\"/>\n",
       "<polygon fill=\"black\" stroke=\"black\" points=\"510.25,-45.14 500.13,-48.27 510,-52.13 510.25,-45.14\"/>\n",
       "</g>\n",
       "<!-- (3,1,1)&#45;&gt;(1,1,0) -->\n",
       "<g id=\"edge6\" class=\"edge\">\n",
       "<title>(3,1,1)&#45;&gt;(1,1,0)</title>\n",
       "<path fill=\"none\" stroke=\"black\" d=\"M605.02,-35.73C614.41,-35.26 624.85,-35.13 634.79,-35.36\"/>\n",
       "<polygon fill=\"black\" stroke=\"black\" points=\"634.78,-38.86 644.89,-35.72 635.02,-31.87 634.78,-38.86\"/>\n",
       "</g>\n",
       "<!-- (0,0,0)&#45;&gt;(0,1,1) -->\n",
       "<g id=\"edge12\" class=\"edge\">\n",
       "<title>(0,0,0)&#45;&gt;(0,1,1)</title>\n",
       "<path fill=\"none\" stroke=\"black\" d=\"M1354.93,-67.47C1363.99,-67.19 1373.63,-67.18 1382.76,-67.43\"/>\n",
       "<polygon fill=\"black\" stroke=\"black\" points=\"1382.65,-70.93 1392.78,-67.82 1382.92,-63.93 1382.65,-70.93\"/>\n",
       "</g>\n",
       "<!-- (0,0,0)&#45;&gt;(1,1,1) -->\n",
       "<g id=\"edge17\" class=\"edge\">\n",
       "<title>(0,0,0)&#45;&gt;(1,1,1)</title>\n",
       "<path fill=\"none\" stroke=\"black\" d=\"M1272.42,-79.8C1263.24,-79.91 1253.46,-79.74 1244.23,-79.31\"/>\n",
       "<polygon fill=\"black\" stroke=\"black\" points=\"1244.29,-75.81 1234.11,-78.72 1243.89,-82.8 1244.29,-75.81\"/>\n",
       "</g>\n",
       "<!-- (0,0,0)&#45;&gt;(0,2,1) -->\n",
       "<g id=\"edge9\" class=\"edge\">\n",
       "<title>(0,0,0)&#45;&gt;(0,2,1)</title>\n",
       "<path fill=\"none\" stroke=\"black\" d=\"M1338.77,-56.01C1352.56,-47.92 1370.19,-38.66 1385.87,-31.2\"/>\n",
       "<polygon fill=\"black\" stroke=\"black\" points=\"1387.73,-34.19 1395.32,-26.81 1384.78,-27.84 1387.73,-34.19\"/>\n",
       "</g>\n",
       "<!-- (2,2,1)&#45;&gt;(1,1,0) -->\n",
       "<g id=\"edge11\" class=\"edge\">\n",
       "<title>(2,2,1)&#45;&gt;(1,1,0)</title>\n",
       "<path fill=\"none\" stroke=\"black\" d=\"M749.79,-48.28C740.39,-48.75 729.95,-48.87 720.02,-48.64\"/>\n",
       "<polygon fill=\"black\" stroke=\"black\" points=\"720.04,-45.14 709.92,-48.27 719.78,-52.13 720.04,-45.14\"/>\n",
       "</g>\n",
       "<!-- (2,2,1)&#45;&gt;(0,2,0) -->\n",
       "<g id=\"edge28\" class=\"edge\">\n",
       "<title>(2,2,1)&#45;&gt;(0,2,0)</title>\n",
       "<path fill=\"none\" stroke=\"black\" d=\"M814.81,-35.73C824.2,-35.26 834.64,-35.13 844.57,-35.36\"/>\n",
       "<polygon fill=\"black\" stroke=\"black\" points=\"844.56,-38.86 854.68,-35.72 844.81,-31.87 844.56,-38.86\"/>\n",
       "</g>\n",
       "<!-- (3,3,1)&#45;&gt;(2,2,0) -->\n",
       "<g id=\"edge29\" class=\"edge\">\n",
       "<title>(3,3,1)&#45;&gt;(2,2,0)</title>\n",
       "<path fill=\"none\" stroke=\"black\" d=\"M104.95,-69.53C93.24,-66.69 80.57,-63.14 69.29,-59.54\"/>\n",
       "<polygon fill=\"black\" stroke=\"black\" points=\"70.39,-56.22 59.8,-56.38 68.18,-62.86 70.39,-56.22\"/>\n",
       "</g>\n",
       "<!-- (3,3,1)&#45;&gt;(3,2,0) -->\n",
       "<g id=\"edge14\" class=\"edge\">\n",
       "<title>(3,3,1)&#45;&gt;(3,2,0)</title>\n",
       "<path fill=\"none\" stroke=\"black\" d=\"M185.56,-85.02C199.48,-90.88 214.97,-98.08 227.95,-104.77\"/>\n",
       "<polygon fill=\"black\" stroke=\"black\" points=\"226.42,-107.92 236.9,-109.53 229.71,-101.74 226.42,-107.92\"/>\n",
       "</g>\n",
       "<!-- (3,3,1)&#45;&gt;(3,1,0) -->\n",
       "<g id=\"edge25\" class=\"edge\">\n",
       "<title>(3,3,1)&#45;&gt;(3,1,0)</title>\n",
       "<path fill=\"none\" stroke=\"black\" d=\"M187.42,-66C196.21,-65.41 205.54,-65.05 214.42,-64.95\"/>\n",
       "<polygon fill=\"black\" stroke=\"black\" points=\"214.57,-68.45 224.57,-64.96 214.57,-61.45 214.57,-68.45\"/>\n",
       "</g>\n",
       "<!-- (3,2,1)&#45;&gt;(2,2,0) -->\n",
       "<g id=\"edge26\" class=\"edge\">\n",
       "<title>(3,2,1)&#45;&gt;(2,2,0)</title>\n",
       "<path fill=\"none\" stroke=\"black\" d=\"M330.16,-47.78C281.67,-51.07 186.07,-51.26 104.89,-52 95.42,-52.09 85.22,-52.21 75.63,-52.09\"/>\n",
       "<polygon fill=\"black\" stroke=\"black\" points=\"75.61,-48.59 65.53,-51.84 75.44,-55.59 75.61,-48.59\"/>\n",
       "</g>\n",
       "<!-- (3,2,1)&#45;&gt;(3,0,0) -->\n",
       "<g id=\"edge7\" class=\"edge\">\n",
       "<title>(3,2,1)&#45;&gt;(3,0,0)</title>\n",
       "<path fill=\"none\" stroke=\"black\" d=\"M395.24,-35.73C404.62,-35.26 415.06,-35.13 425,-35.36\"/>\n",
       "<polygon fill=\"black\" stroke=\"black\" points=\"424.99,-38.86 435.11,-35.72 425.24,-31.87 424.99,-38.86\"/>\n",
       "</g>\n",
       "<!-- (3,2,1)&#45;&gt;(3,1,0) -->\n",
       "<g id=\"edge23\" class=\"edge\">\n",
       "<title>(3,2,1)&#45;&gt;(3,1,0)</title>\n",
       "<path fill=\"none\" stroke=\"black\" d=\"M337.55,-54.43C326.94,-58.11 314.16,-61.87 302.02,-64.94\"/>\n",
       "<polygon fill=\"black\" stroke=\"black\" points=\"300.94,-61.6 292.03,-67.34 302.57,-68.41 300.94,-61.6\"/>\n",
       "</g>\n",
       "<!-- (0,2,0)&#45;&gt;(0,3,1) -->\n",
       "<g id=\"edge1\" class=\"edge\">\n",
       "<title>(0,2,0)&#45;&gt;(0,3,1)</title>\n",
       "<path fill=\"none\" stroke=\"black\" d=\"M919.71,-35.73C929.09,-35.26 939.53,-35.13 949.47,-35.36\"/>\n",
       "<polygon fill=\"black\" stroke=\"black\" points=\"949.46,-38.86 959.58,-35.72 949.71,-31.87 949.46,-38.86\"/>\n",
       "</g>\n",
       "<!-- (0,2,0)&#45;&gt;(2,2,1) -->\n",
       "<g id=\"edge34\" class=\"edge\">\n",
       "<title>(0,2,0)&#45;&gt;(2,2,1)</title>\n",
       "<path fill=\"none\" stroke=\"black\" d=\"M854.68,-48.28C845.28,-48.75 834.84,-48.87 824.91,-48.64\"/>\n",
       "<polygon fill=\"black\" stroke=\"black\" points=\"824.93,-45.14 814.81,-48.27 824.68,-52.13 824.93,-45.14\"/>\n",
       "</g>\n",
       "<!-- (0,1,0)&#45;&gt;(1,1,1) -->\n",
       "<g id=\"edge15\" class=\"edge\">\n",
       "<title>(0,1,0)&#45;&gt;(1,1,1)</title>\n",
       "<path fill=\"none\" stroke=\"black\" d=\"M1131.18,-45.3C1142.93,-48.2 1156.15,-52.05 1167.9,-56.01\"/>\n",
       "<polygon fill=\"black\" stroke=\"black\" points=\"1166.76,-59.32 1177.35,-59.34 1169.08,-52.72 1166.76,-59.32\"/>\n",
       "</g>\n",
       "<!-- (0,1,0)&#45;&gt;(0,3,1) -->\n",
       "<g id=\"edge24\" class=\"edge\">\n",
       "<title>(0,1,0)&#45;&gt;(0,3,1)</title>\n",
       "<path fill=\"none\" stroke=\"black\" d=\"M1064.47,-48.28C1055.07,-48.75 1044.63,-48.87 1034.7,-48.64\"/>\n",
       "<polygon fill=\"black\" stroke=\"black\" points=\"1034.72,-45.14 1024.6,-48.27 1034.47,-52.13 1034.72,-45.14\"/>\n",
       "</g>\n",
       "<!-- (0,1,0)&#45;&gt;(0,2,1) -->\n",
       "<g id=\"edge8\" class=\"edge\">\n",
       "<title>(0,1,0)&#45;&gt;(0,2,1)</title>\n",
       "<path fill=\"none\" stroke=\"black\" d=\"M1129.35,-35.52C1187.81,-28.01 1313.71,-18.55 1380.59,-16.44\"/>\n",
       "<polygon fill=\"black\" stroke=\"black\" points=\"1380.89,-19.94 1390.79,-16.17 1380.7,-12.94 1380.89,-19.94\"/>\n",
       "</g>\n",
       "</g>\n",
       "</svg>\n"
      ],
      "text/plain": [
       "<graphviz.graphs.Digraph at 0x10a3e34d0>"
      ]
     },
     "execution_count": 14,
     "metadata": {},
     "output_type": "execute_result"
    }
   ],
   "source": [
    "dot_graph(createRelation(start))"
   ]
  },
  {
   "cell_type": "markdown",
   "metadata": {},
   "source": [
    "## Functions to Print the Solution"
   ]
  },
  {
   "cell_type": "code",
   "execution_count": null,
   "metadata": {},
   "outputs": [],
   "source": [
    "def fillCharsLeft(x: str, n: int) -> str:\n",
    "    s = str(x)\n",
    "    m = n - len(s)\n",
    "    return m * \" \" + s"
   ]
  },
  {
   "cell_type": "code",
   "execution_count": null,
   "metadata": {},
   "outputs": [],
   "source": [
    "def fillCharsRight(x: str, n: int) -> str:\n",
    "    s = str(x)\n",
    "    m = n - len(s)\n",
    "    return s + m * \" \""
   ]
  },
  {
   "cell_type": "code",
   "execution_count": null,
   "metadata": {},
   "outputs": [],
   "source": [
    "def fillCharsBoth(x: str, n: int) -> str:\n",
    "    s  = str(x)\n",
    "    ml = (n     - len(s)) // 2\n",
    "    mr = (n + 1 - len(s)) // 2\n",
    "    return ml * \" \" + s + mr * \" \""
   ]
  },
  {
   "cell_type": "markdown",
   "metadata": {},
   "source": [
    "The function `printState(m, k, b)` displays a state where there are `m` missionaries, \n",
    "`k` cannibals, and `b` boats on the left shore."
   ]
  },
  {
   "cell_type": "code",
   "execution_count": null,
   "metadata": {},
   "outputs": [],
   "source": [
    "def printState(m: int, k: int, b: int) -> None:\n",
    "     print( fillCharsRight(m * \"M\", 6) + \n",
    "            fillCharsRight(k * \"K\", 6) + \n",
    "            fillCharsRight(b * \"B\", 3) + \"    |~~~~~|    \" + \n",
    "            fillCharsLeft((3 - m) * \"M\", 6) + \n",
    "            fillCharsLeft((3 - k) * \"K\", 6) + \n",
    "            fillCharsLeft((1 - b) * \"B\", 3) \n",
    "          )"
   ]
  },
  {
   "cell_type": "markdown",
   "metadata": {},
   "source": [
    "The function `printBoat(m1, k1, b1, m2, k2, b2)` prints the boat when there are\n",
    "`m1` missionaries, `k1` cannibals, and `b1` boats on the left shore before the transition,\n",
    "while there `m2` missionaries, `k2` cannibals, and `b2` boats on the left shore after the transition.\n",
    "The function also checks whether the transition is possible at all."
   ]
  },
  {
   "cell_type": "code",
   "execution_count": null,
   "metadata": {},
   "outputs": [],
   "source": [
    "def printBoat(m1: int, k1: int, b1: int, m2:int, k2: int, b2: int) -> None:\n",
    "    if b1 == 1:\n",
    "        if m1 < m2:\n",
    "            print(\"Error in printBoat: negative number of missionaries in the boat!\")\n",
    "            return\n",
    "        if k1 < k2:\n",
    "            print(\"Error in printBoat: negative number of infidels in the boat!\")\n",
    "            return\n",
    "        print(19*\" \" + \"> \" + fillCharsBoth((m1-m2)*\"M\" + \" \" + (k1-k2)*\"K\", 3) + \" >\")\n",
    "    else:\n",
    "        if m1 > m2:\n",
    "            print(\"Error in printBoat: negative number of missionaries in the boat!\")\n",
    "            return\n",
    "        if k1 > k2:\n",
    "            print(\"Error in printBoat: negative number of infidels in the boat!\")\n",
    "            return\n",
    "        print(19*\" \" + \"< \" + fillCharsBoth((m2-m1)*\"M\" + \" \" + (k2-k1)*\"K\", 3) + \" <\")"
   ]
  },
  {
   "cell_type": "markdown",
   "metadata": {},
   "source": [
    "The function call `printPath(Path)` prints the solution of the search problem."
   ]
  },
  {
   "cell_type": "code",
   "execution_count": null,
   "metadata": {},
   "outputs": [],
   "source": [
    "def printPath(Path: list[State]) -> None:\n",
    "    print(\"Solution:\\n\")\n",
    "    for i in range(len(Path) - 1):\n",
    "        m1, k1, b1 = Path[i]\n",
    "        m2, k2, b2 = Path[i+1]\n",
    "        printState(m1, k1, b1)\n",
    "        printBoat(m1, k1, b1, m2, k2, b2)\n",
    "    m, k, b = Path[-1]\n",
    "    printState(m, k, b)"
   ]
  },
  {
   "cell_type": "code",
   "execution_count": null,
   "metadata": {},
   "outputs": [],
   "source": []
  }
 ],
 "metadata": {
  "hide_input": false,
  "kernelspec": {
   "display_name": "Python 3 (ipykernel)",
   "language": "python",
   "name": "python3"
  },
  "language_info": {
   "codemirror_mode": {
    "name": "ipython",
    "version": 3
   },
   "file_extension": ".py",
   "mimetype": "text/x-python",
   "name": "python",
   "nbconvert_exporter": "python",
   "pygments_lexer": "ipython3",
   "version": "3.12.8"
  },
  "toc": {
   "base_numbering": 1,
   "nav_menu": {},
   "number_sections": true,
   "sideBar": true,
   "skip_h1_title": false,
   "title_cell": "Table of Contents",
   "title_sidebar": "Contents",
   "toc_cell": false,
   "toc_position": {},
   "toc_section_display": true,
   "toc_window_display": false
  },
  "varInspector": {
   "cols": {
    "lenName": 16,
    "lenType": 16,
    "lenVar": 40
   },
   "kernels_config": {
    "python": {
     "delete_cmd_postfix": "",
     "delete_cmd_prefix": "del ",
     "library": "var_list.py",
     "varRefreshCmd": "print(var_dic_list())"
    },
    "r": {
     "delete_cmd_postfix": ") ",
     "delete_cmd_prefix": "rm(",
     "library": "var_list.r",
     "varRefreshCmd": "cat(var_dic_list()) "
    }
   },
   "types_to_exclude": [
    "module",
    "function",
    "builtin_function_or_method",
    "instance",
    "_Feature"
   ],
   "window_display": false
  }
 },
 "nbformat": 4,
 "nbformat_minor": 4
}
