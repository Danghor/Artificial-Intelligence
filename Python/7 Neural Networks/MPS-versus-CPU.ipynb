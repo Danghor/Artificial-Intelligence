{
 "cells": [
  {
   "cell_type": "code",
   "execution_count": 1,
   "id": "5b0bbb29",
   "metadata": {},
   "outputs": [
    {
     "data": {
      "text/html": [
       "<link href='http://fonts.googleapis.com/css?family=Alegreya+Sans:100,300,400,500,700,800,900,100italic,300italic,400italic,500italic,700italic,800italic,900italic' rel='stylesheet' type='text/css'>\n",
       "<link href='http://fonts.googleapis.com/css?family=Arvo:400,700,400italic' rel='stylesheet' type='text/css'>\n",
       "<link href='http://fonts.googleapis.com/css?family=PT+Mono' rel='stylesheet' type='text/css'>\n",
       "<link href='http://fonts.googleapis.com/css?family=Shadows+Into+Light' rel='stylesheet' type='text/css'>\n",
       "<link href='http://fonts.googleapis.com/css?family=Philosopher:400,700,400italic,700italic' rel='stylesheet' type='text/css'>\n",
       "<link href=\"http://fonts.googleapis.com/css?family=Sacramento\" rel=\"stylesheet\" type=\"text/css\">\n",
       "\n",
       "<style>\n",
       "\n",
       "@font-face {\n",
       "    font-family: \"Computer Modern\";\n",
       "    src: url('http://mirrors.ctan.org/fonts/cm-unicode/fonts/otf/cmunss.otf');\n",
       "}\n",
       "\n",
       ".container { width: 100% }\n",
       "\n",
       "/* Formatting for header cells */\n",
       ".text_cell_render h1 {\n",
       "    font-family: 'Philosopher', sans-serif;\n",
       "    font-weight: 400;\n",
       "    font-size: 2.2em;\n",
       "    line-height: 100%;\n",
       "    color: rgb(0, 80, 120);\n",
       "    margin-bottom: 0.1em;\n",
       "    margin-top: 0.1em;\n",
       "    display: block;\n",
       "}\t\n",
       ".text_cell_render h2 {\n",
       "    font-family: 'Philosopher', serif;\n",
       "    font-weight: 400;\n",
       "    font-size: 1.9em;\n",
       "    line-height: 100%;\n",
       "    color: rgb(200,100,0);\n",
       "    margin-bottom: 0.1em;\n",
       "    margin-top: 0.1em;\n",
       "    display: block;\n",
       "}\t\n",
       "\n",
       ".text_cell_render h3 {\n",
       "    font-family: 'Philosopher', serif;\n",
       "    margin-top:12px;\n",
       "    margin-bottom: 3px;\n",
       "    font-style: italic;\n",
       "    color: rgb(94,127,192);\n",
       "}\n",
       "\n",
       ".text_cell_render h4 {\n",
       "    font-family: 'Philosopher', serif;\n",
       "}\n",
       "\n",
       ".text_cell_render h5 {\n",
       "    font-family: 'Alegreya Sans', sans-serif;\n",
       "    font-weight: 300;\n",
       "    font-size: 16pt;\n",
       "    color: grey;\n",
       "    font-style: italic;\n",
       "    margin-bottom: .1em;\n",
       "    margin-top: 0.1em;\n",
       "    display: block;\n",
       "}\n",
       "\n",
       ".text_cell_render h6 {\n",
       "    font-family: 'PT Mono', sans-serif;\n",
       "    font-weight: 300;\n",
       "    font-size: 10pt;\n",
       "    color: grey;\n",
       "    margin-bottom: 1px;\n",
       "    margin-top: 1px;\n",
       "}\n",
       "\n",
       ".text_cell_render em {\n",
       "    font-family: 'Philosopher', sans-serif;\n",
       "    color:        blue;\n",
       "    background-color: rgb(255,220,180);\n",
       "    font-size:    110%;\n",
       "    margin-left:   2px;\n",
       "    margin-right:  2px;\n",
       "    font-weight:   100;\n",
       "}\n",
       "\n",
       ".text_cell_render b {\n",
       "    color:            rgb(255,195,195);\n",
       "    background-color: rgb(0,0,0);\n",
       "    font-size:    110%;\n",
       "    margin-left:   2px;\n",
       "    margin-right:  2px;\n",
       "    font-weight:   650;\n",
       "}\n",
       "\n",
       ".text_cell_render u {\n",
       "    color:            blue;\n",
       "    font-size:    110%;\n",
       "    margin-left:   2px;\n",
       "    margin-right:  2px;\n",
       "    font-weight:   650;\n",
       "}\n",
       "\n",
       ".text_cell_render tt {\n",
       "    font-size:    120%;\n",
       "    margin-left:   2px;\n",
       "    margin-right:  2px;\n",
       "    font-weight:   150;\n",
       "}\n",
       "\n",
       ".Codemirror {\n",
       "    font-family: \"PT Mono\";\n",
       "    font-size: 100%;\n",
       "}\n",
       "\n",
       "#fancy {\n",
       "    font-family:      Georgia;\n",
       "    position:         relative;\n",
       "    float:            left;\n",
       "    border:           2px solid red;\n",
       "    width:            600px;\n",
       "    padding-left:     20px;\n",
       "    padding-right:    20px;\n",
       "    padding-top:      10px;\n",
       "    font-family:      'Sacramento', cursive;\n",
       "    font-size:        26px;\n",
       "    background-color: #F4EBF3;\n",
       "    border-radius:    15px;\n",
       "}\n",
       "\n",
       "</Style>\n",
       "\n"
      ],
      "text/plain": [
       "<IPython.core.display.HTML object>"
      ]
     },
     "execution_count": 1,
     "metadata": {},
     "output_type": "execute_result"
    }
   ],
   "source": [
    "from IPython.core.display import HTML\n",
    "with open('../style.css', 'r') as file:\n",
    "    style = file.read()\n",
    "HTML(style)"
   ]
  },
  {
   "cell_type": "code",
   "execution_count": 2,
   "id": "e9f4d69c",
   "metadata": {},
   "outputs": [],
   "source": [
    "import torch\n",
    "import time"
   ]
  },
  {
   "cell_type": "markdown",
   "id": "7d6c81ce",
   "metadata": {},
   "source": [
    "The *Metal performance Shader* will only show a speedup for large matrices."
   ]
  },
  {
   "cell_type": "code",
   "execution_count": 3,
   "id": "fb9760c7",
   "metadata": {},
   "outputs": [],
   "source": [
    "size = 1000"
   ]
  },
  {
   "cell_type": "markdown",
   "id": "cfbb2c35",
   "metadata": {},
   "source": [
    "Create two random square matrices with `size`rows and columns."
   ]
  },
  {
   "cell_type": "code",
   "execution_count": 4,
   "id": "82f01a2e",
   "metadata": {},
   "outputs": [],
   "source": [
    "A = torch.randn(size, size)\n",
    "B = torch.randn(size, size)"
   ]
  },
  {
   "cell_type": "markdown",
   "id": "298d50a9",
   "metadata": {},
   "source": [
    "CPU Matrix Multiplication"
   ]
  },
  {
   "cell_type": "code",
   "execution_count": 5,
   "id": "26867c98",
   "metadata": {},
   "outputs": [],
   "source": [
    "def matrix_mul_cpu(A, B):\n",
    "    start_time = time.time()\n",
    "    result = torch.matmul(A, B)\n",
    "    end_time = time.time()\n",
    "    return end_time - start_time"
   ]
  },
  {
   "cell_type": "markdown",
   "id": "f1dcc3d5",
   "metadata": {},
   "source": [
    "MPS Matrix Multiplication"
   ]
  },
  {
   "cell_type": "code",
   "execution_count": 6,
   "id": "55c4fd1c",
   "metadata": {},
   "outputs": [],
   "source": [
    "def matrix_mul_mps(A, B):\n",
    "    device = torch.device('mps')\n",
    "    start_time = time.time()\n",
    "    result = torch.matmul(A.to(device), B.to(device))\n",
    "    end_time = time.time()\n",
    "    return end_time - start_time"
   ]
  },
  {
   "cell_type": "code",
   "execution_count": 7,
   "id": "1951e856",
   "metadata": {},
   "outputs": [],
   "source": [
    "def speedup(size):\n",
    "    A = torch.randn(size, size)\n",
    "    B = torch.randn(size, size)\n",
    "    cpu_time = 0.0\n",
    "    mps_time = 0.0\n",
    "    for k in range(10):\n",
    "        cpu_time += matrix_mul_cpu(A, B)\n",
    "        mps_time += matrix_mul_mps(A, B)\n",
    "    return cpu_time / mps_time"
   ]
  },
  {
   "cell_type": "code",
   "execution_count": 8,
   "id": "3c55ff9d",
   "metadata": {},
   "outputs": [
    {
     "data": {
      "text/plain": [
       "0.15147804937103113"
      ]
     },
     "execution_count": 8,
     "metadata": {},
     "output_type": "execute_result"
    }
   ],
   "source": [
    "speedup(1000)"
   ]
  },
  {
   "cell_type": "code",
   "execution_count": 9,
   "id": "4dae2aac",
   "metadata": {},
   "outputs": [],
   "source": [
    "import matplotlib.pyplot as plt\n",
    "import numpy as np"
   ]
  },
  {
   "cell_type": "markdown",
   "id": "5cbe8534",
   "metadata": {},
   "source": [
    "The function `plot` plots the function `f` over a range of natural numbers.\n",
    "* `f` the function to be plotted\n",
    "* `start`: The starting natural number.\n",
    "* `end`: The ending natural number (inclusive)."
   ]
  },
  {
   "cell_type": "code",
   "execution_count": 10,
   "id": "8cdce317",
   "metadata": {},
   "outputs": [],
   "source": [
    "def plot(f, start, end):\n",
    "    n_values = np.arange(start, end + 1, 1000)  # Array of natural numbers\n",
    "    f_values = []\n",
    "    for n in n_values:       # Calculate f(n) for each value\n",
    "        f_val = f(n)\n",
    "        print(f'size = {n:5d}: speedup: {f_val:5.2f}')\n",
    "        f_values.append(f_val)\n",
    "    plt.plot(n_values, f_values)\n",
    "    plt.xlabel(\"n\")\n",
    "    plt.ylabel(\"speedup\")\n",
    "    plt.title(\"Plot of speedup w.r.t. to matrix size.\")\n",
    "    plt.grid(True)\n",
    "    plt.show()"
   ]
  },
  {
   "cell_type": "code",
   "execution_count": 11,
   "id": "8954abf1",
   "metadata": {},
   "outputs": [
    {
     "name": "stdout",
     "output_type": "stream",
     "text": [
      "size =  1000: speedup:  0.66\n",
      "size =  2000: speedup:  0.70\n",
      "size =  3000: speedup:  1.57\n",
      "size =  4000: speedup:  1.84\n",
      "size =  5000: speedup:  1.79\n",
      "size =  6000: speedup: 11.02\n",
      "size =  7000: speedup: 15.64\n",
      "size =  8000: speedup: 17.14\n",
      "size =  9000: speedup: 21.09\n",
      "size = 10000: speedup: 23.68\n",
      "size = 11000: speedup: 26.72\n",
      "size = 12000: speedup: 31.64\n",
      "size = 13000: speedup: 36.78\n",
      "size = 14000: speedup: 34.10\n",
      "size = 15000: speedup: 40.44\n",
      "size = 16000: speedup: 26.81\n",
      "size = 17000: speedup: 26.30\n",
      "size = 18000: speedup: 25.12\n",
      "size = 19000: speedup: 27.32\n",
      "size = 20000: speedup: 36.99\n"
     ]
    },
    {
     "data": {
      "image/png": "[encoded data removed]",
      "text/plain": [
       "<Figure size 640x480 with 1 Axes>"
      ]
     },
     "metadata": {},
     "output_type": "display_data"
    }
   ],
   "source": [
    "plot(speedup, 1000, 20000)"
   ]
  },
  {
   "cell_type": "code",
   "execution_count": null,
   "id": "6429b77f",
   "metadata": {},
   "outputs": [],
   "source": []
  }
 ],
 "metadata": {
  "kernelspec": {
   "display_name": "Python 3 (ipykernel)",
   "language": "python",
   "name": "python3"
  },
  "language_info": {
   "codemirror_mode": {
    "name": "ipython",
    "version": 3
   },
   "file_extension": ".py",
   "mimetype": "text/x-python",
   "name": "python",
   "nbconvert_exporter": "python",
   "pygments_lexer": "ipython3",
   "version": "3.11.8"
  }
 },
 "nbformat": 4,
 "nbformat_minor": 5
}
