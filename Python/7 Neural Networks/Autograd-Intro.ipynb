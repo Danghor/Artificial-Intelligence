{
 "cells": [
  {
   "cell_type": "code",
   "execution_count": 1,
   "id": "3ab56590",
   "metadata": {},
   "outputs": [
    {
     "data": {
      "text/html": [
       "<link href='http://fonts.googleapis.com/css?family=Alegreya+Sans:100,300,400,500,700,800,900,100italic,300italic,400italic,500italic,700italic,800italic,900italic' rel='stylesheet' type='text/css'>\n",
       "<link href='http://fonts.googleapis.com/css?family=Arvo:400,700,400italic' rel='stylesheet' type='text/css'>\n",
       "<link href='http://fonts.googleapis.com/css?family=PT+Mono' rel='stylesheet' type='text/css'>\n",
       "<link href='http://fonts.googleapis.com/css?family=Shadows+Into+Light' rel='stylesheet' type='text/css'>\n",
       "<link href='http://fonts.googleapis.com/css?family=Philosopher:400,700,400italic,700italic' rel='stylesheet' type='text/css'>\n",
       "<link href=\"http://fonts.googleapis.com/css?family=Sacramento\" rel=\"stylesheet\" type=\"text/css\">\n",
       "\n",
       "<style>\n",
       "\n",
       "@font-face {\n",
       "    font-family: \"Computer Modern\";\n",
       "    src: url('http://mirrors.ctan.org/fonts/cm-unicode/fonts/otf/cmunss.otf');\n",
       "}\n",
       "\n",
       ".container { width: 100% }\n",
       "\n",
       "/* Formatting for header cells */\n",
       ".text_cell_render h1 {\n",
       "    font-family: 'Philosopher', sans-serif;\n",
       "    font-weight: 400;\n",
       "    font-size: 2.2em;\n",
       "    line-height: 100%;\n",
       "    color: rgb(0, 80, 120);\n",
       "    margin-bottom: 0.1em;\n",
       "    margin-top: 0.1em;\n",
       "    display: block;\n",
       "}\t\n",
       ".text_cell_render h2 {\n",
       "    font-family: 'Philosopher', serif;\n",
       "    font-weight: 400;\n",
       "    font-size: 1.9em;\n",
       "    line-height: 100%;\n",
       "    color: rgb(200,100,0);\n",
       "    margin-bottom: 0.1em;\n",
       "    margin-top: 0.1em;\n",
       "    display: block;\n",
       "}\t\n",
       "\n",
       ".text_cell_render h3 {\n",
       "    font-family: 'Philosopher', serif;\n",
       "    margin-top:12px;\n",
       "    margin-bottom: 3px;\n",
       "    font-style: italic;\n",
       "    color: rgb(94,127,192);\n",
       "}\n",
       "\n",
       ".text_cell_render h4 {\n",
       "    font-family: 'Philosopher', serif;\n",
       "}\n",
       "\n",
       ".text_cell_render h5 {\n",
       "    font-family: 'Alegreya Sans', sans-serif;\n",
       "    font-weight: 300;\n",
       "    font-size: 16pt;\n",
       "    color: grey;\n",
       "    font-style: italic;\n",
       "    margin-bottom: .1em;\n",
       "    margin-top: 0.1em;\n",
       "    display: block;\n",
       "}\n",
       "\n",
       ".text_cell_render h6 {\n",
       "    font-family: 'PT Mono', sans-serif;\n",
       "    font-weight: 300;\n",
       "    font-size: 10pt;\n",
       "    color: grey;\n",
       "    margin-bottom: 1px;\n",
       "    margin-top: 1px;\n",
       "}\n",
       "\n",
       ".text_cell_render em {\n",
       "    font-family: 'Philosopher', sans-serif;\n",
       "    color:        blue;\n",
       "    background-color: rgb(255,220,180);\n",
       "    font-size:    110%;\n",
       "    margin-left:   2px;\n",
       "    margin-right:  2px;\n",
       "    font-weight:   100;\n",
       "}\n",
       "\n",
       ".text_cell_render b {\n",
       "    color:            rgb(255,195,195);\n",
       "    background-color: rgb(0,0,0);\n",
       "    font-size:    110%;\n",
       "    margin-left:   2px;\n",
       "    margin-right:  2px;\n",
       "    font-weight:   650;\n",
       "}\n",
       "\n",
       ".text_cell_render u {\n",
       "    color:            blue;\n",
       "    font-size:    110%;\n",
       "    margin-left:   2px;\n",
       "    margin-right:  2px;\n",
       "    font-weight:   650;\n",
       "}\n",
       "\n",
       ".text_cell_render tt {\n",
       "    font-size:    120%;\n",
       "    margin-left:   2px;\n",
       "    margin-right:  2px;\n",
       "    font-weight:   150;\n",
       "}\n",
       "\n",
       ".Codemirror {\n",
       "    font-family: \"PT Mono\";\n",
       "    font-size: 100%;\n",
       "}\n",
       "\n",
       "#fancy {\n",
       "    font-family:      Georgia;\n",
       "    position:         relative;\n",
       "    float:            left;\n",
       "    border:           2px solid red;\n",
       "    width:            600px;\n",
       "    padding-left:     20px;\n",
       "    padding-right:    20px;\n",
       "    padding-top:      10px;\n",
       "    font-family:      'Sacramento', cursive;\n",
       "    font-size:        26px;\n",
       "    background-color: #F4EBF3;\n",
       "    border-radius:    15px;\n",
       "}\n",
       "\n",
       "</Style>\n",
       "\n"
      ],
      "text/plain": [
       "<IPython.core.display.HTML object>"
      ]
     },
     "execution_count": 1,
     "metadata": {},
     "output_type": "execute_result"
    }
   ],
   "source": [
    "from IPython.core.display import HTML\n",
    "with open (\"../style.css\", \"r\") as file:\n",
    "    css = file.read()\n",
    "HTML(css)"
   ]
  },
  {
   "cell_type": "markdown",
   "id": "d7958f8b",
   "metadata": {},
   "source": [
    "# Automatic Differentiation with `autograd`"
   ]
  },
  {
   "cell_type": "markdown",
   "id": "b51c54e0",
   "metadata": {},
   "source": [
    "This is a short introduction to the library `autograd`.\n",
    "Technically, `autograd` wraps and extends `numpy`.  It is most often imported as follows:"
   ]
  },
  {
   "cell_type": "code",
   "execution_count": 2,
   "id": "ec4544c6",
   "metadata": {},
   "outputs": [],
   "source": [
    "import autograd       as ag\n",
    "import autograd.numpy as np"
   ]
  },
  {
   "cell_type": "markdown",
   "id": "1f25756d",
   "metadata": {},
   "source": [
    "In order to plot the functions that we are going to differentiate, we also import `matplotlib` and `seaborn`."
   ]
  },
  {
   "cell_type": "code",
   "execution_count": 3,
   "id": "0336305c",
   "metadata": {},
   "outputs": [],
   "source": [
    "import matplotlib.pyplot as plt\n",
    "import seaborn           as sns"
   ]
  },
  {
   "cell_type": "markdown",
   "id": "7731595e",
   "metadata": {},
   "source": [
    "We start with a trivial example and take the derivative of the function\n",
    "$$ f(x) = x \\cdot \\exp(x). $$\n",
    "Of course, the derivate of $f(x)$ is just $\\exp(x) + x \\cdot \\exp(x)$. Therefore we have\n",
    "$$ \\frac{\\mathrm{d} f}{\\mathrm{d} x} = \\exp(x) + x \\cdot \\exp(x). $$"
   ]
  },
  {
   "cell_type": "code",
   "execution_count": 4,
   "id": "5236f013",
   "metadata": {},
   "outputs": [],
   "source": [
    "def f(x):\n",
    "    return x * np.exp(x)"
   ]
  },
  {
   "cell_type": "markdown",
   "id": "92bcdb80",
   "metadata": {},
   "source": [
    "To compute the derivative of `f` we can use the function `grad` from `autograd` and apply it to to the function `f` defined previously."
   ]
  },
  {
   "cell_type": "code",
   "execution_count": 5,
   "id": "94c55c0a",
   "metadata": {},
   "outputs": [],
   "source": [
    "fs = ag.grad(f)"
   ]
  },
  {
   "cell_type": "markdown",
   "id": "bcb2e38c",
   "metadata": {},
   "source": [
    "Now `fs` is a function computing the derivative of the function `f`."
   ]
  },
  {
   "cell_type": "code",
   "execution_count": 6,
   "id": "750e0147",
   "metadata": {},
   "outputs": [
    {
     "data": {
      "text/plain": [
       "<function autograd.wrap_util.unary_to_nary.<locals>.nary_operator.<locals>.nary_f(*args, **kwargs)>"
      ]
     },
     "execution_count": 6,
     "metadata": {},
     "output_type": "execute_result"
    }
   ],
   "source": [
    "fs"
   ]
  },
  {
   "cell_type": "markdown",
   "id": "a6d3bf53",
   "metadata": {},
   "source": [
    "Let us check the derivative of `f` for `x = 1.0`."
   ]
  },
  {
   "cell_type": "code",
   "execution_count": 7,
   "id": "1d6df335",
   "metadata": {},
   "outputs": [
    {
     "data": {
      "text/plain": [
       "5.43656365691809"
      ]
     },
     "execution_count": 7,
     "metadata": {},
     "output_type": "execute_result"
    }
   ],
   "source": [
    "fs(1.0)"
   ]
  },
  {
   "cell_type": "markdown",
   "id": "ce386971",
   "metadata": {},
   "source": [
    "Up the numerical precision of double precision floating point numbers, this should be the same value $2 \\cdot \\exp(1)$."
   ]
  },
  {
   "cell_type": "code",
   "execution_count": 8,
   "id": "543cf57d",
   "metadata": {},
   "outputs": [
    {
     "data": {
      "text/plain": [
       "0.0"
      ]
     },
     "execution_count": 8,
     "metadata": {},
     "output_type": "execute_result"
    }
   ],
   "source": [
    "fs(1.0) - 2 * np.exp(1.0)"
   ]
  },
  {
   "cell_type": "markdown",
   "id": "be0c8ef0",
   "metadata": {},
   "source": [
    "We are going to plot both `f` and its derivative.  The function `draw` takes four\n",
    "arguments:\n",
    "- `f` is the function that is to be plotted.  This should be a Python function.\n",
    "- `a` and `b` are real numbers such that `a < b`. \n",
    "- `title` is a string which serves as the title of the plot.\n",
    "The function `draw` plots `f` in the interval `[a, b]`."
   ]
  },
  {
   "cell_type": "code",
   "execution_count": 9,
   "id": "f765432a",
   "metadata": {},
   "outputs": [],
   "source": [
    "def draw(f, fs, a, b, title):\n",
    "    plt.figure(figsize=(10, 6))\n",
    "    sns.set(style='darkgrid')\n",
    "    plt.title(title)\n",
    "    plt.xlabel('x')\n",
    "    plt.ylabel('y')\n",
    "    plt.axvline(x=0.0, c='k')\n",
    "    plt.axhline(y=0.0, c='k')\n",
    "    X  = np.arange(a, b, (b - a) / 500)\n",
    "    Y  = [f(x)  for x in X]\n",
    "    Ys = [fs(x) for x in X]\n",
    "    plt.plot(X, Y,  color='blue', label=\"f(x)\")\n",
    "    plt.plot(X, Ys, color='red',  label=\"f'(x)\")\n",
    "    plt.legend()"
   ]
  },
  {
   "cell_type": "code",
   "execution_count": 11,
   "id": "8a88b2f6",
   "metadata": {},
   "outputs": [
    {
     "data": {
      "image/png": "[encoded data removed]",
      "text/plain": [
       "<Figure size 1000x600 with 1 Axes>"
      ]
     },
     "metadata": {},
     "output_type": "display_data"
    }
   ],
   "source": [
    "draw(f, fs, -2, 2, 'f(x) = x*x')"
   ]
  },
  {
   "cell_type": "markdown",
   "id": "3578f110",
   "metadata": {},
   "source": [
    "We try a function that is slightly more complicated next.\n",
    "The function `S` implements the [sigmoid function](https://en.wikipedia.org/wiki/Sigmoid_function), which is defined as\n",
    "$$ \\texttt{S}(x) = \\frac{1}{1 + \\mathrm{e}^{-x}}. $$"
   ]
  },
  {
   "cell_type": "code",
   "execution_count": null,
   "id": "1fb9fb1a",
   "metadata": {},
   "outputs": [],
   "source": [
    "def S(x):\n",
    "    return 1.0 / (1.0 + np.exp(-x))"
   ]
  },
  {
   "cell_type": "markdown",
   "id": "7f7c855e",
   "metadata": {},
   "source": [
    "The function `S_prime` computes the [derivative](https://en.wikipedia.org/wiki/Derivative) of the Sigmoid function.  We implement it using *automatic differentiation*.  This is the closest thing to magic I have seen yet."
   ]
  },
  {
   "cell_type": "code",
   "execution_count": null,
   "id": "98a3f134",
   "metadata": {},
   "outputs": [],
   "source": [
    "S_prime = ag.grad(S)"
   ]
  },
  {
   "cell_type": "markdown",
   "id": "d0f5f0aa",
   "metadata": {},
   "source": [
    "Next, we plot both the sigmoid function and its derivative."
   ]
  },
  {
   "cell_type": "code",
   "execution_count": null,
   "id": "ca1b4890",
   "metadata": {},
   "outputs": [],
   "source": [
    "draw(S, S_prime, -6, 6, 'f(x) = 1/(1 + exp(-x))')"
   ]
  },
  {
   "cell_type": "markdown",
   "id": "220a4fab",
   "metadata": {},
   "source": [
    "The cool thing about `autograd` is that it can take the derivative of <u>any</u> Python function, provided this function is differentiable.\n",
    "For example, the function `mySqrt(x)` computes the square root of `x` using [Newton's method](https://en.wikipedia.org/wiki/Newton%27s_method).\n",
    "It defines the sequence $(r_n)_{n\\in\\mathbb{N}}$ as\n",
    "- $\\displaystyle r_0 = \\frac{ 1}{2} \\cdot x$ and\n",
    "- $\\displaystyle r_{n+1} = \\frac{1}{2} \\cdot \\Bigl(r_n + \\frac{x}{r_n}\\Bigr)$.\n",
    "\n",
    "This sequence converges quadratically to the square root of $x$:\n",
    "$$ \\lim\\limits_{n\\rightarrow\\infty} r_n = \\sqrt{x} $$"
   ]
  },
  {
   "cell_type": "code",
   "execution_count": null,
   "id": "3aeb4b1b",
   "metadata": {},
   "outputs": [],
   "source": [
    "def mySqrt(x): \n",
    "    root = x\n",
    "    eps  = 2.0e-15\n",
    "    while abs(x - root * root) > eps:\n",
    "        root = 0.5 * (root + x / root)    \n",
    "    return root"
   ]
  },
  {
   "cell_type": "code",
   "execution_count": null,
   "id": "aa8fdb4a",
   "metadata": {},
   "outputs": [],
   "source": [
    "mySqrtGrad = ag.grad(mySqrt)"
   ]
  },
  {
   "cell_type": "markdown",
   "id": "b7730849",
   "metadata": {},
   "source": [
    "As we have\n",
    "$$ \\frac{\\mathrm{d}\\; }{\\mathrm{d} x}\\sqrt{x} = \\frac{1}{2} \\cdot \\frac{1}{\\sqrt{x}}, $$\n",
    "the derivative is undefined for $x=0$.  Hence we draw the function for $x \\geq 0.05$."
   ]
  },
  {
   "cell_type": "code",
   "execution_count": null,
   "id": "a86e23bd",
   "metadata": {},
   "outputs": [],
   "source": [
    "draw(mySqrt, mySqrtGrad, 0.05, 4, 'f(x) = sqrt(x)')"
   ]
  },
  {
   "cell_type": "markdown",
   "id": "844acbf0",
   "metadata": {},
   "source": [
    "Unfortunately, `autograd` has its limitations, as shown by the next cell."
   ]
  },
  {
   "cell_type": "code",
   "execution_count": null,
   "id": "7034d61d",
   "metadata": {},
   "outputs": [],
   "source": [
    "mySqrtGrad(1.0)"
   ]
  },
  {
   "cell_type": "markdown",
   "id": "423ef84d",
   "metadata": {},
   "source": [
    "The reason for this bug is that when `mySqrt` is called with the argument `1.0`, it just returns the value `x`, since the `while` loop is never executed because the condition `abs(x - root * root) > eps` is `False`.  If we rewrite the function `mySqrt` so that the body of the `while` loop is executed at least once, then the problem disapears."
   ]
  },
  {
   "cell_type": "code",
   "execution_count": null,
   "id": "2795f29e",
   "metadata": {},
   "outputs": [],
   "source": [
    "def mySqrt(x): \n",
    "    root = x\n",
    "    eps  = 2.0e-15\n",
    "    while True:\n",
    "        root = 0.5 * (root + x / root)\n",
    "        if abs(x - root * root) < eps:\n",
    "            return root"
   ]
  },
  {
   "cell_type": "code",
   "execution_count": null,
   "id": "6862c965",
   "metadata": {},
   "outputs": [],
   "source": [
    "mySqrtGrad = ag.grad(mySqrt)"
   ]
  },
  {
   "cell_type": "code",
   "execution_count": null,
   "id": "cfefaa8b",
   "metadata": {},
   "outputs": [],
   "source": [
    "mySqrtGrad(1.0)"
   ]
  },
  {
   "cell_type": "markdown",
   "id": "04e14bde",
   "metadata": {},
   "source": [
    "## Implementing Newton's Method with `autograd`\n",
    "\n",
    "[Newton's method](https://en.wikipedia.org/wiki/Newton%27s_method) for solving an equation of the form\n",
    "$$  f(x) = 0 $$\n",
    "defines a sequence $(x_n)_{n\\in\\mathbb{N}}$ inductively:\n",
    "* $x_0 = 1.0$\n",
    "* $x_{n+1} = x_n - \\frac{\\displaystyle f(x_n)}{\\displaystyle f'(x_n)}$  \n",
    " \n",
    "Then, if the function $f$ is convex, twice differentiable, and has a change of sign, then the limit \n",
    "$$ \\bar{x} = \\lim\\limits_{n\\rightarrow\\infty} x_n $$\n",
    "satisfies $f(\\bar{x}) = 0$.\n",
    "\n",
    "The function `newton` takes a function `f` and computes the \n",
    "value `x` such that $f(x) = 0$ using Newton's method.  Note that it uses the `grad` function to compute\n",
    "the derivative of `f`:"
   ]
  },
  {
   "cell_type": "code",
   "execution_count": null,
   "id": "ebfc0b60",
   "metadata": {},
   "outputs": [],
   "source": [
    "def newton(f):\n",
    "    fs  = ag.grad(f)\n",
    "    x   = 1.0 \n",
    "    eps = 1.0e-14\n",
    "    while True:\n",
    "        x = x - f(x) / fs(x)\n",
    "        if abs(f(x)) <= eps:\n",
    "            return x"
   ]
  },
  {
   "cell_type": "markdown",
   "id": "3013091a",
   "metadata": {},
   "source": [
    "We proceed to solve the equation\n",
    "$$ \\cos(x) - x = 0. $$\n",
    "To this end we define the function $f(x) = \\cos(x) - x$."
   ]
  },
  {
   "cell_type": "code",
   "execution_count": null,
   "id": "dcfd3546",
   "metadata": {},
   "outputs": [],
   "source": [
    "def f(x): \n",
    "    return np.cos(x) - x"
   ]
  },
  {
   "cell_type": "code",
   "execution_count": null,
   "id": "3b46f3dc",
   "metadata": {},
   "outputs": [],
   "source": [
    "draw(f, ag.grad(f), 0.0, 1.5, 'f(x) = cos(x) - x')"
   ]
  },
  {
   "cell_type": "markdown",
   "id": "1f188412",
   "metadata": {},
   "source": [
    "Let us find the root of this function."
   ]
  },
  {
   "cell_type": "code",
   "execution_count": null,
   "id": "6b6bdc82",
   "metadata": {},
   "outputs": [],
   "source": [
    "x = newton(f)\n",
    "x"
   ]
  },
  {
   "cell_type": "code",
   "execution_count": null,
   "id": "3b09269a",
   "metadata": {},
   "outputs": [],
   "source": [
    "f(x)"
   ]
  },
  {
   "cell_type": "code",
   "execution_count": null,
   "id": "25c0a3a0",
   "metadata": {},
   "outputs": [],
   "source": []
  }
 ],
 "metadata": {
  "kernelspec": {
   "display_name": "Python 3 (ipykernel)",
   "language": "python",
   "name": "python3"
  },
  "language_info": {
   "codemirror_mode": {
    "name": "ipython",
    "version": 3
   },
   "file_extension": ".py",
   "mimetype": "text/x-python",
   "name": "python",
   "nbconvert_exporter": "python",
   "pygments_lexer": "ipython3",
   "version": "3.11.7"
  }
 },
 "nbformat": 4,
 "nbformat_minor": 5
}
