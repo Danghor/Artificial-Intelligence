{
 "cells": [
  {
   "cell_type": "code",
   "execution_count": 1,
   "metadata": {},
   "outputs": [
    {
     "data": {
      "text/html": [
       "<link href='http://fonts.googleapis.com/css?family=Alegreya+Sans:100,300,400,500,700,800,900,100italic,300italic,400italic,500italic,700italic,800italic,900italic' rel='stylesheet' type='text/css'>\n",
       "<link href='http://fonts.googleapis.com/css?family=Arvo:400,700,400italic' rel='stylesheet' type='text/css'>\n",
       "<link href='http://fonts.googleapis.com/css?family=PT+Mono' rel='stylesheet' type='text/css'>\n",
       "<link href='http://fonts.googleapis.com/css?family=Shadows+Into+Light' rel='stylesheet' type='text/css'>\n",
       "<link href='http://fonts.googleapis.com/css?family=Philosopher:400,700,400italic,700italic' rel='stylesheet' type='text/css'>\n",
       "<link href=\"http://fonts.googleapis.com/css?family=Sacramento\" rel=\"stylesheet\" type=\"text/css\">\n",
       "\n",
       "<style>\n",
       "\n",
       "@font-face {\n",
       "    font-family: \"Computer Modern\";\n",
       "    src: url('http://mirrors.ctan.org/fonts/cm-unicode/fonts/otf/cmunss.otf');\n",
       "}\n",
       "\n",
       ".container { width: 100% }\n",
       "\n",
       "/* Formatting for header cells */\n",
       ".text_cell_render h1 {\n",
       "    font-family: 'Philosopher', sans-serif;\n",
       "    font-weight: 400;\n",
       "    font-size: 2.2em;\n",
       "    line-height: 100%;\n",
       "    color: rgb(0, 80, 120);\n",
       "    margin-bottom: 0.1em;\n",
       "    margin-top: 0.1em;\n",
       "    display: block;\n",
       "}\t\n",
       ".text_cell_render h2 {\n",
       "    font-family: 'Philosopher', serif;\n",
       "    font-weight: 400;\n",
       "    font-size: 1.9em;\n",
       "    line-height: 100%;\n",
       "    color: rgb(200,100,0);\n",
       "    margin-bottom: 0.1em;\n",
       "    margin-top: 0.1em;\n",
       "    display: block;\n",
       "}\t\n",
       "\n",
       ".text_cell_render h3 {\n",
       "    font-family: 'Philosopher', serif;\n",
       "    margin-top:12px;\n",
       "    margin-bottom: 3px;\n",
       "    font-style: italic;\n",
       "    color: rgb(94,127,192);\n",
       "}\n",
       "\n",
       ".text_cell_render h4 {\n",
       "    font-family: 'Philosopher', serif;\n",
       "}\n",
       "\n",
       ".text_cell_render h5 {\n",
       "    font-family: 'Alegreya Sans', sans-serif;\n",
       "    font-weight: 300;\n",
       "    font-size: 16pt;\n",
       "    color: grey;\n",
       "    font-style: italic;\n",
       "    margin-bottom: .1em;\n",
       "    margin-top: 0.1em;\n",
       "    display: block;\n",
       "}\n",
       "\n",
       ".text_cell_render h6 {\n",
       "    font-family: 'PT Mono', sans-serif;\n",
       "    font-weight: 300;\n",
       "    font-size: 10pt;\n",
       "    color: grey;\n",
       "    margin-bottom: 1px;\n",
       "    margin-top: 1px;\n",
       "}\n",
       "\n",
       ".text_cell_render em {\n",
       "    font-family: 'Philosopher', sans-serif;\n",
       "    color:        blue;\n",
       "    background-color: rgb(255,220,180);\n",
       "    font-size:    110%;\n",
       "    margin-left:   2px;\n",
       "    margin-right:  2px;\n",
       "    font-weight:   100;\n",
       "}\n",
       "\n",
       ".text_cell_render b {\n",
       "    color:            rgb(255,195,195);\n",
       "    background-color: rgb(0,0,0);\n",
       "    font-size:    110%;\n",
       "    margin-left:   2px;\n",
       "    margin-right:  2px;\n",
       "    font-weight:   650;\n",
       "}\n",
       "\n",
       ".text_cell_render u {\n",
       "    color:            blue;\n",
       "    font-size:    110%;\n",
       "    margin-left:   2px;\n",
       "    margin-right:  2px;\n",
       "    font-weight:   650;\n",
       "}\n",
       "\n",
       ".text_cell_render tt {\n",
       "    font-size:    120%;\n",
       "    margin-left:   2px;\n",
       "    margin-right:  2px;\n",
       "    font-weight:   150;\n",
       "}\n",
       "\n",
       ".Codemirror {\n",
       "    font-family: \"PT Mono\";\n",
       "    font-size: 100%;\n",
       "}\n",
       "\n",
       "#fancy {\n",
       "    font-family:      Georgia;\n",
       "    position:         relative;\n",
       "    float:            left;\n",
       "    border:           2px solid red;\n",
       "    width:            600px;\n",
       "    padding-left:     20px;\n",
       "    padding-right:    20px;\n",
       "    padding-top:      10px;\n",
       "    font-family:      'Sacramento', cursive;\n",
       "    font-size:        26px;\n",
       "    background-color: #F4EBF3;\n",
       "    border-radius:    15px;\n",
       "}\n",
       "\n",
       "</Style>\n",
       "\n"
      ],
      "text/plain": [
       "<IPython.core.display.HTML object>"
      ]
     },
     "execution_count": 1,
     "metadata": {},
     "output_type": "execute_result"
    }
   ],
   "source": [
    "from IPython.core.display import HTML\n",
    "with open (\"../style.css\", \"r\") as file:\n",
    "    css = file.read()\n",
    "HTML(css)"
   ]
  },
  {
   "cell_type": "markdown",
   "metadata": {},
   "source": [
    "# The Knuth-Bendix Completion Algorithm"
   ]
  },
  {
   "cell_type": "markdown",
   "metadata": {},
   "source": [
    "This notebook presents the [Knuth-Bendix completion algorithm](https://en.wikipedia.org/wiki/Knuth%E2%80%93Bendix_completion_algorithm) for transforming a set of equations into a *confluent* term rewriting system.  This notebook is divided into eight sections.\n",
    "- [Parsing](#Parsing)\n",
    "- [Matching](#Matching)\n",
    "- [Term Rewriting](#Term-Rewriting)\n",
    "- [Unification](#Unification)\n",
    "- [Knuth-Bendix Ordering](#The-Knuth-Bendix-Ordering)\n",
    "- [Critical Pairs](#Critical-Pairs)\n",
    "- [The Completion Algorithm](#The-Completion-Algorithm)\n",
    "- [Examples](#Examples)"
   ]
  },
  {
   "cell_type": "markdown",
   "metadata": {},
   "source": [
    "## Parsing"
   ]
  },
  {
   "cell_type": "markdown",
   "metadata": {},
   "source": [
    "To begin, we need a parser that is capable of parsing terms and equations. This parser is implemented in the notebook `Parser.ipynb` and can parse equations of terms that use the binary operators `+`, `-`, `*`, `/`, `\\`, `%`, and `^`.  The precedences of these operators are as follows:\n",
    "1. `+` and `-` have the precedence $1$, which is the lowest precedence.\n",
    "   Furthermore, they are *left-associative*.\n",
    "2. `*`, `/`, `\\`, `%` have the precedence $2$ and are also *left associative*.\n",
    "3. `^` has the precedence $3$ and is *right associative*.\n",
    "\n",
    "Furthermore, *function symbols* and *variables* are supported. Every string consisting of letters, digits, and underscores that does start with a letter is considered a function symbol if it is followed by an opening parenthesis.  Otherwise, it is taken to be a variable. Terms are defined inductively:\n",
    "- Every variable is a term.\n",
    "- If $f$ is a function symbol and $t_1$, $\\cdots$, $t_n$ are terms, then $f(t_1,\\cdots,t_n)$ is a term.\n",
    "- If $s$ and $t$ are terms and $o$ is an operator, then $s\\; o\\; t$ is a term.  \n",
    "\n",
    "The notebook `Parser.ipynb` also provides the function `to_str` for turning terms or equations into strings.  All together, the notebook provides the following functions:\n",
    "- `parse_file(file_name)` parses a file containing equations between terms.\n",
    "  It returns a list of the equations that have been parsed.\n",
    "- `parse_equation(s)` converts the string `s` into an equation.\n",
    "- `parse_term(s)` converts the string `s` into a term.\n",
    "- `to_str(o)` converts an object `o` into a string.  The object `o` either is\n",
    "  * a term,\n",
    "  * an equation,\n",
    "  * a list of equations,\n",
    "  * a set of equations, or\n",
    "  * a dictionary representing a *substitution*.\n",
    "\n",
    "Terms and equations are represented as *nested tuples*.  These are defined recursively:\n",
    "- a string is a *nested tuple*,\n",
    "- a tuple `t` is a *nested tuple* iff `t[0]` is a string and for all \n",
    "  $i \\in \\{1,\\cdots,\\texttt{len}(t)-1\\}$ we have that `t[i]` is a nested tuple.\n",
    "  \n",
    "The parser is implemented using the parser generator [Ply](https://www.dabeaz.com/ply/ply.html)."
   ]
  },
  {
   "cell_type": "code",
   "execution_count": 2,
   "metadata": {},
   "outputs": [
    {
     "name": "stderr",
     "output_type": "stream",
     "text": [
      "Generating LALR tables\n"
     ]
    }
   ],
   "source": [
    "%run Parser.ipynb"
   ]
  },
  {
   "cell_type": "code",
   "execution_count": 3,
   "metadata": {},
   "outputs": [
    {
     "name": "stdout",
     "output_type": "stream",
     "text": [
      "x * (x \\ y) = y;\r\n",
      "(x / y) * y = x;\r\n",
      "x \\ (x * y) = y;\r\n",
      "(x * y) / y = x;"
     ]
    }
   ],
   "source": [
    "!cat Examples/quasigroups.eqn || type Examples\\quasigroups.eqn"
   ]
  },
  {
   "cell_type": "code",
   "execution_count": 4,
   "metadata": {},
   "outputs": [
    {
     "name": "stdout",
     "output_type": "stream",
     "text": [
      "('*', ('*', ('$var', 'x'), ('$var', 'y')), ('$var', 'z'))\n",
      "(x * y) * z\n",
      "('=', ('*', ('i', ('$var', 'x')), ('$var', 'x')), ('1',))\n",
      "[x * (x \\ y) = y, (x / y) * y = x, x \\ (x * y) = y, (x * y) / y = x]\n"
     ]
    }
   ],
   "source": [
    "def test():\n",
    "    t = parse_term('x * y * z')\n",
    "    print(t)\n",
    "    print(to_str(t))\n",
    "    eq = parse_equation('i(x) * x = 1')\n",
    "    print(eq)\n",
    "    print(to_str(parse_file('Examples/quasigroups.eqn')))\n",
    "    \n",
    "test()"
   ]
  },
  {
   "cell_type": "markdown",
   "metadata": {},
   "source": [
    "[Back to top](#The-Knuth-Bendix-Completion-Algorithm)"
   ]
  },
  {
   "cell_type": "markdown",
   "metadata": {},
   "source": [
    "## Matching"
   ]
  },
  {
   "cell_type": "markdown",
   "metadata": {},
   "source": [
    "The *substitution* $\\sigma$ maps variables to terms.  It is represented as a dictionary.  If $t$ is a term and $\\sigma$ is the substitution \n",
    "$$ \\sigma = \\{ x_1: s_1, \\cdots, x_n:s_n \\}, $$\n",
    "then *applying* the substitution $\\sigma$ to the term $t$ replaces the variables $x_i$ with the terms $s_i$.  The application of $\\sigma$ to $t$ is written as $t\\sigma$ and is defined by induction on $t$:\n",
    "- $x_i\\sigma := s_i$,\n",
    "- $v\\sigma := v$ if $v$ is a variable and $v \\not\\in \\{x_1,\\cdots,x_n\\}$,\n",
    "- $f(t_1,\\cdots,t_n)\\sigma := f(t_1\\sigma, \\cdots, t_n\\sigma)$.\n",
    "  \n",
    "A term $p$ *matches* a term $t$ iff there exists a substitution $\\sigma$ such that $p\\sigma = t$. "
   ]
  },
  {
   "cell_type": "markdown",
   "metadata": {},
   "source": [
    "The function `is_var(t)` checks whether the term `t` is interpreted a variable. Variables are represented as nested tuples of the form `($var, name)`, where `name` is the name of the variable."
   ]
  },
  {
   "cell_type": "code",
   "execution_count": 5,
   "metadata": {},
   "outputs": [],
   "source": [
    "def is_var(t):\n",
    "    return t[0] == '$var'"
   ]
  },
  {
   "cell_type": "markdown",
   "metadata": {},
   "source": [
    "Given a string `x`, the function `make_var(x)` creates a variable with name `x`."
   ]
  },
  {
   "cell_type": "code",
   "execution_count": 6,
   "metadata": {},
   "outputs": [],
   "source": [
    "def make_var(x):\n",
    "    return ('$var', x)"
   ]
  },
  {
   "cell_type": "markdown",
   "metadata": {},
   "source": [
    "Given a term `p`, a term `t`,  and a substitution `σ`, the function `match_pattern(p, t, σ)` tries to extend the\n",
    "substitution `σ` so that the equation\n",
    "$$ p \\sigma = t $$\n",
    "is satisfied.  If this is possible, the function returns `True` and updates the substitution `σ` so that\n",
    "$p \\sigma = t$ holds.  Otherwise, the function returns `False`."
   ]
  },
  {
   "cell_type": "code",
   "execution_count": 7,
   "metadata": {},
   "outputs": [],
   "source": [
    "def match_pattern(pattern, term, σ):\n",
    "    match pattern:\n",
    "        case '$var', var:\n",
    "            if var in σ:\n",
    "                return σ[var] == term\n",
    "            else:\n",
    "                σ[var] = term           # extend σ\n",
    "                return True\n",
    "        case _:\n",
    "            if pattern[0] == term[0] and len(pattern) == len(term):\n",
    "                return all(match_pattern(pattern[i], term[i], σ) for i in range(1, len(pattern)))\n",
    "            else:\n",
    "                return False"
   ]
  },
  {
   "cell_type": "code",
   "execution_count": 8,
   "metadata": {},
   "outputs": [
    {
     "name": "stdout",
     "output_type": "stream",
     "text": [
      "{z: i(y), x: i(y)}\n"
     ]
    }
   ],
   "source": [
    "def test():\n",
    "    p = parse_term('i(x) * z')\n",
    "    t = parse_term('i(i(y)) * i(y)')\n",
    "    σ = {}\n",
    "    match_pattern(p, t, σ)\n",
    "    print(to_str(σ))\n",
    "    \n",
    "test()"
   ]
  },
  {
   "cell_type": "markdown",
   "metadata": {},
   "source": [
    "Given a term `t`, the function `find_variables(t)` computes the set of all variables occurring in `t`.  If, instead, $t$ is a list of terms or a set of terms, then `find_variables(t)` computes the set of those variables that occur in any of the terms of $t$."
   ]
  },
  {
   "cell_type": "code",
   "execution_count": 9,
   "metadata": {},
   "outputs": [],
   "source": [
    "def find_variables(t):\n",
    "    if isinstance(t, set) or isinstance(t, list):\n",
    "        return { var for term in t\n",
    "                     for var  in find_variables(term)\n",
    "               }\n",
    "    if is_var(t):\n",
    "        _, var = t\n",
    "        return { var }\n",
    "    _, *L = t\n",
    "    return find_variables(L)"
   ]
  },
  {
   "cell_type": "code",
   "execution_count": 10,
   "metadata": {},
   "outputs": [
    {
     "name": "stdout",
     "output_type": "stream",
     "text": [
      "{'y', 'x', 'z'}\n"
     ]
    }
   ],
   "source": [
    "def test():\n",
    "    eq = parse_equation('(x * y) * z = x * (y * z)')\n",
    "    print(find_variables(eq))\n",
    "    \n",
    "test()"
   ]
  },
  {
   "cell_type": "markdown",
   "metadata": {},
   "source": [
    "Given a term `t` and a substitution `σ` that is represented as a dictionary of the form\n",
    "$$ \\sigma = \\{ x_1: s_1, \\cdots, x_n:s_n \\}, $$\n",
    "the function `apply(t, σ)` computes the term that results from replacing the variables $x_i$ with the terms $s_i$ in `t` for all $i=1,\\cdots,n$.  This term is written as $t\\sigma$ and if $\\sigma = \\{ x_1: s_1, \\cdots, x_n:s_n \\}$, then $t\\sigma$ is defined by induction on `t` as follows:\n",
    "- $x_i\\sigma := s_i$,\n",
    "- $v\\sigma := v$ if $v$ is a variable and $v \\not\\in \\{x_1,\\cdots,x_n\\}$,\n",
    "- $f(t_1,\\cdots,t_m)\\sigma := f(t_1\\sigma, \\cdots, t_m\\sigma)$."
   ]
  },
  {
   "cell_type": "code",
   "execution_count": 11,
   "metadata": {},
   "outputs": [],
   "source": [
    "def apply(t, σ):\n",
    "    \"Apply the substitution σ to the term t.\"\n",
    "    if is_var(t):\n",
    "        _, var = t\n",
    "        if var in σ:\n",
    "            return σ[var]\n",
    "        else:\n",
    "            return t\n",
    "    else: \n",
    "        f, *Ts = t\n",
    "        return (f,) + tuple(apply(s, σ) for s in Ts)"
   ]
  },
  {
   "cell_type": "code",
   "execution_count": 12,
   "metadata": {},
   "outputs": [
    {
     "name": "stdout",
     "output_type": "stream",
     "text": [
      "apply(i(x) * x, {x: i(y)}) = i(i(y)) * i(y)\n"
     ]
    }
   ],
   "source": [
    "def test():\n",
    "    p = parse_term('i(x) * x')\n",
    "    t = parse_term('i(i(y)) * i(y)')\n",
    "    σ = {}\n",
    "    match_pattern(p, t, σ)\n",
    "    print(f'apply({to_str(p)}, {to_str(σ)}) = {to_str(apply(p, σ))}')\n",
    "\n",
    "test()"
   ]
  },
  {
   "cell_type": "markdown",
   "metadata": {},
   "source": [
    "Given a set of terms or equations `Ts` and a substitution `σ`, the function `apply_set(Ts, σ)` applies the substitution `σ` to all elements in `Ts`."
   ]
  },
  {
   "cell_type": "code",
   "execution_count": 13,
   "metadata": {},
   "outputs": [],
   "source": [
    "def apply_set(Ts, σ):\n",
    "    return { apply(t, σ) for t in Ts }"
   ]
  },
  {
   "cell_type": "markdown",
   "metadata": {},
   "source": [
    "If  $\\sigma = \\big\\{ x_1 \\mapsto s_1, \\cdots, x_m \\mapsto s_m \\big\\}$ and\n",
    "$\\tau = \\big\\{ y_1 \\mapsto t_1, \\cdots, y_n \\mapsto t_n \\big\\}$ \n",
    "are two substitutions that are *non-overlapping*, i.e. such that $\\{x_1,\\cdots, x_m\\} \\cap \\{y_1,\\cdots,y_n\\} = \\{\\}$ holds,\n",
    "then we define the *composition* $\\sigma\\tau$ of $\\sigma$ and $\\tau$ as follows:\n",
    "$$\\sigma\\tau := \\big\\{ x_1 \\mapsto s_1\\tau, \\cdots, x_m \\mapsto s_m\\tau,\\; y_1 \\mapsto t_1, \\cdots, y_n \\mapsto t_n \\big\\}$$\n",
    "This definition implies that the following *associative law* is valid:\n",
    "$$ s(\\sigma\\tau) = (s\\sigma)\\tau $$\n",
    "The function $\\texttt{compose}(\\sigma, \\tau)$ takes two non-overlapping substitutions and computes their *composition* $\\sigma\\tau$."
   ]
  },
  {
   "cell_type": "code",
   "execution_count": 14,
   "metadata": {},
   "outputs": [],
   "source": [
    "def compose(σ, τ):\n",
    "    Result = { x: apply(s, τ) for (x, s) in σ.items() }\n",
    "    Result.update(τ)\n",
    "    return Result"
   ]
  },
  {
   "cell_type": "code",
   "execution_count": 15,
   "metadata": {},
   "outputs": [
    {
     "name": "stdout",
     "output_type": "stream",
     "text": [
      "compose({x: i(y)}, {y: a * b, z: i(b)}) = {x: i(a * b), y: a * b, z: i(b)}\n"
     ]
    }
   ],
   "source": [
    "def test():\n",
    "    t1 = parse_term('i(y)')\n",
    "    t2 = parse_term('a * b')\n",
    "    t3 = parse_term('i(b)')\n",
    "    σ = { 'x': t1 }\n",
    "    τ = { 'y': t2, 'z': t3  }\n",
    "    print(f'compose({to_str(σ)}, {to_str(τ)}) = {to_str(compose(σ, τ))}')\n",
    "    \n",
    "test()"
   ]
  },
  {
   "cell_type": "markdown",
   "metadata": {},
   "source": [
    "[Back to top](#The-Knuth-Bendix-Completion-Algorithm)"
   ]
  },
  {
   "cell_type": "markdown",
   "metadata": {},
   "source": [
    "## Term Rewriting"
   ]
  },
  {
   "cell_type": "code",
   "execution_count": 16,
   "metadata": {},
   "outputs": [
    {
     "data": {
      "text/plain": [
       "'abcdefghijklmnopqrstuvwxyz'"
      ]
     },
     "execution_count": 16,
     "metadata": {},
     "output_type": "execute_result"
    }
   ],
   "source": [
    "from string import ascii_lowercase\n",
    "ascii_lowercase"
   ]
  },
  {
   "cell_type": "markdown",
   "metadata": {},
   "source": [
    "Given a term `s` and a set of variables `V`, the function `rename_variables(s, V)` renames the variables in `s` so that they differ from the variables in the set `V`.  This will only work if the number of variables occurring in `V` times two is less than the number of letters in the latin alphabet, i.e. less than 26.  Therefore, the set `V` must have at most 13 variables.  For our examples, this is not a restriction."
   ]
  },
  {
   "cell_type": "code",
   "execution_count": 17,
   "metadata": {},
   "outputs": [],
   "source": [
    "def rename_variables(s, Vars):\n",
    "    assert len(Vars) <= 13, f'Error: too many variables in {Vars}.'\n",
    "    NewVars = set(ascii_lowercase) - Vars\n",
    "    NewVars = sorted(list(NewVars))\n",
    "    σ       = { x: make_var(NewVars[i]) for (i, x) in enumerate(Vars) }\n",
    "    return apply(s, σ)"
   ]
  },
  {
   "cell_type": "code",
   "execution_count": 18,
   "metadata": {
    "scrolled": true
   },
   "outputs": [
    {
     "name": "stdout",
     "output_type": "stream",
     "text": [
      "rename_variables((x * y) * z = x * (y * z), {'y', 'x', 'z'}) = (b * a) * c = b * (a * c)\n"
     ]
    }
   ],
   "source": [
    "def test():\n",
    "    t = parse_equation('x * y * z = x * (y * z)')\n",
    "    V = find_variables(t)\n",
    "    print(f'rename_variables({to_str(t)}, {V}) = {to_str(rename_variables(t, V))}')\n",
    "    \n",
    "test()"
   ]
  },
  {
   "cell_type": "markdown",
   "metadata": {},
   "source": [
    "The function `simplify_step(t, E)` takes two arguments:\n",
    "- `t` is a term,\n",
    "- `E` is a set of equations of the form `('=', l, r)`.\n",
    "\n",
    "The function tries to find an equation `l = r` in `E` and a subterm `s` in the term `t` such that the left hand side `l` of the equation matches the subterm `s` using some substitution $\\sigma$, i.e. we have $s = l\\sigma$.  Then the term `t` is simplified by replacing the subterm `s` in `t` by $r\\sigma$.  More formally, if `u` is the position of `s` in `t`, i.e. `t/u = s` then `t` is simplified into the term \n",
    "$$ t = t[u \\mapsto l\\sigma] \\rightarrow_{\\{l=r\\}} t[u \\mapsto r\\sigma]. $$\n",
    "If an appropriate subterm `s` is found, the simplified term is returned.  Otherwise, the function returns `None`.  \n",
    "\n",
    "If multiple subterms of `t` can simplified, then the function `simplify_step(t, E)` simplifies all subterms."
   ]
  },
  {
   "cell_type": "code",
   "execution_count": 19,
   "metadata": {},
   "outputs": [],
   "source": [
    "def simplify_step(t, Equations):\n",
    "    if is_var(t):\n",
    "        return None      # variables can't be simplified\n",
    "    for eq in Equations:\n",
    "        _, lhs, rhs = eq\n",
    "        σ = {}\n",
    "        if match_pattern(lhs, t, σ):\n",
    "            return apply(rhs, σ)\n",
    "    f, *args   = t\n",
    "    simpleArgs = []\n",
    "    change     = False\n",
    "    for arg in args:\n",
    "        simple = simplify_step(arg, Equations)\n",
    "        if simple != None:\n",
    "            simpleArgs += [simple]\n",
    "            change = True\n",
    "        else:\n",
    "            simpleArgs += [arg]\n",
    "    if change:\n",
    "        return (f,) + tuple(simpleArgs)\n",
    "    return None"
   ]
  },
  {
   "cell_type": "code",
   "execution_count": 20,
   "metadata": {},
   "outputs": [
    {
     "name": "stdout",
     "output_type": "stream",
     "text": [
      "simplify_step((a * b) * i(b), {(x * y) * z = x * (y * z)}) = a * (b * i(b))\n"
     ]
    }
   ],
   "source": [
    "def test():\n",
    "    E = { parse_equation('(x * y) * z = x * (y * z)') }\n",
    "    t = parse_term('(a * b) * i(b)')\n",
    "    print(f'simplify_step({to_str(t)}, {to_str(E)}) = {to_str(simplify_step(t, E))}')\n",
    "    \n",
    "test()"
   ]
  },
  {
   "cell_type": "markdown",
   "metadata": {},
   "source": [
    "The function `normal_form(t, E)` takes a term `t` and a list (or set) of equations `E` and tries to simplify the term `t` as much as possible using the equations from `E`.  \n",
    "\n",
    "In the implementation, we have to be careful to rename the variables occurring in `E` so that they are different from the variables occurring in `t`.  **Furthermore, we have to take care that we don't identify different variables in `E` by accident.**  Therefore, we rename the variables in `E` so that they are both different from the variables in `t` and from the old variables occurring in `E`."
   ]
  },
  {
   "cell_type": "code",
   "execution_count": 21,
   "metadata": {},
   "outputs": [],
   "source": [
    "def normal_form(t, E):\n",
    "    Vars = find_variables(t) | find_variables(E)\n",
    "    NewE = []\n",
    "    for eq in E:\n",
    "        NewE += [ rename_variables(eq, Vars) ]   \n",
    "    while True:\n",
    "        s = simplify_step(t, NewE)\n",
    "        if s == None:\n",
    "            return t\n",
    "        t = s"
   ]
  },
  {
   "cell_type": "code",
   "execution_count": 22,
   "metadata": {},
   "outputs": [
    {
     "name": "stdout",
     "output_type": "stream",
     "text": [
      "      1 * x = x;\r\n",
      "   i(x) * x = 1;\r\n",
      "(x * y) * z = x * (y * z);"
     ]
    }
   ],
   "source": [
    "!cat Examples/group-theory-1.eqn || type Examples\\group-theory-1.eqn"
   ]
  },
  {
   "cell_type": "code",
   "execution_count": 23,
   "metadata": {},
   "outputs": [
    {
     "name": "stdout",
     "output_type": "stream",
     "text": [
      "E = [1 * x = x, i(x) * x = 1, (x * y) * z = x * (y * z)]\n",
      "normal_form((1 * (b * i(a))) * a, E) = b * 1\n"
     ]
    }
   ],
   "source": [
    "def test():\n",
    "    E  = parse_file('Examples/group-theory-1.eqn')\n",
    "    t  = parse_term('1 * (b * i(a)) * a')\n",
    "    print(f'E = {to_str(E)}')\n",
    "    print(f'normal_form({to_str(t)}, E) = {to_str(normal_form(t, E))}')\n",
    "    \n",
    "test()"
   ]
  },
  {
   "cell_type": "markdown",
   "metadata": {},
   "source": [
    "[Back to top](#The-Knuth-Bendix-Completion-Algorithm)"
   ]
  },
  {
   "cell_type": "markdown",
   "metadata": {},
   "source": [
    "## Unification\n",
    "\n",
    "In this section, we implement the [unification](https://en.wikipedia.org/wiki/Unification_(computer_science)) algorithm of Martelli and Montanari."
   ]
  },
  {
   "cell_type": "markdown",
   "metadata": {},
   "source": [
    "Given a variable name `x` and a term `t`, the function `occurs(x, t)` checks whether `x` occurs in `t`."
   ]
  },
  {
   "cell_type": "code",
   "execution_count": 24,
   "metadata": {},
   "outputs": [],
   "source": [
    "def occurs(x, t):\n",
    "    if is_var(t):\n",
    "        _, var = t\n",
    "        return x == var\n",
    "    return any(occurs(x, arg) for arg in t[1:])"
   ]
  },
  {
   "cell_type": "markdown",
   "metadata": {},
   "source": [
    "The algorithm implemented below takes a pair `(E, σ)` as its input.  Here `E` is a set of *syntactical equations* that need to be solved and `σ` is a substitution that is initially empty.  The pair `(E, σ)` is then transformed using the rules of *Martelli and Montanari*.  The transformation is successful if the pair `(E, σ)` can be transformed into a pair of the form `({}, μ)`.  Then `μ` is the *solution* to the system of equations `E` and hence `μ` is a *most general unifier* of `E`.\n",
    "\n",
    "The rules that can be used to solve a system of *syntactical equations* are as follows:\n",
    "   - If $y\\in\\mathcal{V}$ is a variable that does **not** occur in the term $t$,\n",
    "     then we perform the following reduction: \n",
    "     $$ \\Big\\langle E \\cup \\big\\{ y \\doteq t \\big\\}, \\sigma \\Big\\rangle \\quad\\leadsto \\quad \n",
    "         \\Big\\langle E[y \\mapsto t], \\sigma\\big[ y \\mapsto t \\big] \\Big\\rangle \n",
    "     $$     \n",
    "   - If the variable $y$ occurs in the term $t$ and $y$ is different from $t$, then the system of \n",
    "     syntactical equations\n",
    "     $E \\cup \\big\\{ y \\doteq t \\big\\}$ is not solvable:\n",
    "     $$ \\Big\\langle E \\cup \\big\\{ y \\doteq t \\big\\}, \\sigma \\Big\\rangle\\;\\leadsto\\; \\texttt{None} \\quad\n",
    "        \\mbox{if $y \\in \\textrm{Var}(t)$ and $y \\not=t$.}$$\n",
    "   - If $y\\in\\mathcal{V}$ is a variable and $t$ is no variable, then we use the following rule:\n",
    "     $$ \\Big\\langle E \\cup \\big\\{ t \\doteq y \\big\\}, \\sigma \\Big\\rangle \\quad\\leadsto \\quad \n",
    "         \\Big\\langle E \\cup \\big\\{ y \\doteq t \\big\\}, \\sigma \\Big\\rangle.\n",
    "     $$   \n",
    "   - Trivial syntactical equations of variables can be dropped:\n",
    "     $$ \\Big\\langle E \\cup \\big\\{ x \\doteq x \\big\\}, \\sigma \\Big\\rangle \\quad\\leadsto \\quad\n",
    "         \\Big\\langle E, \\sigma \\Big\\rangle.\n",
    "     $$   \n",
    "   - If $f$ is an $n$-ary function symbol, then we have: \n",
    "     $$ \\Big\\langle E \\cup \\big\\{ f(s_1,\\cdots,s_n) \\doteq f(t_1,\\cdots,t_n) \\big\\}, \\sigma \\Big\\rangle \n",
    "         \\;\\leadsto\\; \n",
    "         \\Big\\langle E \\cup \\big\\{ s_1 \\doteq t_1, \\cdots, s_n \\doteq t_n\\}, \\sigma \\Big\\rangle.\n",
    "     $$   \n",
    "   - The system of syntactical equations $E \\cup \\big\\{ f(s_1,\\cdots,s_m) \\doteq g(t_1,\\cdots,t_n) \\big\\}$\n",
    "     has **no** solution if the function symbols $f$ and $g$ are different:\n",
    "     $$ \\Big\\langle E \\cup \\big\\{ f(s_1,\\cdots,s_m) \\doteq g(t_1,\\cdots,t_n) \\big\\},\n",
    "      \\sigma \\Big\\rangle \\;\\leadsto\\; \\texttt{None} \\qquad \\mbox{if $f \\not= g$}.\n",
    "     $$"
   ]
  },
  {
   "cell_type": "markdown",
   "metadata": {},
   "source": [
    "Given two terms $s$ and $t$, the function $\\texttt{unify}(s, t)$ computes the <em style=\"color:blue;\">most general unifier</em> of $s$ and $t$."
   ]
  },
  {
   "cell_type": "code",
   "execution_count": 25,
   "metadata": {},
   "outputs": [],
   "source": [
    "def unify(s, t):\n",
    "    return solve({('≐', s, t)}, {})"
   ]
  },
  {
   "cell_type": "markdown",
   "metadata": {},
   "source": [
    "Given a set of <em style=\"color:blue;\">syntactical equations</em> $E$ and a substitution $\\sigma$, the function $\\texttt{solve}(E, \\sigma)$ applies the rules of Martelli and Montanari to solve $E$."
   ]
  },
  {
   "cell_type": "code",
   "execution_count": 26,
   "metadata": {},
   "outputs": [],
   "source": [
    "def solve(E, σ):\n",
    "    while E != set():\n",
    "        _, s, t = E.pop()\n",
    "        if s == t: # remove trivial equations\n",
    "            continue\n",
    "        if is_var(s):\n",
    "            _, x = s\n",
    "            if occurs(x, t):\n",
    "                return None\n",
    "            else: # set x to t\n",
    "                E = apply_set(E, { x: t })\n",
    "                σ = compose(σ, { x: t })\n",
    "        elif is_var(t):\n",
    "            E.add(('≐', t, s))\n",
    "        else:\n",
    "            f    , g     = s[0]      , t[0]\n",
    "            sArgs, tArgs = s[1:]     , t[1:]\n",
    "            m    , n     = len(sArgs), len(tArgs)\n",
    "            if f != g or m != n:\n",
    "                return None\n",
    "            else:\n",
    "                E |= { ('≐', sArgs[i], tArgs[i]) for i in range(m) }\n",
    "    return σ"
   ]
  },
  {
   "cell_type": "code",
   "execution_count": 27,
   "metadata": {},
   "outputs": [
    {
     "name": "stdout",
     "output_type": "stream",
     "text": [
      "unify((x * i(x)) * (y * z), (a * i(1)) * b) = {x: 1, a: 1, b: y * z}\n"
     ]
    }
   ],
   "source": [
    "def test():\n",
    "    s = parse_term('x * i(x) * (y * z)')\n",
    "    t = parse_term('a * i(1) * b')\n",
    "    print(f'unify({to_str(s)}, {to_str(t)}) = {to_str(unify(s, t))}')\n",
    "    \n",
    "test()"
   ]
  },
  {
   "cell_type": "markdown",
   "metadata": {},
   "source": [
    "[Back to top](#The-Knuth-Bendix-Completion-Algorithm)"
   ]
  },
  {
   "cell_type": "markdown",
   "metadata": {},
   "source": [
    "## The Knuth-Bendix Ordering\n",
    "\n",
    "In order to turn an equation $s = t$ into a rewrite rule, we have to check whether the term $s$ is *more complex* than the term $t$, so that $s$ should be simplified to $t$, or whether $t$ is *more complex* than $s$ and we should rewrite $t$ into $s$.  To this end, we implement the *Knuth-Bendix ordering*, which is a method to compare terms."
   ]
  },
  {
   "cell_type": "markdown",
   "metadata": {},
   "source": [
    "Given a term `t` and a variable name `x`, the function `count(t, x)` computes the number of times that `x` occurs in `t`."
   ]
  },
  {
   "cell_type": "code",
   "execution_count": 28,
   "metadata": {},
   "outputs": [],
   "source": [
    "def count(t, x):\n",
    "    match t:\n",
    "        case '$var', y:\n",
    "            return 1 if x == y else 0\n",
    "        case _, *Ts:\n",
    "            return sum(count(arg, x) for arg in Ts)"
   ]
  },
  {
   "cell_type": "code",
   "execution_count": 29,
   "metadata": {},
   "outputs": [
    {
     "name": "stdout",
     "output_type": "stream",
     "text": [
      "count(x * (i(x) * y), \"x\") = 2\n"
     ]
    }
   ],
   "source": [
    "def test():\n",
    "    t = parse_term('x * (i(x) * y)')\n",
    "    print(f'count({to_str(t)}, \"x\") = {count(t, \"x\")}')\n",
    "    \n",
    "test()"
   ]
  },
  {
   "cell_type": "markdown",
   "metadata": {},
   "source": [
    "In order to define the *Knuth-Bendix ordering* on terms, three prerequisites need to be satisfied:\n",
    "1. We need to assign a *weight* $w(f)$ to every function symbol $f$.  These weights are \n",
    "   natural numbers.  There must be at most one function symbol $g$ such that $w(g) = 0$.\n",
    "   Furthermore, if $w(g) = 0$, then $g$ has to be unary.\n",
    "   \n",
    "   We define the weights via the dictionary `Weight`, i.e. we have $w(f) = \\texttt{Weight}[f]$.\n",
    "2. We need to define a *strict order* $<$ on the set of function symbols.\n",
    "\n",
    "   This ordering is implemented via the dictionary `Ordering`.  We define\n",
    "   $$ f < g \\;\\stackrel{_\\textrm{def}}{\\Longleftrightarrow}\\; \\texttt{Ordering}[f] < \\texttt{Ordering}[f]. $$\n",
    "3. The order $<$ on the function symbols has to be *admissible* with respect to the weight function $w$, i.e. the following\n",
    "   condition needs to be satisfied:\n",
    "   $$ w(f) = 0 \\rightarrow \\forall g:  \\bigl(g \\not=f \\rightarrow g < f\\bigr). $$\n",
    "   To put this in words: If the function symbol $f$ has a weight of $0$, then \n",
    "   all other function symbols $g$ have to be smaller than $f$ w.r.t. the strict order $<$.\n",
    "   Note that this implies that there can be at most    one function symbol with $f$ such that $w(f) = 0$. \n",
    "   This function symbol $f$ is then the maximum w.r.t. the order $<$.\n",
    "   \n",
    "   Below, for efficiency reasons, the function `max_fct` returns the function symbol $f$ that is maximal w.r.t. the strict order $<$."
   ]
  },
  {
   "cell_type": "code",
   "execution_count": 30,
   "metadata": {},
   "outputs": [],
   "source": [
    "WEIGHT   = { '1': 1, '*': 1, '/': 1, '\\\\': 1, 'i': 0 }\n",
    "ORDERING = { '1': 0, '*': 1, '/': 2, '\\\\': 3, 'i': 5 }\n",
    "max_fct  = lambda: 'i' "
   ]
  },
  {
   "cell_type": "markdown",
   "metadata": {},
   "source": [
    "Given a term `t` the function `weight(t)` computes the *weight* $w(t)$, where $w(t)$ is defined by induction on $t$:\n",
    "- $w(x) := 1$ for all variables $x$,\n",
    "- $w\\bigl(f(t_1,\\cdots,t_n)\\bigr) := \\texttt{Weight}[f] + \\sum\\limits_{i=1}^n w(t_i)$."
   ]
  },
  {
   "cell_type": "code",
   "execution_count": 31,
   "metadata": {},
   "outputs": [],
   "source": [
    "def weight(t):\n",
    "    match t:\n",
    "        case '$var', _:\n",
    "            return 1\n",
    "        case f, *Ts:\n",
    "            return WEIGHT[f] + sum(weight(arg) for arg in Ts)"
   ]
  },
  {
   "cell_type": "code",
   "execution_count": 32,
   "metadata": {},
   "outputs": [
    {
     "name": "stdout",
     "output_type": "stream",
     "text": [
      "weight(x * (i(x) * 1)) = 5\n"
     ]
    }
   ],
   "source": [
    "def test():\n",
    "    t = parse_term('x * (i(x) * 1)')\n",
    "    print(f'weight({to_str(t)}) = {weight(t)}')\n",
    "    \n",
    "test()    "
   ]
  },
  {
   "cell_type": "markdown",
   "metadata": {},
   "source": [
    "Given a term `s` and a term `t`, the function `is_tower(s, t)` returns `True` iff the following is true:\n",
    "$$ \\exists n\\in\\mathbb{N}:\\bigl( n > 0 \\wedge t = f^{n}(s) \\wedge f = \\texttt{max_fct}()\\bigr). $$  \n",
    "Here the expression $f^n(s)$ is the $n$-fold application of $f$ to $s$, e.g. we have $f^1(s) = f(s)$, $f^2(s) = f(f(s))$, and in general $f^{n+1}(s) = f\\bigl(f^{n}(s)\\bigr)$."
   ]
  },
  {
   "cell_type": "code",
   "execution_count": 33,
   "metadata": {},
   "outputs": [],
   "source": [
    "def is_tower(s, t):\n",
    "    if len(t) != 2:   # f is not unary\n",
    "        return False\n",
    "    f, t1 = t\n",
    "    if f != max_fct():\n",
    "        return False\n",
    "    if t1 == s:\n",
    "        return True\n",
    "    return is_tower(s, t1)"
   ]
  },
  {
   "cell_type": "code",
   "execution_count": 34,
   "metadata": {},
   "outputs": [
    {
     "name": "stdout",
     "output_type": "stream",
     "text": [
      "is_tower(i(a), i(i(a))) = True\n"
     ]
    }
   ],
   "source": [
    "def test():\n",
    "    s = parse_term('i(a)')\n",
    "    t = parse_term('i(i(a))')\n",
    "    print(f'is_tower({to_str(s)}, {to_str(t)}) = {is_tower(s, t)}')\n",
    "    \n",
    "test()    "
   ]
  },
  {
   "cell_type": "markdown",
   "metadata": {},
   "source": [
    "The *Knuth-Bendix order* $s \\prec_{\\textrm{kbo}} t$ is defined for terms $s$ and $t$.  We have $s \\prec_{\\textrm{kbo}} t$ iff one of the following two conditions hold:\n",
    "1. $w(s) < w(t)$ and $\\texttt{count}(s, x) \\leq \\texttt{count}(t, x)$ for all variables $x$ occurring in $s$ .\n",
    "2. $w(s) = w(t)$, $\\texttt{count}(s, x) \\leq \\texttt{count}(t, x)$ for all variables $x$ occurring in $s$, and\n",
    "   one of the following subconditions holds:\n",
    "   * $t = f^n(s)$ where $n \\geq 1$ and $f$ is the maximum w.r.t. the order $<$ on function symbols,\n",
    "     i.e. we have $f = \\texttt{max_fct}()$.\n",
    "   * $s = f(s_1,\\cdots,s_m)$, $t=g(t_1,\\cdots,t_n)$, and $f<g$.\n",
    "   * $s = f(s_1,\\cdots,s_m)$, $t=f(t_1,\\cdots,t_m)$, and\n",
    "     $[s_1,\\cdots,s_m] \\prec_{\\textrm{lex}} [t_1,\\cdots,t_m]$.\n",
    "     \n",
    "     Here, $\\prec_{\\textrm{lex}}$ denotes the *lexicographic extension* of the ordering $\\prec_{\\textrm{kbo}}$ to\n",
    "     lists of terms.  It is defined as follows:\n",
    "     $$ [x] + R_1 \\prec_{\\textrm{lex}} [y] + R_2 \\;\\stackrel{_\\textrm{def}}{\\Longleftrightarrow}\\;\n",
    "      x \\prec_{\\textrm{kbo}} y \\,\\vee\\, \\bigl(x = y \\wedge R_1 \\prec_{\\textrm{lex}} R_2\\bigr)\n",
    "     $$"
   ]
  },
  {
   "cell_type": "markdown",
   "metadata": {},
   "source": [
    "Given two terms `s` and `t` the function `is_simpler(s, t)` returns `True` if $s \\prec_{\\textrm{kbo}} t$."
   ]
  },
  {
   "cell_type": "code",
   "execution_count": 35,
   "metadata": {},
   "outputs": [],
   "source": [
    "def is_simpler(s, t):\n",
    "    if is_var(t):\n",
    "        return False\n",
    "    if is_var(s):\n",
    "        _, x = s\n",
    "        return occurs(x, t)\n",
    "    Vs = find_variables(s)\n",
    "    for x in Vs:\n",
    "        if count(t, x) < count(s, x):\n",
    "            return False\n",
    "    ws = weight(s)\n",
    "    wt = weight(t)\n",
    "    if ws < wt:\n",
    "        return True    \n",
    "    if ws > wt:\n",
    "        return False\n",
    "    # ws == wt\n",
    "    if is_tower(s, t):\n",
    "        return True\n",
    "    f, *Ss = s\n",
    "    g, *Ts = t\n",
    "    if ORDERING[f] < ORDERING[g]:\n",
    "        return True\n",
    "    if ORDERING[f] > ORDERING[g]:\n",
    "        return False\n",
    "    return is_simpler_list(Ss, Ts)"
   ]
  },
  {
   "cell_type": "markdown",
   "metadata": {},
   "source": [
    "Given two lists `S` and `T` of terms, the function `is_simpler_list(S, T)` checks whether `S` is lexicographically simpler than `T` if the elements of `S` and `T` are compared with the *Knuth-Bendix ordering* $\\prec_{\\textrm{kbo}}$.  It is assumed that `S` and `T` have the same length."
   ]
  },
  {
   "cell_type": "code",
   "execution_count": 36,
   "metadata": {},
   "outputs": [],
   "source": [
    "def is_simpler_list(S, T):\n",
    "    if S == [] == T:\n",
    "        return False\n",
    "    if is_simpler(S[0], T[0]):\n",
    "        return True\n",
    "    if S[0] == T[0]:\n",
    "        return is_simpler_list(S[1:], T[1:])\n",
    "    return False"
   ]
  },
  {
   "cell_type": "code",
   "execution_count": 37,
   "metadata": {},
   "outputs": [
    {
     "name": "stdout",
     "output_type": "stream",
     "text": [
      "is_simpler(i(i(a)), i(a)) = False\n",
      "is_simpler(i(a), i(i(a))) = True\n"
     ]
    }
   ],
   "source": [
    "def test():\n",
    "    #l = parse_term('(x * y) * z')\n",
    "    #r = parse_term('x * (y * z)')\n",
    "    l = parse_term('i(a)')\n",
    "    r = parse_term('i(i(a))')\n",
    "    print(f'is_simpler({to_str(r)}, {to_str(l)}) = {is_simpler(r, l)}')\n",
    "    print(f'is_simpler({to_str(l)}, {to_str(r)}) = {is_simpler(l, r)}')\n",
    "    \n",
    "test()"
   ]
  },
  {
   "cell_type": "markdown",
   "metadata": {},
   "source": [
    "We define the class `OrderException` to be able to deal with equations that can't be ordered into a rewrite rule. "
   ]
  },
  {
   "cell_type": "code",
   "execution_count": 38,
   "metadata": {},
   "outputs": [],
   "source": [
    "class OrderException(Exception):\n",
    "    pass"
   ]
  },
  {
   "cell_type": "markdown",
   "metadata": {},
   "source": [
    "Given an equation `eq` and an `Ordering` of the function symbols occurring `eq`, the function `order_equation` orders the equation `eq` with respect to the *Knuth-Bendix ordering*, i.e. in the ordered equation, the right hand side is simpler than the left hand side.  If the left hand side and the right hand side are incomparable, the function raises an `OrderException`."
   ]
  },
  {
   "cell_type": "code",
   "execution_count": 39,
   "metadata": {},
   "outputs": [],
   "source": [
    "def order_equation(eq):\n",
    "    _, s, t = eq\n",
    "    if is_simpler(t, s):\n",
    "        return ('=', s, t)\n",
    "    elif is_simpler(s, t):\n",
    "        return ('=', t, s)\n",
    "    else:\n",
    "        Msg = f'Knuth-Bendix algorithm failed: Could not order {to_str(s)} = {to_str(t)}'\n",
    "        raise OrderException(Msg)"
   ]
  },
  {
   "cell_type": "code",
   "execution_count": 40,
   "metadata": {},
   "outputs": [
    {
     "name": "stdout",
     "output_type": "stream",
     "text": [
      "order_equation(i(i(a)) = i(i(i(i(a))))) = i(i(i(i(a)))) = i(i(a))\n"
     ]
    }
   ],
   "source": [
    "def test():\n",
    "    equation = 'i(i(a)) = i(i(i(i(a))))'\n",
    "    eq = parse_equation(equation)\n",
    "    print(f'order_equation({to_str(eq)}) = {to_str(order_equation(eq))}')\n",
    "\n",
    "test()"
   ]
  },
  {
   "cell_type": "markdown",
   "metadata": {},
   "source": [
    "[Back to top](#The-Knuth-Bendix-Completion-Algorithm)"
   ]
  },
  {
   "cell_type": "markdown",
   "metadata": {},
   "source": [
    "## Critical Pairs\n",
    "\n",
    "The central notion of the Knuth-Bendix algorithm is the notion of a *critical pair*.  \n",
    "\n",
    "Given two equations `lhs1 = rhs1` and `lhs2 = rhs2`, a pair of terms `(s, t)` is a critical pair of these equations if we have the following:\n",
    "- `u` is a non-trivial position in `lhs1`, i.e. `lhs1/u` is not a variable,\n",
    "- The subterm `lhs1/u` is unifiable with `lhs2`, i.e.\n",
    "  $$\\mu = \\texttt{mgu}(\\texttt{lhs}_1 / \\texttt{u}, \\texttt{lhs}_2) \\not= \\texttt{None},$$\n",
    "- $s = \\texttt{lhs}_1\\mu[\\texttt{u} \\mapsto \\texttt{rhs}_2\\mu]$ and $t = \\texttt{rhs}_1\\mu$. \n",
    "\n",
    "The idea is then that the term $\\texttt{lhs1}\\mu$ can be rewritten into different ways:\n",
    "- $\\texttt{lhs1}\\mu \\rightarrow \\texttt{rhs1}\\mu = t$,\n",
    "- $\\texttt{lhs1}\\mu \\rightarrow \\texttt{lhs}_1\\mu[\\texttt{u} \\mapsto \\texttt{rhs}_2\\mu] = s$.\n",
    "\n",
    "The function `critical_pairs` implemented in this section computes the critical pairs between two rewrite rules. "
   ]
  },
  {
   "cell_type": "markdown",
   "metadata": {},
   "source": [
    "Given a term `t`, the function `non_triv_positions` computes the set $\\mathcal{P}os(t)$ of all *positions* in `t` that do not point to variables.  Such positions are called *non-trivial positions*.  Given a term `t`, the set $\\mathcal{P}os(t)$ of all positions in $t$ is defined by induction on `t`. \n",
    "1. $\\mathcal{P}os(v) := \\bigl\\{()\\bigr\\} \\quad \\mbox{if $v$ is a variable} $\n",
    "2. $\\mathcal{P}os\\bigl(f(t_0,\\cdots,t_{n-1})\\bigr) := \n",
    "     \\bigl\\{()\\bigr\\} \\cup \n",
    "     \\bigl\\{ (i,) + u \\mid i \\in\\{0,\\cdots,n-1\\} \\wedge u \\in \\mathcal{P}os(t_i) \\bigr\\}\n",
    "   $\n",
    "   \n",
    "Note that since we are programming in Python, positions are zero-based.  Given a position $v$ in a term $t$, we define $t/v$ as the *subterm of $t$ at position $v$* by induction on $t$:\n",
    "1. $t/() := t$,\n",
    "2. $f(t_0,\\cdots,t_{n-1})/u := t_{u\\texttt{[0]}}/u\\texttt{[1:]}$.\n",
    "\n",
    "Given a term $s$, a term $t$, and a position $u \\in \\mathcal{P}os(t)$, we also define the *replacement of the subterm at position $u$ by $t$*, written $s[u \\mapsto t]$ by induction on $u$:\n",
    "1. $s\\bigl[() \\mapsto t\\bigr] := t$.\n",
    "2. $f(s_0,\\cdots,s_{n-1})\\bigl[\\bigl((i,) + u\\bigr) \\mapsto t\\bigr] := f\\bigl(s_0,\\cdots,s_i[u \\mapsto t],\\cdots,s_{n-1}\\bigr)$."
   ]
  },
  {
   "cell_type": "code",
   "execution_count": 41,
   "metadata": {},
   "outputs": [],
   "source": [
    "def non_triv_positions(t):\n",
    "    if is_var(t):\n",
    "        return set()\n",
    "    _, *args = t\n",
    "    Result = { () }\n",
    "    for i, arg in enumerate(args):\n",
    "        Result |= { (i,) + a for a in non_triv_positions(arg) }\n",
    "    return Result"
   ]
  },
  {
   "cell_type": "code",
   "execution_count": 42,
   "metadata": {},
   "outputs": [
    {
     "name": "stdout",
     "output_type": "stream",
     "text": [
      "non_triv_positions((x * i(x)) * 1) = {(0, 1), (1,), (), (0,)}\n"
     ]
    }
   ],
   "source": [
    "def test():\n",
    "    t = parse_term('x * i(x) * 1')\n",
    "    print(f'non_triv_positions({to_str(t)}) = {non_triv_positions(t)}')\n",
    "    \n",
    "test()"
   ]
  },
  {
   "cell_type": "markdown",
   "metadata": {},
   "source": [
    "Given a term `t` and a position `u` in `t`, the function `subterm(t, u)` extracts the subterm that is located at position `u`, i.e. it computes `t/u`. The position `u` is zero-based."
   ]
  },
  {
   "cell_type": "code",
   "execution_count": 43,
   "metadata": {},
   "outputs": [],
   "source": [
    "def subterm(t, u):\n",
    "    if len(u) == 0:\n",
    "        return t\n",
    "    _, *args = t\n",
    "    i, *ur   = u\n",
    "    return subterm(args[i], ur)"
   ]
  },
  {
   "cell_type": "code",
   "execution_count": 44,
   "metadata": {},
   "outputs": [
    {
     "name": "stdout",
     "output_type": "stream",
     "text": [
      "subterm((x * i(x)) * 1, (0,1)) = i(x)\n"
     ]
    }
   ],
   "source": [
    "def test():\n",
    "    t = parse_term('(x * i(x)) * 1')\n",
    "    print(f'subterm({to_str(t)}, (0,1)) = {to_str(subterm(t, (0,1)))}')\n",
    "    \n",
    "test()"
   ]
  },
  {
   "cell_type": "markdown",
   "metadata": {},
   "source": [
    "Given a term `t`, a position `u` in `t` and a term `s`, the function `replace_at(t, u, s)` replaces the subterm at position `u` with `t`.  The position `u` uses zero-based indexing.  Hence it returns the term\n",
    "$$ t[u \\mapsto s]. $$"
   ]
  },
  {
   "cell_type": "code",
   "execution_count": 45,
   "metadata": {},
   "outputs": [],
   "source": [
    "def replace_at(t, u, s):\n",
    "    if len(u) == 0:\n",
    "        return s\n",
    "    i, *ur   = u\n",
    "    f, *Args = t\n",
    "    NewArgs  = []\n",
    "    for j, arg in enumerate(Args):\n",
    "        if j == i:\n",
    "            NewArgs.append(replace_at(arg, ur, s))\n",
    "        else:\n",
    "            NewArgs.append(arg)\n",
    "    return (f,) + tuple(NewArgs)"
   ]
  },
  {
   "cell_type": "code",
   "execution_count": 46,
   "metadata": {},
   "outputs": [
    {
     "name": "stdout",
     "output_type": "stream",
     "text": [
      "replace_at((x * i(x)) * 1, (0,1), a * b) = (x * (a * b)) * 1\n"
     ]
    }
   ],
   "source": [
    "def test():\n",
    "    t = parse_term('(x * i(x)) * 1')\n",
    "    s = parse_term('a * b') \n",
    "    print(f'replace_at({to_str(t)}, (0,1), {to_str(s)}) = {to_str(replace_at(t, (0,1), s))}')\n",
    "\n",
    "test()"
   ]
  },
  {
   "cell_type": "markdown",
   "metadata": {},
   "source": [
    "Given two equations `eq1` and `eq2`, the function `critical_pairs(eq1, eq2)` computes the set of all *critical pairs* between these equations.  A pair of terms `(s, t)` is a critical pair of `eq1` and `eq2` if we have\n",
    "- `eq1` has the form `lhs1 = rhs1`,\n",
    "- `eq2` has the form `lhs2 = rhs2`,\n",
    "- `u` is a non-trivial position in `lhs1`,\n",
    "- $\\mu = \\texttt{mgu}(\\texttt{lhs}_1/u, \\texttt{lhs}_2) \\not= \\texttt{None}$,\n",
    "- $s = \\texttt{lhs}_1\\mu[u \\leftarrow \\texttt{rhs}_2\\mu]$ and $t = \\texttt{rhs}_1\\mu$. "
   ]
  },
  {
   "cell_type": "code",
   "execution_count": 47,
   "metadata": {},
   "outputs": [],
   "source": [
    "def critical_pairs(eq1, eq2):\n",
    "    Vars = find_variables(eq1) | find_variables(eq2)\n",
    "    eq2  = rename_variables(eq2, Vars) \n",
    "    _, lhs1, rhs1 = eq1\n",
    "    _, lhs2, rhs2 = eq2\n",
    "    Result = set()\n",
    "    Positions = non_triv_positions(lhs1)\n",
    "    for u in Positions:\n",
    "        𝜇 = unify(subterm(lhs1, u), lhs2)\n",
    "        if 𝜇 != None:\n",
    "            lhs1_new = apply(replace_at(lhs1, u, rhs2), 𝜇)\n",
    "            rhs1_new = apply(rhs1, 𝜇)\n",
    "            Result.add( (('=', lhs1_new, rhs1_new), eq1, eq2))\n",
    "    return Result"
   ]
  },
  {
   "cell_type": "code",
   "execution_count": 48,
   "metadata": {},
   "outputs": [
    {
     "name": "stdout",
     "output_type": "stream",
     "text": [
      "critical_pairs((x * y) * z = x * (y * z), i(x) * x = 1) = {1 * z = i(b) * (b * z)}\n"
     ]
    }
   ],
   "source": [
    "def test():\n",
    "    eq1 = parse_equation('(x * y) * z = x * (y * z)')\n",
    "    eq2 = parse_equation('i(x) * x = 1')\n",
    "    for ((_, s, t), _, _) in critical_pairs(eq1, eq2):\n",
    "        print(f'critical_pairs({to_str(eq1)}, {to_str(eq2)}) = ' + '{' + f'{to_str(s)} = {to_str(t)}' + '}')\n",
    "        \n",
    "test()"
   ]
  },
  {
   "cell_type": "markdown",
   "metadata": {},
   "source": [
    "[Back to top](#The-Knuth-Bendix-Completion-Algorithm)"
   ]
  },
  {
   "cell_type": "markdown",
   "metadata": {},
   "source": [
    "## The Completion Algorithm"
   ]
  },
  {
   "cell_type": "markdown",
   "metadata": {},
   "source": [
    "Given a set of `RewriteRules` and a newly derived rewrite `rule`, the function `simplify_rules(RewriteRules, rule)` adds `rule` to the set `RewriteRules`.  When the function returns, every equation in the set `RewriteRules` is in normal form with respect to all other equations in `RewriteRules`. "
   ]
  },
  {
   "cell_type": "code",
   "execution_count": 49,
   "metadata": {},
   "outputs": [],
   "source": [
    "def simplify_rules(RewriteRules, rule):\n",
    "    UnusedRules = [ rule ]\n",
    "    while UnusedRules != []:\n",
    "        UnchangedRules = set()\n",
    "        r = UnusedRules.pop()\n",
    "        for eq in RewriteRules:\n",
    "            simple = normal_form(eq, { r })\n",
    "            if simple != eq:\n",
    "                simple = normal_form(simple, RewriteRules | { r })\n",
    "                if simple[1] != simple[2]:\n",
    "                    simple = order_equation(simple)\n",
    "                    UnusedRules.append(simple)\n",
    "                    print('simplified:')\n",
    "                    print(f'old:     {to_str(eq)}')\n",
    "                    print(f'new:     {to_str(simple)}')\n",
    "                else:\n",
    "                    print(f'removed: {to_str(eq)}')\n",
    "            else:\n",
    "                UnchangedRules.add(eq)\n",
    "        RewriteRules = UnchangedRules | { r }\n",
    "    return RewriteRules"
   ]
  },
  {
   "cell_type": "markdown",
   "metadata": {},
   "source": [
    "The function `print_equations` prints the set of `Equations` one by one and numbers them."
   ]
  },
  {
   "cell_type": "code",
   "execution_count": 50,
   "metadata": {},
   "outputs": [],
   "source": [
    "def print_equations(Equations):\n",
    "    cnt = 1\n",
    "    for _, l, r in Equations:\n",
    "        print(f'{cnt}. {to_str(l)} = {to_str(r)}')\n",
    "        cnt += 1"
   ]
  },
  {
   "cell_type": "markdown",
   "metadata": {},
   "source": [
    "Given an equation `eq` of the form `eq = ('=', lhs, rhs)`, the function `complexity(eq)` computes a measure of complexity for the given equation.   This measure of complexity is the length of the string that represents the equation.  This measure of complexity is later used to choose between equations: Less complex equations are more interesting and should be considered first when computing critical pairs."
   ]
  },
  {
   "cell_type": "code",
   "execution_count": 51,
   "metadata": {},
   "outputs": [],
   "source": [
    "def complexity(eq):\n",
    "    return len(to_str(eq))"
   ]
  },
  {
   "cell_type": "markdown",
   "metadata": {},
   "source": [
    "Given a set of equations `RewriteRules` and a single rewrite rule `eq`, the function `all_critical_pairs(RewriteRules, eq)` computes the set of all *critical pairs* that can be build by building critical pairs with an equation from `RewriteRules` and the equation `eq`.  It is assumed that `eq` is already an element of `RewriteRules`.  "
   ]
  },
  {
   "cell_type": "code",
   "execution_count": 52,
   "metadata": {},
   "outputs": [],
   "source": [
    "def all_critical_pairs(RewriteRules, eq):\n",
    "    Result = set()\n",
    "    for eq1 in RewriteRules:\n",
    "        Result |= { cp for cp in critical_pairs(eq1, eq) }\n",
    "        Result |= { cp for cp in critical_pairs(eq, eq1) }\n",
    "    return Result"
   ]
  },
  {
   "cell_type": "markdown",
   "metadata": {},
   "source": [
    "The module `heapq` provides heap-based priority queues, which are implemented as lists."
   ]
  },
  {
   "cell_type": "code",
   "execution_count": 53,
   "metadata": {},
   "outputs": [],
   "source": [
    "import heapq as hq"
   ]
  },
  {
   "cell_type": "markdown",
   "metadata": {},
   "source": [
    "Given a file name that contains a set of equations and a dictionary encoding an ordering of the function symbols, the function `knuth_bendix_algorithm` implements the *Knuth-Bendix algorithm*:\n",
    "1. The equations read from the file are oriented into rewrite rules.\n",
    "2. These oriented equations are pushed onto the priority queue `EquationQueue` according to their complexity.\n",
    "3. The set `RewriteRules` is initialized as the empty set.  The idea is that all critical pairs between\n",
    "   equations in `RewriteRules` have already been computed and that the resulting new equations have been added\n",
    "   to the priority queue `EquationQueue`. \n",
    "4. As long as the priority queue `EquationQueue` is not empty, the least complex equation `eq` is removed from the \n",
    "   priority queue and simplified using the known `RewriteRules`.  \n",
    "5. If the simplified version of `eq` is not trivial, all critical pairs between `eq` and the \n",
    "   existing `RewriteRules` are computed.  The resulting equations are pushed onto the priority queue `EquationQueue`.\n",
    "6. When no new critical pairs can be found, the set of `RewriteRules` is returned.\n",
    "   This set is then guaranteed to be a *confluent* set of rewrite rules."
   ]
  },
  {
   "cell_type": "code",
   "execution_count": 54,
   "metadata": {},
   "outputs": [],
   "source": [
    "def knuth_bendix_algorithm(file):\n",
    "    Equations    = set()\n",
    "    Axioms       = set(parse_file(file))\n",
    "    RewriteRules = set()\n",
    "    try:\n",
    "        for eq in Axioms:\n",
    "            ordered_eq = order_equation(eq)\n",
    "            Equations.add(ordered_eq)\n",
    "            print(f'given:   {to_str(ordered_eq)}')\n",
    "        EquationQueue = []\n",
    "        for eq in Equations:\n",
    "            hq.heappush(EquationQueue, (complexity(eq), eq))\n",
    "        while EquationQueue != []:\n",
    "            _, eq = hq.heappop(EquationQueue)\n",
    "            eq = normal_form(eq, RewriteRules)\n",
    "            if eq[1] != eq[2]:\n",
    "                lr = order_equation(eq)\n",
    "                print(f'added:   {to_str(lr)}')\n",
    "                Pairs = all_critical_pairs(RewriteRules | { lr }, lr)\n",
    "                for eq, r1, r2 in Pairs:\n",
    "                    new_eq = normal_form(eq, RewriteRules)\n",
    "                    if new_eq[1] != new_eq[2]:\n",
    "                        print(f'found:   {to_str(eq)} from {to_str(r1)}, {to_str(r2)}')\n",
    "                        hq.heappush(EquationQueue, (complexity(new_eq), new_eq))\n",
    "                RewriteRules = simplify_rules(RewriteRules, lr)\n",
    "    except OrderException as e:\n",
    "        print(e)\n",
    "    print()\n",
    "    print_equations(RewriteRules)\n",
    "    return RewriteRules"
   ]
  },
  {
   "cell_type": "markdown",
   "metadata": {},
   "source": [
    "[Back to top](#The-Knuth-Bendix-Completion-Algorithm)"
   ]
  },
  {
   "cell_type": "markdown",
   "metadata": {},
   "source": [
    "## Examples"
   ]
  },
  {
   "cell_type": "markdown",
   "metadata": {},
   "source": [
    "In this section we present a number of examples where the *Knuth-Bendix completion* algorithm is able to produce a confluent system of equations.  In detail, we discuss the following examples:\n",
    "1. [Group Theory](#Group-Theory)\n",
    "2. [Central Groupoids](#Central-Groupoids)\n",
    "3. [Quasigroups](#Quasigroups)\n",
    "4. [Quasigroups with Idempotence](#Quasigroups-with-Idempotence)\n",
    "5. [Quasigroups with Unipotence](#Quasigroups-with-Unipotence)\n",
    "6. [Loops](#Loops)"
   ]
  },
  {
   "cell_type": "markdown",
   "metadata": {},
   "source": [
    "### Group Theory\n",
    "\n",
    "A structure $\\mathcal{G} = \\langle G, 1, *, i \\rangle$ is a [group](https://en.wikipedia.org/wiki/Group_(mathematics)) iff\n",
    "1. $G$ is a set.\n",
    "2. $1 \\in G$,\n",
    "\n",
    "   where $1$ is called the *left-neutral element*.\n",
    "3. $*: G \\times G \\rightarrow G$,\n",
    "\n",
    "   where $*$ is called the *multiplication* of $\\mathcal{G}$.\n",
    "4. $i: G \\rightarrow G$,\n",
    "\n",
    "   where for any $x \\in G$ the element $i(x)$ is called the *left-inverse* of $x$.\n",
    "5. The following equations hold for all $x,y,z \\in G$:\n",
    "   * $1 * x = x$, i.e. $1$ is a *left-neutral element*.\n",
    "   * $i(x) * x = 1$, i.e. $i(x)$ is a *left-inverse* of $x$.\n",
    "   * $(x * y) * z = x * (y * z)$, i.e. the multiplication is *associative*.\n",
    "\n",
    "A typical example of a group is the set of invertible $n \\times n$ matrices.\n",
    "\n",
    "Given the axioms defining a group, the *Knuth-Bendix completion* algorithm is able to prove the following:\n",
    "1. The *left neutral element* is also a *right neutral element*, we have:\n",
    "   $$ x * 1 = x \\quad \\mbox{for all $x\\in G$.} $$\n",
    "2. The *left inverse* is also a *right inverse*, we have:\n",
    "   $$ x * i(x) = 1 \\quad \\mbox{for all $x\\in G$.} $$\n",
    "3. The operations $i$ and $*$ commute as follows:\n",
    "   $$ i(x * y) = i(y) * i(x) \\quad \\mbox{for all $x,y\\in G$.}$$"
   ]
  },
  {
   "cell_type": "code",
   "execution_count": 55,
   "metadata": {},
   "outputs": [
    {
     "name": "stdout",
     "output_type": "stream",
     "text": [
      "      1 * x = x;\r\n",
      "   i(x) * x = 1;\r\n",
      "(x * y) * z = x * (y * z);"
     ]
    }
   ],
   "source": [
    "!cat Examples/group-theory-1.eqn || type Examples\\group-theory-1.eqn"
   ]
  },
  {
   "cell_type": "code",
   "execution_count": 56,
   "metadata": {
    "scrolled": false
   },
   "outputs": [
    {
     "name": "stdout",
     "output_type": "stream",
     "text": [
      "given:   (x * y) * z = x * (y * z)\n",
      "given:   i(x) * x = 1\n",
      "given:   1 * x = x\n",
      "added:   1 * x = x\n",
      "added:   i(x) * x = 1\n",
      "added:   (x * y) * z = x * (y * z)\n",
      "found:   1 * z = i(b) * (b * z) from (x * y) * z = x * (y * z), i(b) * b = 1\n",
      "found:   (b * (a * c)) * z = (b * a) * (c * z) from (x * y) * z = x * (y * z), (b * a) * c = b * (a * c)\n",
      "added:   i(b) * (b * z) = z\n",
      "found:   i(i(a)) * c = a * c from i(b) * (b * z) = z, i(a) * (a * c) = c\n",
      "found:   d * z = i(e) * ((e * d) * z) from (x * y) * z = x * (y * z), i(e) * (e * d) = d\n",
      "found:   i(c * a) * (c * (a * d)) = d from i(b) * (b * z) = z, (c * a) * d = c * (a * d)\n",
      "found:   i(i(a)) * 1 = a from i(b) * (b * z) = z, i(a) * a = 1\n",
      "found:   i(1) * a = a from i(b) * (b * z) = z, 1 * a = a\n",
      "added:   i(1) * a = a\n",
      "found:   i(i(1)) * c = c from i(b) * (b * z) = z, i(1) * c = c\n",
      "found:   b * z = i(1) * (b * z) from (x * y) * z = x * (y * z), i(1) * b = b\n",
      "added:   i(i(a)) * 1 = a\n",
      "found:   i(i(i(c))) * c = 1 from i(b) * (b * z) = z, i(i(c)) * 1 = c\n",
      "found:   b * z = i(i(b)) * (1 * z) from (x * y) * z = x * (y * z), i(i(b)) * 1 = b\n",
      "added:   i(i(1)) * c = c\n",
      "found:   b * z = i(i(1)) * (b * z) from (x * y) * z = x * (y * z), i(i(1)) * b = b\n",
      "found:   i(1) = 1 from i(x) * x = 1, i(i(1)) * a = a\n",
      "found:   i(i(i(1))) * a = a from i(b) * (b * z) = z, i(i(1)) * a = a\n",
      "found:   1 = i(1) from i(i(1)) * c = c, i(b) * b = 1\n",
      "added:   i(1) = 1\n",
      "removed: i(1) * a = a\n",
      "removed: i(i(1)) * c = c\n",
      "added:   i(i(i(c))) * c = 1\n",
      "found:   i(i(i(i(a)))) * 1 = a from i(b) * (b * z) = z, i(i(i(a))) * a = 1\n",
      "found:   1 * z = i(i(i(b))) * (b * z) from (x * y) * z = x * (y * z), i(i(i(b))) * b = 1\n",
      "added:   i(i(a)) = a\n",
      "found:   c * (i(c) * z) = z from i(b) * (b * z) = z, i(i(c)) = c\n",
      "found:   b * 1 = b from i(i(a)) * 1 = a, i(i(b)) = b\n",
      "found:   i(b) * 1 = i(b) from i(i(a)) * 1 = a, i(i(b)) = b\n",
      "found:   b * i(b) = 1 from i(x) * x = 1, i(i(b)) = b\n",
      "simplified:\n",
      "old:     i(i(a)) * 1 = a\n",
      "new:     a * 1 = a\n",
      "removed: i(i(i(c))) * c = 1\n",
      "added:   b * i(b) = 1\n",
      "found:   1 * z = d * (i(d) * z) from (x * y) * z = x * (y * z), d * i(d) = 1\n",
      "found:   1 = x * (y * i(x * y)) from (x * y) * z = x * (y * z), d * i(d) = 1\n",
      "found:   c * (a * i(c * a)) = 1 from b * i(b) = 1, (c * a) * e = c * (a * e)\n",
      "added:   d * (i(d) * z) = z\n",
      "found:   e * z = a * ((i(a) * e) * z) from (x * y) * z = x * (y * z), a * (i(a) * e) = e\n",
      "found:   c * (b * (i(c * b) * z)) = z from d * (i(d) * z) = z, (c * b) * e = c * (b * e)\n",
      "found:   e = x * (y * (i(x * y) * e)) from (x * y) * z = x * (y * z), a * (i(a) * e) = e\n",
      "added:   c * (a * i(c * a)) = 1\n",
      "found:   d * 1 = f * i(i(d) * f) from d * (i(d) * z) = z, e * (f * i(e * f)) = 1\n",
      "found:   1 = x * (y * (f * i((x * y) * f))) from (x * y) * z = x * (y * z), d * (f * i(d * f)) = 1\n",
      "found:   c * (f * (b * i(c * (f * b)))) = 1 from c * (a * i(c * a)) = 1, (f * b) * g = f * (b * g)\n",
      "found:   (f * b) * (g * i(f * (b * g))) = 1 from c * (a * i(c * a)) = 1, (f * b) * g = f * (b * g)\n",
      "found:   1 * z = d * ((f * i(d * f)) * z) from (x * y) * z = x * (y * z), d * (f * i(d * f)) = 1\n",
      "found:   i(d) * 1 = e * i(d * e) from i(b) * (b * z) = z, d * (e * i(d * e)) = 1\n",
      "found:   f * (b * (a * i((f * b) * a))) = 1 from c * (a * i(c * a)) = 1, (f * b) * g = f * (b * g)\n",
      "found:   b * ((d * i(b * d)) * i(1)) = 1 from c * (a * i(c * a)) = 1, b * (d * i(b * d)) = 1\n",
      "added:   f * i(i(d) * f) = d\n",
      "found:   i(i(a) * i(d)) * i(a) = d from f * i(i(d) * f) = d, b * i(i(a) * b) = a\n",
      "found:   d * a = i(i(a) * i(d)) from d * (i(d) * z) = z, b * i(i(a) * b) = a\n",
      "found:   a = x * (y * i(i(a) * (x * y))) from (x * y) * z = x * (y * z), e * i(i(a) * e) = a\n",
      "found:   e * (i(i(b) * e) * i(b)) = 1 from c * (a * i(c * a)) = 1, e * i(i(b) * e) = b\n",
      "found:   f * i(e * f) = i(e) from f * i(i(d) * f) = d, i(i(e)) = e\n",
      "found:   a * z = e * (i(i(a) * e) * z) from (x * y) * z = x * (y * z), e * i(i(a) * e) = a\n",
      "found:   e * (b * i(i(d) * (e * b))) = d from f * i(i(d) * f) = d, (e * b) * g = e * (b * g)\n",
      "found:   i(c) * a = i(i(a) * c) from i(b) * (b * z) = z, c * i(i(a) * c) = a\n",
      "found:   (h * i(i(d) * h)) * i(1) = d from f * i(i(d) * f) = d, e * (h * i(e * h)) = 1\n",
      "added:   f * i(e * f) = i(e)\n",
      "found:   i(i(a) * c) * i(a) = i(c) from f * i(e * f) = i(e), c * i(i(a) * c) = a\n",
      "found:   d * i(b) = i(b * i(d)) from d * (i(d) * z) = z, c * i(b * c) = i(b)\n",
      "found:   i(b * i(d)) * i(i(b)) = d from f * i(i(d) * f) = d, c * i(b * c) = i(b)\n",
      "found:   i(a * b) * i(i(a)) = i(b) from f * i(e * f) = i(e), b * i(a * b) = i(a)\n",
      "found:   d * i(c * (a * d)) = i(c * a) from f * i(e * f) = i(e), (c * a) * d = c * (a * d)\n",
      "found:   i(g) = x * (y * i(g * (x * y))) from (x * y) * z = x * (y * z), c * i(g * c) = i(g)\n",
      "found:   c * (a * i(e * (c * a))) = i(e) from f * i(e * f) = i(e), (c * a) * d = c * (a * d)\n",
      "found:   (b * i(g * b)) * i(1) = i(g) from f * i(e * f) = i(e), g * (b * i(g * b)) = 1\n",
      "found:   i(c) * i(a) = i(a * c) from i(b) * (b * z) = z, c * i(a * c) = i(a)\n",
      "found:   h * (i(b * h) * i(i(b))) = 1 from c * (a * i(c * a)) = 1, h * i(b * h) = i(b)\n",
      "found:   i(g) * z = c * (i(g * c) * z) from (x * y) * z = x * (y * z), c * i(g * c) = i(g)\n",
      "removed: f * i(i(d) * f) = d\n",
      "removed: c * (a * i(c * a)) = 1\n",
      "added:   i(a * b) * a = i(b)\n",
      "found:   i(e) * i(d) = i(d * e) from i(a * b) * a = i(b), i(d) * (d * e) = e\n",
      "found:   i(g) * c = i(i(c) * g) from i(a * b) * a = i(b), c * (i(c) * g) = g\n",
      "found:   i(g) * z = i(e * g) * (e * z) from (x * y) * z = x * (y * z), i(e * g) * e = i(g)\n",
      "found:   i(e * (c * f)) * (e * c) = i(f) from i(a * b) * a = i(b), (e * c) * f = e * (c * f)\n",
      "added:   i(i(a) * i(d)) = d * a\n",
      "found:   i((b * c) * i(d)) = d * (i(c) * i(b)) from i(i(a) * i(d)) = d * a, i(i(c) * i(b)) = b * c\n",
      "found:   i(b * c) = i(c) * i(b) from i(i(a)) = a, i(i(c) * i(b)) = b * c\n",
      "found:   i(i(a) * c) = i(c) * a from i(i(a) * i(d)) = d * a, i(i(c)) = c\n",
      "found:   i(i(a) * (b * c)) = (i(c) * i(b)) * a from i(i(a) * i(d)) = d * a, i(i(c) * i(b)) = b * c\n",
      "found:   i(c * i(d)) = d * i(c) from i(i(a) * i(d)) = d * a, i(i(c)) = c\n",
      "added:   i(b * i(d)) = d * i(b)\n",
      "found:   i(e * (c * i(d))) = d * i(e * c) from i(b * i(d)) = d * i(b), (e * c) * f = e * (c * f)\n",
      "found:   i((c * i(f)) * i(d)) = d * (f * i(c)) from i(i(a) * i(d)) = d * a, i(f * i(c)) = c * i(f)\n",
      "found:   i(b * (c * e)) = (i(e) * i(c)) * i(b) from i(b * i(d)) = d * i(b), i(i(e) * i(c)) = c * e\n",
      "found:   i(c * i(f)) = f * i(c) from i(i(a)) = a, i(f * i(c)) = c * i(f)\n",
      "found:   i(i(a) * (c * i(f))) = (f * i(c)) * a from i(i(a) * i(d)) = d * a, i(f * i(c)) = c * i(f)\n",
      "found:   i(b * e) = i(e) * i(b) from i(b * i(d)) = d * i(b), i(i(e)) = e\n",
      "found:   i(b * (a * i(c))) = (c * i(a)) * i(b) from i(b * i(d)) = d * i(b), i(c * i(a)) = a * i(c)\n",
      "removed: i(i(a) * i(d)) = d * a\n",
      "added:   i(i(a) * c) = i(c) * a\n",
      "found:   i((e * i(h)) * c) = i(c) * (h * i(e)) from i(i(a) * c) = i(c) * a, i(h * i(e)) = e * i(h)\n",
      "found:   i(d * c) = i(c) * i(d) from i(i(a) * c) = i(c) * a, i(i(d)) = d\n",
      "found:   i((i(b) * d) * c) = i(c) * (i(d) * b) from i(i(a) * c) = i(c) * a, i(i(d) * b) = i(b) * d\n",
      "found:   i(i(b) * d) = i(d) * b from i(i(a)) = a, i(i(d) * b) = i(b) * d\n",
      "found:   i(b * (i(f) * g)) = (i(g) * f) * i(b) from i(b * i(d)) = d * i(b), i(i(g) * f) = i(f) * g\n",
      "added:   i(a * c) = i(c) * i(a)\n",
      "found:   i(b * (i(f) * i(g))) = (g * f) * i(b) from i(b * i(d)) = d * i(b), i(g * f) = i(f) * i(g)\n",
      "found:   i(f * (b * g)) = i(g) * i(f * b) from i(a * c) = i(c) * i(a), (f * b) * g = f * (b * g)\n",
      "removed: i(i(a) * c) = i(c) * a\n",
      "removed: f * i(e * f) = i(e)\n",
      "removed: i(a * b) * a = i(b)\n",
      "removed: i(b * i(d)) = d * i(b)\n",
      "\n",
      "1. i(i(a)) = a\n",
      "2. i(1) = 1\n",
      "3. b * i(b) = 1\n",
      "4. 1 * x = x\n",
      "5. (x * y) * z = x * (y * z)\n",
      "6. a * 1 = a\n",
      "7. i(b) * (b * z) = z\n",
      "8. i(a * c) = i(c) * i(a)\n",
      "9. d * (i(d) * z) = z\n",
      "10. i(x) * x = 1\n",
      "CPU times: user 67.1 ms, sys: 2.95 ms, total: 70 ms\n",
      "Wall time: 69.5 ms\n"
     ]
    }
   ],
   "source": [
    "%%time\n",
    "Rules = knuth_bendix_algorithm('Examples/group-theory-1.eqn')"
   ]
  },
  {
   "cell_type": "markdown",
   "metadata": {},
   "source": [
    "It is natural to ask whether the axiom describing the *left neutral element* and the axiom describing the *left inverse* can be replaced by corresponding axioms that require $1$ to be a *right neutral element* and $i(x)$ to be a *right inverse*.  The *Knuth-Bendix completion* algorithm shows that this is indeed the case."
   ]
  },
  {
   "cell_type": "code",
   "execution_count": 57,
   "metadata": {},
   "outputs": [
    {
     "name": "stdout",
     "output_type": "stream",
     "text": [
      "      x * 1 = x;\r\n",
      "   x * i(x) = 1;\r\n",
      "(x * y) * z = x * (y * z);"
     ]
    }
   ],
   "source": [
    "!cat Examples/group-theory-2.eqn || type Examples\\group-theory-2.eqn"
   ]
  },
  {
   "cell_type": "code",
   "execution_count": 58,
   "metadata": {
    "scrolled": false
   },
   "outputs": [
    {
     "name": "stdout",
     "output_type": "stream",
     "text": [
      "given:   x * 1 = x\n",
      "given:   (x * y) * z = x * (y * z)\n",
      "given:   x * i(x) = 1\n",
      "added:   x * 1 = x\n",
      "added:   x * i(x) = 1\n",
      "added:   (x * y) * z = x * (y * z)\n",
      "found:   1 = x * (y * i(x * y)) from (x * y) * z = x * (y * z), b * i(b) = 1\n",
      "found:   b * (a * i(b * a)) = 1 from x * i(x) = 1, (b * a) * c = b * (a * c)\n",
      "found:   b * z = b * (1 * z) from (x * y) * z = x * (y * z), b * 1 = b\n",
      "found:   1 * z = b * (i(b) * z) from (x * y) * z = x * (y * z), b * i(b) = 1\n",
      "found:   (b * (a * c)) * z = (b * a) * (c * z) from (x * y) * z = x * (y * z), (b * a) * c = b * (a * c)\n",
      "added:   b * (1 * z) = b * z\n",
      "found:   c * (a * (1 * z)) = (c * a) * z from b * (1 * z) = b * z, (c * a) * d = c * (a * d)\n",
      "found:   b * 1 = b * i(1) from b * (1 * z) = b * z, a * i(a) = 1\n",
      "found:   (x * y) * d = x * (y * (1 * d)) from (x * y) * z = x * (y * z), e * (1 * d) = e * d\n",
      "found:   (e * d) * z = e * ((1 * d) * z) from (x * y) * z = x * (y * z), e * (1 * d) = e * d\n",
      "added:   b * i(1) = b\n",
      "found:   x * y = x * (y * i(1)) from (x * y) * z = x * (y * z), d * i(1) = d\n",
      "found:   b * 1 = b * i(1) from b * (1 * z) = b * z, a * i(1) = a\n",
      "found:   c * (a * i(1)) = c * a from b * i(1) = b, (c * a) * e = c * (a * e)\n",
      "found:   d * z = d * (i(1) * z) from (x * y) * z = x * (y * z), d * i(1) = d\n",
      "added:   b * (a * i(b * a)) = 1\n",
      "found:   d * (i(1) * i(d)) = 1 from b * (a * i(b * a)) = 1, d * i(1) = d\n",
      "found:   b * 1 = b * (c * i(1 * c)) from b * (1 * z) = b * z, d * (c * i(d * c)) = 1\n",
      "found:   1 = x * (y * (e * i((x * y) * e))) from (x * y) * z = x * (y * z), g * (e * i(g * e)) = 1\n",
      "found:   b * (e * (c * i(b * (e * c)))) = 1 from b * (a * i(b * a)) = 1, (e * c) * f = e * (c * f)\n",
      "found:   e * (c * (a * i((e * c) * a))) = 1 from b * (a * i(b * a)) = 1, (e * c) * f = e * (c * f)\n",
      "found:   d * ((1 * e) * i(d * e)) = 1 from b * (a * i(b * a)) = 1, d * (1 * e) = d * e\n",
      "found:   d * ((c * i(d * c)) * i(1)) = 1 from b * (a * i(b * a)) = 1, d * (c * i(d * c)) = 1\n",
      "found:   1 * z = g * ((e * i(g * e)) * z) from (x * y) * z = x * (y * z), g * (e * i(g * e)) = 1\n",
      "found:   (e * c) * (f * i(e * (c * f))) = 1 from b * (a * i(b * a)) = 1, (e * c) * f = e * (c * f)\n",
      "added:   d * (i(1) * i(d)) = 1\n",
      "found:   i(1) * 1 = 1 from d * (i(1) * i(d)) = 1, b * i(b) = 1\n",
      "found:   1 * z = a * ((i(1) * i(a)) * z) from (x * y) * z = x * (y * z), a * (i(1) * i(a)) = 1\n",
      "found:   c * ((i(1) * i(c)) * i(1)) = 1 from b * (a * i(b * a)) = 1, c * (i(1) * i(c)) = 1\n",
      "found:   1 = x * (y * (i(1) * i(x * y))) from (x * y) * z = x * (y * z), a * (i(1) * i(a)) = 1\n",
      "found:   c * (b * (i(1) * i(c * b))) = 1 from d * (i(1) * i(d)) = 1, (c * b) * e = c * (b * e)\n",
      "added:   i(1) = 1\n",
      "removed: d * (i(1) * i(d)) = 1\n",
      "removed: b * i(1) = b\n",
      "added:   b * (c * i(1 * c)) = b\n",
      "found:   g * z = g * ((d * i(1 * d)) * z) from (x * y) * z = x * (y * z), g * (d * i(1 * d)) = g\n",
      "found:   f * ((d * i(1 * d)) * i(f)) = 1 from b * (a * i(b * a)) = 1, f * (d * i(1 * d)) = f\n",
      "found:   b * ((e * i(1 * e)) * i(1)) = b from b * (c * i(1 * c)) = b, f * (e * i(f * e)) = 1\n",
      "found:   x * y = x * (y * (d * i(1 * d))) from (x * y) * z = x * (y * z), g * (d * i(1 * d)) = g\n",
      "found:   b * 1 = b * (a * i(1 * a)) from b * (1 * z) = b * z, d * (a * i(1 * a)) = d\n",
      "found:   e * (a * (c * i(1 * c))) = e * a from b * (c * i(1 * c)) = b, (e * a) * f = e * (a * f)\n",
      "found:   b * (e * (a * i(1 * (e * a)))) = b from b * (c * i(1 * c)) = b, (e * a) * f = e * (a * f)\n",
      "found:   b * ((a * i(1 * a)) * i(1)) = b from b * (c * i(1 * c)) = b, d * (a * i(1 * a)) = d\n",
      "added:   b * (i(b) * z) = 1 * z\n",
      "found:   c * (a * (i(c * a) * z)) = 1 * z from b * (i(b) * z) = 1 * z, (c * a) * d = c * (a * d)\n",
      "found:   1 * i(1 * i(d)) = d from b * (c * i(1 * c)) = b, d * (i(d) * e) = 1 * e\n",
      "found:   b * (i(b) * c) = 1 * (1 * c) from b * (i(b) * z) = 1 * z, a * (1 * c) = a * c\n",
      "found:   1 * d = x * (y * (i(x * y) * d)) from (x * y) * z = x * (y * z), e * (i(e) * d) = 1 * d\n",
      "found:   b * 1 = 1 * i(i(b)) from b * (i(b) * z) = 1 * z, a * i(a) = 1\n",
      "found:   d = 1 * i(1 * i(d)) from b * (i(b) * z) = 1 * z, d * (a * i(1 * a)) = d\n",
      "found:   b * 1 = 1 * (c * i(i(b) * c)) from b * (i(b) * z) = 1 * z, d * (c * i(d * c)) = 1\n",
      "found:   b * (1 * c) = 1 * (i(i(b)) * c) from b * (i(b) * z) = 1 * z, a * (i(a) * c) = 1 * c\n",
      "found:   (1 * d) * z = e * ((i(e) * d) * z) from (x * y) * z = x * (y * z), e * (i(e) * d) = 1 * d\n",
      "added:   1 * i(i(b)) = b\n",
      "found:   1 * (i(i(d)) * i(d)) = 1 from b * (a * i(b * a)) = 1, 1 * i(i(d)) = d\n",
      "found:   b * (i(i(d)) * i(d)) = b from b * (c * i(1 * c)) = b, 1 * i(i(d)) = d\n",
      "found:   d * z = 1 * (i(i(d)) * z) from (x * y) * z = x * (y * z), 1 * i(i(d)) = d\n",
      "found:   b * a = b * i(i(a)) from b * (1 * z) = b * z, 1 * i(i(a)) = a\n",
      "added:   1 * i(1 * i(d)) = d\n",
      "found:   b * (i(1 * i(a)) * i(a)) = b from b * (c * i(1 * c)) = b, 1 * i(1 * i(a)) = a\n",
      "found:   b * a = b * i(1 * i(a)) from b * (1 * z) = b * z, 1 * i(1 * i(a)) = a\n",
      "found:   1 * i(c) = i(c) from 1 * i(1 * i(d)) = d, 1 * i(i(c)) = c\n",
      "found:   a * z = 1 * (i(1 * i(a)) * z) from (x * y) * z = x * (y * z), 1 * i(1 * i(a)) = a\n",
      "found:   1 * (i(1 * i(c)) * i(c)) = 1 from b * (a * i(b * a)) = 1, 1 * i(1 * i(c)) = c\n",
      "added:   1 * i(c) = i(c)\n",
      "found:   a = i(1 * i(a)) from 1 * i(c) = i(c), 1 * i(1 * i(a)) = a\n",
      "found:   i(1 * i(d)) = d from 1 * i(1 * i(d)) = d, 1 * i(b) = i(b)\n",
      "found:   i(b) * z = 1 * (i(b) * z) from (x * y) * z = x * (y * z), 1 * i(b) = i(b)\n",
      "found:   i(i(b)) = b from 1 * i(i(b)) = b, 1 * i(a) = i(a)\n",
      "found:   d = i(i(d)) from 1 * i(c) = i(c), 1 * i(i(d)) = d\n",
      "simplified:\n",
      "old:     1 * i(1 * i(d)) = d\n",
      "new:     i(i(d)) = d\n",
      "simplified:\n",
      "old:     1 * i(i(b)) = b\n",
      "new:     i(i(b)) = b\n",
      "removed: i(i(b)) = b\n",
      "added:   1 * (c * i(i(b) * c)) = b\n",
      "found:   b * ((a * i(i(d) * a)) * i(d)) = b from b * (c * i(1 * c)) = b, 1 * (a * i(i(d) * a)) = d\n",
      "found:   1 * ((a * i(1 * a)) * i(i(b))) = b from 1 * (c * i(i(b) * c)) = b, d * (a * i(1 * a)) = d\n",
      "found:   1 * (e * (a * i(i(b) * (e * a)))) = b from 1 * (c * i(i(b) * c)) = b, (e * a) * f = e * (a * f)\n",
      "found:   1 * ((e * i(i(b) * e)) * i(1)) = b from 1 * (c * i(i(b) * c)) = b, f * (e * i(f * e)) = 1\n",
      "found:   g * z = 1 * ((d * i(i(g) * d)) * z) from (x * y) * z = x * (y * z), 1 * (d * i(i(g) * d)) = g\n",
      "found:   1 * ((1 * e) * i(i(b) * e)) = b from 1 * (c * i(i(b) * c)) = b, d * (1 * e) = d * e\n",
      "found:   1 * (c * i(a * c)) = i(a) from 1 * (c * i(i(b) * c)) = b, i(i(a)) = a\n",
      "found:   b * d = b * (a * i(i(d) * a)) from b * (1 * z) = b * z, 1 * (a * i(i(d) * a)) = d\n",
      "found:   1 * (i(i(b)) * i(1)) = b from 1 * (c * i(i(b) * c)) = b, d * i(d) = 1\n",
      "found:   1 * ((d * i(i(f) * d)) * i(f)) = 1 from b * (a * i(b * a)) = 1, 1 * (d * i(i(f) * d)) = f\n",
      "added:   1 * b = b\n",
      "found:   d * z = 1 * (d * z) from (x * y) * z = x * (y * z), 1 * d = d\n",
      "found:   1 = c * i(1 * c) from 1 * b = b, d * (c * i(d * c)) = 1\n",
      "found:   a * i(1 * a) = 1 from b * (a * i(b * a)) = 1, 1 * d = d\n",
      "found:   c * i(1 * c) = 1 from b * (c * i(1 * c)) = b, 1 * d = d\n",
      "found:   c * i(i(b) * c) = b from 1 * (c * i(i(b) * c)) = b, 1 * d = d\n",
      "found:   d = a * i(i(d) * a) from 1 * b = b, 1 * (a * i(i(d) * a)) = d\n",
      "found:   1 = a * i(1 * a) from 1 * b = b, d * (a * i(1 * a)) = d\n",
      "removed: 1 * i(c) = i(c)\n",
      "removed: b * (c * i(1 * c)) = b\n",
      "removed: b * (i(b) * z) = 1 * z\n",
      "simplified:\n",
      "old:     1 * (c * i(i(b) * c)) = b\n",
      "new:     c * i(i(b) * c) = b\n",
      "removed: b * (1 * z) = b * z\n",
      "added:   c * i(a * c) = i(a)\n",
      "found:   f * (b * i(a * (f * b))) = i(a) from c * i(a * c) = i(a), (f * b) * g = f * (b * g)\n",
      "found:   (e * i(f * e)) * i(1) = i(f) from c * i(a * c) = i(a), f * (e * i(f * e)) = 1\n",
      "found:   g * i(f * (b * g)) = i(f * b) from c * i(a * c) = i(a), (f * b) * g = f * (b * g)\n",
      "found:   i(e * i(b)) * i(i(e)) = b from c * i(i(b) * c) = b, d * i(e * d) = i(e)\n",
      "found:   i(i(f) * d) * i(f) = i(d) from c * i(a * c) = i(a), d * i(i(f) * d) = f\n",
      "found:   d * (i(e * d) * i(i(e))) = 1 from b * (a * i(b * a)) = 1, d * i(e * d) = i(e)\n",
      "found:   i(f) = x * (y * i(f * (x * y))) from (x * y) * z = x * (y * z), d * i(f * d) = i(f)\n",
      "found:   i(f) * z = d * (i(f * d) * z) from (x * y) * z = x * (y * z), d * i(f * d) = i(f)\n",
      "found:   i(d * b) * i(i(d)) = i(b) from c * i(a * c) = i(a), b * i(d * b) = i(d)\n",
      "removed: b * (a * i(b * a)) = 1\n",
      "removed: c * i(i(b) * c) = b\n",
      "added:   i(d * b) * d = i(b)\n",
      "found:   i(g) * z = i(a * g) * (a * z) from (x * y) * z = x * (y * z), i(a * g) * a = i(g)\n",
      "found:   i(e * (c * f)) * (e * c) = i(f) from i(d * b) * d = i(b), (e * c) * f = e * (c * f)\n",
      "found:   i(c) * c = i(1) from i(d * b) * d = i(b), c * 1 = c\n",
      "added:   i(c) * c = 1\n",
      "found:   1 * z = i(b) * (b * z) from (x * y) * z = x * (y * z), i(b) * b = 1\n",
      "added:   i(b) * (b * z) = z\n",
      "found:   i(c * a) * (c * (a * d)) = d from i(b) * (b * z) = z, (c * a) * d = c * (a * d)\n",
      "found:   i(e) * i(c) = i(c * e) from i(d * b) * d = i(b), i(c) * (c * e) = e\n",
      "found:   d * z = i(e) * ((e * d) * z) from (x * y) * z = x * (y * z), i(e) * (e * d) = d\n",
      "found:   i(d) * i(e) = i(e * d) from i(b) * (b * z) = z, d * i(e * d) = i(e)\n",
      "found:   a * (i(a) * z) = z from i(b) * (b * z) = z, i(i(a)) = a\n",
      "added:   a * (i(a) * z) = z\n",
      "found:   d * (b * (i(d * b) * z)) = z from a * (i(a) * z) = z, (d * b) * e = d * (b * e)\n",
      "found:   e * z = d * ((i(d) * e) * z) from (x * y) * z = x * (y * z), d * (i(d) * e) = e\n",
      "found:   a * i(d) = i(d * i(a)) from a * (i(a) * z) = z, b * i(d * b) = i(d)\n",
      "found:   i(g) * e = i(i(e) * g) from i(d * b) * d = i(b), e * (i(e) * g) = g\n",
      "found:   e = x * (y * (i(x * y) * e)) from (x * y) * z = x * (y * z), d * (i(d) * e) = e\n",
      "added:   i(d * i(a)) = a * i(d)\n",
      "found:   i(d * (c * i(b))) = (b * i(c)) * i(d) from i(d * i(a)) = a * i(d), i(b * i(c)) = c * i(b)\n",
      "found:   i(f * (c * i(a))) = a * i(f * c) from i(d * i(a)) = a * i(d), (f * c) * g = f * (c * g)\n",
      "found:   i(c * i(b)) = b * i(c) from i(i(d)) = d, i(b * i(c)) = c * i(b)\n",
      "found:   i(d * b) = i(b) * i(d) from i(d * i(a)) = a * i(d), i(i(b)) = b\n",
      "added:   i(e * d) = i(d) * i(e)\n",
      "found:   i(c * (b * f)) = i(f) * i(c * b) from i(e * d) = i(d) * i(e), (c * b) * f = c * (b * f)\n",
      "found:   i(d * (i(b) * i(c))) = (c * b) * i(d) from i(d * i(a)) = a * i(d), i(c * b) = i(b) * i(c)\n",
      "removed: c * i(a * c) = i(a)\n",
      "removed: i(d * i(a)) = a * i(d)\n",
      "removed: i(d * b) * d = i(b)\n",
      "\n",
      "1. x * i(x) = 1\n",
      "2. i(1) = 1\n",
      "3. (x * y) * z = x * (y * z)\n",
      "4. i(b) * (b * z) = z\n",
      "5. i(c) * c = 1\n",
      "6. i(e * d) = i(d) * i(e)\n",
      "7. 1 * b = b\n",
      "8. x * 1 = x\n",
      "9. i(i(d)) = d\n",
      "10. a * (i(a) * z) = z\n",
      "CPU times: user 74.7 ms, sys: 2.63 ms, total: 77.3 ms\n",
      "Wall time: 77.7 ms\n"
     ]
    }
   ],
   "source": [
    "%%time\n",
    "Rules = knuth_bendix_algorithm('Examples/group-theory-2.eqn')"
   ]
  },
  {
   "cell_type": "markdown",
   "metadata": {},
   "source": [
    "#### LR Systems\n",
    "\n",
    "Next, it is natural to ask what happens if we have a *left neutral element* and a *right inverse*.  Algebraic Structures of this kind are called *LR systems*.  The *Knuth-Bendix completion algorithm* shows that, in general, *LR systems* are different from groups."
   ]
  },
  {
   "cell_type": "code",
   "execution_count": 59,
   "metadata": {},
   "outputs": [
    {
     "name": "stdout",
     "output_type": "stream",
     "text": [
      "      1 * x = x;\r\n",
      "   x * i(x) = 1;\r\n",
      "(x * y) * z = x * (y * z);"
     ]
    }
   ],
   "source": [
    "!cat Examples/lr-system.eqn || type Examples\\lr-system.eqn"
   ]
  },
  {
   "cell_type": "code",
   "execution_count": 60,
   "metadata": {
    "scrolled": false
   },
   "outputs": [
    {
     "name": "stdout",
     "output_type": "stream",
     "text": [
      "given:   (x * y) * z = x * (y * z)\n",
      "given:   x * i(x) = 1\n",
      "given:   1 * x = x\n",
      "added:   1 * x = x\n",
      "added:   x * i(x) = 1\n",
      "found:   i(1) = 1 from x * i(x) = 1, 1 * a = a\n",
      "found:   1 = i(1) from 1 * x = x, a * i(a) = 1\n",
      "added:   i(1) = 1\n",
      "added:   (x * y) * z = x * (y * z)\n",
      "found:   1 = x * (y * i(x * y)) from (x * y) * z = x * (y * z), b * i(b) = 1\n",
      "found:   b * (a * i(b * a)) = 1 from x * i(x) = 1, (b * a) * c = b * (a * c)\n",
      "found:   1 * z = b * (i(b) * z) from (x * y) * z = x * (y * z), b * i(b) = 1\n",
      "found:   (b * (a * c)) * z = (b * a) * (c * z) from (x * y) * z = x * (y * z), (b * a) * c = b * (a * c)\n",
      "added:   b * (i(b) * z) = z\n",
      "found:   c * (a * (i(c * a) * z)) = z from b * (i(b) * z) = z, (c * a) * d = c * (a * d)\n",
      "found:   b * 1 = i(i(b)) from b * (i(b) * z) = z, a * i(a) = 1\n",
      "found:   b * c = i(i(b)) * c from b * (i(b) * z) = z, a * (i(a) * c) = c\n",
      "found:   d * z = e * ((i(e) * d) * z) from (x * y) * z = x * (y * z), e * (i(e) * d) = d\n",
      "found:   d = x * (y * (i(x * y) * d)) from (x * y) * z = x * (y * z), e * (i(e) * d) = d\n",
      "added:   b * 1 = i(i(b))\n",
      "found:   i(i(x * y)) = x * (y * 1) from (x * y) * z = x * (y * z), d * 1 = i(i(d))\n",
      "found:   b * i(i(i(b))) = 1 from b * (i(b) * z) = z, a * 1 = i(i(a))\n",
      "found:   i(i(d)) * z = d * (1 * z) from (x * y) * z = x * (y * z), d * 1 = i(i(d))\n",
      "found:   c * (a * 1) = i(i(c * a)) from b * 1 = i(i(b)), (c * a) * e = c * (a * e)\n",
      "added:   b * i(i(i(b))) = 1\n",
      "found:   c * (a * i(i(i(c * a)))) = 1 from b * i(i(i(b))) = 1, (c * a) * e = c * (a * e)\n",
      "found:   b * 1 = i(i(i(i(b)))) from b * (i(b) * z) = z, a * i(i(i(a))) = 1\n",
      "found:   1 = x * (y * i(i(i(x * y)))) from (x * y) * z = x * (y * z), d * i(i(i(d))) = 1\n",
      "found:   1 * z = d * (i(i(i(d))) * z) from (x * y) * z = x * (y * z), d * i(i(i(d))) = 1\n",
      "added:   i(i(b)) * c = b * c\n",
      "found:   e = b * (i(i(i(b))) * e) from i(i(b)) * c = b * c, d * (i(d) * e) = e\n",
      "found:   i(d) * (d * a) = a from b * (i(b) * z) = z, i(i(d)) * a = d * a\n",
      "found:   d * (i(i(i(d))) * z) = z from b * (i(b) * z) = z, i(i(d)) * a = d * a\n",
      "found:   1 = b * i(i(i(i(i(b))))) from i(i(b)) * c = b * c, d * i(i(i(d))) = 1\n",
      "found:   i(i(i(i(b)))) = b * 1 from i(i(b)) * c = b * c, d * 1 = i(i(d))\n",
      "found:   d * i(i(i(i(i(d))))) = 1 from b * i(i(i(b))) = 1, i(i(d)) * a = d * a\n",
      "found:   (g * d) * z = i(i(g)) * (d * z) from (x * y) * z = x * (y * z), i(i(g)) * d = g * d\n",
      "found:   d * 1 = i(i(i(i(d)))) from b * 1 = i(i(b)), i(i(d)) * a = d * a\n",
      "added:   i(d) * (d * a) = a\n",
      "found:   f * z = i(b) * ((b * f) * z) from (x * y) * z = x * (y * z), i(b) * (b * f) = f\n",
      "found:   i(e) * 1 = i(e) from i(d) * (d * a) = a, e * i(e) = 1\n",
      "found:   i(i(i(h))) * (h * f) = f from i(d) * (d * a) = a, i(i(h)) * f = h * f\n",
      "found:   i(f * c) * (f * (c * g)) = g from i(d) * (d * a) = a, (f * c) * g = f * (c * g)\n",
      "added:   i(i(i(e))) = i(e)\n",
      "removed: b * i(i(i(b))) = 1\n",
      "added:   b * (a * i(b * a)) = 1\n",
      "found:   i(f) * 1 = e * i(f * e) from i(d) * (d * a) = a, f * (e * i(f * e)) = 1\n",
      "found:   1 = x * (y * (e * i((x * y) * e))) from (x * y) * z = x * (y * z), g * (e * i(g * e)) = 1\n",
      "found:   b * (e * (c * i(b * (e * c)))) = 1 from b * (a * i(b * a)) = 1, (e * c) * f = e * (c * f)\n",
      "found:   1 = i(i(e) * e) from i(d) * (d * a) = a, f * (e * i(f * e)) = 1\n",
      "found:   e * (c * (a * i((e * c) * a))) = 1 from b * (a * i(b * a)) = 1, (e * c) * f = e * (c * f)\n",
      "found:   b * (f * i(b * i(i(f)))) = 1 from b * (a * i(b * a)) = 1, i(i(f)) * d = f * d\n",
      "found:   f * (a * i(i(i(f)) * a)) = 1 from b * (a * i(b * a)) = 1, i(i(f)) * d = f * d\n",
      "found:   d * ((c * i(d * c)) * i(1)) = 1 from b * (a * i(b * a)) = 1, d * (c * i(d * c)) = 1\n",
      "found:   b * 1 = c * i(i(b) * c) from b * (i(b) * z) = z, d * (c * i(d * c)) = 1\n",
      "found:   i(i(c) * c) = 1 from b * (a * i(b * a)) = 1, i(c) * (c * e) = e\n",
      "found:   1 = b * (e * i(i(i(b)) * e)) from i(i(b)) * c = b * c, f * (e * i(f * e)) = 1\n",
      "found:   i(i(f)) * (d * i(f * d)) = 1 from b * (a * i(b * a)) = 1, i(i(f)) * d = f * d\n",
      "found:   1 * z = g * ((e * i(g * e)) * z) from (x * y) * z = x * (y * z), g * (e * i(g * e)) = 1\n",
      "found:   (e * c) * (f * i(e * (c * f))) = 1 from b * (a * i(b * a)) = 1, (e * c) * f = e * (c * f)\n",
      "added:   i(i(e) * e) = 1\n",
      "found:   i(1 * (i(a) * a)) = 1 from i(i(e) * e) = 1, i(i(a) * a) = 1\n",
      "found:   i(i(1)) = i(i(a) * a) from i(i(i(e))) = i(e), i(i(a) * a) = 1\n",
      "added:   e * i(f * e) = i(f)\n",
      "found:   i(g) = b * i(g * i(i(b))) from i(i(b)) * c = b * c, a * i(g * a) = i(g)\n",
      "found:   i(c) * z = g * (i(c * g) * z) from (x * y) * z = x * (y * z), g * i(c * g) = i(c)\n",
      "found:   d * i(c * (a * d)) = i(c * a) from e * i(f * e) = i(f), (c * a) * d = c * (a * d)\n",
      "found:   b * i(c) = i(c * i(b)) from b * (i(b) * z) = z, a * i(c * a) = i(c)\n",
      "found:   c * (a * i(f * (c * a))) = i(f) from e * i(f * e) = i(f), (c * a) * d = c * (a * d)\n",
      "found:   i(b * a) * i(i(b)) = i(a) from e * i(f * e) = i(f), a * i(b * a) = i(b)\n",
      "found:   h * i(f * i(i(h))) = i(f) from e * i(f * e) = i(f), i(i(h)) * d = h * d\n",
      "found:   d * i(h * d) = i(i(i(h))) from e * i(f * e) = i(f), i(i(h)) * d = h * d\n",
      "found:   (c * i(h * c)) * i(1) = i(h) from e * i(f * e) = i(f), h * (c * i(h * c)) = 1\n",
      "found:   i(c) = x * (y * i(c * (x * y))) from (x * y) * z = x * (y * z), g * i(c * g) = i(c)\n",
      "found:   i(c) * i(h) = i(h * c) from i(d) * (d * a) = a, c * i(h * c) = i(h)\n",
      "found:   c * (i(g * c) * i(i(g))) = 1 from b * (a * i(b * a)) = 1, c * i(g * c) = i(g)\n",
      "removed: b * (a * i(b * a)) = 1\n",
      "added:   i(c * i(b)) = b * i(c)\n",
      "found:   i(c * (d * i(a))) = (a * i(d)) * i(c) from i(c * i(b)) = b * i(c), i(a * i(d)) = d * i(a)\n",
      "found:   i(i(f * i(d))) = i(d * i(f)) from i(i(i(e))) = i(e), i(d * i(f)) = f * i(d)\n",
      "found:   i(c * i(a)) = i(i(a)) * i(c) from i(c * i(b)) = b * i(c), i(i(i(a))) = i(a)\n",
      "found:   i(e * (a * i(b))) = b * i(e * a) from i(c * i(b)) = b * i(c), (e * a) * f = e * (a * f)\n",
      "found:   i(d * i(a)) * c = (a * i(d)) * c from i(i(b)) * c = b * c, i(a * i(d)) = d * i(a)\n",
      "found:   i(d * i(b)) = b * i(i(i(d))) from i(c * i(b)) = b * i(c), i(i(d)) * a = d * a\n",
      "added:   i(h * c) = i(c) * i(h)\n",
      "found:   i(d * (a * e)) = i(e) * i(d * a) from i(h * c) = i(c) * i(h), (d * a) * e = d * (a * e)\n",
      "found:   i(c * (i(d) * i(a))) = (a * d) * i(c) from i(c * i(b)) = b * i(c), i(a * d) = i(d) * i(a)\n",
      "found:   i(f) = i(i(e) * f) * i(e) from i(h * c) = i(c) * i(h), e * (i(e) * f) = f\n",
      "found:   i(i(i(b) * i(d))) = i(d * b) from i(i(i(e))) = i(e), i(d * b) = i(b) * i(d)\n",
      "found:   i(g) = i(b * g) * i(i(b)) from i(h * c) = i(c) * i(h), i(b) * (b * g) = g\n",
      "found:   i(e * d) = i(d) * i(i(i(e))) from i(h * c) = i(c) * i(h), i(i(e)) * d = e * d\n",
      "removed: i(i(e) * e) = 1\n",
      "removed: i(c * i(b)) = b * i(c)\n",
      "removed: e * i(f * e) = i(f)\n",
      "\n",
      "1. i(i(b)) * c = b * c\n",
      "2. b * (i(b) * z) = z\n",
      "3. x * i(x) = 1\n",
      "4. i(1) = 1\n",
      "5. 1 * x = x\n",
      "6. i(h * c) = i(c) * i(h)\n",
      "7. (x * y) * z = x * (y * z)\n",
      "8. i(d) * (d * a) = a\n",
      "9. i(i(i(e))) = i(e)\n",
      "10. b * 1 = i(i(b))\n",
      "CPU times: user 54.7 ms, sys: 2.57 ms, total: 57.3 ms\n",
      "Wall time: 56.4 ms\n"
     ]
    }
   ],
   "source": [
    "%%time\n",
    "Rules = knuth_bendix_algorithm('Examples/lr-system.eqn')"
   ]
  },
  {
   "cell_type": "markdown",
   "metadata": {},
   "source": [
    "#### RL Systems\n",
    "\n",
    "Similarly, if we have a *right neutral element* and a *left inverse* the resulting structure need not be a group. Systems of this kind are called *RL system*."
   ]
  },
  {
   "cell_type": "code",
   "execution_count": 61,
   "metadata": {},
   "outputs": [
    {
     "name": "stdout",
     "output_type": "stream",
     "text": [
      "      x * 1 = x;\r\n",
      "   i(x) * x = 1;\r\n",
      "(x * y) * z = x * (y * z);"
     ]
    }
   ],
   "source": [
    "!cat Examples/rl-system.eqn || type Examples\\rl-system.eqn"
   ]
  },
  {
   "cell_type": "code",
   "execution_count": 62,
   "metadata": {
    "scrolled": false
   },
   "outputs": [
    {
     "name": "stdout",
     "output_type": "stream",
     "text": [
      "given:   x * 1 = x\n",
      "given:   (x * y) * z = x * (y * z)\n",
      "given:   i(x) * x = 1\n",
      "added:   x * 1 = x\n",
      "added:   i(x) * x = 1\n",
      "found:   1 = i(1) from x * 1 = x, i(a) * a = 1\n",
      "found:   i(1) = 1 from i(x) * x = 1, a * 1 = a\n",
      "added:   i(1) = 1\n",
      "added:   (x * y) * z = x * (y * z)\n",
      "found:   1 * z = i(b) * (b * z) from (x * y) * z = x * (y * z), i(b) * b = 1\n",
      "found:   b * z = b * (1 * z) from (x * y) * z = x * (y * z), b * 1 = b\n",
      "found:   (b * (a * c)) * z = (b * a) * (c * z) from (x * y) * z = x * (y * z), (b * a) * c = b * (a * c)\n",
      "added:   b * (1 * z) = b * z\n",
      "found:   c * (a * (1 * z)) = (c * a) * z from b * (1 * z) = b * z, (c * a) * d = c * (a * d)\n",
      "found:   1 = i(1 * z) * z from b * (1 * z) = b * z, i(a) * a = 1\n",
      "found:   i(1 * d) * d = 1 from i(x) * x = 1, c * (1 * d) = c * d\n",
      "found:   (x * y) * d = x * (y * (1 * d)) from (x * y) * z = x * (y * z), e * (1 * d) = e * d\n",
      "found:   (e * d) * z = e * ((1 * d) * z) from (x * y) * z = x * (y * z), e * (1 * d) = e * d\n",
      "added:   i(1 * d) * d = 1\n",
      "found:   i(1 * (1 * e)) * e = 1 from i(1 * d) * d = 1, c * (1 * e) = c * e\n",
      "found:   1 = i(1 * (1 * z)) * z from b * (1 * z) = b * z, i(1 * a) * a = 1\n",
      "found:   1 * z = i(1 * a) * (a * z) from (x * y) * z = x * (y * z), i(1 * a) * a = 1\n",
      "added:   i(b) * (b * z) = 1 * z\n",
      "found:   i(a) * (a * c) = 1 * (1 * c) from i(b) * (b * z) = 1 * z, a * (1 * c) = a * c\n",
      "found:   i(c * a) * (c * (a * d)) = 1 * d from i(b) * (b * z) = 1 * z, (c * a) * d = c * (a * d)\n",
      "found:   i(i(1 * a)) * 1 = 1 * a from i(b) * (b * z) = 1 * z, i(1 * a) * a = 1\n",
      "found:   i(i(a)) * (1 * c) = 1 * (a * c) from i(b) * (b * z) = 1 * z, i(a) * (a * c) = 1 * c\n",
      "found:   (1 * d) * z = i(e) * ((e * d) * z) from (x * y) * z = x * (y * z), i(e) * (e * d) = 1 * d\n",
      "found:   i(i(a)) * 1 = 1 * a from i(b) * (b * z) = 1 * z, i(a) * a = 1\n",
      "added:   1 * a = i(i(a))\n",
      "found:   1 * e = i(i(1 * e)) from 1 * a = i(i(a)), d * (1 * e) = d * e\n",
      "found:   i(1) * i(i(c)) = 1 * c from i(b) * (b * z) = 1 * z, 1 * c = i(i(c))\n",
      "found:   i(i(b)) * z = 1 * (b * z) from (x * y) * z = x * (y * z), 1 * b = i(i(b))\n",
      "found:   i(i(i(c))) * c = 1 from i(1 * d) * d = 1, 1 * c = i(i(c))\n",
      "found:   i(i(1 * z)) = 1 * z from b * (1 * z) = b * z, 1 * c = i(i(c))\n",
      "found:   b * i(i(c)) = b * c from b * (1 * z) = b * z, 1 * c = i(i(c))\n",
      "simplified:\n",
      "old:     i(1 * d) * d = 1\n",
      "new:     i(i(i(d))) * d = 1\n",
      "removed: i(b) * (b * z) = 1 * z\n",
      "simplified:\n",
      "old:     b * (1 * z) = b * z\n",
      "new:     b * i(i(z)) = b * z\n",
      "added:   i(i(i(i(e)))) = i(i(e))\n",
      "added:   i(a) * (a * c) = i(i(c))\n",
      "found:   i(f * b) * (f * (b * g)) = i(i(g)) from i(a) * (a * c) = i(i(c)), (f * b) * g = f * (b * g)\n",
      "found:   i(f) * (f * g) = i(i(i(i(g)))) from i(a) * (a * c) = i(i(c)), f * i(i(g)) = f * g\n",
      "found:   i(i(d)) * z = i(f) * ((f * d) * z) from (x * y) * z = x * (y * z), i(f) * (f * d) = i(i(d))\n",
      "found:   i(i(d)) * i(i(b)) = i(i(d * b)) from i(a) * (a * c) = i(i(c)), i(d) * (d * b) = i(i(b))\n",
      "found:   i(i(b)) * (i(i(i(b))) * c) = i(i(c)) from i(a) * (a * c) = i(i(c)), i(i(i(i(b)))) = i(i(b))\n",
      "added:   i(i(a * c)) = i(i(a)) * c\n",
      "found:   i(i(i(i(f)) * d)) = i(i(f * d)) from i(i(i(i(e)))) = i(i(e)), i(i(f * d)) = i(i(f)) * d\n",
      "found:   i(i(i(f)) * e) * (f * e) = 1 from i(i(i(d))) * d = 1, i(i(f * e)) = i(i(f)) * e\n",
      "found:   i(i(f * (b * g))) = i(i(f * b)) * g from i(i(a * c)) = i(i(a)) * c, (f * b) * g = f * (b * g)\n",
      "found:   i(i(i(i(f)) * e)) * i(f * e) = 1 from i(i(i(d))) * d = 1, i(i(f * e)) = i(i(f)) * e\n",
      "found:   (i(i(d)) * b) * (i(d * b) * c) = i(i(c)) from i(a) * (a * c) = i(i(c)), i(i(d * b)) = i(i(d)) * b\n",
      "found:   (i(i(b)) * d) * i(b * d) = 1 from i(x) * x = 1, i(i(b * d)) = i(i(b)) * d\n",
      "found:   i(i(i(i(b)))) = i(i(i(d))) * (d * b) from i(i(a * c)) = i(i(a)) * c, i(d) * (d * b) = i(i(b))\n",
      "found:   b * (i(i(e)) * d) = b * (e * d) from b * i(i(z)) = b * z, i(i(e * d)) = i(i(e)) * d\n",
      "found:   i(i(f * g)) = i(i(f)) * i(i(g)) from i(i(a * c)) = i(i(a)) * c, f * i(i(g)) = f * g\n",
      "found:   i(i(i(i(i(f)) * d))) = i(i(i(f * d))) from i(i(i(i(e)))) = i(i(e)), i(i(f * d)) = i(i(f)) * d\n",
      "found:   b * i(i(i(e)) * d) = b * i(e * d) from b * i(i(z)) = b * z, i(i(e * d)) = i(i(e)) * d\n",
      "added:   i(i(i(a))) * (a * z) = i(i(z))\n",
      "found:   i(i(i(d))) * (d * e) = i(i(i(i(e)))) from i(i(i(a))) * (a * z) = i(i(z)), d * i(i(e)) = d * e\n",
      "found:   i(i(i(i(d)) * b)) * (i(d * b) * z) = i(i(z)) from i(i(i(a))) * (a * z) = i(i(z)), i(i(d * b)) = i(i(d)) * b\n",
      "found:   i(i(i(i(e)))) = i(i(i(i(i(d))))) * (d * e) from i(i(a * c)) = i(i(a)) * c, i(i(i(d))) * (d * e) = i(i(e))\n",
      "found:   i(i(i(d)) * b) * ((d * b) * z) = i(i(z)) from i(i(i(a))) * (a * z) = i(i(z)), i(i(d * b)) = i(i(d)) * b\n",
      "found:   i(i(i(d * b))) * (d * (b * e)) = i(i(e)) from i(i(i(a))) * (a * z) = i(i(z)), (d * b) * e = d * (b * e)\n",
      "found:   i(i(e)) * z = i(i(i(d))) * ((d * e) * z) from (x * y) * z = x * (y * z), i(i(i(d))) * (d * e) = i(i(e))\n",
      "added:   i(i(i(f)) * e) * (f * e) = 1\n",
      "found:   i(i(i(f)) * g) * (f * i(i(g))) = 1 from i(i(i(f)) * e) * (f * e) = 1, d * i(i(g)) = d * g\n",
      "found:   1 * z = i(i(i(c)) * g) * ((c * g) * z) from (x * y) * z = x * (y * z), i(i(i(c)) * g) * (c * g) = 1\n",
      "found:   i(i(i(d)) * i(i(g))) * (d * g) = 1 from i(i(i(f)) * e) * (f * e) = 1, d * i(i(g)) = d * g\n",
      "found:   i(i(i(i(i(i(b)) * a))) * (b * a)) * 1 = 1 from i(i(i(f)) * e) * (f * e) = 1, i(i(i(b)) * a) * (b * a) = 1\n",
      "found:   i((i(i(b)) * g) * e) * ((b * g) * e) = 1 from i(i(i(f)) * e) * (f * e) = 1, i(i(b * g)) = i(i(b)) * g\n",
      "found:   i(i(i(i(b)) * g) * e) * (i(b * g) * e) = 1 from i(i(i(f)) * e) * (f * e) = 1, i(i(b * g)) = i(i(b)) * g\n",
      "found:   i(i(i(g))) * (f * (i(f) * g)) = 1 from i(i(i(f)) * e) * (f * e) = 1, i(b) * (b * g) = i(i(g))\n",
      "found:   i(i(1)) = i(i(i(i(i(h)) * b))) * (h * b) from i(i(a * c)) = i(i(a)) * c, i(i(i(h)) * b) * (h * b) = 1\n",
      "found:   i(i(i(c * a)) * d) * (c * (a * d)) = 1 from i(i(i(f)) * e) * (f * e) = 1, (c * a) * d = c * (a * d)\n",
      "added:   i(i(b)) * (d * i(b * d)) = 1\n",
      "found:   i(i(i(i(i(h)))) * (a * i(h * a))) * 1 = 1 from i(i(i(f)) * e) * (f * e) = 1, i(i(h)) * (a * i(h * a)) = 1\n",
      "found:   i(i(e * c)) * (f * i(e * (c * f))) = 1 from i(i(b)) * (d * i(b * d)) = 1, (e * c) * f = e * (c * f)\n",
      "found:   i(i(i(g)) * f) * (d * i(i(g * f) * d)) = 1 from i(i(b)) * (d * i(b * d)) = 1, i(i(g * f)) = i(i(g)) * f\n",
      "found:   (i(i(g)) * f) * (d * i((g * f) * d)) = 1 from i(i(b)) * (d * i(b * d)) = 1, i(i(g * f)) = i(i(g)) * f\n",
      "found:   i(i(c)) * (i(i(e)) * i(c * e)) = 1 from i(i(b)) * (d * i(b * d)) = 1, c * i(i(e)) = c * e\n",
      "found:   i(i(c)) * (d * i(i(i(c)) * d)) = 1 from i(i(b)) * (d * i(b * d)) = 1, i(i(i(i(c)))) = i(i(c))\n",
      "found:   i(1) * (h * (a * i(h * a))) = 1 from i(i(i(f)) * e) * (f * e) = 1, i(i(h)) * (a * i(h * a)) = 1\n",
      "found:   i(i(i(h))) * 1 = i(i(e * i(h * e))) from i(a) * (a * c) = i(i(c)), i(i(h)) * (e * i(h * e)) = 1\n",
      "found:   i(i(i(i(i(f))))) * 1 = i(i(c * i(f * c))) from i(i(i(a))) * (a * z) = i(i(z)), i(i(f)) * (c * i(f * c)) = 1\n",
      "found:   i(i(b)) * (e * (c * i(b * (e * c)))) = 1 from i(i(b)) * (d * i(b * d)) = 1, (e * c) * f = e * (c * f)\n",
      "found:   i(i(i(c))) * (d * i(i(i(i(c))) * d)) = 1 from i(i(b)) * (d * i(b * d)) = 1, i(i(i(i(c)))) = i(i(c))\n",
      "found:   i(i(1)) = i(i(i(i(h)))) * (e * i(h * e)) from i(i(a * c)) = i(i(a)) * c, i(i(h)) * (e * i(h * e)) = 1\n",
      "found:   i(i(i(i(c)))) * ((a * i(c * a)) * i(1)) = 1 from i(i(b)) * (d * i(b * d)) = 1, i(i(c)) * (a * i(c * a)) = 1\n",
      "found:   1 * z = i(i(g)) * ((a * i(g * a)) * z) from (x * y) * z = x * (y * z), i(i(g)) * (a * i(g * a)) = 1\n",
      "added:   b * (i(i(e)) * d) = b * (e * d)\n",
      "found:   f * (c * (i(i(e)) * d)) = (f * c) * (e * d) from b * (i(i(e)) * d) = b * (e * d), (f * c) * g = f * (c * g)\n",
      "found:   b * (i(i(e)) * c) = b * (e * i(i(c))) from b * (i(i(e)) * d) = b * (e * d), g * i(i(c)) = g * c\n",
      "found:   (i * (h * a)) * z = i * ((i(i(h)) * a) * z) from (x * y) * z = x * (y * z), i * (i(i(h)) * a) = i * (h * a)\n",
      "found:   b * ((i(i(h)) * g) * d) = b * ((h * g) * d) from b * (i(i(e)) * d) = b * (e * d), i(i(h * g)) = i(i(h)) * g\n",
      "found:   i(i(i(h)) * (i(i(g)) * a)) * (h * (g * a)) = 1 from i(i(i(f)) * e) * (f * e) = 1, h * (i(i(g)) * a) = h * (g * a)\n",
      "found:   b * 1 = b * (e * i(e)) from b * (i(i(e)) * d) = b * (e * d), i(f) * f = 1\n",
      "found:   (x * y) * (h * a) = x * (y * (i(i(h)) * a)) from (x * y) * z = x * (y * z), i * (i(i(h)) * a) = i * (h * a)\n",
      "found:   b * (i(i(i(h)) * g) * d) = b * (i(h * g) * d) from b * (i(i(e)) * d) = b * (e * d), i(i(h * g)) = i(i(h)) * g\n",
      "found:   i(i(i(f)) * (g * a)) * (f * (i(i(g)) * a)) = 1 from i(i(i(f)) * e) * (f * e) = 1, h * (i(i(g)) * a) = h * (g * a)\n",
      "found:   b * 1 = b * (f * (a * i(f * a))) from b * (i(i(e)) * d) = b * (e * d), i(i(f)) * (a * i(f * a)) = 1\n",
      "found:   b * (i(i(e)) * (c * a)) = b * (e * (i(i(c)) * a)) from b * (i(i(e)) * d) = b * (e * d), f * (i(i(c)) * a) = f * (c * a)\n",
      "found:   b * i(i(g)) = b * (e * (i(e) * g)) from b * (i(i(e)) * d) = b * (e * d), i(h) * (h * g) = i(i(g))\n",
      "found:   i(i(j * (i * f))) = i(i(j)) * (i(i(i)) * f) from i(i(a * c)) = i(i(a)) * c, j * (i(i(i)) * f) = j * (i * f)\n",
      "found:   i(i(f)) * ((i(i(c)) * a) * i(f * (c * a))) = 1 from i(i(b)) * (d * i(b * d)) = 1, f * (i(i(c)) * a) = f * (c * a)\n",
      "added:   b * (e * i(e)) = b\n",
      "found:   i(i(i(g))) = i(g) from b * (e * i(e)) = b, i(g) * (g * f) = i(i(f))\n",
      "found:   g * z = g * ((f * i(f)) * z) from (x * y) * z = x * (y * z), g * (f * i(f)) = g\n",
      "found:   i(a * i(a)) = 1 from i(x) * x = 1, d * (a * i(a)) = d\n",
      "found:   b * (c * (a * i(c * a))) = b from b * (e * i(e)) = b, (c * a) * d = c * (a * d)\n",
      "found:   f * (c * i(i(i(c)))) = f from b * (e * i(e)) = b, f * (i(i(c)) * a) = f * (c * a)\n",
      "found:   i(i(h)) = i(i(h)) * (d * i(d)) from i(i(a * c)) = i(i(a)) * c, h * (d * i(d)) = h\n",
      "found:   x * y = x * (y * (f * i(f))) from (x * y) * z = x * (y * z), g * (f * i(f)) = g\n",
      "found:   i(i(i(d)) * (a * i(a))) * d = 1 from i(i(i(f)) * e) * (f * e) = 1, d * (a * i(a)) = d\n",
      "found:   i(i(f)) * ((c * i(c)) * i(f)) = 1 from i(i(b)) * (d * i(b * d)) = 1, f * (c * i(c)) = f\n",
      "found:   c * (a * (e * i(e))) = c * a from b * (e * i(e)) = b, (c * a) * d = c * (a * d)\n",
      "found:   i(d) = i(i(i(d))) from i(a) * (a * c) = i(i(c)), h * (d * i(d)) = h\n",
      "found:   b * i(i(e)) = b * (e * (c * i(c))) from b * (i(i(e)) * d) = b * (e * d), f * (c * i(c)) = f\n",
      "found:   1 = i(e * i(e)) from b * (e * i(e)) = b, i(c) * c = 1\n",
      "found:   f = f * (e * i(i(i(e)))) from b * (i(i(e)) * d) = b * (e * d), f * (c * i(c)) = f\n",
      "added:   i(e * i(e)) = 1\n",
      "found:   i(i(1) * e) * ((a * i(a)) * e) = 1 from i(i(i(f)) * e) * (f * e) = 1, i(a * i(a)) = 1\n",
      "found:   i((a * i(a)) * 1) = 1 from i(e * i(e)) = 1, i(a * i(a)) = 1\n",
      "found:   i(1) * (d * i((c * i(c)) * d)) = 1 from i(i(b)) * (d * i(b * d)) = 1, i(c * i(c)) = 1\n",
      "found:   i(c * (a * i(c * a))) = 1 from i(e * i(e)) = 1, (c * a) * d = c * (a * d)\n",
      "found:   b * (i(1) * d) = b * ((c * i(c)) * d) from b * (i(i(e)) * d) = b * (e * d), i(c * i(c)) = 1\n",
      "added:   i(i(i(d))) = i(d)\n",
      "found:   i(i(a)) * (d * i(i(i(a)) * d)) = 1 from i(i(b)) * (d * i(b * d)) = 1, i(i(i(a))) = i(a)\n",
      "found:   i(a) * (d * i(i(a) * d)) = 1 from i(i(b)) * (d * i(b * d)) = 1, i(i(i(a))) = i(a)\n",
      "found:   i(i(i(f)) * e) = i(f * e) from i(i(i(d))) = i(d), i(i(f * e)) = i(i(f)) * e\n",
      "removed: i(i(i(i(e)))) = i(i(e))\n",
      "removed: i(i(i(a))) * (a * z) = i(i(z))\n",
      "removed: i(i(i(d))) * d = 1\n",
      "added:   i(c * (a * i(c * a))) = 1\n",
      "found:   i(1) * (d * i((f * (g * i(f * g))) * d)) = 1 from i(i(b)) * (d * i(b * d)) = 1, i(f * (g * i(f * g))) = 1\n",
      "found:   i(h * ((d * i(d)) * i(h))) = 1 from i(c * (a * i(c * a))) = 1, h * (d * i(d)) = h\n",
      "found:   1 * ((b * (d * i(b * d))) * c) = i(i(c)) from i(a) * (a * c) = i(i(c)), i(b * (d * i(b * d))) = 1\n",
      "found:   i(i(1)) = i(e * (f * i(e * f))) from i(i(i(d))) = i(d), i(e * (f * i(e * f))) = 1\n",
      "found:   i(f * (i(i(g)) * i(f * g))) = 1 from i(c * (a * i(c * a))) = 1, f * i(i(g)) = f * g\n",
      "found:   i(b * ((d * i(b * d)) * 1)) = 1 from i(c * (a * i(c * a))) = 1, i(b * (d * i(b * d))) = 1\n",
      "found:   i(j * ((i(i(i)) * f) * i(j * (i * f)))) = 1 from i(c * (a * i(c * a))) = 1, j * (i(i(i)) * f) = j * (i * f)\n",
      "found:   i(f * (b * (a * i((f * b) * a)))) = 1 from i(c * (a * i(c * a))) = 1, (f * b) * g = f * (b * g)\n",
      "found:   i((d * (f * i(d * f))) * 1) = 1 from i(e * i(e)) = 1, i(d * (f * i(d * f))) = 1\n",
      "found:   b * ((f * (g * i(f * g))) * 1) = b from b * (e * i(e)) = b, i(f * (g * i(f * g))) = 1\n",
      "found:   i((f * b) * (g * i(f * (b * g)))) = 1 from i(c * (a * i(c * a))) = 1, (f * b) * g = f * (b * g)\n",
      "found:   b * (i(1) * d) = b * ((g * (h * i(g * h))) * d) from b * (i(i(e)) * d) = b * (e * d), i(g * (h * i(g * h))) = 1\n",
      "found:   i(c * (f * (b * i(c * (f * b))))) = 1 from i(c * (a * i(c * a))) = 1, (f * b) * g = f * (b * g)\n",
      "found:   1 * (f * (b * i(i(i(f)) * b))) = 1 from i(i(i(f)) * e) * (f * e) = 1, i(g * (b * i(g * b))) = 1\n",
      "found:   b * i(1) = b * (d * (e * i(d * e))) from b * i(i(z)) = b * z, i(d * (e * i(d * e))) = 1\n",
      "found:   i(j * (i * i(j * i(i(i))))) = 1 from i(c * (a * i(c * a))) = 1, j * (i(i(i)) * f) = j * (i * f)\n",
      "found:   i(i(1) * e) * ((g * (b * i(g * b))) * e) = 1 from i(i(i(f)) * e) * (f * e) = 1, i(g * (b * i(g * b))) = 1\n",
      "added:   i(i(i(f)) * e) = i(f * e)\n",
      "found:   i(i(i(f)) * (g * a)) = i(f * (i(i(g)) * a)) from i(i(i(f)) * e) = i(f * e), h * (i(i(g)) * a) = h * (g * a)\n",
      "found:   i(i(g * c)) * (d * i((i(i(g)) * c) * d)) = 1 from i(i(b)) * (d * i(b * d)) = 1, i(i(i(g)) * c) = i(g * c)\n",
      "found:   i((i(i(b)) * g) * e) = i((b * g) * e) from i(i(i(f)) * e) = i(f * e), i(i(b * g)) = i(i(b)) * g\n",
      "found:   1 = i(f * (b * i(i(i(f)) * b))) from i(i(i(f)) * e) = i(f * e), i(g * (b * i(g * b))) = 1\n",
      "found:   i(i(i(f)) * g) = i(f * i(i(g))) from i(i(i(f)) * e) = i(f * e), d * i(i(g)) = d * g\n",
      "found:   i(i(i(c * b))) = i(i(i(c)) * b) from i(i(i(d))) = i(d), i(i(i(c)) * b) = i(c * b)\n",
      "found:   b * ((i(i(c)) * a) * i(c * a)) = b from b * (e * i(e)) = b, i(i(i(c)) * a) = i(c * a)\n",
      "found:   i(i(1) * e) = i((a * i(a)) * e) from i(i(i(f)) * e) = i(f * e), i(a * i(a)) = 1\n",
      "found:   i(i(i(i(b)) * g) * e) = i(i(b * g) * e) from i(i(i(f)) * e) = i(f * e), i(i(b * g)) = i(i(b)) * g\n",
      "found:   i(i(1) * e) = i((g * (b * i(g * b))) * e) from i(i(i(f)) * e) = i(f * e), i(g * (b * i(g * b))) = 1\n",
      "found:   i(i(i(g))) = i(f * (i(f) * g)) from i(i(i(f)) * e) = i(f * e), i(b) * (b * g) = i(i(g))\n",
      "found:   i(h * b) * ((i(i(h)) * b) * c) = i(i(c)) from i(a) * (a * c) = i(i(c)), i(i(i(h)) * b) = i(h * b)\n",
      "found:   i(h * (a * i(i(i(h)) * a))) = 1 from i(c * (a * i(c * a))) = 1, i(i(i(h)) * b) = i(h * b)\n",
      "removed: i(i(i(f)) * e) * (f * e) = 1\n",
      "added:   i(a * (i(a) * e)) = i(e)\n",
      "found:   i(b) * ((f * (i(f) * b)) * c) = i(i(c)) from i(a) * (a * c) = i(i(c)), i(f * (i(f) * b)) = i(b)\n",
      "found:   i((d * (f * i(d * f))) * (1 * e)) = i(e) from i(a * (i(a) * e)) = i(e), i(d * (f * i(d * f))) = 1\n",
      "found:   b * (i(i(g)) * d) = b * ((f * (i(f) * g)) * d) from b * (i(i(e)) * d) = b * (e * d), i(f * (i(f) * g)) = i(g)\n",
      "found:   i((i(i(d)) * b) * (i(d * b) * e)) = i(e) from i(a * (i(a) * e)) = i(e), i(i(i(d)) * b) = i(d * b)\n",
      "found:   i(i(i(c)) * e) = i((b * (i(b) * c)) * e) from i(i(i(f)) * e) = i(f * e), i(b * (i(b) * c)) = i(c)\n",
      "found:   i(c) = i(f * (i(i(i(f))) * c)) from i(i(i(f)) * e) = i(f * e), i(b * (i(b) * c)) = i(c)\n",
      "found:   i(a * (i(a) * (g * c))) = i(i(i(g)) * c) from i(a * (i(a) * e)) = i(e), h * (i(i(g)) * c) = h * (g * c)\n",
      "found:   i(i(f)) * (d * i((g * (i(g) * f)) * d)) = 1 from i(i(b)) * (d * i(b * d)) = 1, i(g * (i(g) * f)) = i(f)\n",
      "found:   i((c * (i(c) * b)) * (i(b) * e)) = i(e) from i(a * (i(a) * e)) = i(e), i(c * (i(c) * b)) = i(b)\n",
      "found:   i(a * (i(a) * g)) = i(i(i(g))) from i(a * (i(a) * e)) = i(e), f * i(i(g)) = f * g\n",
      "found:   i(i(f * d) * ((i(i(f)) * d) * e)) = i(e) from i(a * (i(a) * e)) = i(e), i(i(f * d)) = i(i(f)) * d\n",
      "found:   i(d * (b * (i(d * b) * e))) = i(e) from i(a * (i(a) * e)) = i(e), (d * b) * f = d * (b * f)\n",
      "found:   i(i(h) * 1) = i(c * i(h * c)) from i(a * (i(a) * e)) = i(e), i(i(h)) * (c * i(h * c)) = 1\n",
      "found:   i(i(i(c))) = i(f * (i(f) * c)) from i(i(i(d))) = i(d), i(f * (i(f) * c)) = i(c)\n",
      "found:   i(d * (i(i(i(d))) * e)) = i(e) from i(a * (i(a) * e)) = i(e), i(i(i(d)) * b) = i(d * b)\n",
      "found:   i(c) * (b * (i(b) * c)) = 1 from i(x) * x = 1, i(b * (i(b) * c)) = i(c)\n",
      "found:   i((b * i(b)) * (1 * e)) = i(e) from i(a * (i(a) * e)) = i(e), i(b * i(b)) = 1\n",
      "found:   i(i(i(b)) * (i(b) * e)) = i(e) from i(a * (i(a) * e)) = i(e), i(i(i(b))) = i(b)\n",
      "found:   b * i(i(c)) = b * (d * (i(d) * c)) from b * i(i(z)) = b * z, i(d * (i(d) * c)) = i(c)\n",
      "added:   i(c * i(h * c)) = i(i(h))\n",
      "found:   i((e * i(d * e)) * 1) = i(i(d)) from i(c * i(h * c)) = i(i(h)), i(d * (e * i(d * e))) = 1\n",
      "found:   b * (i(i(i(g))) * d) = b * ((f * i(g * f)) * d) from b * (i(i(e)) * d) = b * (e * d), i(f * i(g * f)) = i(i(g))\n",
      "found:   i(i(b)) * ((d * i(b * d)) * c) = i(i(c)) from i(a) * (a * c) = i(i(c)), i(d * i(b * d)) = i(i(b))\n",
      "found:   b * i(i(i(a))) = b * (d * i(a * d)) from b * i(i(z)) = b * z, i(d * i(a * d)) = i(i(a))\n",
      "found:   i(i(i(i(b)))) = i(e * i(b * e)) from i(i(i(d))) = i(d), i(e * i(b * e)) = i(i(b))\n",
      "found:   i(i(i(i(g))) * e) = i((b * i(g * b)) * e) from i(i(i(f)) * e) = i(f * e), i(b * i(g * b)) = i(i(g))\n",
      "found:   i(i(f)) * (i(e * f) * i(i(e))) = 1 from i(i(b)) * (d * i(b * d)) = 1, i(f * i(e * f)) = i(i(e))\n",
      "found:   i(i(i(f)) * i(e * f)) = i(i(e)) from i(c * i(h * c)) = i(i(h)), e * i(i(f)) = e * f\n",
      "found:   i(d * (a * i(h * (d * a)))) = i(i(h)) from i(c * i(h * c)) = i(i(h)), (d * a) * e = d * (a * e)\n",
      "found:   i((a * i(g * a)) * i(1)) = i(i(i(i(g)))) from i(c * i(h * c)) = i(i(h)), i(i(g)) * (a * i(g * a)) = 1\n",
      "found:   i(i(i(b))) = i(i(d)) * i(b * d) from i(i(a * c)) = i(i(a)) * c, i(d * i(b * d)) = i(i(b))\n",
      "found:   i(d * (i(b * d) * i(i(b)))) = 1 from i(c * (a * i(c * a))) = 1, i(d * i(b * d)) = i(i(b))\n",
      "found:   i((b * i(d * b)) * i(i(d))) = 1 from i(e * i(e)) = 1, i(b * i(d * b)) = i(i(d))\n",
      "found:   i(i(a * b) * i(i(a))) = i(i(b)) from i(c * i(h * c)) = i(i(h)), i(b * i(a * b)) = i(i(a))\n",
      "found:   b * ((d * i(f * d)) * i(i(f))) = b from b * (e * i(e)) = b, i(d * i(f * d)) = i(i(f))\n",
      "found:   i(i(g)) = i(f * i(g * i(i(f)))) from i(i(i(f)) * e) = i(f * e), i(b * i(g * b)) = i(i(g))\n",
      "found:   i(g * i(h * i(i(g)))) = i(i(h)) from i(c * i(h * c)) = i(i(h)), i(i(i(g)) * a) = i(g * a)\n",
      "found:   i((d * i(g * d)) * (i(i(g)) * e)) = i(e) from i(a * (i(a) * e)) = i(e), i(d * i(g * d)) = i(i(g))\n",
      "found:   i(e * i(d * (a * e))) = i(i(d * a)) from i(c * i(h * c)) = i(i(h)), (d * a) * e = d * (a * e)\n",
      "found:   i(a * i(g * a)) = i(i(i(i(g)))) from i(c * i(h * c)) = i(i(h)), i(i(i(g)) * a) = i(g * a)\n",
      "found:   i((i(i(f)) * a) * i(j * (f * a))) = i(i(j)) from i(c * i(h * c)) = i(i(h)), j * (i(i(f)) * a) = j * (f * a)\n",
      "found:   i(i(i(e))) * (d * i((f * i(e * f)) * d)) = 1 from i(i(b)) * (d * i(b * d)) = 1, i(f * i(e * f)) = i(i(e))\n",
      "added:   i(i(d)) * i(b * d) = i(b)\n",
      "found:   i(i(a * i(c * a))) * i(1) = i(i(i(c))) from i(i(d)) * i(b * d) = i(b), i(i(c)) * (a * i(c * a)) = 1\n",
      "found:   i(1) * i(b * (f * (g * i(f * g)))) = i(b) from i(i(d)) * i(b * d) = i(b), i(f * (g * i(f * g))) = 1\n",
      "found:   i(i(f)) * i(b * (g * (i(g) * f))) = i(b) from i(i(d)) * i(b * d) = i(b), i(g * (i(g) * f)) = i(f)\n",
      "found:   i(i(i(i(a)))) * (i(c * a) * i(i(c))) = 1 from i(i(b)) * (d * i(b * d)) = 1, i(i(a)) * i(c * a) = i(c)\n",
      "found:   i(i(i(i(c)) * a)) * i(f * (c * a)) = i(f) from i(i(d)) * i(b * d) = i(b), f * (i(i(c)) * a) = f * (c * a)\n",
      "found:   i(i(g * c)) * i(b * (i(i(g)) * c)) = i(b) from i(i(d)) * i(b * d) = i(b), i(i(i(g)) * c) = i(g * c)\n",
      "found:   i(i(i(e)) * (i(h * e) * i(i(h)))) = 1 from i(c * (a * i(c * a))) = 1, i(i(e)) * i(h * e) = i(h)\n",
      "found:   i(i(i(c * a))) * i(i(c)) = i(i(i(a))) from i(i(d)) * i(b * d) = i(b), i(i(a)) * i(c * a) = i(c)\n",
      "found:   i(i(i(e))) * i(h) = i(i(i(h * e))) from i(a) * (a * c) = i(i(c)), i(i(e)) * i(h * e) = i(h)\n",
      "found:   i(i(i(e))) * i(b * (f * i(e * f))) = i(b) from i(i(d)) * i(b * d) = i(b), i(f * i(e * f)) = i(i(e))\n",
      "found:   i(i(g * a) * i(i(g))) = i(i(i(i(a)))) from i(c * i(h * c)) = i(i(h)), i(i(a)) * i(g * a) = i(g)\n",
      "found:   i(i(i(i(e)))) * i(c * e) = i(c) from i(i(d)) * i(b * d) = i(b), c * i(i(e)) = c * e\n",
      "found:   i(i(i(h))) = i(i(i(i(e)))) * i(h * e) from i(i(a * c)) = i(i(a)) * c, i(i(e)) * i(h * e) = i(h)\n",
      "found:   i(i(c)) * i(g * c) = i(i(i(g))) from i(i(d)) * i(b * d) = i(b), i(i(i(g)) * c) = i(g * c)\n",
      "found:   i(i(i(e * f))) * i(i(e)) = i(f) from i(i(d)) * i(b * d) = i(b), i(f * i(e * f)) = i(i(e))\n",
      "found:   i(i(g * i(f * g))) * 1 = i(f) from i(i(d)) * i(b * d) = i(b), i(f * (g * i(f * g))) = 1\n",
      "found:   b * i(f) = b * (a * i(f * a)) from b * (i(i(e)) * d) = b * (e * d), i(i(a)) * i(f * a) = i(f)\n",
      "found:   i(g) * z = i(i(a)) * (i(g * a) * z) from (x * y) * z = x * (y * z), i(i(a)) * i(g * a) = i(g)\n",
      "found:   i(i(a)) * i(b * i(i(a))) = i(b) from i(i(d)) * i(b * d) = i(b), i(i(i(a))) = i(a)\n",
      "found:   i(i(f)) * i(e * (c * f)) = i(e * c) from i(i(d)) * i(b * d) = i(b), (e * c) * f = e * (c * f)\n",
      "found:   i(i(i(g)) * f) * i(b * i(g * f)) = i(b) from i(i(d)) * i(b * d) = i(b), i(i(g * f)) = i(i(g)) * f\n",
      "found:   i(a) * i(b * i(a)) = i(b) from i(i(d)) * i(b * d) = i(b), i(i(i(a))) = i(a)\n",
      "found:   (i(i(g)) * f) * i(b * (g * f)) = i(b) from i(i(d)) * i(b * d) = i(b), i(i(g * f)) = i(i(g)) * f\n",
      "found:   i(i(c) * i(h)) = i(i(h * c)) from i(a * (i(a) * e)) = i(e), i(i(c)) * i(h * c) = i(h)\n",
      "added:   i(c * a) * c = i(a)\n",
      "found:   i(f * g) * f = i(i(i(g))) from i(c * a) * c = i(a), f * i(i(g)) = f * g\n",
      "found:   i(i(i(g)) * a) * g = i(a) from i(c * a) * c = i(a), f * i(i(g)) = f * g\n",
      "found:   i((i(i(i)) * f) * a) * (i * f) = i(a) from i(c * a) * c = i(a), j * (i(i(i)) * f) = j * (i * f)\n",
      "found:   i(j * (i * f)) * j = i(i(i(i)) * f) from i(c * a) * c = i(a), j * (i(i(i)) * f) = j * (i * f)\n",
      "found:   i(h) = i((i(i(e)) * d) * h) * (e * d) from b * (i(i(e)) * d) = b * (e * d), i(g * h) * g = i(h)\n",
      "found:   i(e) = i(i(i(z)) * e) * z from b * i(i(z)) = b * z, i(d * e) * d = i(e)\n",
      "found:   i(f * (b * g)) * (f * b) = i(g) from i(c * a) * c = i(a), (f * b) * g = f * (b * g)\n",
      "found:   i(f) * z = i(d * f) * (d * z) from (x * y) * z = x * (y * z), i(d * f) * d = i(f)\n",
      "found:   i(b) * f = i(i(f) * b) from i(c * a) * c = i(a), i(f * (i(f) * b)) = i(b)\n",
      "found:   i(i(i(d))) = i(i(i(b * d))) * b from i(i(a * c)) = i(i(a)) * c, i(b * d) * b = i(d)\n",
      "found:   i(i(i(b))) * i(d) = i(d * b) from i(c * a) * c = i(a), i(d) * (d * b) = i(i(b))\n",
      "found:   i(h * b) * i(i(h)) = i(b) from i(c * a) * c = i(a), i(i(i(h)) * b) = i(h * b)\n",
      "added:   i(i(f) * b) = i(b) * f\n",
      "found:   i(i(i(d) * c) * e) = i((i(c) * d) * e) from i(i(i(f)) * e) = i(f * e), i(i(c) * d) = i(d) * c\n",
      "found:   i(i(i(a)) * b) = i(b) * (d * i(a * d)) from i(i(f) * b) = i(b) * f, i(d * i(a * d)) = i(i(a))\n",
      "found:   i(i(a) * b) = i(b) * i(i(a)) from i(i(f) * b) = i(b) * f, i(i(i(a))) = i(a)\n",
      "found:   i(i(h) * d) = i(i(i(d))) * h from i(i(a * c)) = i(i(a)) * c, i(i(d) * h) = i(h) * d\n",
      "found:   i(i(c * a) * b) = i(b) * (i(i(c)) * a) from i(i(f) * b) = i(b) * f, i(i(i(c)) * a) = i(c * a)\n",
      "found:   i(i(d) * (h * (i(h) * d))) = 1 from i(c * (a * i(c * a))) = 1, i(i(d) * h) = i(h) * d\n",
      "found:   i((i(i(d)) * e) * b) = i(b) * i(d * e) from i(i(f) * b) = i(b) * f, i(i(d * e)) = i(i(d)) * e\n",
      "found:   i((i(g) * h) * ((i(h) * g) * e)) = i(e) from i(a * (i(a) * e)) = i(e), i(i(g) * h) = i(h) * g\n",
      "found:   i(i(i(e) * c)) = i(i(c) * e) from i(i(i(d))) = i(d), i(i(c) * e) = i(e) * c\n",
      "found:   i(i(f) * (g * a)) = i(i(i(g)) * a) * f from i(i(f) * b) = i(b) * f, h * (i(i(g)) * a) = h * (g * a)\n",
      "found:   (i(h) * d) * ((i(d) * h) * c) = i(i(c)) from i(a) * (a * c) = i(i(c)), i(i(d) * h) = i(h) * d\n",
      "found:   i(i(i(c))) * (e * (i(e) * c)) = 1 from i(i(b)) * (d * i(b * d)) = 1, i(i(c) * e) = i(e) * c\n",
      "found:   i(1 * b) = i(b) * (e * (d * i(e * d))) from i(i(f) * b) = i(b) * f, i(e * (d * i(e * d))) = 1\n",
      "found:   i((i(c) * a) * b) = i(b) * (i(a) * c) from i(i(f) * b) = i(b) * f, i(i(a) * c) = i(c) * a\n",
      "found:   i(i(e) * c) * i(b * (i(c) * e)) = i(b) from i(i(d)) * i(b * d) = i(b), i(i(c) * e) = i(e) * c\n",
      "found:   i(c * a) = i(a) * i(c) from i(i(f) * b) = i(b) * f, i(i(i(c)) * a) = i(c * a)\n",
      "found:   i((i(c) * d) * (i(d) * c)) = 1 from i(e * i(e)) = 1, i(i(c) * d) = i(d) * c\n",
      "found:   i(i(e) * c) * (d * i((i(c) * e) * d)) = 1 from i(i(b)) * (d * i(b * d)) = 1, i(i(c) * e) = i(e) * c\n",
      "found:   b * (i(i(h) * c) * d) = b * ((i(c) * h) * d) from b * (i(i(e)) * d) = b * (e * d), i(i(c) * h) = i(h) * c\n",
      "found:   i(i(d) * b) = i(b) * (c * (i(c) * d)) from i(i(f) * b) = i(b) * f, i(c * (i(c) * d)) = i(d)\n",
      "found:   i(i(f) * d) = i(i(i(d))) * f from i(i(f) * b) = i(b) * f, c * i(i(d)) = c * d\n",
      "found:   (i(d) * a) * (i(a) * d) = 1 from i(x) * x = 1, i(i(a) * d) = i(d) * a\n",
      "found:   b * i(i(c) * a) = b * (i(a) * c) from b * i(i(z)) = b * z, i(i(a) * c) = i(c) * a\n",
      "found:   i(d) * i(f) = i(f * d) from i(i(i(f)) * e) = i(f * e), i(i(c) * d) = i(d) * c\n",
      "found:   b * ((i(c) * d) * (i(d) * c)) = b from b * (e * i(e)) = b, i(i(c) * d) = i(d) * c\n",
      "simplified:\n",
      "old:     i(i(i(f)) * e) = i(f * e)\n",
      "new:     i(f * e) = i(e) * i(f)\n",
      "removed: i(i(a * c)) = i(i(a)) * c\n",
      "simplified:\n",
      "old:     i(c * (a * i(c * a))) = 1\n",
      "new:     i(i(c)) * (a * (i(a) * i(c))) = 1\n",
      "removed: i(i(d)) * i(b * d) = i(b)\n",
      "simplified:\n",
      "old:     i(i(b)) * (d * i(b * d)) = 1\n",
      "new:     i(i(b)) * (d * (i(d) * i(b))) = 1\n",
      "removed: i(a * (i(a) * e)) = i(e)\n",
      "removed: i(c * i(h * c)) = i(i(h))\n",
      "removed: i(c * a) * c = i(a)\n",
      "removed: i(i(f) * b) = i(b) * f\n",
      "removed: i(e * i(e)) = 1\n",
      "removed: i(i(b)) * (d * (i(d) * i(b))) = 1\n",
      "added:   i(c) * (b * (i(b) * c)) = 1\n",
      "found:   (i(a) * i(g)) * (b * (i(b) * (g * a))) = 1 from i(c) * (b * (i(b) * c)) = 1, i(g * a) = i(a) * i(g)\n",
      "found:   b * 1 = b * (e * (h * (i(h) * i(e)))) from b * (i(i(e)) * d) = b * (e * d), i(f) * (h * (i(h) * f)) = 1\n",
      "found:   i(c) * (i(i(a)) * (i(a) * c)) = 1 from i(c) * (b * (i(b) * c)) = 1, i(i(i(a))) = i(a)\n",
      "found:   i(a) * (b * (i(b) * i(i(a)))) = 1 from i(c) * (b * (i(b) * c)) = 1, i(i(i(a))) = i(a)\n",
      "found:   1 = i(f) * (e * (i(i(i(e))) * f)) from b * (i(i(e)) * d) = b * (e * d), i(f) * (h * (i(h) * f)) = 1\n",
      "found:   i(c) * ((g * a) * ((i(a) * i(g)) * c)) = 1 from i(c) * (b * (i(b) * c)) = 1, i(g * a) = i(a) * i(g)\n",
      "found:   i(i(i(g)) * a) * (b * (i(b) * (g * a))) = 1 from i(c) * (b * (i(b) * c)) = 1, h * (i(i(g)) * a) = h * (g * a)\n",
      "found:   i(i(i(e))) * (b * (i(b) * e)) = 1 from i(c) * (b * (i(b) * c)) = 1, d * i(i(e)) = d * e\n",
      "found:   i(c) * (e * (a * (i(e * a) * c))) = 1 from i(c) * (b * (i(b) * c)) = 1, (e * a) * f = e * (a * f)\n",
      "found:   1 * z = i(d) * ((g * (i(g) * d)) * z) from (x * y) * z = x * (y * z), i(d) * (g * (i(g) * d)) = 1\n",
      "found:   i(c) * (g * (i(i(i(g))) * c)) = 1 from i(c) * (b * (i(b) * c)) = 1, h * (i(i(g)) * a) = h * (g * a)\n",
      "removed: i(i(c)) * (a * (i(a) * i(c))) = 1\n",
      "added:   b * (d * (e * (i(e) * i(d)))) = b\n",
      "found:   i(h) = i(a * (g * (i(g) * i(a)))) * i(h) from i(f * e) = i(e) * i(f), h * (a * (g * (i(g) * i(a)))) = h\n",
      "found:   b * ((c * g) * (e * (i(e) * (i(g) * i(c))))) = b from b * (d * (e * (i(e) * i(d)))) = b, i(c * g) = i(g) * i(c)\n",
      "found:   b * (d * (i(i(a)) * (i(a) * i(d)))) = b from b * (d * (e * (i(e) * i(d)))) = b, i(i(i(a))) = i(a)\n",
      "found:   b * (d * ((c * g) * ((i(g) * i(c)) * i(d)))) = b from b * (d * (e * (i(e) * i(d)))) = b, i(c * g) = i(g) * i(c)\n",
      "found:   b * i(i(e)) = b * (e * (a * (c * (i(c) * i(a))))) from b * (i(i(e)) * d) = b * (e * d), f * (a * (c * (i(c) * i(a)))) = f\n",
      "found:   b * (f * (c * (e * (i(e) * i(f * c))))) = b from b * (d * (e * (i(e) * i(d)))) = b, (f * c) * g = f * (c * g)\n",
      "found:   x * y = x * (y * (a * (h * (i(h) * i(a))))) from (x * y) * z = x * (y * z), i * (a * (h * (i(h) * i(a)))) = i\n",
      "found:   i * z = i * ((a * (h * (i(h) * i(a)))) * z) from (x * y) * z = x * (y * z), i * (a * (h * (i(h) * i(a)))) = i\n",
      "found:   f * (c * (e * (i(e) * i(i(i(c)))))) = f from b * (d * (e * (i(e) * i(d)))) = b, f * (i(i(c)) * a) = f * (c * a)\n",
      "found:   b * (i(i(a)) * (e * (i(e) * i(a)))) = b from b * (d * (e * (i(e) * i(d)))) = b, i(i(i(a))) = i(a)\n",
      "found:   b * (d * (f * (c * (i(f * c) * i(d))))) = b from b * (d * (e * (i(e) * i(d)))) = b, (f * c) * g = f * (c * g)\n",
      "found:   b * (f * (c * (i(i(i(c))) * i(f)))) = b from b * (d * (e * (i(e) * i(d)))) = b, f * (i(i(c)) * a) = f * (c * a)\n",
      "found:   f * (c * (d * (e * (i(e) * i(d))))) = f * c from b * (d * (e * (i(e) * i(d)))) = b, (f * c) * g = f * (c * g)\n",
      "found:   f = f * (e * (c * (i(c) * i(i(i(e)))))) from b * (i(i(e)) * d) = b * (e * d), f * (a * (c * (i(c) * i(a)))) = f\n",
      "added:   b * (d * (i(d) * c)) = b * c\n",
      "found:   b * (d * (i(d) * e)) = b * (a * (i(a) * e)) from b * (d * (i(d) * c)) = b * c, f * (a * (i(a) * e)) = f * e\n",
      "found:   b * (e * 1) = b * (f * (i(f) * e)) from b * (d * (i(d) * c)) = b * c, i(e) * (f * (i(f) * e)) = 1\n",
      "found:   b * (i(i(a)) * (i(a) * c)) = b * c from b * (d * (i(d) * c)) = b * c, i(i(i(a))) = i(a)\n",
      "found:   (i * f) * z = i * ((a * (i(a) * f)) * z) from (x * y) * z = x * (y * z), i * (a * (i(a) * f)) = i * f\n",
      "found:   b * ((h * i) * ((i(i) * i(h)) * c)) = b * c from b * (d * (i(d) * c)) = b * c, i(h * i) = i(i) * i(h)\n",
      "found:   b * h = b * (g * (i(g) * i(i(h)))) from b * (d * (i(d) * c)) = b * c, h * (a * (g * (i(g) * i(a)))) = h\n",
      "found:   i(j * g) = i(a * (i(a) * g)) * i(j) from i(f * e) = i(e) * i(f), j * (a * (i(a) * g)) = j * g\n",
      "found:   h * f = h * (e * (i(i(i(e))) * f)) from b * (i(i(e)) * d) = b * (e * d), h * (a * (i(a) * f)) = h * f\n",
      "found:   g * (e * (d * (i(d) * c))) = (g * e) * c from b * (d * (i(d) * c)) = b * c, (g * e) * h = g * (e * h)\n",
      "found:   b * (g * (e * (i(g * e) * c))) = b * c from b * (d * (i(d) * c)) = b * c, (g * e) * h = g * (e * h)\n",
      "found:   b * (d * (i(d) * f)) = b * i(i(f)) from b * (d * (i(d) * c)) = b * c, g * i(i(f)) = g * f\n",
      "found:   i(a * (i(a) * e)) * (b * (i(b) * e)) = 1 from i(c) * (b * (i(b) * c)) = 1, f * (a * (i(a) * e)) = f * e\n",
      "found:   b * (d * (i(d) * (g * a))) = b * (i(i(g)) * a) from b * (d * (i(d) * c)) = b * c, h * (i(i(g)) * a) = h * (g * a)\n",
      "found:   h * (g * (i(i(i(g))) * c)) = h * c from b * (d * (i(d) * c)) = b * c, h * (i(i(g)) * a) = h * (g * a)\n",
      "found:   b * (i(i(e)) * f) = b * (e * (a * (i(a) * f))) from b * (i(i(e)) * d) = b * (e * d), h * (a * (i(a) * f)) = h * f\n",
      "found:   (x * y) * f = x * (y * (a * (i(a) * f))) from (x * y) * z = x * (y * z), i * (a * (i(a) * f)) = i * f\n",
      "removed: b * (d * (e * (i(e) * i(d)))) = b\n",
      "removed: i(c) * (b * (i(b) * c)) = 1\n",
      "\n",
      "1. i(1) = 1\n",
      "2. (x * y) * z = x * (y * z)\n",
      "3. b * (d * (i(d) * c)) = b * c\n",
      "4. i(f * e) = i(e) * i(f)\n",
      "5. b * i(i(z)) = b * z\n",
      "6. b * (i(i(e)) * d) = b * (e * d)\n",
      "7. i(x) * x = 1\n",
      "8. i(a) * (a * c) = i(i(c))\n",
      "9. x * 1 = x\n",
      "10. i(i(i(d))) = i(d)\n",
      "11. 1 * a = i(i(a))\n",
      "12. b * (e * i(e)) = b\n",
      "CPU times: user 189 ms, sys: 2.77 ms, total: 192 ms\n",
      "Wall time: 192 ms\n"
     ]
    }
   ],
   "source": [
    "%%time\n",
    "Rules = knuth_bendix_algorithm('Examples/rl-system.eqn')"
   ]
  },
  {
   "cell_type": "markdown",
   "metadata": {},
   "source": [
    "### Central Groupoids\n",
    "\n",
    "A structure $\\mathcal{G} = \\langle G, *\\rangle$ is a *central groupoid* iff\n",
    "1. $G$ is a a non-empty set.\n",
    "2. $*: G \\times G \\rightarrow G$,\n",
    "3. The following equation holds for all $x,y,z \\in G$:\n",
    "   $$ (x * y) * (y * z) = y $$\n",
    "   \n",
    "Central Groupoids have been defined by Trevor Adams in his paper [Products of Points—Some Simple Algebras and Their Identities](https://www.semanticscholar.org/paper/Products-of-Points—Some-Simple-Algebras-and-Their-Evans/0d9885e3cb4398234735759119a3dd7c67e9541d) and are also discussed by Donald E. Knuth in his paper [notes on Central Groupoids](https://www.sciencedirect.com/science/article/pii/S0021980070800321)."
   ]
  },
  {
   "cell_type": "code",
   "execution_count": null,
   "metadata": {},
   "outputs": [],
   "source": [
    "!cat Examples/central-groupoid.eqn || type Examples\\central-groupoid.eqn"
   ]
  },
  {
   "cell_type": "code",
   "execution_count": null,
   "metadata": {
    "scrolled": false
   },
   "outputs": [],
   "source": [
    "%%time\n",
    "Rules = knuth_bendix_algorithm('Examples/central-groupoid.eqn')"
   ]
  },
  {
   "cell_type": "markdown",
   "metadata": {},
   "source": [
    "[Back to top](#The-Knuth-Bendix-Completion-Algorithm)"
   ]
  },
  {
   "cell_type": "markdown",
   "metadata": {},
   "source": [
    "### Quasigroups\n",
    "\n",
    "A structure $\\mathcal{G} = \\langle G, *, /, \\backslash \\rangle$ is a [quasigroup](https://en.wikipedia.org/wiki/Quasigroup) iff\n",
    "1. $G$ is a non-empty set.\n",
    "2. $*: G \\times G \\rightarrow G$, \n",
    "\n",
    "   where $*$ is called the *multiplication* of $\\mathcal{G}$.\n",
    "3. $/: G \\times G \\rightarrow G$, \n",
    "\n",
    "   where $/$ is called the *left division* of $\\mathcal{G}$.   \n",
    "4. $\\backslash: G \\times G \\rightarrow G$, \n",
    "\n",
    "   where $\\backslash$ is called the *right division* of $\\mathcal{G}$.   \n",
    "5. The following equations hold for all $x,y \\in G$:\n",
    "   * $x * (x \\backslash y) = y$, \n",
    "   * $(x / y) * y = x$,\n",
    "   * $x \\backslash (x * y) = y$,\n",
    "   * $(x * y) / y = x$."
   ]
  },
  {
   "cell_type": "code",
   "execution_count": null,
   "metadata": {},
   "outputs": [],
   "source": [
    "!cat Examples/quasigroups.eqn || type Examples\\quasigroups.eqn"
   ]
  },
  {
   "cell_type": "code",
   "execution_count": null,
   "metadata": {},
   "outputs": [],
   "source": [
    "%%time\n",
    "Rules = knuth_bendix_algorithm('Examples/quasigroups.eqn')"
   ]
  },
  {
   "cell_type": "markdown",
   "metadata": {},
   "source": [
    "### Quasigroups with Idempotence\n",
    "\n",
    "A *quasigroup with idempotence* is a quasigroup that additionally satisfies the identity $x * x = x$.  Therefore, a structure $\\mathcal{G} = \\langle G, *, /, \\backslash \\rangle$ is a *quasigroup with idempotence* iff\n",
    "1. $G$ is a set.\n",
    "2. $*: G \\times G \\rightarrow G$, \n",
    "\n",
    "   where $*$ is called the *multiplication* of $\\mathcal{G}$.\n",
    "3. $/: G \\times G \\rightarrow G$, \n",
    "\n",
    "   where $/$ is called the *left division* of $\\mathcal{G}$.   \n",
    "4. $\\backslash: G \\times G \\rightarrow G$, \n",
    "\n",
    "   where $\\backslash$ is called the *right division* of $\\mathcal{G}$.   \n",
    "5. The following equations hold for all $x,y \\in G$:\n",
    "   * $x * (x \\backslash y) = y$, \n",
    "   * $(x / y) * y = x$,\n",
    "   * $x \\backslash (x * y) = y$,\n",
    "   * $(x * y) / y = x$,\n",
    "   * $x * x = x$."
   ]
  },
  {
   "cell_type": "code",
   "execution_count": null,
   "metadata": {},
   "outputs": [],
   "source": [
    "!cat Examples/quasigroup-idempotence.eqn || type Examples\\quasigroup-idempotence.eqn"
   ]
  },
  {
   "cell_type": "code",
   "execution_count": null,
   "metadata": {},
   "outputs": [],
   "source": [
    "%%time\n",
    "Rules = knuth_bendix_algorithm('Examples/quasigroup-idempotence.eqn')"
   ]
  },
  {
   "cell_type": "markdown",
   "metadata": {},
   "source": [
    "### Quasigroups with Unipotence\n",
    "\n",
    "A *quasigroup with idempotence* is a quasigroup that additionally satisfies the identity $x * x = 1$\n",
    "where $1$ is a constant symbol. Therefore, a structure $\\mathcal{G} = \\langle G, 1, *, /, \\backslash \\rangle$ is a *quasigroup with idempotence* iff\n",
    "1. $G$ is a set.\n",
    "2. $1 \\in G$.\n",
    "2. $*: G \\times G \\rightarrow G$, \n",
    "\n",
    "   where $*$ is called the *multiplication* of $\\mathcal{G}$.\n",
    "3. $/: G \\times G \\rightarrow G$, \n",
    "\n",
    "   where $/$ is called the *left division* of $\\mathcal{G}$.   \n",
    "4. $\\backslash: G \\times G \\rightarrow G$, \n",
    "\n",
    "   where $\\backslash$ is called the *right division* of $\\mathcal{G}$.   \n",
    "5. The following equations hold for all $x,y \\in G$:\n",
    "   * $x * (x \\backslash y) = y$, \n",
    "   * $(x / y) * y = x$,\n",
    "   * $x \\backslash (x * y) = y$,\n",
    "   * $(x * y) / y = x$,\n",
    "   * $x * x = 1$."
   ]
  },
  {
   "cell_type": "code",
   "execution_count": null,
   "metadata": {},
   "outputs": [],
   "source": [
    "!cat Examples/quasigroup-unipotence.eqn || type Examples\\quasigroup-unipotence.eqn"
   ]
  },
  {
   "cell_type": "code",
   "execution_count": null,
   "metadata": {},
   "outputs": [],
   "source": [
    "%%time\n",
    "Rules = knuth_bendix_algorithm('Examples/quasigroup-unipotence.eqn')"
   ]
  },
  {
   "cell_type": "markdown",
   "metadata": {},
   "source": [
    "### Loops\n",
    "\n",
    "A *loop* is a quasigroup that additionally has an identity element.  Therefore, a structure $\\mathcal{G} = \\langle G, 1, *, /, \\backslash \\rangle$ is a [loop](https://en.wikipedia.org/wiki/Quasigroup#Loops) iff\n",
    "1. $G$ is a set.\n",
    "2. $1 \\in G$.\n",
    "2. $*: G \\times G \\rightarrow G$, \n",
    "\n",
    "   where $*$ is called the *multiplication* of $\\mathcal{G}$.\n",
    "3. $/: G \\times G \\rightarrow G$, \n",
    "\n",
    "   where $/$ is called the *left division* of $\\mathcal{G}$.   \n",
    "4. $\\backslash: G \\times G \\rightarrow G$, \n",
    "\n",
    "   where $\\backslash$ is called the *right division* of $\\mathcal{G}$.   \n",
    "5. The following equations hold for all $x,y \\in G$:\n",
    "   * $1 * x = x$,\n",
    "   * $x * 1 = x$,\n",
    "   * $x * (x \\backslash y) = y$, \n",
    "   * $(x / y) * y = x$,\n",
    "   * $x \\backslash (x * y) = y$,\n",
    "   * $(x * y) / y = x$."
   ]
  },
  {
   "cell_type": "code",
   "execution_count": null,
   "metadata": {},
   "outputs": [],
   "source": [
    "!cat Examples/loops.eqn || type Examples\\loops.eqn"
   ]
  },
  {
   "cell_type": "code",
   "execution_count": null,
   "metadata": {},
   "outputs": [],
   "source": [
    "%%time\n",
    "Rules = knuth_bendix_algorithm('Examples/loops.eqn')"
   ]
  }
 ],
 "metadata": {
  "kernelspec": {
   "display_name": "Python 3 (ipykernel)",
   "language": "python",
   "name": "python3"
  },
  "language_info": {
   "codemirror_mode": {
    "name": "ipython",
    "version": 3
   },
   "file_extension": ".py",
   "mimetype": "text/x-python",
   "name": "python",
   "nbconvert_exporter": "python",
   "pygments_lexer": "ipython3",
   "version": "3.11.7"
  },
  "varInspector": {
   "cols": {
    "lenName": 16,
    "lenType": 16,
    "lenVar": 40
   },
   "kernels_config": {
    "python": {
     "delete_cmd_postfix": "",
     "delete_cmd_prefix": "del ",
     "library": "var_list.py",
     "varRefreshCmd": "print(var_dic_list())"
    },
    "r": {
     "delete_cmd_postfix": ") ",
     "delete_cmd_prefix": "rm(",
     "library": "var_list.r",
     "varRefreshCmd": "cat(var_dic_list()) "
    }
   },
   "types_to_exclude": [
    "module",
    "function",
    "builtin_function_or_method",
    "instance",
    "_Feature"
   ],
   "window_display": false
  }
 },
 "nbformat": 4,
 "nbformat_minor": 4
}
